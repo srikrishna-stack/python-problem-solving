{
  "nbformat": 4,
  "nbformat_minor": 0,
  "metadata": {
    "colab": {
      "name": "arrays.ipynb",
      "provenance": [],
      "authorship_tag": "ABX9TyPRlEar7swAx4yaBsUiDunO",
      "include_colab_link": true
    },
    "kernelspec": {
      "name": "python3",
      "display_name": "Python 3"
    },
    "language_info": {
      "name": "python"
    }
  },
  "cells": [
    {
      "cell_type": "markdown",
      "metadata": {
        "id": "view-in-github",
        "colab_type": "text"
      },
      "source": [
        "<a href=\"https://colab.research.google.com/github/srikrishna-stack/python-problem-solving/blob/main/arrays.ipynb\" target=\"_parent\"><img src=\"https://colab.research.google.com/assets/colab-badge.svg\" alt=\"Open In Colab\"/></a>"
      ]
    },
    {
      "cell_type": "code",
      "metadata": {
        "colab": {
          "base_uri": "https://localhost:8080/",
          "height": 133
        },
        "id": "Sw1NPgDl0UBz",
        "outputId": "ad7e46e5-f7c6-48c7-c2eb-6293441d3285"
      },
      "source": [
        ")\n",
        "  \n"
      ],
      "execution_count": null,
      "outputs": [
        {
          "output_type": "error",
          "ename": "SyntaxError",
          "evalue": "ignored",
          "traceback": [
            "\u001b[0;36m  File \u001b[0;32m\"<ipython-input-1-e1635729ce63>\"\u001b[0;36m, line \u001b[0;32m1\u001b[0m\n\u001b[0;31m    )\u001b[0m\n\u001b[0m    ^\u001b[0m\n\u001b[0;31mSyntaxError\u001b[0m\u001b[0;31m:\u001b[0m invalid syntax\n"
          ]
        }
      ]
    },
    {
      "cell_type": "code",
      "metadata": {
        "colab": {
          "base_uri": "https://localhost:8080/"
        },
        "id": "UrfaGDeu0Wu0",
        "outputId": "94dcb4a8-6911-4f3b-ba4b-0db4552680bf"
      },
      "source": [
        "def compare(a,b):\n",
        "  alice=0\n",
        "  bob=0\n",
        "  for i in range(len(a)):\n",
        "    if a[i]>b[i]:\n",
        "      alice+=1\n",
        "    elif a[i]<b[i]:\n",
        "      bob+=1\n",
        "    return alice,bob\n",
        "    \n",
        "        \n",
        "\n",
        "if __name__=='__main__':\n",
        "  a=list(map(int,input().rstrip().split()))\n",
        "  b=list(map(int,input().rstrip().split()))\n",
        "  print(compare(a,b))"
      ],
      "execution_count": null,
      "outputs": [
        {
          "output_type": "stream",
          "text": [
            "123\n",
            "321\n",
            "(0, 1)\n"
          ],
          "name": "stdout"
        }
      ]
    },
    {
      "cell_type": "code",
      "metadata": {
        "id": "YIbczV2S0WrE"
      },
      "source": [
        "#!/bin/python3\n",
        "\n",
        "import math\n",
        "import os\n",
        "import random\n",
        "import re\n",
        "import sys\n",
        "\n",
        "#\n",
        "# Complete the 'plusMinus' function below.\n",
        "#\n",
        "# The function accepts INTEGER_ARRAY arr as parameter.\n",
        "#\n",
        "\n",
        "def plusMinus(arr):\n",
        "    # Write your code here\n",
        "    positive=0\n",
        "    negative=0\n",
        "    zero=0\n",
        "    for i in range(len(arr)):\n",
        "        if arr[i]>0:\n",
        "            positive+=1\n",
        "        elif arr[i]<0:\n",
        "            negative+=1\n",
        "        elif arr[i]==0:\n",
        "            zero+=1\n",
        "    print('%f'%(positive/len(arr)))\n",
        "    print('%f'%(negative/len(arr)))\n",
        "    print('%f'%(zero/len(arr)))\n",
        "    \n",
        "    \n",
        "    \n",
        "        \n",
        "            \n",
        "            \n",
        "\n",
        "if __name__ == '__main__':\n",
        "    n = int(input().strip())\n",
        "\n",
        "    arr = list(map(int, input().rstrip().split()))\n",
        "\n",
        "    plusMinus(arr)\n"
      ],
      "execution_count": null,
      "outputs": []
    },
    {
      "cell_type": "code",
      "metadata": {
        "id": "9F1R3gBN0WoL",
        "colab": {
          "base_uri": "https://localhost:8080/",
          "height": 254
        },
        "outputId": "416fed2f-7988-4b8e-9d87-6c9d7d03a55c"
      },
      "source": [
        "def diagonaDifference(arr):\n",
        "\n",
        "  for i in arr:\n",
        "    for j in arr:\n",
        "      for k in arr:\n",
        "        a=arr[i][0]+arr[i+1][1]+arr[i+2][2]\n",
        "        b=arr[i][2]+arr[i+1][1]+arr[i+2][0]\n",
        "      print(abs(a-b))\n",
        "\n",
        "if __name__=='__main__':\n",
        "  n=int(input())\n",
        "  arr=[]\n",
        "  for _ in range(n):\n",
        "    arr.append(list(int,input().rstrip().strip()))\n",
        "  result=diagonalDifference(arr)"
      ],
      "execution_count": null,
      "outputs": [
        {
          "output_type": "stream",
          "text": [
            "3\n",
            "11 2 4\n"
          ],
          "name": "stdout"
        },
        {
          "output_type": "error",
          "ename": "TypeError",
          "evalue": "ignored",
          "traceback": [
            "\u001b[0;31m---------------------------------------------------------------------------\u001b[0m",
            "\u001b[0;31mTypeError\u001b[0m                                 Traceback (most recent call last)",
            "\u001b[0;32m<ipython-input-1-2778b3ab4a2c>\u001b[0m in \u001b[0;36m<module>\u001b[0;34m()\u001b[0m\n\u001b[1;32m     12\u001b[0m   \u001b[0marr\u001b[0m\u001b[0;34m=\u001b[0m\u001b[0;34m[\u001b[0m\u001b[0;34m]\u001b[0m\u001b[0;34m\u001b[0m\u001b[0;34m\u001b[0m\u001b[0m\n\u001b[1;32m     13\u001b[0m   \u001b[0;32mfor\u001b[0m \u001b[0m_\u001b[0m \u001b[0;32min\u001b[0m \u001b[0mrange\u001b[0m\u001b[0;34m(\u001b[0m\u001b[0mn\u001b[0m\u001b[0;34m)\u001b[0m\u001b[0;34m:\u001b[0m\u001b[0;34m\u001b[0m\u001b[0;34m\u001b[0m\u001b[0m\n\u001b[0;32m---> 14\u001b[0;31m     \u001b[0marr\u001b[0m\u001b[0;34m.\u001b[0m\u001b[0mappend\u001b[0m\u001b[0;34m(\u001b[0m\u001b[0mlist\u001b[0m\u001b[0;34m(\u001b[0m\u001b[0mint\u001b[0m\u001b[0;34m,\u001b[0m\u001b[0minput\u001b[0m\u001b[0;34m(\u001b[0m\u001b[0;34m)\u001b[0m\u001b[0;34m.\u001b[0m\u001b[0mrstrip\u001b[0m\u001b[0;34m(\u001b[0m\u001b[0;34m)\u001b[0m\u001b[0;34m.\u001b[0m\u001b[0mstrip\u001b[0m\u001b[0;34m(\u001b[0m\u001b[0;34m)\u001b[0m\u001b[0;34m)\u001b[0m\u001b[0;34m)\u001b[0m\u001b[0;34m\u001b[0m\u001b[0;34m\u001b[0m\u001b[0m\n\u001b[0m\u001b[1;32m     15\u001b[0m   \u001b[0mresult\u001b[0m\u001b[0;34m=\u001b[0m\u001b[0mdiagonalDifference\u001b[0m\u001b[0;34m(\u001b[0m\u001b[0marr\u001b[0m\u001b[0;34m)\u001b[0m\u001b[0;34m\u001b[0m\u001b[0;34m\u001b[0m\u001b[0m\n",
            "\u001b[0;31mTypeError\u001b[0m: list expected at most 1 arguments, got 2"
          ]
        }
      ]
    },
    {
      "cell_type": "code",
      "metadata": {
        "id": "kFrPtIzU0WlY",
        "colab": {
          "base_uri": "https://localhost:8080/"
        },
        "outputId": "fd73829d-f798-4af4-f3da-ea1cc7b30686"
      },
      "source": [
        "for i in range(0,3):\n",
        "  print(i)"
      ],
      "execution_count": null,
      "outputs": [
        {
          "output_type": "stream",
          "text": [
            "0\n",
            "1\n",
            "2\n"
          ],
          "name": "stdout"
        }
      ]
    },
    {
      "cell_type": "code",
      "metadata": {
        "colab": {
          "base_uri": "https://localhost:8080/"
        },
        "id": "IetfLQH6VPBy",
        "outputId": "c5af7a7c-590e-49cc-bca5-55ede35cac61"
      },
      "source": [
        "#rerversing the array\n",
        "def reverse(arr):\n",
        "  return arr[::-1]\n",
        "     \n",
        "\n",
        "if __name__=='__main__':\n",
        "  arr_count=int(input().strip())\n",
        "  arr=list(map(int,input().rstrip().split()))\n",
        "  rev=reverse(arr)\n",
        " \n"
      ],
      "execution_count": null,
      "outputs": [
        {
          "output_type": "stream",
          "text": [
            "4\n",
            "1234\n"
          ],
          "name": "stdout"
        }
      ]
    },
    {
      "cell_type": "code",
      "metadata": {
        "colab": {
          "base_uri": "https://localhost:8080/"
        },
        "id": "vQeLvy0fVO-p",
        "outputId": "16d0da5a-ec2a-43c3-e93f-ae9956203621"
      },
      "source": [
        "def hourglass(arr):\n",
        "  sum = []\n",
        "\n",
        "\n",
        "for i in range(len(arr)-2):\n",
        "    for j in range(len(arr)-2):\n",
        "        sum.append(arr[i][j]+arr[i][j+1]+arr[i][j+2]+arr[i+1][j+1]+arr[i+2][j]+arr[i+2][j+1]+arr[i+2][j+2])\n",
        "        \n",
        "  print(max(sum)\n",
        "if __name__=='__main__':\n",
        "  arr=[]\n",
        "  for _ in  range(6):\n",
        "    arr.append(list(map(int, input().rstrip().split())))\n",
        "  result=hourglass(arr)"
      ],
      "execution_count": null,
      "outputs": [
        {
          "output_type": "stream",
          "text": [
            "1 1 1 0 0 0\n"
          ],
          "name": "stdout"
        }
      ]
    },
    {
      "cell_type": "code",
      "metadata": {
        "id": "gXfes2AoVO5x"
      },
      "source": [
        ""
      ],
      "execution_count": null,
      "outputs": []
    },
    {
      "cell_type": "code",
      "metadata": {
        "id": "8omqzsj2VO2P"
      },
      "source": [
        ""
      ],
      "execution_count": null,
      "outputs": []
    },
    {
      "cell_type": "code",
      "metadata": {
        "id": "scSHdvlG0WiF",
        "colab": {
          "base_uri": "https://localhost:8080/"
        },
        "outputId": "90c947b5-0553-4507-e694-435a208c405e"
      },
      "source": [
        "print('%02d'%(12))"
      ],
      "execution_count": null,
      "outputs": [
        {
          "output_type": "stream",
          "text": [
            "12\n"
          ],
          "name": "stdout"
        }
      ]
    },
    {
      "cell_type": "code",
      "metadata": {
        "id": "ezGnPBHxFGyC"
      },
      "source": [
        "def timeConversion(s):\n",
        "    # Write your code here\n",
        "    p = s.split(\":\")\n",
        "    p[0] = int(p[0])%12\n",
        "    if \"PM\" in p[-1] and [0]:\n",
        "        p[0]+=12\n",
        "    p[0] = '%02d'%p[0]\n",
        "    return \":\".join(p)[:-2]"
      ],
      "execution_count": null,
      "outputs": []
    }
  ]
}