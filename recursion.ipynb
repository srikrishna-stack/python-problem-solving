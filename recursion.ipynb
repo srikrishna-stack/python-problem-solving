{
  "nbformat": 4,
  "nbformat_minor": 0,
  "metadata": {
    "colab": {
      "name": "recursion.ipynb",
      "provenance": [],
      "authorship_tag": "ABX9TyNyO3m0SvYq12P3zbl+N7Sh",
      "include_colab_link": true
    },
    "kernelspec": {
      "name": "python3",
      "display_name": "Python 3"
    },
    "language_info": {
      "name": "python"
    }
  },
  "cells": [
    {
      "cell_type": "markdown",
      "metadata": {
        "id": "view-in-github",
        "colab_type": "text"
      },
      "source": [
        "<a href=\"https://colab.research.google.com/github/srikrishna-stack/python-problem-solving/blob/main/recursion.ipynb\" target=\"_parent\"><img src=\"https://colab.research.google.com/assets/colab-badge.svg\" alt=\"Open In Colab\"/></a>"
      ]
    },
    {
      "cell_type": "code",
      "metadata": {
        "colab": {
          "base_uri": "https://localhost:8080/"
        },
        "id": "PK5dAQ2Avthj",
        "outputId": "28394255-dd20-4a90-b8ea-b94d6fb8c387"
      },
      "source": [
        "def factorial(x):\n",
        "  if (x==1):\n",
        "    return 1\n",
        "  else:\n",
        "    return (x*factorial(x-1))\n",
        "num=10\n",
        "print(\"the factorial of \",num,\"is\",factorial(num))"
      ],
      "execution_count": null,
      "outputs": [
        {
          "output_type": "stream",
          "text": [
            "the factorial of  10 is 3628800\n"
          ],
          "name": "stdout"
        }
      ]
    },
    {
      "cell_type": "code",
      "metadata": {
        "colab": {
          "base_uri": "https://localhost:8080/",
          "height": 348
        },
        "id": "D0wkSlYNwkcv",
        "outputId": "b6ce364b-e3a0-4879-f234-ce640ea60d74"
      },
      "source": [
        "def recursor():\n",
        "    recursor()\n",
        "recursor()"
      ],
      "execution_count": null,
      "outputs": [
        {
          "output_type": "error",
          "ename": "RecursionError",
          "evalue": "ignored",
          "traceback": [
            "\u001b[0;31m---------------------------------------------------------------------------\u001b[0m",
            "\u001b[0;31mRecursionError\u001b[0m                            Traceback (most recent call last)",
            "\u001b[0;32m<ipython-input-6-3ec8c6652eef>\u001b[0m in \u001b[0;36m<module>\u001b[0;34m()\u001b[0m\n\u001b[1;32m      1\u001b[0m \u001b[0;32mdef\u001b[0m \u001b[0mrecursor\u001b[0m\u001b[0;34m(\u001b[0m\u001b[0;34m)\u001b[0m\u001b[0;34m:\u001b[0m\u001b[0;34m\u001b[0m\u001b[0;34m\u001b[0m\u001b[0m\n\u001b[1;32m      2\u001b[0m     \u001b[0mrecursor\u001b[0m\u001b[0;34m(\u001b[0m\u001b[0;34m)\u001b[0m\u001b[0;34m\u001b[0m\u001b[0;34m\u001b[0m\u001b[0m\n\u001b[0;32m----> 3\u001b[0;31m \u001b[0mrecursor\u001b[0m\u001b[0;34m(\u001b[0m\u001b[0;34m)\u001b[0m\u001b[0;34m\u001b[0m\u001b[0;34m\u001b[0m\u001b[0m\n\u001b[0m",
            "\u001b[0;32m<ipython-input-6-3ec8c6652eef>\u001b[0m in \u001b[0;36mrecursor\u001b[0;34m()\u001b[0m\n\u001b[1;32m      1\u001b[0m \u001b[0;32mdef\u001b[0m \u001b[0mrecursor\u001b[0m\u001b[0;34m(\u001b[0m\u001b[0;34m)\u001b[0m\u001b[0;34m:\u001b[0m\u001b[0;34m\u001b[0m\u001b[0;34m\u001b[0m\u001b[0m\n\u001b[0;32m----> 2\u001b[0;31m     \u001b[0mrecursor\u001b[0m\u001b[0;34m(\u001b[0m\u001b[0;34m)\u001b[0m\u001b[0;34m\u001b[0m\u001b[0;34m\u001b[0m\u001b[0m\n\u001b[0m\u001b[1;32m      3\u001b[0m \u001b[0mrecursor\u001b[0m\u001b[0;34m(\u001b[0m\u001b[0;34m)\u001b[0m\u001b[0;34m\u001b[0m\u001b[0;34m\u001b[0m\u001b[0m\n",
            "... last 1 frames repeated, from the frame below ...\n",
            "\u001b[0;32m<ipython-input-6-3ec8c6652eef>\u001b[0m in \u001b[0;36mrecursor\u001b[0;34m()\u001b[0m\n\u001b[1;32m      1\u001b[0m \u001b[0;32mdef\u001b[0m \u001b[0mrecursor\u001b[0m\u001b[0;34m(\u001b[0m\u001b[0;34m)\u001b[0m\u001b[0;34m:\u001b[0m\u001b[0;34m\u001b[0m\u001b[0;34m\u001b[0m\u001b[0m\n\u001b[0;32m----> 2\u001b[0;31m     \u001b[0mrecursor\u001b[0m\u001b[0;34m(\u001b[0m\u001b[0;34m)\u001b[0m\u001b[0;34m\u001b[0m\u001b[0;34m\u001b[0m\u001b[0m\n\u001b[0m\u001b[1;32m      3\u001b[0m \u001b[0mrecursor\u001b[0m\u001b[0;34m(\u001b[0m\u001b[0;34m)\u001b[0m\u001b[0;34m\u001b[0m\u001b[0;34m\u001b[0m\u001b[0m\n",
            "\u001b[0;31mRecursionError\u001b[0m: maximum recursion depth exceeded"
          ]
        }
      ]
    },
    {
      "cell_type": "code",
      "metadata": {
        "colab": {
          "base_uri": "https://localhost:8080/"
        },
        "id": "PB3pLRDUw_m-",
        "outputId": "b7725a74-ff31-48da-e74e-5b9e0a326f28"
      },
      "source": [
        "def fib(n):\n",
        "  if (n==0):\n",
        "    return 1\n",
        "  if (n==1 or n==2):\n",
        "    return 1\n",
        "  else:\n",
        "    return (fib(n-1)+fib(n-2))\n",
        "n=5\n",
        "print(\"the fibonaaci series of\", n,\"is\")\n",
        "for i in range(0,n):\n",
        "  print(fib(i),end=\" \")"
      ],
      "execution_count": null,
      "outputs": [
        {
          "output_type": "stream",
          "text": [
            "the fibonaaci series of 5 is\n",
            "1 1 1 2 3 "
          ],
          "name": "stdout"
        }
      ]
    },
    {
      "cell_type": "code",
      "metadata": {
        "colab": {
          "base_uri": "https://localhost:8080/"
        },
        "id": "TH91op7o1AJQ",
        "outputId": "bed780ae-95cb-464c-808e-bc5c760bfe5a"
      },
      "source": [
        "#python program to print factorial of a number\n",
        "def fib(n):\n",
        "  if (n==0 or n==1):\n",
        "    return 1\n",
        "  else:\n",
        "    return n*fib(n-1)\n",
        "if __name__==\"__main__\":\n",
        "  n=5\n",
        "  print(\"the factorial of a number \",n,\"is\",fib(n))\n",
        "\n",
        "  "
      ],
      "execution_count": null,
      "outputs": [
        {
          "output_type": "stream",
          "text": [
            "the factorial of a number  5 is 120\n"
          ],
          "name": "stdout"
        }
      ]
    },
    {
      "cell_type": "code",
      "metadata": {
        "colab": {
          "base_uri": "https://localhost:8080/"
        },
        "id": "WTWxCpdB2zek",
        "outputId": "b2e660dc-3a09-4be6-fa32-037dcfcd204a"
      },
      "source": [
        "def binary_search(arr,low,high,x):\n",
        "    mid=(low+high)//2\n",
        "    if arr[mid]==x:\n",
        "      return mid\n",
        "    elif arr[mid]>x:\n",
        "      return binary_serach(arr,low,mid-1,x)\n",
        "    else:\n",
        "      return binary_search(arr,mid+1,hig,x)\n",
        "  else:\n",
        "    return -1\n",
        "\n",
        "arr=[2,3,4,10,40]\n",
        "x=40\n",
        "result=binary_search(arr,0,len(arr)-1,x)\n",
        "if result != -1:\n",
        "  print(\"element preset at index\",str(result))\n",
        "else:\n",
        "  print(\"element not present in the list\")"
      ],
      "execution_count": null,
      "outputs": [
        {
          "output_type": "stream",
          "text": [
            "element preset at index 4\n"
          ],
          "name": "stdout"
        }
      ]
    },
    {
      "cell_type": "code",
      "metadata": {
        "id": "Ku-X8OLQGdFS",
        "colab": {
          "base_uri": "https://localhost:8080/"
        },
        "outputId": "78109138-6d98-429a-c9b6-a91134ac2f75"
      },
      "source": [
        "#prime number\n",
        "\n",
        "def prime_of(low,high):\n",
        "  for i in range(low, high+1):\n",
        "     if i>1:\n",
        "       for j in range(2,(i//2)+1):\n",
        "         \n",
        "         if(i % j==0):\n",
        "            break\n",
        "       else:\n",
        "        print(i)\n",
        "\n",
        "low = 11\n",
        "high = 25\n",
        "print(prime_of(low,high))"
      ],
      "execution_count": null,
      "outputs": [
        {
          "output_type": "stream",
          "text": [
            "11\n",
            "13\n",
            "17\n",
            "19\n",
            "23\n",
            "None\n"
          ],
          "name": "stdout"
        }
      ]
    },
    {
      "cell_type": "code",
      "metadata": {
        "colab": {
          "base_uri": "https://localhost:8080/"
        },
        "id": "skN2qCq9Y1J1",
        "outputId": "bfa1d797-41ca-44ef-d8e7-4342629ce22c"
      },
      "source": [
        "def prime(low,high):\n",
        "  for no in range(low,high+1):\n",
        "    if no>1 and no!=0:\n",
        "      for j in range(2,(no//2)+1):\n",
        "        if (no%j==0):\n",
        "          break\n",
        "      else:\n",
        "        print(no)\n",
        "high=20\n",
        "prime(11,20)"
      ],
      "execution_count": null,
      "outputs": [
        {
          "output_type": "stream",
          "text": [
            "11\n",
            "13\n",
            "17\n",
            "19\n"
          ],
          "name": "stdout"
        }
      ]
    },
    {
      "cell_type": "code",
      "metadata": {
        "id": "GigyHX_ZmXY0",
        "colab": {
          "base_uri": "https://localhost:8080/",
          "height": 239
        },
        "outputId": "17dd751d-593c-44ec-ffbb-86d18e0986c0"
      },
      "source": [
        "file=open(\"sample.txt\",\"r\")\n",
        "print(file.read())\n",
        "file.close()"
      ],
      "execution_count": null,
      "outputs": [
        {
          "output_type": "error",
          "ename": "FileNotFoundError",
          "evalue": "ignored",
          "traceback": [
            "\u001b[0;31m---------------------------------------------------------------------------\u001b[0m",
            "\u001b[0;31mFileNotFoundError\u001b[0m                         Traceback (most recent call last)",
            "\u001b[0;32m<ipython-input-59-e094c24c7b66>\u001b[0m in \u001b[0;36m<module>\u001b[0;34m()\u001b[0m\n\u001b[0;32m----> 1\u001b[0;31m \u001b[0mfile\u001b[0m\u001b[0;34m=\u001b[0m\u001b[0mopen\u001b[0m\u001b[0;34m(\u001b[0m\u001b[0;34m\"sample.txt\"\u001b[0m\u001b[0;34m,\u001b[0m\u001b[0;34m\"r\"\u001b[0m\u001b[0;34m)\u001b[0m\u001b[0;34m\u001b[0m\u001b[0;34m\u001b[0m\u001b[0m\n\u001b[0m\u001b[1;32m      2\u001b[0m \u001b[0mprint\u001b[0m\u001b[0;34m(\u001b[0m\u001b[0mfile\u001b[0m\u001b[0;34m.\u001b[0m\u001b[0mread\u001b[0m\u001b[0;34m(\u001b[0m\u001b[0;34m)\u001b[0m\u001b[0;34m)\u001b[0m\u001b[0;34m\u001b[0m\u001b[0;34m\u001b[0m\u001b[0m\n\u001b[1;32m      3\u001b[0m \u001b[0mfile\u001b[0m\u001b[0;34m.\u001b[0m\u001b[0mclose\u001b[0m\u001b[0;34m(\u001b[0m\u001b[0;34m)\u001b[0m\u001b[0;34m\u001b[0m\u001b[0;34m\u001b[0m\u001b[0m\n",
            "\u001b[0;31mFileNotFoundError\u001b[0m: [Errno 2] No such file or directory: 'sample.txt'"
          ]
        }
      ]
    },
    {
      "cell_type": "code",
      "metadata": {
        "id": "HddlDuflwkBC"
      },
      "source": [
        ""
      ],
      "execution_count": null,
      "outputs": []
    }
  ]
}