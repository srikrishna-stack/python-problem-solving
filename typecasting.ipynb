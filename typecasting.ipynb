{
  "nbformat": 4,
  "nbformat_minor": 0,
  "metadata": {
    "colab": {
      "name": "typecasting.ipynb",
      "provenance": [],
      "authorship_tag": "ABX9TyNFvR0wL/ycGwGFF2cVUsRd",
      "include_colab_link": true
    },
    "kernelspec": {
      "name": "python3",
      "display_name": "Python 3"
    },
    "language_info": {
      "name": "python"
    }
  },
  "cells": [
    {
      "cell_type": "markdown",
      "metadata": {
        "id": "view-in-github",
        "colab_type": "text"
      },
      "source": [
        "<a href=\"https://colab.research.google.com/github/srikrishna-stack/python-problem-solving/blob/main/typecasting.ipynb\" target=\"_parent\"><img src=\"https://colab.research.google.com/assets/colab-badge.svg\" alt=\"Open In Colab\"/></a>"
      ]
    },
    {
      "cell_type": "code",
      "metadata": {
        "colab": {
          "base_uri": "https://localhost:8080/"
        },
        "id": "r_nSvfmy7ELg",
        "outputId": "3fd44c65-b321-4ca5-f66b-354e2ca38731"
      },
      "source": [
        "a=5\n",
        "type(a)\n",
        "n = str(a)\n",
        "print(n)"
      ],
      "execution_count": null,
      "outputs": [
        {
          "output_type": "stream",
          "text": [
            "5\n"
          ],
          "name": "stdout"
        }
      ]
    },
    {
      "cell_type": "code",
      "metadata": {
        "colab": {
          "base_uri": "https://localhost:8080/"
        },
        "id": "VhW60y1-7p60",
        "outputId": "895e139d-4553-41b1-d1bc-ff32c0670be6"
      },
      "source": [
        "a=\"5\"\n",
        "type(a)\n",
        "n= float (a)\n",
        "print (n)"
      ],
      "execution_count": null,
      "outputs": [
        {
          "output_type": "stream",
          "text": [
            "5.0\n"
          ],
          "name": "stdout"
        }
      ]
    },
    {
      "cell_type": "code",
      "metadata": {
        "colab": {
          "base_uri": "https://localhost:8080/"
        },
        "id": "vxKemUCa8AB_",
        "outputId": "971185c0-1af5-4f4a-f83e-4e9c0b09f416"
      },
      "source": [
        "x=int(input(\"enter an integer\"))\n",
        "if x < 0:\n",
        "  x=0\n",
        "  print(\"x is a negative integer\")\n",
        "elif x==1 :\n",
        "  print(\" x is  a single element\")\n",
        "elif x>0:\n",
        "  print(\" x is a greatest element\")\n",
        "else:\n",
        "  print(\"enter the valid number\")\n"
      ],
      "execution_count": null,
      "outputs": [
        {
          "output_type": "stream",
          "text": [
            "enter an integer-1\n",
            "x is a negative integer\n"
          ],
          "name": "stdout"
        }
      ]
    },
    {
      "cell_type": "code",
      "metadata": {
        "colab": {
          "base_uri": "https://localhost:8080/"
        },
        "id": "aCQEzqJm9DIS",
        "outputId": "d5be12ac-ff61-43cc-c0a7-a0038a989268"
      },
      "source": [
        "a=['marry','had','a', 'little','lamb']\n",
        "for i in range(len(a)):\n",
        "  print(i,a[i])\n"
      ],
      "execution_count": null,
      "outputs": [
        {
          "output_type": "stream",
          "text": [
            "0 marry\n",
            "1 had\n",
            "2 a\n",
            "3 little\n",
            "4 lamb\n"
          ],
          "name": "stdout"
        }
      ]
    },
    {
      "cell_type": "code",
      "metadata": {
        "id": "Ai6r3gwm-a02",
        "colab": {
          "base_uri": "https://localhost:8080/"
        },
        "outputId": "7d95ff02-9eb3-476f-d6fd-ab41f9aacabb"
      },
      "source": [
        "sum(range(4))\n",
        "list(range(4))"
      ],
      "execution_count": null,
      "outputs": [
        {
          "output_type": "execute_result",
          "data": {
            "text/plain": [
              "[0, 1, 2, 3]"
            ]
          },
          "metadata": {
            "tags": []
          },
          "execution_count": 15
        }
      ]
    },
    {
      "cell_type": "code",
      "metadata": {
        "colab": {
          "base_uri": "https://localhost:8080/"
        },
        "id": "ssw-qXck_NSg",
        "outputId": "6727aec4-f803-4ac5-efbb-e0df267f801e"
      },
      "source": [
        "#prime number\n",
        "for n in range(2,10):\n",
        "  for x in range(2,n):\n",
        "    if n%x==0:\n",
        "      print(n,'equals',x,'*',n//x)\n",
        "      break\n",
        "    else:\n",
        "      print(n,\"is a prime number\")\n"
      ],
      "execution_count": null,
      "outputs": [
        {
          "output_type": "stream",
          "text": [
            "3 is a prime number\n",
            "4 equals 2 * 2\n",
            "5 is a prime number\n",
            "5 is a prime number\n",
            "5 is a prime number\n",
            "6 equals 2 * 3\n",
            "7 is a prime number\n",
            "7 is a prime number\n",
            "7 is a prime number\n",
            "7 is a prime number\n",
            "7 is a prime number\n",
            "8 equals 2 * 4\n",
            "9 is a prime number\n",
            "9 equals 3 * 3\n"
          ],
          "name": "stdout"
        }
      ]
    },
    {
      "cell_type": "code",
      "metadata": {
        "colab": {
          "base_uri": "https://localhost:8080/"
        },
        "id": "WM_gJhR6BrIK",
        "outputId": "17592307-931b-4624-b8ed-ba1f6d0a78a7"
      },
      "source": [
        "s = 'geeksforgeeks'\n",
        "\n",
        "for letter in s:\n",
        "  \n",
        "    print(letter)\n",
        "   \n",
        "    if letter == 'e' or letter == 's':\n",
        "        break\n",
        "  \n",
        "print(\"Out of for loop\")\n",
        "print()\n",
        "  \n"
      ],
      "execution_count": null,
      "outputs": [
        {
          "output_type": "stream",
          "text": [
            "g\n",
            "e\n",
            "Out of for loop\n",
            "\n"
          ],
          "name": "stdout"
        }
      ]
    },
    {
      "cell_type": "code",
      "metadata": {
        "colab": {
          "base_uri": "https://localhost:8080/"
        },
        "id": "qOfx92LjCvpO",
        "outputId": "0888db8c-ce1e-4fae-b868-d471976dc9bb"
      },
      "source": [
        "#continue statement\n",
        "for i in range(1,11):\n",
        "  if i == 6:\n",
        "    continue\n",
        "  else:\n",
        "    print(i)\n",
        "for num in range(1,10):\n",
        "  if num%2==0:\n",
        "    print(\"print even number\",num)\n",
        "  else :\n",
        "    print(\"print odd number\",num)\n",
        " \n",
        "  "
      ],
      "execution_count": null,
      "outputs": [
        {
          "output_type": "stream",
          "text": [
            "1\n",
            "2\n",
            "3\n",
            "4\n",
            "5\n",
            "7\n",
            "8\n",
            "9\n",
            "10\n",
            "print odd number 1\n",
            "print even number 2\n",
            "print odd number 3\n",
            "print even number 4\n",
            "print odd number 5\n",
            "print even number 6\n",
            "print odd number 7\n",
            "print even number 8\n",
            "print odd number 9\n"
          ],
          "name": "stdout"
        }
      ]
    },
    {
      "cell_type": "code",
      "metadata": {
        "colab": {
          "base_uri": "https://localhost:8080/"
        },
        "id": "CJEviBUfFu02",
        "outputId": "4839e0e4-5039-4a50-a76e-720a242abdf4"
      },
      "source": [
        "def fib(n):\n",
        "  a,b=0,1\n",
        "  while a<n:\n",
        "    print(a,end=\" \")\n",
        "    a,b=b,a+b\n",
        "  print()\n",
        "fib(2000)\n"
      ],
      "execution_count": null,
      "outputs": [
        {
          "output_type": "stream",
          "text": [
            "0 1 1 2 3 5 8 13 21 34 55 89 144 233 377 610 987 1597 \n"
          ],
          "name": "stdout"
        }
      ]
    },
    {
      "cell_type": "code",
      "metadata": {
        "colab": {
          "base_uri": "https://localhost:8080/"
        },
        "id": "eUslT8heNJgL",
        "outputId": "b688de52-ac3e-430b-f58e-b1a2e08ffecc"
      },
      "source": [
        "f=fib\n",
        "f(100)\n",
        "f(0)"
      ],
      "execution_count": null,
      "outputs": [
        {
          "output_type": "stream",
          "text": [
            "0 1 1 2 3 5 8 13 21 34 55 89 \n",
            "\n"
          ],
          "name": "stdout"
        }
      ]
    },
    {
      "cell_type": "code",
      "metadata": {
        "colab": {
          "base_uri": "https://localhost:8080/"
        },
        "id": "VdPa8FbCOD7T",
        "outputId": "769d69d9-28e8-4893-84b4-82eca71c9730"
      },
      "source": [
        "def f(a,l=[]):\n",
        "  l.append(a)\n",
        "  return l\n",
        "print(f(1))\n",
        "print(f(2))\n",
        "print(f(3))\n"
      ],
      "execution_count": null,
      "outputs": [
        {
          "output_type": "stream",
          "text": [
            "[1]\n",
            "[1, 2]\n",
            "[1, 2, 3]\n"
          ],
          "name": "stdout"
        }
      ]
    },
    {
      "cell_type": "code",
      "metadata": {
        "colab": {
          "base_uri": "https://localhost:8080/"
        },
        "id": "qNFxp9qNPhUR",
        "outputId": "0b4ab79a-d64e-4e28-d892-3f74ad52ab4c"
      },
      "source": [
        "def parrot(voltage, state='a stiff', action='voom', type='Norwegian Blue'):\n",
        "  print(\"-- This parrot wouldn't\", action, end=' ')\n",
        "  print(\"if you put\", voltage, \"volts through it.\")\n",
        "  print(\"-- Lovely plumage, the\", type)\n",
        "  print(\"-- It's\", state, \"!\")\n",
        "parrot('a thousand', state='pushing up the daisies')"
      ],
      "execution_count": null,
      "outputs": [
        {
          "output_type": "stream",
          "text": [
            "-- This parrot wouldn't voom if you put a thousand volts through it.\n",
            "-- Lovely plumage, the Norwegian Blue\n",
            "-- It's pushing up the daisies !\n"
          ],
          "name": "stdout"
        }
      ]
    },
    {
      "cell_type": "code",
      "metadata": {
        "colab": {
          "base_uri": "https://localhost:8080/"
        },
        "id": "ukr9zlf9Qcat",
        "outputId": "df7af94f-9270-4bd8-cdc4-265e0d1df437"
      },
      "source": [
        "def cheeseshop(kind,*arguments,**keywords):\n",
        "  print(\"--do you have any kind \",kind,\"?\")\n",
        "  print(\"-- iam sorry ,we are all out of kind\")\n",
        "  for arg in arguments:\n",
        "    print(arg)\n",
        "  print(\"-\"\n",
        "  *40)\n",
        "  for kw in keywords:\n",
        "    print(kw ,\":\",keywords[kw])\n",
        "  \n",
        "cheeseshop(\"limbburger\",\"it is funny sir\",\"it is very very funny sir\",shopkeeper=\"Michael Palin\",\n",
        "           client=\"John Cleese\",\n",
        "           sketch=\"Cheese Shop Sketch\")"
      ],
      "execution_count": null,
      "outputs": [
        {
          "output_type": "stream",
          "text": [
            "--do you have any kind  limbburger ?\n",
            "-- iam sorry ,we are all out of kind\n",
            "it is funny sir\n",
            "it is very very funny sir\n",
            "----------------------------------------\n",
            "shopkeeper : Michael Palin\n",
            "client : John Cleese\n",
            "sketch : Cheese Shop Sketch\n"
          ],
          "name": "stdout"
        }
      ]
    },
    {
      "cell_type": "code",
      "metadata": {
        "id": "MqsNeZNWb7H6",
        "colab": {
          "base_uri": "https://localhost:8080/"
        },
        "outputId": "aa3a9a46-186b-4e93-c710-1b63330d76db"
      },
      "source": [
        "r=int(input(\"enter the rows\"))\n",
        "c=int(input(\"enter the columns\"))\n",
        "matrix=[]\n",
        "print(\"please enter the matrix rowwise\")\n",
        "for i in range(r):\n",
        "  a=[]\n",
        "  for j in range(c):\n",
        "    a.append(int(input()))\n",
        "  matrix.append(a)\n",
        "  #for printing the matrix\n",
        "for i in range(r):\n",
        "  for j in range(c):\n",
        "    print(matrix[i][j],end=\" \")\n",
        "  print()\n"
      ],
      "execution_count": null,
      "outputs": [
        {
          "output_type": "stream",
          "text": [
            "enter the rows2\n",
            "enter the columns3\n",
            "please enter the matrix rowwise\n",
            "1\n",
            "2\n",
            "3\n",
            "4\n",
            "5\n",
            "6\n",
            "1 2 3 \n",
            "4 5 6 \n"
          ],
          "name": "stdout"
        }
      ]
    },
    {
      "cell_type": "code",
      "metadata": {
        "colab": {
          "base_uri": "https://localhost:8080/"
        },
        "id": "su_FwYbSzARB",
        "outputId": "479f10de-030f-4481-c951-84ace034fb92"
      },
      "source": [
        "mat=[[int(input()) for x in range(c)]for y in range(r)]"
      ],
      "execution_count": null,
      "outputs": [
        {
          "output_type": "stream",
          "text": [
            "2\n",
            "3\n",
            "4\n",
            "5\n",
            "6\n",
            "7\n"
          ],
          "name": "stdout"
        }
      ]
    },
    {
      "cell_type": "code",
      "metadata": {
        "colab": {
          "base_uri": "https://localhost:8080/"
        },
        "id": "fGFjpG8F0gTz",
        "outputId": "d1a723fc-deb7-4c9f-e1d9-47fca5a5f468"
      },
      "source": [
        "import array as arr\n",
        "a=arr.array('i',[1,2,3])\n",
        "print(\"the new created array is\",end=\" \")\n",
        "for i in range(0,3):\n",
        "  print(a[i],end=\"\")\n",
        "print()\n",
        "a.insert(1,4)\n",
        "print(\"after insertion\")\n",
        "for i in a:\n",
        "  print(i,end=\" \")\n",
        "print()\n",
        "print(\"aceesing the elements in the array\",a[1])\n",
        "print(a.pop(2))\n",
        "print(a.remove(3))\n",
        "\n",
        "print(a.index(1))\n",
        "a[1]=5\n",
        "print(a)\n",
        "\n"
      ],
      "execution_count": null,
      "outputs": [
        {
          "output_type": "stream",
          "text": [
            "the new created array is 123\n",
            "after insertion\n",
            "1 4 2 3 \n",
            "aceesing the elements in the array 4\n",
            "2\n",
            "None\n",
            "0\n",
            "array('i', [1, 5])\n"
          ],
          "name": "stdout"
        }
      ]
    },
    {
      "cell_type": "code",
      "metadata": {
        "colab": {
          "base_uri": "https://localhost:8080/"
        },
        "id": "DEVJCdEO4Vvh",
        "outputId": "4ded88ae-a978-471d-d08f-21c80cdff939"
      },
      "source": [
        "from array import*\n",
        "arr1=array('i',[1,2,3,4,2,2])\n",
        "for i in arr1:\n",
        "  print(i,end=' ')\n",
        "print(arr1[0])\n",
        "arr1.append(11)\n",
        "print(arr1)\n",
        "arr1.reverse()\n",
        "print(arr1)\n",
        "print(arr1.itemsize)\n",
        "print(arr1.count(2))\n",
        "arr1.extend(arr1)\n",
        "print(arr1)"
      ],
      "execution_count": null,
      "outputs": [
        {
          "output_type": "stream",
          "text": [
            "1 2 3 4 2 2 1\n",
            "array('i', [1, 2, 3, 4, 2, 2, 11])\n",
            "array('i', [11, 2, 2, 4, 3, 2, 1])\n",
            "4\n",
            "3\n",
            "array('i', [11, 2, 2, 4, 3, 2, 1, 11, 2, 2, 4, 3, 2, 1])\n"
          ],
          "name": "stdout"
        }
      ]
    },
    {
      "cell_type": "code",
      "metadata": {
        "colab": {
          "base_uri": "https://localhost:8080/"
        },
        "id": "aja0DtyPGtYJ",
        "outputId": "4baecbc8-f4b7-427b-a9cf-6203c12d0681"
      },
      "source": [
        "from array import*\n",
        "list=[1,2,3,4,5,6]\n",
        "arr=array('i',[])\n",
        "arr.fromlist(list)\n",
        "print(arr)\n",
        "arr.insert(1,7)\n",
        "print(arr)\n",
        "\n",
        "\n"
      ],
      "execution_count": null,
      "outputs": [
        {
          "output_type": "stream",
          "text": [
            "array('i', [1, 2, 3, 4, 5, 6])\n",
            "array('i', [1, 7, 2, 3, 4, 5, 6])\n"
          ],
          "name": "stdout"
        }
      ]
    },
    {
      "cell_type": "code",
      "metadata": {
        "colab": {
          "base_uri": "https://localhost:8080/"
        },
        "id": "vWh2T52MMS97",
        "outputId": "0b26f913-5f06-4d8e-c70b-eb6daaab09c2"
      },
      "source": [
        "def max_product(arr):\n",
        "  arrlen=len(arr)\n",
        "  if arrlen < 2:\n",
        "    print(\"no pair exists\")\n",
        "    return\n",
        "    x=arr[0],y=arr[1]\n",
        "    for i in range(0,arrlen):\n",
        "      for j in range(i+1,arrlen):\n",
        "        if (arr[i]*arr[j] > x*y):\n",
        "\n",
        "          x = arr[i]; y = arr[j] \n",
        "\n",
        "    return x,y    \n",
        "          \n",
        "  \n",
        "    \n",
        "          \n",
        "  \n",
        "nums=[1,2,3,4,7,0,8,4]\n",
        "print(\"original array  nums\")\n",
        "print(\"maximum product num is \",max_product(nums))"
      ],
      "execution_count": null,
      "outputs": [
        {
          "output_type": "stream",
          "text": [
            "original array  nums\n",
            "maximum product num is  None\n"
          ],
          "name": "stdout"
        }
      ]
    },
    {
      "cell_type": "code",
      "metadata": {
        "id": "D_TNEjgddVHz"
      },
      "source": [
        ""
      ],
      "execution_count": null,
      "outputs": []
    }
  ]
}