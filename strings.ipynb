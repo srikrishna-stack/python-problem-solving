{
  "nbformat": 4,
  "nbformat_minor": 0,
  "metadata": {
    "colab": {
      "name": "strings.ipynb",
      "provenance": [],
      "collapsed_sections": [],
      "authorship_tag": "ABX9TyOynEjHP8o5vATJ8gRPIduN",
      "include_colab_link": true
    },
    "kernelspec": {
      "name": "python3",
      "display_name": "Python 3"
    },
    "language_info": {
      "name": "python"
    }
  },
  "cells": [
    {
      "cell_type": "markdown",
      "metadata": {
        "id": "view-in-github",
        "colab_type": "text"
      },
      "source": [
        "<a href=\"https://colab.research.google.com/github/srikrishna-stack/python-problem-solving/blob/main/strings.ipynb\" target=\"_parent\"><img src=\"https://colab.research.google.com/assets/colab-badge.svg\" alt=\"Open In Colab\"/></a>"
      ]
    },
    {
      "cell_type": "code",
      "metadata": {
        "colab": {
          "base_uri": "https://localhost:8080/"
        },
        "id": "Suk5q3BvJVWt",
        "outputId": "423a7e77-be83-40bd-8f5b-32f89cec2a07"
      },
      "source": [
        "#checking string is  a palindrome or not\n",
        "def  ispalindrome(s):\n",
        "  return s==s[::-1]\n",
        "\n",
        "s=\"malayalam\"\n",
        "ans=ispalindrome(s)\n",
        "print(ans)"
      ],
      "execution_count": null,
      "outputs": [
        {
          "output_type": "stream",
          "text": [
            "True\n"
          ],
          "name": "stdout"
        }
      ]
    },
    {
      "cell_type": "code",
      "metadata": {
        "id": "KK80xwndKAXF"
      },
      "source": [
        "def ispalindrome(s):\n",
        "  for i in range(0,len(len(s/2))):\n",
        "    if s[i]!=s[len(s)-i-1]:\n",
        "      return False\n",
        "  return True"
      ],
      "execution_count": null,
      "outputs": []
    },
    {
      "cell_type": "markdown",
      "metadata": {
        "id": "qOsbUYjMSu_-"
      },
      "source": [
        "python program to check whether a string is palindrome and symmentrical\n"
      ]
    },
    {
      "cell_type": "code",
      "metadata": {
        "colab": {
          "base_uri": "https://localhost:8080/"
        },
        "id": "pXKVqpOfKXxs",
        "outputId": "2e676f73-6a6d-477b-8126-10b2017745c9"
      },
      "source": [
        "def palindrome(a):\n",
        "  mid=(len(a)-1)//2\n",
        "  start=0\n",
        "  last=len(a)-1\n",
        "  flag=0\n",
        "  while(start<mid):\n",
        "    if a[start]==a[last]:\n",
        "      start+=1\n",
        "      last-=1\n",
        "    else:\n",
        "      flag=1\n",
        "      break\n",
        "  if flag==0:\n",
        "    print(\"given string is a palindrome\")\n",
        "  else:\n",
        "    print(\"given string is not a palindrome\")\n",
        "def symmetry(a):\n",
        "  n=len(a)\n",
        "  flag=0\n",
        "  if n%2:\n",
        "    mid=n//2+1\n",
        "  else:\n",
        "    mid=n//2\n",
        "  start1=0\n",
        "  start2=mid\n",
        "  while(start1 < mid and start2 < n ):\n",
        "    if (a[start1]==a[start2]):\n",
        "      start1=start1+1\n",
        "      start2=start2+1\n",
        "    else:\n",
        "      flag==1\n",
        "      break\n",
        "  if flag==0:\n",
        "    print(\"given string is a symmetric\")\n",
        "  else:\n",
        "    print(\"given string is not a symmetric\")\n",
        "string = 'amaama'\n",
        "palindrome(string)\n",
        "symmetry(string)\n",
        "\n",
        "    \n",
        "  \n",
        "     \n",
        "\n",
        "\n",
        "\n"
      ],
      "execution_count": null,
      "outputs": [
        {
          "output_type": "stream",
          "text": [
            "given string is a palindrome\n",
            "given string is a symmetric\n"
          ],
          "name": "stdout"
        }
      ]
    },
    {
      "cell_type": "code",
      "metadata": {
        "colab": {
          "base_uri": "https://localhost:8080/"
        },
        "id": "hKGPVJfZTFfN",
        "outputId": "b5ca276f-36fe-46e3-e356-1e13463ae3ac"
      },
      "source": [
        "#python to string in reverse\n",
        "def reverse_sentence(sentence):\n",
        "  words=sentence.split(' ')\n",
        "  reverse_sentence=' '.join(reversed(words))\n",
        "  return reverse_sentence\n",
        "  \n",
        "\n",
        "if __name__ == \"__main__\": \n",
        "  input='geek quiz practice code'\n",
        "  print(reverse_sentence(input))\n",
        "\n"
      ],
      "execution_count": null,
      "outputs": [
        {
          "output_type": "stream",
          "text": [
            "code practice quiz geek\n"
          ],
          "name": "stdout"
        }
      ]
    },
    {
      "cell_type": "code",
      "metadata": {
        "colab": {
          "base_uri": "https://localhost:8080/"
        },
        "id": "N7IDAJ-oTexh",
        "outputId": "54252075-9b3e-41b3-fd2b-8db8a344a1c5"
      },
      "source": [
        "#removing the postion of the stirng because it is immutable\n",
        "tes_str=\"srikrishna\"\n",
        "new_str=\"\"\n",
        "for i in range(len(tes_str)):\n",
        "    if i != 2:\n",
        "        new_str = new_str + tes_str[i]\n",
        "\n",
        "print(\"after removing the function \",new_str)\n",
        "  "
      ],
      "execution_count": null,
      "outputs": [
        {
          "output_type": "stream",
          "text": [
            "after removing the function  srkrishna\n"
          ],
          "name": "stdout"
        }
      ]
    },
    {
      "cell_type": "code",
      "metadata": {
        "colab": {
          "base_uri": "https://localhost:8080/"
        },
        "id": "_FhGMnQ1kJgi",
        "outputId": "60dade58-b1d3-4cc4-b282-812b42e26500"
      },
      "source": [
        "#remove the substring of the elements\n",
        "def check(string,sub_str):\n",
        "  if (string.find(sub_str)==-1):\n",
        "    print(\"no\")\n",
        "  else:\n",
        "    print(\"yes\")\n",
        "string='geeksforgeeks'\n",
        "sub_str='geeks'\n",
        "check(string,sub_str)\n"
      ],
      "execution_count": null,
      "outputs": [
        {
          "output_type": "stream",
          "text": [
            "yes\n"
          ],
          "name": "stdout"
        }
      ]
    },
    {
      "cell_type": "code",
      "metadata": {
        "colab": {
          "base_uri": "https://localhost:8080/"
        },
        "id": "P--4VjSi1V4J",
        "outputId": "dffd6810-2dc4-4639-acaf-688cbbd3f42f"
      },
      "source": [
        "# word frequency in string short hands\n",
        "from collections import Counter\n",
        "test_str = 'Gfg is best . Geeks are good and Geeks like Gfg'\n",
        "res=Counter(test_str.split())\n",
        "print(res)\n"
      ],
      "execution_count": null,
      "outputs": [
        {
          "output_type": "stream",
          "text": [
            "Counter({'Gfg': 2, 'Geeks': 2, 'is': 1, 'best': 1, '.': 1, 'are': 1, 'good': 1, 'and': 1, 'like': 1})\n"
          ],
          "name": "stdout"
        }
      ]
    },
    {
      "cell_type": "code",
      "metadata": {
        "colab": {
          "base_uri": "https://localhost:8080/"
        },
        "id": "_je92GDY5uAb",
        "outputId": "629f060d-9962-4412-b97e-9479a3688ff8"
      },
      "source": [
        "#convert sanke case to pascal case\n",
        "string1=\"geeks_for_geeks\"\n",
        "result=string1.replace(\"_\",\" \").title().replace(\" \",\"\")\n",
        "print(result)"
      ],
      "execution_count": null,
      "outputs": [
        {
          "output_type": "stream",
          "text": [
            "GeeksForGeeks\n"
          ],
          "name": "stdout"
        }
      ]
    },
    {
      "cell_type": "code",
      "metadata": {
        "colab": {
          "base_uri": "https://localhost:8080/"
        },
        "id": "r8Ylkle26rjj",
        "outputId": "9cb60c08-063a-420b-88e2-05f979a6527b"
      },
      "source": [
        "#progrma to print even wlentght words in  a string\n",
        "def evenword(s1):\n",
        "  s1=s1.split()\n",
        "  for i in s1:\n",
        "    if len (i) %2==0:\n",
        "      print(i)\n",
        "\n",
        "\n",
        "s1='this is a python language'\n",
        "evenword(s1)\n"
      ],
      "execution_count": null,
      "outputs": [
        {
          "output_type": "stream",
          "text": [
            "this\n",
            "is\n",
            "python\n",
            "language\n"
          ],
          "name": "stdout"
        }
      ]
    },
    {
      "cell_type": "code",
      "metadata": {
        "colab": {
          "base_uri": "https://localhost:8080/"
        },
        "id": "6Ci7Rmkk8bTO",
        "outputId": "7154c1bf-c863-444d-f4ee-ac9df9d52310"
      },
      "source": [
        "def count(str1,str2):\n",
        "  c=0\n",
        "  j=0\n",
        " \n",
        "  for i in str1:\n",
        "    if str2.find(i)>=0 and j==str1.find(i):\n",
        "      c=c+1\n",
        "    j=j+1\n",
        "  print(\"number are characters are \",c)\n",
        "    \n",
        "def main():\n",
        "  str1='abcdef'\n",
        "  str2='cdefgh'\n",
        "  count(str1,str2)\n",
        "if __name__=='__main__':\n",
        "  main()"
      ],
      "execution_count": null,
      "outputs": [
        {
          "output_type": "stream",
          "text": [
            "number are characters are  4\n"
          ],
          "name": "stdout"
        }
      ]
    },
    {
      "cell_type": "code",
      "metadata": {
        "colab": {
          "base_uri": "https://localhost:8080/"
        },
        "id": "nYfKjLPEBhTS",
        "outputId": "01edd4a3-1d19-464c-dd58-a817e7901a1e"
      },
      "source": [
        "# removing duplicates from \n",
        "def removing(str1):\n",
        "  s=set(str1)\n",
        "  s=\"\".join(s)\n",
        "  print(\"with out order\",s)\n",
        "  t=\"\"\n",
        "  for i in str1:\n",
        "        if(i in t):\n",
        "            pass\n",
        "        else:\n",
        "            t=t+i\n",
        "        print(\"With Order:\",t)\n",
        "    \n",
        "\n",
        "str1=\"geeksforgeeks\"\n",
        "print(removing(str1))"
      ],
      "execution_count": null,
      "outputs": [
        {
          "output_type": "stream",
          "text": [
            "with out order kegrfos\n",
            "With Order: g\n",
            "With Order: ge\n",
            "With Order: ge\n",
            "With Order: gek\n",
            "With Order: geks\n",
            "With Order: geksf\n",
            "With Order: geksfo\n",
            "With Order: geksfor\n",
            "With Order: geksfor\n",
            "With Order: geksfor\n",
            "With Order: geksfor\n",
            "With Order: geksfor\n",
            "With Order: geksfor\n",
            "None\n"
          ],
          "name": "stdout"
        }
      ]
    },
    {
      "cell_type": "code",
      "metadata": {
        "colab": {
          "base_uri": "https://localhost:8080/",
          "height": 272
        },
        "id": "lMkVNAglR63l",
        "outputId": "f8bdb749-a70d-4a30-bf7f-5e0f52dd3acc"
      },
      "source": [
        "#minmum frequency of a character and maimum character frequency in string\n",
        "\n",
        "from collections import Counter\n",
        "test_str=\"geeksforgeeks\"\n",
        "res=Counter(test_str)\n",
        "print(res)\n",
        "\n",
        "res=min (res,key=res.get)\n",
        "print(\"the minuimum frequecy is \",res)\n",
        "res=max (res,key=res.get)\n",
        "print(\"the maximum frequency is\",res1)\n",
        "\n"
      ],
      "execution_count": null,
      "outputs": [
        {
          "output_type": "stream",
          "text": [
            "Counter({'e': 4, 'g': 2, 'k': 2, 's': 2, 'f': 1, 'o': 1, 'r': 1})\n",
            "the minuimum frequecy is  f\n"
          ],
          "name": "stdout"
        },
        {
          "output_type": "error",
          "ename": "AttributeError",
          "evalue": "ignored",
          "traceback": [
            "\u001b[0;31m---------------------------------------------------------------------------\u001b[0m",
            "\u001b[0;31mAttributeError\u001b[0m                            Traceback (most recent call last)",
            "\u001b[0;32m<ipython-input-63-a8bdb45876b4>\u001b[0m in \u001b[0;36m<module>\u001b[0;34m()\u001b[0m\n\u001b[1;32m      8\u001b[0m \u001b[0mres\u001b[0m\u001b[0;34m=\u001b[0m\u001b[0mmin\u001b[0m \u001b[0;34m(\u001b[0m\u001b[0mres\u001b[0m\u001b[0;34m,\u001b[0m\u001b[0mkey\u001b[0m\u001b[0;34m=\u001b[0m\u001b[0mres\u001b[0m\u001b[0;34m.\u001b[0m\u001b[0mget\u001b[0m\u001b[0;34m)\u001b[0m\u001b[0;34m\u001b[0m\u001b[0;34m\u001b[0m\u001b[0m\n\u001b[1;32m      9\u001b[0m \u001b[0mprint\u001b[0m\u001b[0;34m(\u001b[0m\u001b[0;34m\"the minuimum frequecy is \"\u001b[0m\u001b[0;34m,\u001b[0m\u001b[0mres\u001b[0m\u001b[0;34m)\u001b[0m\u001b[0;34m\u001b[0m\u001b[0;34m\u001b[0m\u001b[0m\n\u001b[0;32m---> 10\u001b[0;31m \u001b[0mres\u001b[0m\u001b[0;34m=\u001b[0m\u001b[0mmax\u001b[0m \u001b[0;34m(\u001b[0m\u001b[0mres\u001b[0m\u001b[0;34m,\u001b[0m\u001b[0mkey\u001b[0m\u001b[0;34m=\u001b[0m\u001b[0mres\u001b[0m\u001b[0;34m.\u001b[0m\u001b[0mget\u001b[0m\u001b[0;34m)\u001b[0m\u001b[0;34m\u001b[0m\u001b[0;34m\u001b[0m\u001b[0m\n\u001b[0m\u001b[1;32m     11\u001b[0m \u001b[0mprint\u001b[0m\u001b[0;34m(\u001b[0m\u001b[0;34m\"the maximum frequency is\"\u001b[0m\u001b[0;34m,\u001b[0m\u001b[0mres1\u001b[0m\u001b[0;34m)\u001b[0m\u001b[0;34m\u001b[0m\u001b[0;34m\u001b[0m\u001b[0m\n\u001b[1;32m     12\u001b[0m \u001b[0;34m\u001b[0m\u001b[0m\n",
            "\u001b[0;31mAttributeError\u001b[0m: 'str' object has no attribute 'get'"
          ]
        }
      ]
    },
    {
      "cell_type": "code",
      "metadata": {
        "id": "60f5AXx9V8dy",
        "colab": {
          "base_uri": "https://localhost:8080/"
        },
        "outputId": "092eac80-bb49-4eab-f1df-61ae4088ab14"
      },
      "source": [
        "#to  checks string with special characters\n",
        "import re\n",
        "def run(string):\n",
        "  regex=re.compile('[~!@#$%^&*()?]')\n",
        "  if (regex.search(string)== None):\n",
        "    print(\"string is accepted\")\n",
        "  else:\n",
        "    print(\"string is not accepted\")\n",
        "if __name__ == '__main__' :\n",
        "      \n",
        "    string = \"Geeks$For$Geeks\"   \n",
        "    # calling run function \n",
        "    run(string)"
      ],
      "execution_count": null,
      "outputs": [
        {
          "output_type": "stream",
          "text": [
            "string is not accepted\n"
          ],
          "name": "stdout"
        }
      ]
    },
    {
      "cell_type": "code",
      "metadata": {
        "colab": {
          "base_uri": "https://localhost:8080/"
        },
        "id": "IfM_IMwzZ8kd",
        "outputId": "2b0695ca-eea0-4718-d7c8-1eb9d5274b1b"
      },
      "source": [
        "def find_length(k,strng1):\n",
        "  string=[]\n",
        "  text=strng1.split()\n",
        "  for i in text:\n",
        "    if len(i)>k:\n",
        "      string.append(i)\n",
        "  return string\n",
        "\n",
        "\n",
        "strng1=\"hello geeks for geeks is a computer science portal\"\n",
        "k=5\n",
        "find_length(k,strng1)"
      ],
      "execution_count": null,
      "outputs": [
        {
          "output_type": "execute_result",
          "data": {
            "text/plain": [
              "['computer', 'science', 'portal']"
            ]
          },
          "metadata": {
            "tags": []
          },
          "execution_count": 73
        }
      ]
    },
    {
      "cell_type": "code",
      "metadata": {
        "colab": {
          "base_uri": "https://localhost:8080/"
        },
        "id": "vQZk5dBFdUs6",
        "outputId": "6f653107-0d6b-4904-8a3c-22b1dd886029"
      },
      "source": [
        "\n",
        "pattern = r\"Cookie\"\n",
        "sequence = \"Cookie\"\n",
        "if re.match(pattern, sequence):\n",
        "    print(\"Match!\")\n",
        "else: print(\"Not a match!\")\n"
      ],
      "execution_count": null,
      "outputs": [
        {
          "output_type": "stream",
          "text": [
            "Match!\n"
          ],
          "name": "stdout"
        }
      ]
    },
    {
      "cell_type": "code",
      "metadata": {
        "id": "tgOt4Ky8pVFR"
      },
      "source": [
        ""
      ],
      "execution_count": null,
      "outputs": []
    },
    {
      "cell_type": "code",
      "metadata": {
        "colab": {
          "base_uri": "https://localhost:8080/"
        },
        "id": "eJPKzRvNyLTv",
        "outputId": "32cefc77-cec8-4a81-b8b5-7f03a6c4aa50"
      },
      "source": [
        "test_str = \"zero four zero one\"\n",
        "print(test_str.split())"
      ],
      "execution_count": 1,
      "outputs": [
        {
          "output_type": "stream",
          "text": [
            "['zero', 'four', 'zero', 'one']\n"
          ],
          "name": "stdout"
        }
      ]
    },
    {
      "cell_type": "code",
      "metadata": {
        "id": "PC9Ev5t9ygJq"
      },
      "source": [
        ""
      ],
      "execution_count": null,
      "outputs": []
    }
  ]
}