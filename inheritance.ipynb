{
 "cells": [
  {
   "cell_type": "code",
   "execution_count": 20,
   "id": "9c5018ad-4f8c-41f5-b10c-c92b07519181",
   "metadata": {},
   "outputs": [
    {
     "ename": "SyntaxError",
     "evalue": "invalid syntax (<ipython-input-20-a332bf7cbaa4>, line 29)",
     "output_type": "error",
     "traceback": [
      "\u001b[0;36m  File \u001b[0;32m\"<ipython-input-20-a332bf7cbaa4>\"\u001b[0;36m, line \u001b[0;32m29\u001b[0m\n\u001b[0;31m    emp=Employee()\u001b[0m\n\u001b[0m    ^\u001b[0m\n\u001b[0;31mSyntaxError\u001b[0m\u001b[0;31m:\u001b[0m invalid syntax\n"
     ]
    }
   ],
   "source": [
    "class Person:\n",
    "    PName=''\n",
    "    age=0\n",
    "    uid=''\n",
    "    def person_info(self,name,age,id):\n",
    "        self.PName=name\n",
    "        self.age=age\n",
    "        self.uid=id\n",
    "        print('personl Details',self.PName,self.age,self.uid)\n",
    "class Company:\n",
    "    cName=''\n",
    "    cType=''\n",
    "    def company_info(self,name,type):\n",
    "        self.cName=name\n",
    "        self.cType=type\n",
    "        print('compant details',self.cName,self.cType)\n",
    "class Employee(Person,Company):\n",
    "    eId=''\n",
    "    salary=0\n",
    "    def employee_info(self,id,sal):\n",
    "        self.eId=id\n",
    "        self.salary=sal\n",
    "        print('Employee Details ',self.eId,self.salary)\n",
    "    def printData(self): \n",
    "        print('personl Details',self.PName,self.age,self.uid)\n",
    "        print('compant details',self.cName,self.cType)\n",
    "        print('Employee Details ',self.eId,self.salary\n",
    "#sample code for multiple inheritance\n",
    "emp=Employee()\n",
    "emp.person_info('sarath',21,'r161724')\n",
    "emp.company_info('infosys','service based')\n",
    "emp.employee_info('001',8000000)\n",
    "emp.printData()\n",
    "\n",
    "    \n",
    "        \n",
    "              \n",
    "\n",
    "    \n",
    "        \n",
    "\n",
    "        \n",
    "    "
   ]
  },
  {
   "cell_type": "code",
   "execution_count": 29,
   "id": "8fa02b4a-f194-4f63-94ca-af093482cf72",
   "metadata": {},
   "outputs": [
    {
     "name": "stdout",
     "output_type": "stream",
     "text": [
      "sportcar_info honda verna black 4 office 100 200\n"
     ]
    }
   ],
   "source": [
    "#Multilevel inheritance\n",
    "#child classes with inheritence\n",
    "\n",
    "class vehicle:\n",
    "    speed=0\n",
    "    cat=''\n",
    "    wheels=0\n",
    "    def vehicle_info(self,speed,cat,wheels):\n",
    "        self.speed=speed\n",
    "        self.cat=cat\n",
    "        self.wheels=wheels\n",
    "class car(vehicle):\n",
    "    company=''\n",
    "    color=''\n",
    "    model=''\n",
    "    def car_info(self,company,color,model):\n",
    "        self.company=company\n",
    "        self.color=color\n",
    "        self.model=model\n",
    "class sportscar(car):\n",
    "    def sportscar_info(self,min,max):\n",
    "        self.minspeed=min\n",
    "        self.maxspeed=max\n",
    "        print('sportcar_info',self.company,self.model,self.color,self.wheels,self.cat,self.minspeed,self.maxspeed)\n",
    "sp=sportscar()\n",
    "sp.vehicle_info(200,'office',4)\n",
    "sp.car_info('honda','black','verna')\n",
    "sp.sportscar_info(100,200)\n",
    "        "
   ]
  },
  {
   "cell_type": "code",
   "execution_count": 36,
   "id": "1045fd27-c18e-46d8-a31e-ac72ab9b21e2",
   "metadata": {},
   "outputs": [
    {
     "name": "stdout",
     "output_type": "stream",
     "text": [
      "car details car speed 1000 personal cra wheels 4 lamborgini yellow lamborgini-urus\n",
      "Truck details 0  0\n"
     ]
    }
   ],
   "source": [
    "#heirarichal inheritence\n",
    "class vehicle:\n",
    "    speed=0\n",
    "    cat=''\n",
    "    wheels=0\n",
    "    def vehicle_info(self,speed,cat,wheels):\n",
    "        self.speed=speed\n",
    "        self.cat=cat\n",
    "        self.wheels=wheels\n",
    "class car(vehicle):\n",
    "    company=''\n",
    "    color=''\n",
    "    model=''\n",
    "    def car_info(self,company,color,model):\n",
    "        self.company=company\n",
    "        self.color=color\n",
    "        self.model=model\n",
    "        print('car details','car speed',self.speed,self.cat,'cra wheels',self.wheels,self.company,self.color,self.model)\n",
    "class Truck(vehicle):\n",
    "    capacity=0\n",
    "    def truck_info(self,cap):\n",
    "        self.capacity=cap\n",
    "        print('Truck details',self.speed,self.cat,self.wheels,)\n",
    "honda=car()\n",
    "honda.vehicle_info(1000,'personal',4)\n",
    "honda.car_info('lamborgini','yellow','lamborgini-urus')\n",
    "eicher=Truck()\n",
    "eicher.truck_info('1ton')\n",
    "        "
   ]
  },
  {
   "cell_type": "code",
   "execution_count": 11,
   "id": "a20b3641-703b-473a-b0e9-d1c69e1ff67a",
   "metadata": {},
   "outputs": [
    {
     "name": "stdout",
     "output_type": "stream",
     "text": [
      "vehicle speed:  80\n",
      "car spedd : 100\n",
      "sports car INfo : 180\n",
      "difference of car speed and vehcle speed -30\n",
      "car spedd : 100\n",
      "difference of car speed and vehcle speed 50\n",
      "True\n"
     ]
    }
   ],
   "source": [
    "class vehicle:\n",
    "    speed=0\n",
    "    def vehicle_info(self,sp):\n",
    "        self.speed=sp\n",
    "        print('vehicle speed: ',self.speed)\n",
    "    def getspeed(self):\n",
    "        return self.speed\n",
    "    \n",
    "class car(vehicle):\n",
    "    def car_info(self,sp):\n",
    "        self.speed=sp\n",
    "        print('car spedd :',self.speed)\n",
    "    def getspeed(self):\n",
    "        #temp=self.speed\n",
    "       # print('super speed:',temp)\n",
    "        temp=super().getspeed()\n",
    "        self.speed=150\n",
    "        diff=self.speed-temp\n",
    "        print('difference of car speed and vehcle speed',diff)\n",
    "class truck(vehicle):\n",
    "    def truck_info(self,sp):\n",
    "        self.speed=sp\n",
    "        print('truck speed ',self.speed)\n",
    "class sportscar(car,vehicle):\n",
    "    def sports_car_info(self,sp):\n",
    "        self.speed=sp\n",
    "        print('sports car INfo :',self.speed)\n",
    "sp=sportscar()\n",
    "sp.vehicle_info(80)\n",
    "sp.car_info(100)\n",
    "sp.sports_car_info(180)\n",
    "sp.getspeed()\n",
    "c1=car()\n",
    "c1.car_info(100)\n",
    "c1.getspeed()\n",
    "print(issubclass(car,vehicle))\n",
    "#is sub class check the child class is not parent class or not\n",
    "\n"
   ]
  },
  {
   "cell_type": "code",
   "execution_count": null,
   "id": "88f150c3-84af-4189-a318-412bb74cf575",
   "metadata": {},
   "outputs": [],
   "source": [
    "#issubclass\n",
    "# is a system class it check "
   ]
  },
  {
   "cell_type": "code",
   "execution_count": null,
   "id": "3a0d4cf1-a36e-435f-a207-faff10c80ed6",
   "metadata": {},
   "outputs": [],
   "source": [
    "#method overriding\n",
    "#pynative python programming"
   ]
  },
  {
   "cell_type": "code",
   "execution_count": 14,
   "id": "07e07fa8-3e0d-4a8e-aad5-29fe031f073d",
   "metadata": {},
   "outputs": [
    {
     "name": "stdout",
     "output_type": "stream",
     "text": [
      "vehicle speed:  80\n",
      "car spedd : 100\n",
      "carspeed 150\n"
     ]
    }
   ],
   "source": [
    "#method resolution order MRO in python\n",
    "class vehicle:\n",
    "    speed=0\n",
    "    def vehicle_info(self,sp):\n",
    "        self.speed=sp\n",
    "        print('vehicle speed: ',self.speed)\n",
    "    def getspeed(self):\n",
    "        self.speed=100\n",
    "        return ('vehicle speed',self.speed)\n",
    "class car():\n",
    "    def car_info(self,sp):\n",
    "        self.speed=sp\n",
    "        print('car spedd :',self.speed)\n",
    "    def getspeed(self):\n",
    "        #temp=self.speed\n",
    "       # print('super speed:',temp)\n",
    "        self.speed=150\n",
    "        print('carspeed',self.speed)\n",
    "\n",
    "class sportscar(car,vehicle):\n",
    "    def sports_car_info(self,sp):\n",
    "        self.speed=sp\n",
    "        print('sports car INfo :',self.speed)\n",
    "\n",
    "sp=sportscar()\n",
    "sp.vehicle_info(80)\n",
    "sp.car_info(100)\n",
    "sp.getspeed()\n",
    "        \n",
    "        \n",
    "              \n",
    "              "
   ]
  },
  {
   "cell_type": "code",
   "execution_count": null,
   "id": "13b9b8ac-d16e-4e3d-9453-3a6621a308e2",
   "metadata": {},
   "outputs": [],
   "source": []
  }
 ],
 "metadata": {
  "kernelspec": {
   "display_name": "Python 3",
   "language": "python",
   "name": "python3"
  },
  "language_info": {
   "codemirror_mode": {
    "name": "ipython",
    "version": 3
   },
   "file_extension": ".py",
   "mimetype": "text/x-python",
   "name": "python",
   "nbconvert_exporter": "python",
   "pygments_lexer": "ipython3",
   "version": "3.8.8"
  }
 },
 "nbformat": 4,
 "nbformat_minor": 5
}
