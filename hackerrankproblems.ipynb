{
  "nbformat": 4,
  "nbformat_minor": 0,
  "metadata": {
    "colab": {
      "name": "hackerrankproblems.ipynb",
      "provenance": [],
      "authorship_tag": "ABX9TyP6So1ITj5t4ik4684sDIIb",
      "include_colab_link": true
    },
    "kernelspec": {
      "display_name": "Python 3",
      "name": "python3"
    },
    "language_info": {
      "name": "python"
    }
  },
  "cells": [
    {
      "cell_type": "markdown",
      "metadata": {
        "id": "view-in-github",
        "colab_type": "text"
      },
      "source": [
        "<a href=\"https://colab.research.google.com/github/srikrishna-stack/python-problem-solving/blob/main/hackerrankproblems.ipynb\" target=\"_parent\"><img src=\"https://colab.research.google.com/assets/colab-badge.svg\" alt=\"Open In Colab\"/></a>"
      ]
    },
    {
      "cell_type": "code",
      "metadata": {
        "colab": {
          "base_uri": "https://localhost:8080/"
        },
        "id": "x74kPi9SH-8s",
        "outputId": "7586b919-5327-4afb-8385-af349669eae4"
      },
      "source": [
        "#factorial of a number\n",
        "def factorial (n):\n",
        "  if (n==0 or n==1):\n",
        "    return 1\n",
        "  else:\n",
        "    return n*foactorial (n-1)\n",
        "print(factorial (5))\n",
        "\n",
        "\n"
      ],
      "execution_count": null,
      "outputs": [
        {
          "output_type": "stream",
          "text": [
            "120\n"
          ],
          "name": "stdout"
        }
      ]
    },
    {
      "cell_type": "code",
      "metadata": {
        "colab": {
          "base_uri": "https://localhost:8080/"
        },
        "id": "wjey04uEJCH7",
        "outputId": "e5d5222e-f692-4eda-bea0-bd43e59c8e1a"
      },
      "source": [
        "def compound_intrest(principle,rate,time):\n",
        "  amount=principle*(pow((1 + rate / 100), time))\n",
        "  ci=amount-time\n",
        "  print(\"compound intrest is\",ci)\n",
        "compound_intrest(10000,10.25,5)\n",
        "\n",
        "\n"
      ],
      "execution_count": null,
      "outputs": [
        {
          "output_type": "stream",
          "text": [
            "compound intrest is 16283.946267774416\n"
          ],
          "name": "stdout"
        }
      ]
    },
    {
      "cell_type": "code",
      "metadata": {
        "colab": {
          "base_uri": "https://localhost:8080/"
        },
        "id": "1JOXuuEtJ545",
        "outputId": "e7577b46-b02c-4df8-e12c-2469d13eeb41"
      },
      "source": [
        "#to calculate the amstrong number or not\n",
        "num=int(input(\"enter the value\"))\n",
        "temp=num\n",
        "sum=0\n",
        "while (temp>0):\n",
        "  digit=temp % 10\n",
        "  sum+=digit**3\n",
        "  temp//=10\n",
        "if num==sum:\n",
        "  print(\"it is a amstrong number\")\n",
        "else :\n",
        "  print(\"it is not a amstrong number\")\n",
        "#amstrong of n digits\n",
        "\n"
      ],
      "execution_count": null,
      "outputs": [
        {
          "output_type": "stream",
          "text": [
            "enter the value123\n",
            "it is not a amstrong number\n",
            "this is not the amsdtong number\n"
          ],
          "name": "stdout"
        }
      ]
    },
    {
      "cell_type": "code",
      "metadata": {
        "colab": {
          "base_uri": "https://localhost:8080/"
        },
        "id": "nb9X5A60O2b-",
        "outputId": "e5cb1b3e-8d53-44e8-eaf4-a890bdd6dcb4"
      },
      "source": [
        "num1=int(input(\"enter the value\"))\n",
        "order=len(str(num1))\n",
        "sum=0\n",
        "temp=num1\n",
        "while (temp>0):\n",
        "  digit=temp%10\n",
        "  sum+=digit** order\n",
        "  temp//=10\n",
        "if(num1==sum):\n",
        "  print(\"amstrong number\")\n",
        "else:\n",
        "  print(\"this is not the amsdtong number\")\n"
      ],
      "execution_count": null,
      "outputs": [
        {
          "output_type": "stream",
          "text": [
            "enter the value1634\n",
            "amstrong number\n"
          ],
          "name": "stdout"
        }
      ]
    },
    {
      "cell_type": "code",
      "metadata": {
        "colab": {
          "base_uri": "https://localhost:8080/"
        },
        "id": "ry2_d6eGPTcZ",
        "outputId": "fdea2f0b-01b9-47e7-f535-be9566a011eb"
      },
      "source": [
        "#python program to print prime number\n",
        "start=11\n",
        "end=25\n",
        "for i in range(start,end+1):\n",
        "  for j in range(2,i):\n",
        "    if i%j==0:\n",
        "      break\n",
        "  else:\n",
        "    print(i)\n"
      ],
      "execution_count": null,
      "outputs": [
        {
          "output_type": "stream",
          "text": [
            "11\n",
            "13\n",
            "17\n",
            "19\n",
            "23\n"
          ],
          "name": "stdout"
        }
      ]
    },
    {
      "cell_type": "code",
      "metadata": {
        "colab": {
          "base_uri": "https://localhost:8080/"
        },
        "id": "K-WHDR8BRrvR",
        "outputId": "2d10e71e-3aa9-4901-b498-65bf8bab8349"
      },
      "source": [
        "p1=int(input(\"enter the number\"))\n",
        "if p1 >1:\n",
        "  for i in range(2,int(p1/2)+1):\n",
        "    if p1%i==0:\n",
        "      print(\"p1 is not a prime number\")\n",
        "      break\n",
        "  else:\n",
        "    print(p1,\"it is a prime number\")\n",
        "else:\n",
        "  print(\"it is not a prime number\")\n"
      ],
      "execution_count": null,
      "outputs": [
        {
          "output_type": "stream",
          "text": [
            "enter the number3\n",
            "3 it is a prime number\n"
          ],
          "name": "stdout"
        }
      ]
    },
    {
      "cell_type": "code",
      "metadata": {
        "colab": {
          "base_uri": "https://localhost:8080/"
        },
        "id": "1G40qPXHS8IW",
        "outputId": "7d7fe92c-dccf-465a-e9ca-4ff3eabe747c"
      },
      "source": [
        "#fibonacci serires\n",
        "def fibonaci(n):\n",
        "  a=0\n",
        "  b=1\n",
        "  if (n<0):\n",
        "    print(\"incorrect input\")\n",
        "  elif n==0:\n",
        "    return a\n",
        "  elif n==1:\n",
        "    return b\n",
        "  else:\n",
        "    for i in range(2,n):\n",
        "      i=a+b\n",
        "      a=b\n",
        "      b=i\n",
        "    return b\n",
        "\n",
        "print (fibonaci(9))"
      ],
      "execution_count": null,
      "outputs": [
        {
          "output_type": "stream",
          "text": [
            "21\n"
          ],
          "name": "stdout"
        }
      ]
    },
    {
      "cell_type": "code",
      "metadata": {
        "colab": {
          "base_uri": "https://localhost:8080/"
        },
        "id": "FF6qhMhbVbDM",
        "outputId": "293fdf10-cb96-492c-e859-593ae86c1696"
      },
      "source": [
        "c='g'\n",
        "print(\"the ASCII value of  c is \",c,ord(c))"
      ],
      "execution_count": null,
      "outputs": [
        {
          "output_type": "stream",
          "text": [
            "the ASCII value of  c is  g 103\n"
          ],
          "name": "stdout"
        }
      ]
    },
    {
      "cell_type": "code",
      "metadata": {
        "colab": {
          "base_uri": "https://localhost:8080/"
        },
        "id": "qQX96cd3eKl3",
        "outputId": "2d1f6738-06e4-4a1a-ec94-c02bfeae84a1"
      },
      "source": [
        "#sum of first natural numbers\n",
        "def squaresum(n):\n",
        "  sum=0\n",
        "  for i in range(1,n+1):\n",
        "    sum+=i*i\n",
        "  return sum\n",
        "print(squaresum(5))"
      ],
      "execution_count": null,
      "outputs": [
        {
          "output_type": "stream",
          "text": [
            "55\n"
          ],
          "name": "stdout"
        }
      ]
    },
    {
      "cell_type": "code",
      "metadata": {
        "colab": {
          "base_uri": "https://localhost:8080/"
        },
        "id": "PCxaif03fcBv",
        "outputId": "dc9abf75-d896-4352-c221-bfd18c141ce7"
      },
      "source": [
        "#program to find the sum of array\n",
        "import array as arr\n",
        "arr=arr.array('i',[1,2,3,4])\n",
        "sum=0\n",
        "for i in arr:\n",
        "  sum=sum+i\n",
        "print(sum)\n",
        "max=arr[0]\n",
        "for i in range(len(arr)):\n",
        "  arr[i]>max\n",
        "  max=arr[i]\n",
        "print(max)\n",
        "  \n",
        "\n",
        "  \n"
      ],
      "execution_count": null,
      "outputs": [
        {
          "output_type": "stream",
          "text": [
            "10\n",
            "4\n"
          ],
          "name": "stdout"
        }
      ]
    },
    {
      "cell_type": "code",
      "metadata": {
        "colab": {
          "base_uri": "https://localhost:8080/"
        },
        "id": "1OYnEk76hRSX",
        "outputId": "8596f8ae-72f4-4322-ed75-f7aa08e3703f"
      },
      "source": [
        "def rotation_array(arr,n,d):\n",
        "  temp=[]\n",
        "  i=0\n",
        "  while(i<d):\n",
        "    temp.append(arr[i])\n",
        "    i=i+1\n",
        "  i=0\n",
        "  while(d<n):\n",
        "    arr[i]=arr[d]\n",
        "    i=i+1\n",
        "    d=d+1\n",
        "  arr[:]=arr[:i]+temp\n",
        "  return arr\n",
        "arr=[1,2,3,4,5,6,7]\n",
        "print('this is the original array',arr)\n",
        "print('array after left rotation')\n",
        "print(rotation_array(arr,len(arr),2))"
      ],
      "execution_count": null,
      "outputs": [
        {
          "output_type": "stream",
          "text": [
            "this is the original array [1, 2, 3, 4, 5, 6, 7]\n",
            "array after left rotation\n",
            "[3, 4, 5, 6, 7, 1, 2]\n"
          ],
          "name": "stdout"
        }
      ]
    },
    {
      "cell_type": "code",
      "metadata": {
        "colab": {
          "base_uri": "https://localhost:8080/"
        },
        "id": "N7V9aX2-mVKc",
        "outputId": "fac23163-8542-4b2a-8d18-95abe28ad12e"
      },
      "source": [
        "def findremainder(arr, lens, n):\n",
        "    mul = 1\n",
        " \n",
        "    # find the individual\n",
        "    # remainder and\n",
        "    # multiple with mul.\n",
        "    for i in arr:\n",
        "        mul = mul *i\n",
        " \n",
        "    return mul % n\n",
        " \n",
        " \n",
        "# Driven code\n",
        "arr = [100, 10, 5, 25, 35, 14]\n",
        "lens = len(arr)\n",
        "n = 11\n",
        "print(findremainder(arr, lens, n))"
      ],
      "execution_count": null,
      "outputs": [
        {
          "output_type": "stream",
          "text": [
            "9\n"
          ],
          "name": "stdout"
        }
      ]
    },
    {
      "cell_type": "code",
      "metadata": {
        "colab": {
          "base_uri": "https://localhost:8080/"
        },
        "id": "cFrf-dkaqs7t",
        "outputId": "93d718e5-47f6-4c6b-8b06-3297101b94eb"
      },
      "source": [
        "def isMonotonic(A):\n",
        "  \n",
        "    return (all(A[i] <= A[i + 1] for i in range(len(A) - 1)) or\n",
        "            all(A[i] >= A[i + 1] for i in range(len(A) - 1)))\n",
        "A = [6, 5, 4, 4]\n",
        "print(isMonotonic(A))"
      ],
      "execution_count": null,
      "outputs": [
        {
          "output_type": "stream",
          "text": [
            "True\n"
          ],
          "name": "stdout"
        }
      ]
    },
    {
      "cell_type": "code",
      "metadata": {
        "colab": {
          "base_uri": "https://localhost:8080/"
        },
        "id": "NP5jY18PsQvl",
        "outputId": "17683579-bff7-4e9c-dddc-429f27b427cd"
      },
      "source": [
        "#swaping the elements in the list\n",
        "def swap_element(list1):\n",
        "  n= len(list1)\n",
        "  temp=list1[0]\n",
        "  list1[0]=list1[n-1]\n",
        "  list1[n-1]=temp\n",
        "  return list1\n",
        "  \n",
        "list1=[1,2,3,4,5,6]\n",
        "print(\"list before swapping\",list1)\n",
        "print(swap_element(list1))"
      ],
      "execution_count": null,
      "outputs": [
        {
          "output_type": "stream",
          "text": [
            "list before swapping [1, 2, 3, 4, 5, 6]\n",
            "[6, 2, 3, 4, 5, 1]\n"
          ],
          "name": "stdout"
        }
      ]
    },
    {
      "cell_type": "code",
      "metadata": {
        "colab": {
          "base_uri": "https://localhost:8080/"
        },
        "id": "18ZbfAI40sWu",
        "outputId": "d367b6b6-934e-4e41-9cd4-8b37c73731ba"
      },
      "source": [
        "list1=[2,3,1,4,5,6]\n",
        "list1.sort()\n",
        "print(list1[:1])"
      ],
      "execution_count": null,
      "outputs": [
        {
          "output_type": "stream",
          "text": [
            "[1]\n"
          ],
          "name": "stdout"
        }
      ]
    },
    {
      "cell_type": "code",
      "metadata": {
        "colab": {
          "base_uri": "https://localhost:8080/"
        },
        "id": "LEBOEL7KffJV",
        "outputId": "f841c782-21fa-4ab7-cbc5-ddd129de6bef"
      },
      "source": [
        "import sys\n",
        "a=int(input())\n",
        "b=int(input())\n",
        "print(a//b)\n",
        "print(a/b)\n",
        "\n",
        "\n"
      ],
      "execution_count": null,
      "outputs": [
        {
          "output_type": "stream",
          "text": [
            "4\n",
            "3\n",
            "1\n",
            "1.3333333333333333\n"
          ],
          "name": "stdout"
        }
      ]
    },
    {
      "cell_type": "code",
      "metadata": {
        "colab": {
          "base_uri": "https://localhost:8080/"
        },
        "id": "JKi4UPtWffEl",
        "outputId": "6d64c699-e892-4090-80bc-a5679916c7e2"
      },
      "source": [
        "#TO print leap year\n",
        "def is_leap(year):\n",
        "    leap = False\n",
        "    if (year==2100):\n",
        "      return leap\n",
        "    if (year%4==0):\n",
        "        return True\n",
        "    if (year%400==0):\n",
        "        return True\n",
        "    \n",
        "    else:\n",
        "        return leap\n",
        "year = int(input())\n",
        "print(is_leap(year))"
      ],
      "execution_count": null,
      "outputs": [
        {
          "output_type": "stream",
          "text": [
            "2100\n",
            "False\n"
          ],
          "name": "stdout"
        }
      ]
    },
    {
      "cell_type": "code",
      "metadata": {
        "colab": {
          "base_uri": "https://localhost:8080/"
        },
        "id": "rmaHvxWTffBV",
        "outputId": "89e9195f-b5c6-4d52-c833-c75c913fca29"
      },
      "source": [
        "n=int(input())\n",
        "for i in range(n):\n",
        "  print(i+1,end=\"\")"
      ],
      "execution_count": null,
      "outputs": [
        {
          "output_type": "stream",
          "text": [
            "3\n",
            "123"
          ],
          "name": "stdout"
        }
      ]
    },
    {
      "cell_type": "code",
      "metadata": {
        "colab": {
          "base_uri": "https://localhost:8080/"
        },
        "id": "1HDZxC1bfe9-",
        "outputId": "a894d44e-85ac-4dba-f93d-9494785403ac"
      },
      "source": [
        "    class EvenStream(object):\n",
        "        def __init__(self):\n",
        "            self.current = 0\n",
        "\n",
        "        def get_next(self):\n",
        "            to_return = self.current\n",
        "            self.current += 2\n",
        "            return to_return\n",
        "\n",
        "    class OddStream(object):\n",
        "        def __init__(self):\n",
        "            self.current = 1\n",
        "\n",
        "        def get_next(self):\n",
        "            to_return = self.current\n",
        "            self.current += 2\n",
        "            return to_return\n",
        "\n",
        "    def print_from_stream(n, stream=None):\n",
        "        stream = OddStream() if stream else EvenStream()\n",
        "        for _ in range(n):\n",
        "            print(stream.get_next())\n",
        "\n",
        "\n",
        "    queries = int(input())\n",
        "    for _ in range(queries):\n",
        "        stream_name, n = input().split()\n",
        "        n = int(n)\n",
        "        if stream_name == \"even\":\n",
        "            print_from_stream(n)\n",
        "        else:\n",
        "            print_from_stream(n, OddStream())\n"
      ],
      "execution_count": null,
      "outputs": [
        {
          "output_type": "stream",
          "text": [
            "3\n",
            "even 3\n",
            "0\n",
            "2\n",
            "4\n",
            "odd 2\n",
            "1\n",
            "3\n",
            "odd 5\n",
            "1\n",
            "3\n",
            "5\n",
            "7\n",
            "9\n"
          ],
          "name": "stdout"
        }
      ]
    },
    {
      "cell_type": "code",
      "metadata": {
        "colab": {
          "base_uri": "https://localhost:8080/"
        },
        "id": "Ki4a7yCpfe6U",
        "outputId": "7b6405f2-fac5-4fd3-80ea-2abde9fa51ea"
      },
      "source": [
        "def lexnumbers(n):\n",
        "  s=[]\n",
        "  for i in range(1,n+1):\n",
        "    s.append(str(i))\n",
        "  s.sort()\n",
        "  ans=[]\n",
        "  for i in range(n):\n",
        "    ans.append(int(s[i]))\n",
        "  for i in range(n):\n",
        "    print(ans[i],end=\" \")\n",
        "  \n",
        "if __name__==\"__main__\":\n",
        "  n=15\n",
        "  lexnumbers(n)"
      ],
      "execution_count": null,
      "outputs": [
        {
          "output_type": "stream",
          "text": [
            "1 10 11 12 13 14 15 2 3 4 5 6 7 8 9 "
          ],
          "name": "stdout"
        }
      ]
    },
    {
      "cell_type": "code",
      "metadata": {
        "colab": {
          "base_uri": "https://localhost:8080/"
        },
        "id": "qSNKPS8Xfe3I",
        "outputId": "7d7d6872-2368-4185-b1ae-6d774dd26bb7"
      },
      "source": [
        "if __name__==\"__main__\":\n",
        "  x=int(input())\n",
        "  y=int(input())\n",
        "  z=int(input())\n",
        "  n=int(input())\n",
        "  output=[]\n",
        "  abc=[]\n",
        "  for x in range(x+1):\n",
        "    for y in range(y+1):\n",
        "      for z in range(z+1):\n",
        "        if x+y+z!=n:\n",
        "          abc=[x,y,z]\n",
        "          output.append(abc)\n",
        "print(output)"
      ],
      "execution_count": null,
      "outputs": [
        {
          "output_type": "stream",
          "text": [
            "1\n",
            "1\n",
            "1\n",
            "2\n",
            "[[0, 0, 0], [0, 0, 1], [0, 1, 0], [1, 0, 0], [1, 1, 1]]\n"
          ],
          "name": "stdout"
        }
      ]
    },
    {
      "cell_type": "code",
      "metadata": {
        "colab": {
          "base_uri": "https://localhost:8080/"
        },
        "id": "5-UgZhOP4pxv",
        "outputId": "33371a33-7932-42da-f20b-c4ca7cdfc8d8"
      },
      "source": [
        "input_string=(input())\n",
        "print('Hello, World')\n",
        "print(input_string)"
      ],
      "execution_count": null,
      "outputs": [
        {
          "output_type": "stream",
          "text": [
            "Welcome to 30 Days of Code!\n",
            "Hello, World\n",
            "Welcome to 30 Days of Code!\n"
          ],
          "name": "stdout"
        }
      ]
    },
    {
      "cell_type": "code",
      "metadata": {
        "colab": {
          "base_uri": "https://localhost:8080/"
        },
        "id": "g6RiTNuXHTrQ",
        "outputId": "16d30908-1d33-4226-813a-0ac348a91aad"
      },
      "source": [
        "n=int(input())\n",
        "ans=map(int,input().split())\n",
        "print (sorted(list(set(ans)))[-2])"
      ],
      "execution_count": null,
      "outputs": [
        {
          "output_type": "stream",
          "text": [
            "5\n",
            "2 3 6 6 5\n",
            "5\n"
          ],
          "name": "stdout"
        }
      ]
    },
    {
      "cell_type": "code",
      "metadata": {
        "colab": {
          "base_uri": "https://localhost:8080/",
          "height": 133
        },
        "id": "E-ak0HQRfxsX",
        "outputId": "3e54222c-28a1-4f62-b3a3-47661b086c55"
      },
      "source": [
        "score_list=[]\n",
        "for _ in range(int(input())):\n",
        "  name=input()\n",
        "  score=float(input())\n",
        "  score_list.append([name,score])\n",
        "second_highest=sorted(set[score for name,score in score_list]))[1]\n",
        "print('\\n'.join(sorted([name for name,score in score_list if score==second_highest])))\n"
      ],
      "execution_count": null,
      "outputs": [
        {
          "output_type": "error",
          "ename": "SyntaxError",
          "evalue": "ignored",
          "traceback": [
            "\u001b[0;36m  File \u001b[0;32m\"<ipython-input-20-146771645ad9>\"\u001b[0;36m, line \u001b[0;32m6\u001b[0m\n\u001b[0;31m    second_highest=sorted(set[score for name,score in score_list]))[1]\u001b[0m\n\u001b[0m                                      ^\u001b[0m\n\u001b[0;31mSyntaxError\u001b[0m\u001b[0;31m:\u001b[0m invalid syntax\n"
          ]
        }
      ]
    },
    {
      "cell_type": "code",
      "metadata": {
        "colab": {
          "base_uri": "https://localhost:8080/",
          "height": 133
        },
        "id": "uYU3A9HWfxnz",
        "outputId": "d42ab381-2d62-458c-c16e-f66284ef17f6"
      },
      "source": [
        "harry bina teena ankit harsh\n",
        "37.2137.2137.24139"
      ],
      "execution_count": null,
      "outputs": [
        {
          "output_type": "error",
          "ename": "SyntaxError",
          "evalue": "ignored",
          "traceback": [
            "\u001b[0;36m  File \u001b[0;32m\"<ipython-input-23-77a2d488a308>\"\u001b[0;36m, line \u001b[0;32m1\u001b[0m\n\u001b[0;31m    harry bina teena ankit harsh\u001b[0m\n\u001b[0m             ^\u001b[0m\n\u001b[0;31mSyntaxError\u001b[0m\u001b[0;31m:\u001b[0m invalid syntax\n"
          ]
        }
      ]
    },
    {
      "cell_type": "code",
      "metadata": {
        "colab": {
          "base_uri": "https://localhost:8080/",
          "height": 254
        },
        "id": "z8o6STOefxkE",
        "outputId": "5e976554-6be2-4d8c-c834-ccefae5e9a27"
      },
      "source": [
        "score_list = []\n",
        "for _ in range(int(input())):\n",
        "    name = input()\n",
        "    score = float(input())\n",
        "    score_list.append([name, score])\n",
        "second_highest = sorted(set([score for name, score in score_list]))[1]\n",
        "print('\\n'.join(sorted([name for name, score in score_list if score == second_highest])))\n"
      ],
      "execution_count": null,
      "outputs": [
        {
          "output_type": "stream",
          "text": [
            "3]]3[\n"
          ],
          "name": "stdout"
        },
        {
          "output_type": "error",
          "ename": "ValueError",
          "evalue": "ignored",
          "traceback": [
            "\u001b[0;31m---------------------------------------------------------------------------\u001b[0m",
            "\u001b[0;31mValueError\u001b[0m                                Traceback (most recent call last)",
            "\u001b[0;32m<ipython-input-25-853c68691c8d>\u001b[0m in \u001b[0;36m<module>\u001b[0;34m()\u001b[0m\n\u001b[1;32m      1\u001b[0m \u001b[0mscore_list\u001b[0m \u001b[0;34m=\u001b[0m \u001b[0;34m[\u001b[0m\u001b[0;34m]\u001b[0m\u001b[0;34m;\u001b[0m \u001b[0;31m# do not forget to declare a list\u001b[0m\u001b[0;34m\u001b[0m\u001b[0;34m\u001b[0m\u001b[0m\n\u001b[0;32m----> 2\u001b[0;31m \u001b[0;32mfor\u001b[0m \u001b[0m_\u001b[0m \u001b[0;32min\u001b[0m \u001b[0mrange\u001b[0m\u001b[0;34m(\u001b[0m\u001b[0mint\u001b[0m\u001b[0;34m(\u001b[0m\u001b[0minput\u001b[0m\u001b[0;34m(\u001b[0m\u001b[0;34m)\u001b[0m\u001b[0;34m)\u001b[0m\u001b[0;34m)\u001b[0m\u001b[0;34m:\u001b[0m\u001b[0;34m\u001b[0m\u001b[0;34m\u001b[0m\u001b[0m\n\u001b[0m\u001b[1;32m      3\u001b[0m     \u001b[0mname\u001b[0m \u001b[0;34m=\u001b[0m \u001b[0minput\u001b[0m\u001b[0;34m(\u001b[0m\u001b[0;34m)\u001b[0m\u001b[0;34m\u001b[0m\u001b[0;34m\u001b[0m\u001b[0m\n\u001b[1;32m      4\u001b[0m     \u001b[0mscore\u001b[0m \u001b[0;34m=\u001b[0m \u001b[0mfloat\u001b[0m\u001b[0;34m(\u001b[0m\u001b[0minput\u001b[0m\u001b[0;34m(\u001b[0m\u001b[0;34m)\u001b[0m\u001b[0;34m)\u001b[0m\u001b[0;34m\u001b[0m\u001b[0;34m\u001b[0m\u001b[0m\n\u001b[1;32m      5\u001b[0m \u001b[0;34m\u001b[0m\u001b[0m\n",
            "\u001b[0;31mValueError\u001b[0m: invalid literal for int() with base 10: '3]]3['"
          ]
        }
      ]
    },
    {
      "cell_type": "code",
      "metadata": {
        "colab": {
          "base_uri": "https://localhost:8080/",
          "height": 272
        },
        "id": "vXSxsMAlfxf1",
        "outputId": "09fa43c1-a861-4f1a-9e6b-f750cbc7b0c8"
      },
      "source": [
        "#list problem\n",
        "T = int(input().strip())\n",
        "\n",
        "L = []\n",
        "for t in range(T):\n",
        "    args = input().strip().split(\" \")\n",
        "    if args[0] == \"append\":\n",
        "        L.append(int(args[1]))\n",
        "    elif args[0] == \"insert\":\n",
        "        L.insert(int(args[1]), int(args[2]))\n",
        "    elif args[0] == \"remove\":\n",
        "        L.remove(int(args[1]))\n",
        "    elif args[0] == \"pop\":\n",
        "        L.pop()\n",
        "    elif args[0] == \"sort\":\n",
        "        L.sort()\n",
        "    elif args[0] == \"reverse\":\n",
        "        L.reverse()\n",
        "    elif args[0] == \"print\":\n",
        "        print(L)\n"
      ],
      "execution_count": null,
      "outputs": [
        {
          "output_type": "stream",
          "text": [
            "12\n",
            "append\n"
          ],
          "name": "stdout"
        },
        {
          "output_type": "error",
          "ename": "IndexError",
          "evalue": "ignored",
          "traceback": [
            "\u001b[0;31m---------------------------------------------------------------------------\u001b[0m",
            "\u001b[0;31mIndexError\u001b[0m                                Traceback (most recent call last)",
            "\u001b[0;32m<ipython-input-2-1b09f7510e4a>\u001b[0m in \u001b[0;36m<module>\u001b[0;34m()\u001b[0m\n\u001b[1;32m      6\u001b[0m     \u001b[0margs\u001b[0m \u001b[0;34m=\u001b[0m \u001b[0minput\u001b[0m\u001b[0;34m(\u001b[0m\u001b[0;34m)\u001b[0m\u001b[0;34m.\u001b[0m\u001b[0mstrip\u001b[0m\u001b[0;34m(\u001b[0m\u001b[0;34m)\u001b[0m\u001b[0;34m.\u001b[0m\u001b[0msplit\u001b[0m\u001b[0;34m(\u001b[0m\u001b[0;34m\" \"\u001b[0m\u001b[0;34m)\u001b[0m\u001b[0;34m\u001b[0m\u001b[0;34m\u001b[0m\u001b[0m\n\u001b[1;32m      7\u001b[0m     \u001b[0;32mif\u001b[0m \u001b[0margs\u001b[0m\u001b[0;34m[\u001b[0m\u001b[0;36m0\u001b[0m\u001b[0;34m]\u001b[0m \u001b[0;34m==\u001b[0m \u001b[0;34m\"append\"\u001b[0m\u001b[0;34m:\u001b[0m\u001b[0;34m\u001b[0m\u001b[0;34m\u001b[0m\u001b[0m\n\u001b[0;32m----> 8\u001b[0;31m         \u001b[0mL\u001b[0m\u001b[0;34m.\u001b[0m\u001b[0mappend\u001b[0m\u001b[0;34m(\u001b[0m\u001b[0mint\u001b[0m\u001b[0;34m(\u001b[0m\u001b[0margs\u001b[0m\u001b[0;34m[\u001b[0m\u001b[0;36m1\u001b[0m\u001b[0;34m]\u001b[0m\u001b[0;34m)\u001b[0m\u001b[0;34m)\u001b[0m\u001b[0;34m\u001b[0m\u001b[0;34m\u001b[0m\u001b[0m\n\u001b[0m\u001b[1;32m      9\u001b[0m     \u001b[0;32melif\u001b[0m \u001b[0margs\u001b[0m\u001b[0;34m[\u001b[0m\u001b[0;36m0\u001b[0m\u001b[0;34m]\u001b[0m \u001b[0;34m==\u001b[0m \u001b[0;34m\"insert\"\u001b[0m\u001b[0;34m:\u001b[0m\u001b[0;34m\u001b[0m\u001b[0;34m\u001b[0m\u001b[0m\n\u001b[1;32m     10\u001b[0m         \u001b[0mL\u001b[0m\u001b[0;34m.\u001b[0m\u001b[0minsert\u001b[0m\u001b[0;34m(\u001b[0m\u001b[0mint\u001b[0m\u001b[0;34m(\u001b[0m\u001b[0margs\u001b[0m\u001b[0;34m[\u001b[0m\u001b[0;36m1\u001b[0m\u001b[0;34m]\u001b[0m\u001b[0;34m)\u001b[0m\u001b[0;34m,\u001b[0m \u001b[0mint\u001b[0m\u001b[0;34m(\u001b[0m\u001b[0margs\u001b[0m\u001b[0;34m[\u001b[0m\u001b[0;36m2\u001b[0m\u001b[0;34m]\u001b[0m\u001b[0;34m)\u001b[0m\u001b[0;34m)\u001b[0m\u001b[0;34m\u001b[0m\u001b[0;34m\u001b[0m\u001b[0m\n",
            "\u001b[0;31mIndexError\u001b[0m: list index out of range"
          ]
        }
      ]
    },
    {
      "cell_type": "code",
      "metadata": {
        "colab": {
          "base_uri": "https://localhost:8080/"
        },
        "id": "i6Jdpw8kfxbd",
        "outputId": "7e8c6006-1e4c-4c09-eb26-86df84ad9378"
      },
      "source": [
        "#hash functon in tuple\n",
        "if __name__ == '__main__':\n",
        "    n = int(input())\n",
        "    integer_list = map(int, input().split())\n",
        "    tuple_list=tuple(integer_list)\n",
        "    print(hash(tuple_list))"
      ],
      "execution_count": null,
      "outputs": [
        {
          "output_type": "stream",
          "text": [
            "2\n",
            "12\n",
            "3430014387543\n"
          ],
          "name": "stdout"
        }
      ]
    },
    {
      "cell_type": "code",
      "metadata": {
        "colab": {
          "base_uri": "https://localhost:8080/"
        },
        "id": "8ep7vVrnfxW5",
        "outputId": "816040fa-fd9b-4e9d-bd50-4bd4f05bdd23"
      },
      "source": [
        "#textwrap function\n",
        "import textwrap\n",
        "def text_wrap(string,max_width):\n",
        "  return textwrap.fill(string,max_width)\n",
        "if __name__==\"__main__\":\n",
        "  string=input()\n",
        "  max_width=int(input())\n",
        "  result=text_wrap(string,max_width)\n",
        "  print(result)\n"
      ],
      "execution_count": null,
      "outputs": [
        {
          "output_type": "stream",
          "text": [
            "abcdefghijklmnopqrstuvwxyz\n",
            "4\n",
            "abcd\n",
            "efgh\n",
            "ijkl\n",
            "mnop\n",
            "qrst\n",
            "uvwx\n",
            "yz\n"
          ],
          "name": "stdout"
        }
      ]
    },
    {
      "cell_type": "code",
      "metadata": {
        "colab": {
          "base_uri": "https://localhost:8080/",
          "height": 272
        },
        "id": "w-g7ldVqSmCw",
        "outputId": "0283351c-8558-495e-fcae-f87b562aa56b"
      },
      "source": [
        "import textwrap\n",
        "def text_wrap(string,max_width):\n",
        "  return textwrap.fill(string,max_width)\n",
        "if __name__==\"__main__\":\n",
        "  string,max_width=input(),int(input())\n",
        "  result=text_wrap(string,max_width)\n",
        "  print(result)\n"
      ],
      "execution_count": null,
      "outputs": [
        {
          "output_type": "stream",
          "text": [
            "abcdefghjklmnopqrstuvwxyz 4\n",
            "\n"
          ],
          "name": "stdout"
        },
        {
          "output_type": "error",
          "ename": "ValueError",
          "evalue": "ignored",
          "traceback": [
            "\u001b[0;31m---------------------------------------------------------------------------\u001b[0m",
            "\u001b[0;31mValueError\u001b[0m                                Traceback (most recent call last)",
            "\u001b[0;32m<ipython-input-8-92cc2575efe0>\u001b[0m in \u001b[0;36m<module>\u001b[0;34m()\u001b[0m\n\u001b[1;32m      3\u001b[0m   \u001b[0;32mreturn\u001b[0m \u001b[0mtextwrap\u001b[0m\u001b[0;34m.\u001b[0m\u001b[0mfill\u001b[0m\u001b[0;34m(\u001b[0m\u001b[0mstring\u001b[0m\u001b[0;34m,\u001b[0m\u001b[0mmax_width\u001b[0m\u001b[0;34m)\u001b[0m\u001b[0;34m\u001b[0m\u001b[0;34m\u001b[0m\u001b[0m\n\u001b[1;32m      4\u001b[0m \u001b[0;32mif\u001b[0m \u001b[0m__name__\u001b[0m\u001b[0;34m==\u001b[0m\u001b[0;34m\"__main__\"\u001b[0m\u001b[0;34m:\u001b[0m\u001b[0;34m\u001b[0m\u001b[0;34m\u001b[0m\u001b[0m\n\u001b[0;32m----> 5\u001b[0;31m   \u001b[0mstring\u001b[0m\u001b[0;34m,\u001b[0m\u001b[0mmax_width\u001b[0m\u001b[0;34m=\u001b[0m\u001b[0minput\u001b[0m\u001b[0;34m(\u001b[0m\u001b[0;34m)\u001b[0m\u001b[0;34m,\u001b[0m\u001b[0mint\u001b[0m\u001b[0;34m(\u001b[0m\u001b[0minput\u001b[0m\u001b[0;34m(\u001b[0m\u001b[0;34m)\u001b[0m\u001b[0;34m)\u001b[0m\u001b[0;34m\u001b[0m\u001b[0;34m\u001b[0m\u001b[0m\n\u001b[0m\u001b[1;32m      6\u001b[0m   \u001b[0mresult\u001b[0m\u001b[0;34m=\u001b[0m\u001b[0mtext_wrap\u001b[0m\u001b[0;34m(\u001b[0m\u001b[0mstring\u001b[0m\u001b[0;34m,\u001b[0m\u001b[0mmax_width\u001b[0m\u001b[0;34m)\u001b[0m\u001b[0;34m\u001b[0m\u001b[0;34m\u001b[0m\u001b[0m\n\u001b[1;32m      7\u001b[0m   \u001b[0mprint\u001b[0m\u001b[0;34m(\u001b[0m\u001b[0mresult\u001b[0m\u001b[0;34m)\u001b[0m\u001b[0;34m\u001b[0m\u001b[0;34m\u001b[0m\u001b[0m\n",
            "\u001b[0;31mValueError\u001b[0m: invalid literal for int() with base 10: ''"
          ]
        }
      ]
    },
    {
      "cell_type": "code",
      "metadata": {
        "colab": {
          "base_uri": "https://localhost:8080/",
          "height": 289
        },
        "id": "LNdCYFbUSl6w",
        "outputId": "cede44f4-d9c8-4155-80a9-771e7855fb81"
      },
      "source": [
        "N=int(input())\n",
        "M=int(input())\n",
        "for i in range(1,N,2):\n",
        "  print('*'*i).center(M,'-')\n",
        "print('welcome').center(M,'-')\n",
        "for i in range(N-2,-1,-2):\n",
        "  print('*'*i).center(M,'-')\n"
      ],
      "execution_count": null,
      "outputs": [
        {
          "output_type": "stream",
          "text": [
            "9\n",
            "34\n",
            "*\n"
          ],
          "name": "stdout"
        },
        {
          "output_type": "error",
          "ename": "AttributeError",
          "evalue": "ignored",
          "traceback": [
            "\u001b[0;31m---------------------------------------------------------------------------\u001b[0m",
            "\u001b[0;31mAttributeError\u001b[0m                            Traceback (most recent call last)",
            "\u001b[0;32m<ipython-input-21-359407b96696>\u001b[0m in \u001b[0;36m<module>\u001b[0;34m()\u001b[0m\n\u001b[1;32m      2\u001b[0m \u001b[0mM\u001b[0m\u001b[0;34m=\u001b[0m\u001b[0mint\u001b[0m\u001b[0;34m(\u001b[0m\u001b[0minput\u001b[0m\u001b[0;34m(\u001b[0m\u001b[0;34m)\u001b[0m\u001b[0;34m)\u001b[0m\u001b[0;34m\u001b[0m\u001b[0;34m\u001b[0m\u001b[0m\n\u001b[1;32m      3\u001b[0m \u001b[0;32mfor\u001b[0m \u001b[0mi\u001b[0m \u001b[0;32min\u001b[0m \u001b[0mrange\u001b[0m\u001b[0;34m(\u001b[0m\u001b[0;36m1\u001b[0m\u001b[0;34m,\u001b[0m\u001b[0mN\u001b[0m\u001b[0;34m,\u001b[0m\u001b[0;36m2\u001b[0m\u001b[0;34m)\u001b[0m\u001b[0;34m:\u001b[0m\u001b[0;34m\u001b[0m\u001b[0;34m\u001b[0m\u001b[0m\n\u001b[0;32m----> 4\u001b[0;31m   \u001b[0mprint\u001b[0m\u001b[0;34m(\u001b[0m\u001b[0;34m'*'\u001b[0m\u001b[0;34m*\u001b[0m\u001b[0mi\u001b[0m\u001b[0;34m)\u001b[0m\u001b[0;34m.\u001b[0m\u001b[0mcenter\u001b[0m\u001b[0;34m(\u001b[0m\u001b[0mM\u001b[0m\u001b[0;34m,\u001b[0m\u001b[0;34m'-'\u001b[0m\u001b[0;34m)\u001b[0m\u001b[0;34m\u001b[0m\u001b[0;34m\u001b[0m\u001b[0m\n\u001b[0m\u001b[1;32m      5\u001b[0m \u001b[0mprint\u001b[0m\u001b[0;34m(\u001b[0m\u001b[0;34m'welcome'\u001b[0m\u001b[0;34m)\u001b[0m\u001b[0;34m.\u001b[0m\u001b[0mcenter\u001b[0m\u001b[0;34m(\u001b[0m\u001b[0mM\u001b[0m\u001b[0;34m,\u001b[0m\u001b[0;34m'-'\u001b[0m\u001b[0;34m)\u001b[0m\u001b[0;34m\u001b[0m\u001b[0;34m\u001b[0m\u001b[0m\n\u001b[1;32m      6\u001b[0m \u001b[0;32mfor\u001b[0m \u001b[0mi\u001b[0m \u001b[0;32min\u001b[0m \u001b[0mrange\u001b[0m\u001b[0;34m(\u001b[0m\u001b[0mN\u001b[0m\u001b[0;34m-\u001b[0m\u001b[0;36m2\u001b[0m\u001b[0;34m,\u001b[0m\u001b[0;34m-\u001b[0m\u001b[0;36m1\u001b[0m\u001b[0;34m,\u001b[0m\u001b[0;34m-\u001b[0m\u001b[0;36m2\u001b[0m\u001b[0;34m)\u001b[0m\u001b[0;34m:\u001b[0m\u001b[0;34m\u001b[0m\u001b[0;34m\u001b[0m\u001b[0m\n",
            "\u001b[0;31mAttributeError\u001b[0m: 'NoneType' object has no attribute 'center'"
          ]
        }
      ]
    },
    {
      "cell_type": "code",
      "metadata": {
        "id": "bV55aOhSSl3s"
      },
      "source": [
        "'''Mr. Vincent works in a door mat manufacturing company. One day, he designed a new door mat with the following specifications:\n",
        "\n",
        "   # Mat size must be \n",
        "\n",
        "X. ( is an odd natural number, and is times\n",
        ".)\n",
        "The design should have 'WELCOME' written in the center.\n",
        "The design pattern should only use |, . and - characters.'''\n",
        "N,M=map(int,input())\n",
        "for i in range(1,N,2):\n",
        "  print('.|.'*i).center(M,'-')\n",
        "print('welcome').center(M,'-')\n",
        "for i in range(N-1,-1,-2):\n",
        "  \n"
      ],
      "execution_count": null,
      "outputs": []
    },
    {
      "cell_type": "code",
      "metadata": {
        "colab": {
          "base_uri": "https://localhost:8080/",
          "height": 133
        },
        "id": "GqtkPP2FSl0t",
        "outputId": "283e3ce0-682a-4545-fbf2-516ed7cd5682"
      },
      "source": [
        "#swap case\n",
        "def swap_case(s):\n",
        "  return s.swapcase()\n",
        " ''' output=''\n",
        "  for char in s:\n",
        "    if (char.isupper==True):\n",
        "      output+=(char.lower())\n",
        "    elif (char.islower==True):\n",
        "      output+=(char.upper())\n",
        "    else:\n",
        "      output+=char\n",
        "  return output'''\n",
        "  \n",
        "if __name__==\"__main__\":\n",
        "  s=input()\n",
        "  result=swap_case(s)\n",
        "  print(result)\n"
      ],
      "execution_count": null,
      "outputs": [
        {
          "output_type": "error",
          "ename": "IndentationError",
          "evalue": "ignored",
          "traceback": [
            "\u001b[0;36m  File \u001b[0;32m\"<ipython-input-8-33f75878ad2d>\"\u001b[0;36m, line \u001b[0;32m4\u001b[0m\n\u001b[0;31m    ''' output=''\u001b[0m\n\u001b[0m                 ^\u001b[0m\n\u001b[0;31mIndentationError\u001b[0m\u001b[0;31m:\u001b[0m unindent does not match any outer indentation level\n"
          ]
        }
      ]
    },
    {
      "cell_type": "code",
      "metadata": {
        "colab": {
          "base_uri": "https://localhost:8080/"
        },
        "id": "zmtThx7gSlxa",
        "outputId": "08d31342-076f-4d0d-b813-56a03d9b9641"
      },
      "source": [
        "def split_and_join(line):\n",
        "    line=line.split()\n",
        "    return \"-\".join(line)\n",
        "    \n",
        "if __name__ == '__main__':\n",
        "    line = input()\n",
        "    result = split_and_join(line)\n",
        "    print (result)\n"
      ],
      "execution_count": null,
      "outputs": [
        {
          "output_type": "stream",
          "text": [
            "this is a string\n",
            "this-is-a-string\n"
          ],
          "name": "stdout"
        }
      ]
    },
    {
      "cell_type": "code",
      "metadata": {
        "id": "wvLOQMEXPMRa"
      },
      "source": [
        ""
      ],
      "execution_count": null,
      "outputs": []
    },
    {
      "cell_type": "code",
      "metadata": {
        "colab": {
          "base_uri": "https://localhost:8080/"
        },
        "id": "5Gv-nhJwMi7d",
        "outputId": "eada496b-89df-4333-9bcb-96695f2ff66c"
      },
      "source": [
        "def print_full_name(first, last):\n",
        "    # Write your code here\n",
        "    print('Hello'+' '+first_name+last_name+ ' '+'!' +'You just delved into python',end=\"\")\n",
        "\n",
        "if __name__ == '__main__':\n",
        "    first_name = input()\n",
        "    last_name = input()\n",
        "    print_full_name(first_name, last_name)"
      ],
      "execution_count": null,
      "outputs": [
        {
          "output_type": "stream",
          "text": [
            "Ross\n",
            "Taylor'\n",
            "Hello RossTaylor' !You just delved into python"
          ],
          "name": "stdout"
        }
      ]
    },
    {
      "cell_type": "code",
      "metadata": {
        "id": "9H7po3OdPAOn"
      },
      "source": [
        "#mutation\n",
        "def mutate_string(string, position, character):\n",
        "    l=list(string)\n",
        "    l[position]=character\n",
        "    string=''.join(l)\n",
        "    return string\n",
        "   \n",
        "\n",
        "if __name__ == '__main__':\n",
        "    s = input()\n",
        "    i, c = input().split()\n",
        "    s_new = mutate_string(s, int(i), c)\n",
        "    print(s_new)"
      ],
      "execution_count": null,
      "outputs": []
    },
    {
      "cell_type": "code",
      "metadata": {
        "colab": {
          "base_uri": "https://localhost:8080/",
          "height": 133
        },
        "id": "A5p5_1ytBbfQ",
        "outputId": "88be300f-c76a-4787-af18-39712d7a0b26"
      },
      "source": [
        ""
      ],
      "execution_count": null,
      "outputs": [
        {
          "output_type": "error",
          "ename": "SyntaxError",
          "evalue": "ignored",
          "traceback": [
            "\u001b[0;36m  File \u001b[0;32m\"<ipython-input-19-1a602dedcca8>\"\u001b[0;36m, line \u001b[0;32m4\u001b[0m\n\u001b[0;31m    return True\u001b[0m\n\u001b[0m    ^\u001b[0m\n\u001b[0;31mSyntaxError\u001b[0m\u001b[0;31m:\u001b[0m 'return' outside function\n"
          ]
        }
      ]
    },
    {
      "cell_type": "code",
      "metadata": {
        "colab": {
          "base_uri": "https://localhost:8080/",
          "height": 376
        },
        "id": "TiNXGjD0BbbQ",
        "outputId": "24217e9c-f6b0-473f-bf93-4f5ef5725525"
      },
      "source": [
        "def func1(s):\n",
        "  for i in range(len(s)):\n",
        "    if (s[i].isalnum()):\n",
        "      return True\n",
        "      break\n",
        "  return False\n",
        "def func2(s):\n",
        "  for i in range(len(s)):\n",
        "    if (s[i].isalpha()):\n",
        "      return True\n",
        "      break\n",
        "  return False\n",
        "def fun3(s):\n",
        "  for i in range(len(s)):\n",
        "    if s[i].isdigit():\n",
        "      return True\n",
        "      break\n",
        "  return False\n",
        "def fun4(s):\n",
        "  for i in range(len(s)):\n",
        "    if s[i].islower():\n",
        "      return True\n",
        "      break\n",
        "  return False\n",
        "def fun5(s):\n",
        "  for i in range(len(s)):\n",
        "    if s[i].isupper():\n",
        "      return True\n",
        "      break\n",
        "  return False\n",
        "    \n",
        "\n",
        "if __name__==\"__main__\":\n",
        "  s=input()\n",
        "  isalnumeric=func1(s)\n",
        "  isalphabetical=func2(s)\n",
        "  isdigits=fun3(s)\n",
        "  islower=fun4(s)\n",
        "  isupper=fun5(s)\n",
        "  print(isalnumeric)\n",
        "  print(isalphabetical)\n",
        "  print(isdigits)\n",
        "  print(islower)\n",
        "  print(isupper)"
      ],
      "execution_count": null,
      "outputs": [
        {
          "output_type": "stream",
          "text": [
            "123\n"
          ],
          "name": "stdout"
        },
        {
          "output_type": "error",
          "ename": "NameError",
          "evalue": "ignored",
          "traceback": [
            "\u001b[0;31m---------------------------------------------------------------------------\u001b[0m",
            "\u001b[0;31mNameError\u001b[0m                                 Traceback (most recent call last)",
            "\u001b[0;32m<ipython-input-22-8c9207bb48d3>\u001b[0m in \u001b[0;36m<module>\u001b[0;34m()\u001b[0m\n\u001b[1;32m     36\u001b[0m   \u001b[0misalphabetical\u001b[0m\u001b[0;34m=\u001b[0m\u001b[0mfunc2\u001b[0m\u001b[0;34m(\u001b[0m\u001b[0ms\u001b[0m\u001b[0;34m)\u001b[0m\u001b[0;34m\u001b[0m\u001b[0;34m\u001b[0m\u001b[0m\n\u001b[1;32m     37\u001b[0m   \u001b[0misdigits\u001b[0m\u001b[0;34m=\u001b[0m\u001b[0mfun3\u001b[0m\u001b[0;34m(\u001b[0m\u001b[0ms\u001b[0m\u001b[0;34m)\u001b[0m\u001b[0;34m\u001b[0m\u001b[0;34m\u001b[0m\u001b[0m\n\u001b[0;32m---> 38\u001b[0;31m   \u001b[0mislower\u001b[0m\u001b[0;34m=\u001b[0m\u001b[0mfun4\u001b[0m\u001b[0;34m(\u001b[0m\u001b[0ms\u001b[0m\u001b[0;34m)\u001b[0m\u001b[0;34m\u001b[0m\u001b[0;34m\u001b[0m\u001b[0m\n\u001b[0m\u001b[1;32m     39\u001b[0m   \u001b[0misupper\u001b[0m\u001b[0;34m=\u001b[0m\u001b[0mfun5\u001b[0m\u001b[0;34m(\u001b[0m\u001b[0ms\u001b[0m\u001b[0;34m)\u001b[0m\u001b[0;34m\u001b[0m\u001b[0;34m\u001b[0m\u001b[0m\n\u001b[1;32m     40\u001b[0m   \u001b[0mprint\u001b[0m\u001b[0;34m(\u001b[0m\u001b[0misalnumeric\u001b[0m\u001b[0;34m)\u001b[0m\u001b[0;34m\u001b[0m\u001b[0;34m\u001b[0m\u001b[0m\n",
            "\u001b[0;32m<ipython-input-22-8c9207bb48d3>\u001b[0m in \u001b[0;36mfun4\u001b[0;34m(s)\u001b[0m\n\u001b[1;32m     22\u001b[0m       \u001b[0;32mreturn\u001b[0m \u001b[0;32mTrue\u001b[0m\u001b[0;34m\u001b[0m\u001b[0;34m\u001b[0m\u001b[0m\n\u001b[1;32m     23\u001b[0m       \u001b[0;32mbreak\u001b[0m\u001b[0;34m\u001b[0m\u001b[0;34m\u001b[0m\u001b[0m\n\u001b[0;32m---> 24\u001b[0;31m   \u001b[0;32mreturn\u001b[0m \u001b[0mFasle\u001b[0m\u001b[0;34m\u001b[0m\u001b[0;34m\u001b[0m\u001b[0m\n\u001b[0m\u001b[1;32m     25\u001b[0m \u001b[0;32mdef\u001b[0m \u001b[0mfun5\u001b[0m\u001b[0;34m(\u001b[0m\u001b[0ms\u001b[0m\u001b[0;34m)\u001b[0m\u001b[0;34m:\u001b[0m\u001b[0;34m\u001b[0m\u001b[0;34m\u001b[0m\u001b[0m\n\u001b[1;32m     26\u001b[0m   \u001b[0;32mfor\u001b[0m \u001b[0mi\u001b[0m \u001b[0;32min\u001b[0m \u001b[0mrange\u001b[0m\u001b[0;34m(\u001b[0m\u001b[0mlen\u001b[0m\u001b[0;34m(\u001b[0m\u001b[0ms\u001b[0m\u001b[0;34m)\u001b[0m\u001b[0;34m)\u001b[0m\u001b[0;34m:\u001b[0m\u001b[0;34m\u001b[0m\u001b[0;34m\u001b[0m\u001b[0m\n",
            "\u001b[0;31mNameError\u001b[0m: name 'Fasle' is not defined"
          ]
        }
      ]
    },
    {
      "cell_type": "code",
      "metadata": {
        "colab": {
          "base_uri": "https://localhost:8080/"
        },
        "id": "_LQifisoBbX3",
        "outputId": "14b140e6-054a-4c01-92d9-874cbae20644"
      },
      "source": [
        "def count_substring(string, sub_string):\n",
        "    count=0\n",
        "    for i in range((len(string)-len(sub_string))+1):\n",
        "        if(string[i:i+len(sub_string)]==sub_string):\n",
        "            count=count+1\n",
        "    return count\n",
        " \n",
        "def countTotalBits(num):\n",
        "     \n",
        "     # convert number into it's binary and\n",
        "     # remove first two characters 0b\n",
        "if __name__ == '__main__':\n",
        "    string = input().strip()\n",
        "    sub_string = input().strip()\n",
        "    \n",
        "    count = count_substring(string, sub_string)\n",
        "    print(count)"
      ],
      "execution_count": null,
      "outputs": [
        {
          "output_type": "stream",
          "text": [
            "abcdd\n",
            "cd\n",
            "1\n"
          ],
          "name": "stdout"
        }
      ]
    },
    {
      "cell_type": "code",
      "metadata": {
        "colab": {
          "base_uri": "https://localhost:8080/"
        },
        "id": "Fx8XHrjwIzw8",
        "outputId": "c68018d9-f06c-4459-d14d-e57c0c233078"
      },
      "source": [
        "bi=hex(10)[2:]\n",
        "print(bi)"
      ],
      "execution_count": null,
      "outputs": [
        {
          "output_type": "stream",
          "text": [
            "a\n"
          ],
          "name": "stdout"
        }
      ]
    },
    {
      "cell_type": "code",
      "metadata": {
        "colab": {
          "base_uri": "https://localhost:8080/"
        },
        "id": "CoNW--_yIzt3",
        "outputId": "9a645e69-32a1-478d-8e8f-559982e04f92"
      },
      "source": [
        "l1=(bin(17))[2:]\n",
        "print(l1)"
      ],
      "execution_count": null,
      "outputs": [
        {
          "output_type": "stream",
          "text": [
            "10001\n"
          ],
          "name": "stdout"
        }
      ]
    },
    {
      "cell_type": "code",
      "metadata": {
        "colab": {
          "base_uri": "https://localhost:8080/"
        },
        "id": "LBgCdx0EIzqk",
        "outputId": "e66c35fd-4c14-4a81-e930-3ba111ccacb8"
      },
      "source": [
        "txt = \"banana\"\n",
        "\n",
        "x = txt.rjust(20)\n",
        "\n",
        "print(x, \"is my favorite fruit.\") "
      ],
      "execution_count": null,
      "outputs": [
        {
          "output_type": "stream",
          "text": [
            "              banana is my favorite fruit.\n"
          ],
          "name": "stdout"
        }
      ]
    },
    {
      "cell_type": "code",
      "metadata": {
        "colab": {
          "base_uri": "https://localhost:8080/"
        },
        "id": "gDYbb5y8IznL",
        "outputId": "74e93a83-e4a7-43b5-8941-f1fd4d0651f7"
      },
      "source": [
        "n=int(input())\n",
        "l1 = len(bin(n)[2:])\n",
        "for i in range(1,n+1):\n",
        "  print(str(i).rjust(l1,' '),end=\" \")\n",
        "\n",
        "   \n",
        "   "
      ],
      "execution_count": null,
      "outputs": [
        {
          "output_type": "stream",
          "text": [
            "17\n",
            "    1     2     3     4     5     6     7     8     9    10    11    12    13    14    15    16    17 "
          ],
          "name": "stdout"
        }
      ]
    },
    {
      "cell_type": "code",
      "metadata": {
        "colab": {
          "base_uri": "https://localhost:8080/"
        },
        "id": "SaokagS2Izh-",
        "outputId": "c116c347-ddc9-409d-f36c-5b303ba64733"
      },
      "source": [
        "def print_formatted(n):\n",
        "    l1=len((bin(n))[2:])\n",
        "    for i in range(1,n+1):\n",
        "        print(str(i).rjust(l1,' '),end=\" \")\n",
        "        print(((oct(i)[2:]).upper()).rjust(l1,' '),end=\" \")\n",
        "        print ((hex(i)[2:]).rjust(l1,' '),end=\" \")\n",
        "        print ((bin(i)[2:]).rjust(l1,' '),end=\" \")\n",
        "        print(\" \")\n",
        "    \n",
        "\n",
        "if __name__ == '__main__':\n",
        "    n = int(input())\n",
        "    print_formatted(n)"
      ],
      "execution_count": null,
      "outputs": [
        {
          "output_type": "stream",
          "text": [
            "17\n",
            "    1     1     1     1  \n",
            "    2     2     2    10  \n",
            "    3     3     3    11  \n",
            "    4     4     4   100  \n",
            "    5     5     5   101  \n",
            "    6     6     6   110  \n",
            "    7     7     7   111  \n",
            "    8    10     8  1000  \n",
            "    9    11     9  1001  \n",
            "   10    12     a  1010  \n",
            "   11    13     b  1011  \n",
            "   12    14     c  1100  \n",
            "   13    15     d  1101  \n",
            "   14    16     e  1110  \n",
            "   15    17     f  1111  \n",
            "   16    20    10 10000  \n",
            "   17    21    11 10001  \n"
          ],
          "name": "stdout"
        }
      ]
    },
    {
      "cell_type": "code",
      "metadata": {
        "colab": {
          "base_uri": "https://localhost:8080/"
        },
        "id": "5aQmtZR_RvVc",
        "outputId": "e2acaca7-493e-4f43-9502-d0d7a81ab22b"
      },
      "source": [
        "#restuarant problem\n",
        "def solve(meal_cost, tip_percent, tax_percent):\n",
        "    tip=(meal_cost/100)*20\n",
        "    print (tip)\n",
        "    tax=(tax_percent/100)*meal_cost\n",
        "    print(tax)\n",
        "    total_cost=meal_cost+tip+tax\n",
        "    return round(total_cost)#round function gives the int value\n",
        "    \n",
        "\n",
        "if __name__ == '__main__':\n",
        "    meal_cost = float(input().strip())\n",
        "\n",
        "    tip_percent = int(input().strip())\n",
        "\n",
        "    tax_percent = int(input().strip())\n",
        "\n",
        "    print(solve(meal_cost, tip_percent, tax_percent))\n",
        "    \n"
      ],
      "execution_count": null,
      "outputs": [
        {
          "output_type": "stream",
          "text": [
            "12.00\n",
            "20\n",
            "8\n",
            "2.4\n",
            "0.96\n",
            "15\n"
          ],
          "name": "stdout"
        }
      ]
    },
    {
      "cell_type": "code",
      "metadata": {
        "colab": {
          "base_uri": "https://localhost:8080/"
        },
        "id": "QsotNw7dRvSF",
        "outputId": "aa366322-4225-4eb3-89a0-faeb32b781ce"
      },
      "source": [
        "a=(8/100)*20\n",
        "print(a)"
      ],
      "execution_count": null,
      "outputs": [
        {
          "output_type": "stream",
          "text": [
            "1.6\n"
          ],
          "name": "stdout"
        }
      ]
    },
    {
      "cell_type": "code",
      "metadata": {
        "id": "V7dA44E-RvN9"
      },
      "source": [
        "#alphabhetic rangoli\n",
        "'''--------e--------\n",
        "------e-d-e------\n",
        "----e-d-c-d-e----\n",
        "--e-d-c-b-c-d-e--\n",
        "e-d-c-b-a-b-c-d-e\n",
        "--e-d-c-b-c-d-e--\n",
        "----e-d-c-d-e----\n",
        "------e-d-e------\n",
        "--------e--------'''\n"
      ],
      "execution_count": null,
      "outputs": []
    },
    {
      "cell_type": "code",
      "metadata": {
        "colab": {
          "base_uri": "https://localhost:8080/"
        },
        "id": "V3A4UZgeRvJP",
        "outputId": "9819ce2e-3fcb-47fb-e276-00d8b778f69e"
      },
      "source": [
        "for i in range(0,10):\n",
        "  print(i)"
      ],
      "execution_count": null,
      "outputs": [
        {
          "output_type": "stream",
          "text": [
            "0\n",
            "1\n",
            "2\n",
            "3\n",
            "4\n",
            "5\n",
            "6\n",
            "7\n",
            "8\n",
            "9\n"
          ],
          "name": "stdout"
        }
      ]
    },
    {
      "cell_type": "code",
      "metadata": {
        "id": "kNMjzNRGRvGP"
      },
      "source": [
        "for i in range(0,0,-1):\n",
        "  print(i)"
      ],
      "execution_count": null,
      "outputs": []
    },
    {
      "cell_type": "code",
      "metadata": {
        "colab": {
          "base_uri": "https://localhost:8080/"
        },
        "id": "EV2fKEg1Izd9",
        "outputId": "c88877c0-6059-4064-e191-d767880dc053"
      },
      "source": [
        "print(chr(97))"
      ],
      "execution_count": null,
      "outputs": [
        {
          "output_type": "stream",
          "text": [
            "a\n"
          ],
          "name": "stdout"
        }
      ]
    },
    {
      "cell_type": "code",
      "metadata": {
        "colab": {
          "base_uri": "https://localhost:8080/"
        },
        "id": "czoQsgHxBbTC",
        "outputId": "47c6fff3-42ee-4526-df08-18f8c2f91434"
      },
      "source": [
        "def print_rangoli(size):\n",
        "  width=size*4-3\n",
        "  string=''\n",
        "  for i in range(1,n+1):\n",
        "    for j in range(0,i):\n",
        "      string+=chr(96+size-j)\n",
        "      if len(string)<width:\n",
        "        string+='-'\n",
        "      print(string.center(width,'-'))\n",
        "      string=\"\"\n",
        "  for i in range(size-1,0,-1):\n",
        "    string = ''\n",
        "    for j in range(0,i):\n",
        "      string += chr(96+size-j)\n",
        "      if len(string) < width :\n",
        "        string += '-'\n",
        "      for k in range(i-1,0,-1):\n",
        "        string += chr(97+size-k)\n",
        "        if len(string) < width :\n",
        "          string += '-'\n",
        "        print(string.center(width,'-'))\n",
        "\n",
        "  \n",
        "if __name__ ==\"__main__\":\n",
        "  n=int(input())\n",
        "  print_rangoli(n)"
      ],
      "execution_count": null,
      "outputs": [
        {
          "output_type": "stream",
          "text": [
            "3\n",
            "----c----\n",
            "----c----\n",
            "----b----\n",
            "----c----\n",
            "----b----\n",
            "----a----\n",
            "---c-c---\n",
            "-c-c-b-c-\n"
          ],
          "name": "stdout"
        }
      ]
    },
    {
      "cell_type": "code",
      "metadata": {
        "colab": {
          "base_uri": "https://localhost:8080/"
        },
        "id": "wzTugaXsfdlG",
        "outputId": "8935a2ac-b005-4979-bfe4-f3dd03110bc7"
      },
      "source": [
        "import string\n",
        "alpha = string.ascii_lowercase\n",
        "print(alpha)\n",
        "\n",
        "n = int(input())   \n",
        "L = []\n",
        "for i in range(n):\n",
        "    s = \"-\".join(alpha[i:n])\n",
        "    L.append((s[::-1]+s[1:]).center(4*n-3, \"-\"))\n",
        "   \n",
        "print('\\n'.join(L[:0:-1]+L))\n",
        "\n"
      ],
      "execution_count": null,
      "outputs": [
        {
          "output_type": "stream",
          "text": [
            "abcdefghijklmnopqrstuvwxyz\n",
            "3\n",
            "----c----\n",
            "--c-b-c--\n",
            "c-b-a-b-c\n",
            "--c-b-c--\n",
            "----c----\n"
          ],
          "name": "stdout"
        }
      ]
    },
    {
      "cell_type": "code",
      "metadata": {
        "colab": {
          "base_uri": "https://localhost:8080/"
        },
        "id": "9rRFXcW5gcHq",
        "outputId": "3ec04aa1-4c63-4338-d988-a422a06fbd69"
      },
      "source": [
        "import string\n",
        "alpha =string.ascii_lowercase\n",
        "n=int(input())\n",
        "L=[]\n",
        "for i in range(n):\n",
        "  s='-'.join(alpha[i:n])\n",
        "  print(s)\n",
        "  L.append((s[::-1]+s[1:]).center(4*n-3,\"-\"))\n",
        "print('\\n'.join(L[:0:-1]+L))\n",
        "  "
      ],
      "execution_count": null,
      "outputs": [
        {
          "output_type": "stream",
          "text": [
            "3\n",
            "a-b-c\n",
            "b-c\n",
            "c\n",
            "----c----\n",
            "--c-b-c--\n",
            "c-b-a-b-c\n",
            "--c-b-c--\n",
            "----c----\n"
          ],
          "name": "stdout"
        }
      ]
    },
    {
      "cell_type": "code",
      "metadata": {
        "colab": {
          "base_uri": "https://localhost:8080/"
        },
        "id": "-ZdjFvZ9glwg",
        "outputId": "845fff6e-e393-4428-e54c-bfca358f66ff"
      },
      "source": [
        "b=[1,2,3,4,5]\n",
        "print(b[1:3])"
      ],
      "execution_count": null,
      "outputs": [
        {
          "output_type": "stream",
          "text": [
            "[2, 3]\n"
          ],
          "name": "stdout"
        }
      ]
    },
    {
      "cell_type": "code",
      "metadata": {
        "colab": {
          "base_uri": "https://localhost:8080/"
        },
        "id": "rYspz3AMjY8S",
        "outputId": "13c08654-33d4-4904-ca1e-37d16815f14e"
      },
      "source": [
        "for i in range(3):\n",
        "  print(i)"
      ],
      "execution_count": null,
      "outputs": [
        {
          "output_type": "stream",
          "text": [
            "0\n",
            "1\n",
            "2\n"
          ],
          "name": "stdout"
        }
      ]
    },
    {
      "cell_type": "code",
      "metadata": {
        "colab": {
          "base_uri": "https://localhost:8080/"
        },
        "id": "skJqt2gCkG7g",
        "outputId": "ab7b94c1-7c89-410a-cb60-eb9998bf2dca"
      },
      "source": [
        "s=input()\n",
        "print(s.split())"
      ],
      "execution_count": null,
      "outputs": [
        {
          "output_type": "stream",
          "text": [
            "hello world\n",
            "['hello', 'world']\n"
          ],
          "name": "stdout"
        }
      ]
    },
    {
      "cell_type": "code",
      "metadata": {
        "colab": {
          "base_uri": "https://localhost:8080/",
          "height": 358
        },
        "id": "cU4m7rLWHlZ8",
        "outputId": "5a199998-eb9b-466c-8564-5dea2baccd78"
      },
      "source": [
        "import os\n",
        "import sys\n",
        "def solve(s):\n",
        "    for  i in s.split():\n",
        "        s=s.replace(i,i.capitalize(i))\n",
        "    return s\n",
        "\n",
        "    \n",
        "\n",
        "if __name__ == '__main__':\n",
        "    fptr = open(os.environ['OUTPUT_PATH'], 'w')\n",
        "\n",
        "    s = input()\n",
        "\n",
        "    result = solve(s)\n",
        "\n",
        "    fptr.write(result + '\\n')\n",
        "\n",
        "    fptr.close()"
      ],
      "execution_count": null,
      "outputs": [
        {
          "output_type": "error",
          "ename": "KeyError",
          "evalue": "ignored",
          "traceback": [
            "\u001b[0;31m---------------------------------------------------------------------------\u001b[0m",
            "\u001b[0;31mKeyError\u001b[0m                                  Traceback (most recent call last)",
            "\u001b[0;32m<ipython-input-8-a43da85a76ce>\u001b[0m in \u001b[0;36m<module>\u001b[0;34m()\u001b[0m\n\u001b[1;32m      9\u001b[0m \u001b[0;34m\u001b[0m\u001b[0m\n\u001b[1;32m     10\u001b[0m \u001b[0;32mif\u001b[0m \u001b[0m__name__\u001b[0m \u001b[0;34m==\u001b[0m \u001b[0;34m'__main__'\u001b[0m\u001b[0;34m:\u001b[0m\u001b[0;34m\u001b[0m\u001b[0;34m\u001b[0m\u001b[0m\n\u001b[0;32m---> 11\u001b[0;31m     \u001b[0mfptr\u001b[0m \u001b[0;34m=\u001b[0m \u001b[0mopen\u001b[0m\u001b[0;34m(\u001b[0m\u001b[0mos\u001b[0m\u001b[0;34m.\u001b[0m\u001b[0menviron\u001b[0m\u001b[0;34m[\u001b[0m\u001b[0;34m'OUTPUT_PATH'\u001b[0m\u001b[0;34m]\u001b[0m\u001b[0;34m,\u001b[0m \u001b[0;34m'w'\u001b[0m\u001b[0;34m)\u001b[0m\u001b[0;34m\u001b[0m\u001b[0;34m\u001b[0m\u001b[0m\n\u001b[0m\u001b[1;32m     12\u001b[0m \u001b[0;34m\u001b[0m\u001b[0m\n\u001b[1;32m     13\u001b[0m     \u001b[0ms\u001b[0m \u001b[0;34m=\u001b[0m \u001b[0minput\u001b[0m\u001b[0;34m(\u001b[0m\u001b[0;34m)\u001b[0m\u001b[0;34m\u001b[0m\u001b[0;34m\u001b[0m\u001b[0m\n",
            "\u001b[0;32m/usr/lib/python3.7/os.py\u001b[0m in \u001b[0;36m__getitem__\u001b[0;34m(self, key)\u001b[0m\n\u001b[1;32m    679\u001b[0m         \u001b[0;32mexcept\u001b[0m \u001b[0mKeyError\u001b[0m\u001b[0;34m:\u001b[0m\u001b[0;34m\u001b[0m\u001b[0;34m\u001b[0m\u001b[0m\n\u001b[1;32m    680\u001b[0m             \u001b[0;31m# raise KeyError with the original key value\u001b[0m\u001b[0;34m\u001b[0m\u001b[0;34m\u001b[0m\u001b[0;34m\u001b[0m\u001b[0m\n\u001b[0;32m--> 681\u001b[0;31m             \u001b[0;32mraise\u001b[0m \u001b[0mKeyError\u001b[0m\u001b[0;34m(\u001b[0m\u001b[0mkey\u001b[0m\u001b[0;34m)\u001b[0m \u001b[0;32mfrom\u001b[0m \u001b[0;32mNone\u001b[0m\u001b[0;34m\u001b[0m\u001b[0;34m\u001b[0m\u001b[0m\n\u001b[0m\u001b[1;32m    682\u001b[0m         \u001b[0;32mreturn\u001b[0m \u001b[0mself\u001b[0m\u001b[0;34m.\u001b[0m\u001b[0mdecodevalue\u001b[0m\u001b[0;34m(\u001b[0m\u001b[0mvalue\u001b[0m\u001b[0;34m)\u001b[0m\u001b[0;34m\u001b[0m\u001b[0;34m\u001b[0m\u001b[0m\n\u001b[1;32m    683\u001b[0m \u001b[0;34m\u001b[0m\u001b[0m\n",
            "\u001b[0;31mKeyError\u001b[0m: 'OUTPUT_PATH'"
          ]
        }
      ]
    },
    {
      "cell_type": "code",
      "metadata": {
        "colab": {
          "base_uri": "https://localhost:8080/"
        },
        "id": "DhOSrn7FIQjz",
        "outputId": "3ab2c2bf-a0fd-412c-a379-262244712fa4"
      },
      "source": [
        "def minion_game(s):\n",
        "  vowels = 'AEIOU'\n",
        "\n",
        "  kevsc = 0\n",
        "  stusc = 0\n",
        "  for i in range(len(s)):\n",
        "    if s[i] in vowels:\n",
        "      kevsc += (len(s)-i)\n",
        "      \n",
        "    else:\n",
        "        stusc += (len(s)-i)\n",
        "\n",
        "  if kevsc > stusc:\n",
        "    print(\"Kevin\", kevsc)\n",
        "  elif kevsc < stusc:\n",
        "    print(\"Stuart\", stusc)\n",
        "  else:\n",
        "    print(\"Draw\")\n",
        "\n",
        "if __name__==\"__main__\":\n",
        "  s=input()\n",
        "  minion_game(s)"
      ],
      "execution_count": null,
      "outputs": [
        {
          "output_type": "stream",
          "text": [
            "BANABA\n",
            "Stuart 12\n"
          ],
          "name": "stdout"
        }
      ]
    },
    {
      "cell_type": "code",
      "metadata": {
        "colab": {
          "base_uri": "https://localhost:8080/"
        },
        "id": "abZ9n5JENGGL",
        "outputId": "0634c27e-36a9-4f69-d91b-d20232ab34a9"
      },
      "source": [
        "num = list(range(10))\n",
        "previousNum = 0\n",
        "for i in num:\n",
        "    sum = previousNum + i\n",
        "    print('Current Number '+ str(i) + 'Previous Number ' + str(previousNum) + 'is ' + str(sum)) \n",
        "    previousNum=i\n"
      ],
      "execution_count": null,
      "outputs": [
        {
          "output_type": "stream",
          "text": [
            "Current Number 0Previous Number 0is 0\n",
            "Current Number 1Previous Number 0is 1\n",
            "Current Number 2Previous Number 1is 3\n",
            "Current Number 3Previous Number 2is 5\n",
            "Current Number 4Previous Number 3is 7\n",
            "Current Number 5Previous Number 4is 9\n",
            "Current Number 6Previous Number 5is 11\n",
            "Current Number 7Previous Number 6is 13\n",
            "Current Number 8Previous Number 7is 15\n",
            "Current Number 9Previous Number 8is 17\n"
          ],
          "name": "stdout"
        }
      ]
    },
    {
      "cell_type": "code",
      "metadata": {
        "colab": {
          "base_uri": "https://localhost:8080/"
        },
        "id": "6mETZwnVANXN",
        "outputId": "8295aaf9-459c-47ad-8a06-917f9a108fc3"
      },
      "source": [
        "print(list(range(10)))"
      ],
      "execution_count": null,
      "outputs": [
        {
          "output_type": "stream",
          "text": [
            "[0, 1, 2, 3, 4, 5, 6, 7, 8, 9]\n"
          ],
          "name": "stdout"
        }
      ]
    },
    {
      "cell_type": "code",
      "metadata": {
        "colab": {
          "base_uri": "https://localhost:8080/"
        },
        "id": "wbA3G94sBAG8",
        "outputId": "81460878-6243-45ba-dab6-c1ecba53fae2"
      },
      "source": [
        "\n",
        "def solve(s):\n",
        "    for  i in s.split():\n",
        "        s=s.replace(i,i.capitalize())\n",
        "    return s       \n",
        "s=input()            \n",
        "print(solve(s))"
      ],
      "execution_count": null,
      "outputs": [
        {
          "output_type": "stream",
          "text": [
            "pavitha is rich kid\n",
            "Pavitha Is Rich Kid\n"
          ],
          "name": "stdout"
        }
      ]
    },
    {
      "cell_type": "code",
      "metadata": {
        "id": "-5oXnxWiHbmn"
      },
      "source": [
        "class Person:\n",
        "    def __init__(self, initialAge):\n",
        "        if initialAge > 0:\n",
        "            self.age = initialAge\n",
        "        else:\n",
        "            print(\"Age is not valid, setting age to 0.\")\n",
        "            self.age = 0\n",
        "\n",
        "    def amIOld(self):\n",
        "        if self.age < 13:\n",
        "            print(\"You are young.\")\n",
        "        elif self.age < 18:\n",
        "            print(\"You are a teenager.\")\n",
        "        else:\n",
        "            print(\"You are old.\")\n",
        "\n",
        "    def yearPasses(self):\n",
        "        self.age += 1\n",
        "\n",
        "\n",
        "t = int(input())\n",
        "for i in range(0, t):\n",
        "    age = int(input())\n",
        "    p = Person(age)\n",
        "    p.amIOld()\n",
        "    for j in range(0, 3):\n",
        "        p.yearPasses()\n",
        "    p.amIOld()\n",
        "    print(\"\")"
      ],
      "execution_count": null,
      "outputs": []
    },
    {
      "cell_type": "code",
      "metadata": {
        "colab": {
          "base_uri": "https://localhost:8080/"
        },
        "id": "u1sNJS-KHbfK",
        "outputId": "989c1a5a-af42-4194-9080-7c48a262cef0"
      },
      "source": [
        "if __name__ == '__main__':\n",
        "    n = int(input().strip())\n",
        "    for i in range(1,11):\n",
        "        print(n ,\"X\",i,\"=\",n*i)\n"
      ],
      "execution_count": null,
      "outputs": [
        {
          "output_type": "stream",
          "text": [
            "2\n",
            "2 X 1 = 2\n",
            "2 X 2 = 4\n",
            "2 X 3 = 6\n",
            "2 X 4 = 8\n",
            "2 X 5 = 10\n",
            "2 X 6 = 12\n",
            "2 X 7 = 14\n",
            "2 X 8 = 16\n",
            "2 X 9 = 18\n",
            "2 X 10 = 20\n"
          ],
          "name": "stdout"
        }
      ]
    },
    {
      "cell_type": "code",
      "metadata": {
        "colab": {
          "base_uri": "https://localhost:8080/"
        },
        "id": "1c8BtZ4JHbSH",
        "outputId": "014f5ac1-0a2a-4033-afbf-5ab99e368a82"
      },
      "source": [
        "if __name__ == '__main__':\n",
        "    n = int(input().strip())\n",
        "    for i in range(1,11):\n",
        "        print(n,\"X\",i,\"=\",n*i)\n",
        "       "
      ],
      "execution_count": null,
      "outputs": [
        {
          "output_type": "stream",
          "text": [
            "2\n",
            "2 X 1 = 2\n",
            "2 X 2 = 4\n",
            "2 X 3 = 6\n",
            "2 X 4 = 8\n",
            "2 X 5 = 10\n",
            "2 X 6 = 12\n",
            "2 X 7 = 14\n",
            "2 X 8 = 16\n",
            "2 X 9 = 18\n",
            "2 X 10 = 20\n"
          ],
          "name": "stdout"
        }
      ]
    },
    {
      "cell_type": "code",
      "metadata": {
        "colab": {
          "base_uri": "https://localhost:8080/"
        },
        "id": "dyDjvTP8HbK1",
        "outputId": "de4d8c16-ad7f-4a3c-d61e-d5c7061e6445"
      },
      "source": [
        "def Merge_the_tools(string,k):\n",
        "  for i in range(0,len(string),k):\n",
        "    line=string[i:i+k]\n",
        "    seen=set()\n",
        "    for i in line:\n",
        "      if i not in seen:\n",
        "        print(i,end=\"\")\n",
        "        seen.add(i)\n",
        "    print()\n",
        "if __name__==\"__main__\":\n",
        "  string=input()\n",
        "  k=int(input())\n",
        "  Merge_the_tools(string,k)"
      ],
      "execution_count": null,
      "outputs": [
        {
          "output_type": "stream",
          "text": [
            "AABCAAADA\n",
            "3\n",
            "AB\n",
            "CA\n",
            "AD\n"
          ],
          "name": "stdout"
        }
      ]
    },
    {
      "cell_type": "code",
      "metadata": {
        "colab": {
          "base_uri": "https://localhost:8080/"
        },
        "id": "IRQ6nRtqHbDM",
        "outputId": "4c7e36c9-3b45-46cb-cde2-7e3c4b56d4f9"
      },
      "source": [
        "33333"
      ],
      "execution_count": null,
      "outputs": [
        {
          "output_type": "execute_result",
          "data": {
            "text/plain": [
              "33333"
            ]
          },
          "metadata": {
            "tags": []
          },
          "execution_count": 29
        }
      ]
    },
    {
      "cell_type": "code",
      "metadata": {
        "colab": {
          "base_uri": "https://localhost:8080/"
        },
        "id": "9VqHHBH_VDU5",
        "outputId": "d2c7fd4c-3e0b-46d1-fdd5-f893c2a9d4c1"
      },
      "source": [
        "def fibonacci(n):\n",
        "    a=0\n",
        "    b=0\n",
        "    if (n==0):\n",
        "       return a\n",
        "   \n",
        "    elif (n==1):\n",
        "       return b\n",
        "       \n",
        "    else:\n",
        "      for i in range(2,n):\n",
        "         i=a+b\n",
        "         a=b\n",
        "         b=i\n",
        "      return b\n",
        "       \n",
        "        \n",
        "if __name__==\"__main__\":\n",
        "  n=int(input())\n",
        "  print(fibonacci(n))\n"
      ],
      "execution_count": null,
      "outputs": [
        {
          "output_type": "stream",
          "text": [
            "5\n",
            "0\n"
          ],
          "name": "stdout"
        }
      ]
    },
    {
      "cell_type": "code",
      "metadata": {
        "colab": {
          "base_uri": "https://localhost:8080/"
        },
        "id": "Vo5Uu2TuVDSE",
        "outputId": "256b7d51-34ae-4d0a-cb0b-08f4a2cfdfd2"
      },
      "source": [
        "#map and lambda\n",
        "cube = lambda x: x**3# complete the lambda function \n",
        "\n",
        "def fibonacci(n):\n",
        "    if n<2:\n",
        "        return range(n)\n",
        "    init=[0,1]\n",
        "    for i in range(0,n-2):\n",
        "        add=init[i+1]+init[i]\n",
        "        init.append(add)\n",
        "    return init\n",
        "        \n",
        "    \n",
        "    \n",
        "    \n",
        "\n",
        "if __name__ == '__main__':\n",
        "    n = int(input())\n",
        "    print(list(map(cube, fibonacci(n))))"
      ],
      "execution_count": null,
      "outputs": [
        {
          "output_type": "stream",
          "text": [
            "5\n",
            "[0, 1, 1, 8, 27]\n"
          ],
          "name": "stdout"
        }
      ]
    },
    {
      "cell_type": "code",
      "metadata": {
        "colab": {
          "base_uri": "https://localhost:8080/"
        },
        "id": "F6WrUHEhVDOj",
        "outputId": "87f22f58-ef5d-49ad-8aec-70aeb941a42c"
      },
      "source": [
        "#colections.counter\n",
        "\n",
        "import collections\n",
        "\n",
        "numShoes = int(input())\n",
        "shoes = collections.Counter(map(int, input().split()))\n",
        "numCust = int(input())\n",
        "\n",
        "income = 0\n",
        "\n",
        "for i in range(numCust):\n",
        "    size, price = map(int,input().split())\n",
        "    if shoes[size]: \n",
        "        income += price\n",
        "        shoes[size] -= 1\n",
        "\n",
        "print(income)\n"
      ],
      "execution_count": null,
      "outputs": [
        {
          "output_type": "stream",
          "text": [
            "10\n",
            "2 3 4 5 6 8 7 6 5 18\n",
            "6\n",
            "6 55\n",
            "6 45\n",
            "6 55\n",
            "4 40\n",
            "18 60\n",
            "10 50\n",
            "200\n"
          ],
          "name": "stdout"
        }
      ]
    },
    {
      "cell_type": "code",
      "metadata": {
        "colab": {
          "base_uri": "https://localhost:8080/"
        },
        "id": "nOr-DobKVDLj",
        "outputId": "c75a7cc7-4765-4f09-c267-f3dfda4e4c26"
      },
      "source": [
        "if __name__==\"__main__\":\n",
        "  x=int(input())\n",
        "  y=int(input())\n",
        "  z=int(input())\n",
        "  n=int(input())\n",
        "  output=[]\n",
        "  abc=[]\n",
        "  for x in range(x+1):0,1\n",
        "    for y in range(y+1):0,1\n",
        "      for z in range(z+1):0,1\n",
        "        if x+y+z!=n:\n",
        "          abc=[x,y,z]\n",
        "          output.append(abc)\n",
        "print(output)\n",
        "ctr = 0\n",
        "\n",
        "  for word in words:\n",
        "    if len(word) > 1 and word[0] == word[-1]:\n",
        "      ctr += 1\n",
        "  return ctr"
      ],
      "execution_count": null,
      "outputs": [
        {
          "output_type": "stream",
          "text": [
            "1\n",
            "1\n",
            "1\n",
            "2\n",
            "[[0, 0, 0], [0, 0, 1], [0, 1, 0], [1, 0, 0], [1, 1, 1]]\n"
          ],
          "name": "stdout"
        }
      ]
    },
    {
      "cell_type": "code",
      "metadata": {
        "colab": {
          "base_uri": "https://localhost:8080/"
        },
        "id": "4FbX9MV5VDIV",
        "outputId": "642b6eb4-bada-47ec-9f7a-e3f45b5f76b6"
      },
      "source": [
        "x=[24,54,64,74]\n",
        "max=x[0]\n",
        "for i in x:\n",
        "  if (i>max):\n",
        "    max=i  \n",
        "print(max)"
      ],
      "execution_count": null,
      "outputs": [
        {
          "output_type": "stream",
          "text": [
            "74\n"
          ],
          "name": "stdout"
        }
      ]
    },
    {
      "cell_type": "code",
      "metadata": {
        "colab": {
          "base_uri": "https://localhost:8080/"
        },
        "id": "k6x3holNVDE7",
        "outputId": "cdc246dd-923a-4dd4-b3b7-63a7a960b20e"
      },
      "source": [
        "x=[\"abc\",\"aba\",\"xyx\",\"xyz\"] \n",
        "count=0 \n",
        "for i in x:\n",
        "  if(len(x)>1 and i[0]==i[-1]): \n",
        "    count=count+1\n",
        "print(count)"
      ],
      "execution_count": null,
      "outputs": [
        {
          "output_type": "stream",
          "text": [
            "2\n"
          ],
          "name": "stdout"
        }
      ]
    },
    {
      "cell_type": "code",
      "metadata": {
        "colab": {
          "base_uri": "https://localhost:8080/"
        },
        "id": "9bQ6Um2QVDBX",
        "outputId": "66686bcf-47da-4966-9282-8f38fe4921d6"
      },
      "source": [
        "def average(arr):\n",
        "  arr=set(arr)\n",
        "  return sum(arr)/len(arr)\n",
        "\n",
        "if __name__==\"__main__\":\n",
        "  n=int(input())\n",
        "  arr=list(map(int,input().split()))\n",
        "  result=average(arr)\n",
        "  print(result)"
      ],
      "execution_count": null,
      "outputs": [
        {
          "output_type": "stream",
          "text": [
            "10\n",
            "161 182 161 154 176 170 167 171 170 174 \n",
            "169.375\n"
          ],
          "name": "stdout"
        }
      ]
    },
    {
      "cell_type": "code",
      "metadata": {
        "id": "A7bnK376VC9R"
      },
      "source": [
        "#symmetric difference\n",
        "a,b=(int(input()),input().split())\n",
        "c,d=(int(input()),input().split())\n",
        "x=set(b)\n",
        "y=set(d)\n",
        "p=y.difference(b)\n",
        "q=x.difference(y)\n",
        "r=p.union(q)\n",
        "print('\\n'.join(sorted(r,key=int)))"
      ],
      "execution_count": null,
      "outputs": []
    },
    {
      "cell_type": "code",
      "metadata": {
        "colab": {
          "base_uri": "https://localhost:8080/"
        },
        "id": "QlnjMgCCBJYY",
        "outputId": "33276d2f-5d51-4b58-d287-72bad5690750"
      },
      "source": [
        "from collections import defaultdict\n",
        "\n",
        "n,m = list(map(int,input().split()))\n",
        "d = defaultdict(list)\n",
        "for i in range(n):\n",
        "    d[input()].append(i+1)\n",
        "for i in range(m):\n",
        "    print(*d[input()] or [-1])"
      ],
      "execution_count": null,
      "outputs": [
        {
          "output_type": "stream",
          "text": [
            "5 2\n",
            "a\n",
            "a\n",
            "b\n",
            "a\n",
            "a\n",
            "a\n",
            "1 2 4 5\n",
            "b\n",
            "3\n"
          ],
          "name": "stdout"
        }
      ]
    },
    {
      "cell_type": "code",
      "metadata": {
        "colab": {
          "base_uri": "https://localhost:8080/",
          "height": 643
        },
        "id": "zaerGYeGrRzS",
        "outputId": "f35f3458-a9a0-42e0-9719-287e404c4f99"
      },
      "source": [
        "from collections import namedtuple\n",
        "N = int(input())\n",
        "fields = input().split()\n",
        "\n",
        "total = 0\n",
        "for i in range(N):\n",
        "    students = namedtuple('student',fields)\n",
        "    field1, field2, field3,field4 = input().split()\n",
        "    student = students(field1,field2,field3,field4)\n",
        "    print(student)\n",
        "    total += int(student.MARKS)\n",
        "print('{:.2f}'.format(total/N))\n"
      ],
      "execution_count": null,
      "outputs": [
        {
          "output_type": "stream",
          "text": [
            "5\n",
            "ID MARKS NAME CLASS\n",
            "1          97         Raymond    7    \n",
            "student(ID='1', MARKS='97', NAME='Raymond', CLASS='7')\n"
          ],
          "name": "stdout"
        },
        {
          "output_type": "error",
          "ename": "KeyboardInterrupt",
          "evalue": "ignored",
          "traceback": [
            "\u001b[0;31m---------------------------------------------------------------------------\u001b[0m",
            "\u001b[0;31mKeyboardInterrupt\u001b[0m                         Traceback (most recent call last)",
            "\u001b[0;32m/usr/local/lib/python3.7/dist-packages/ipykernel/kernelbase.py\u001b[0m in \u001b[0;36m_input_request\u001b[0;34m(self, prompt, ident, parent, password)\u001b[0m\n\u001b[1;32m    728\u001b[0m             \u001b[0;32mtry\u001b[0m\u001b[0;34m:\u001b[0m\u001b[0;34m\u001b[0m\u001b[0;34m\u001b[0m\u001b[0m\n\u001b[0;32m--> 729\u001b[0;31m                 \u001b[0mident\u001b[0m\u001b[0;34m,\u001b[0m \u001b[0mreply\u001b[0m \u001b[0;34m=\u001b[0m \u001b[0mself\u001b[0m\u001b[0;34m.\u001b[0m\u001b[0msession\u001b[0m\u001b[0;34m.\u001b[0m\u001b[0mrecv\u001b[0m\u001b[0;34m(\u001b[0m\u001b[0mself\u001b[0m\u001b[0;34m.\u001b[0m\u001b[0mstdin_socket\u001b[0m\u001b[0;34m,\u001b[0m \u001b[0;36m0\u001b[0m\u001b[0;34m)\u001b[0m\u001b[0;34m\u001b[0m\u001b[0;34m\u001b[0m\u001b[0m\n\u001b[0m\u001b[1;32m    730\u001b[0m             \u001b[0;32mexcept\u001b[0m \u001b[0mException\u001b[0m\u001b[0;34m:\u001b[0m\u001b[0;34m\u001b[0m\u001b[0;34m\u001b[0m\u001b[0m\n",
            "\u001b[0;32m/usr/local/lib/python3.7/dist-packages/jupyter_client/session.py\u001b[0m in \u001b[0;36mrecv\u001b[0;34m(self, socket, mode, content, copy)\u001b[0m\n\u001b[1;32m    802\u001b[0m         \u001b[0;32mtry\u001b[0m\u001b[0;34m:\u001b[0m\u001b[0;34m\u001b[0m\u001b[0;34m\u001b[0m\u001b[0m\n\u001b[0;32m--> 803\u001b[0;31m             \u001b[0mmsg_list\u001b[0m \u001b[0;34m=\u001b[0m \u001b[0msocket\u001b[0m\u001b[0;34m.\u001b[0m\u001b[0mrecv_multipart\u001b[0m\u001b[0;34m(\u001b[0m\u001b[0mmode\u001b[0m\u001b[0;34m,\u001b[0m \u001b[0mcopy\u001b[0m\u001b[0;34m=\u001b[0m\u001b[0mcopy\u001b[0m\u001b[0;34m)\u001b[0m\u001b[0;34m\u001b[0m\u001b[0;34m\u001b[0m\u001b[0m\n\u001b[0m\u001b[1;32m    804\u001b[0m         \u001b[0;32mexcept\u001b[0m \u001b[0mzmq\u001b[0m\u001b[0;34m.\u001b[0m\u001b[0mZMQError\u001b[0m \u001b[0;32mas\u001b[0m \u001b[0me\u001b[0m\u001b[0;34m:\u001b[0m\u001b[0;34m\u001b[0m\u001b[0;34m\u001b[0m\u001b[0m\n",
            "\u001b[0;32m/usr/local/lib/python3.7/dist-packages/zmq/sugar/socket.py\u001b[0m in \u001b[0;36mrecv_multipart\u001b[0;34m(self, flags, copy, track)\u001b[0m\n\u001b[1;32m    582\u001b[0m         \"\"\"\n\u001b[0;32m--> 583\u001b[0;31m         \u001b[0mparts\u001b[0m \u001b[0;34m=\u001b[0m \u001b[0;34m[\u001b[0m\u001b[0mself\u001b[0m\u001b[0;34m.\u001b[0m\u001b[0mrecv\u001b[0m\u001b[0;34m(\u001b[0m\u001b[0mflags\u001b[0m\u001b[0;34m,\u001b[0m \u001b[0mcopy\u001b[0m\u001b[0;34m=\u001b[0m\u001b[0mcopy\u001b[0m\u001b[0;34m,\u001b[0m \u001b[0mtrack\u001b[0m\u001b[0;34m=\u001b[0m\u001b[0mtrack\u001b[0m\u001b[0;34m)\u001b[0m\u001b[0;34m]\u001b[0m\u001b[0;34m\u001b[0m\u001b[0;34m\u001b[0m\u001b[0m\n\u001b[0m\u001b[1;32m    584\u001b[0m         \u001b[0;31m# have first part already, only loop while more to receive\u001b[0m\u001b[0;34m\u001b[0m\u001b[0;34m\u001b[0m\u001b[0;34m\u001b[0m\u001b[0m\n",
            "\u001b[0;32mzmq/backend/cython/socket.pyx\u001b[0m in \u001b[0;36mzmq.backend.cython.socket.Socket.recv\u001b[0;34m()\u001b[0m\n",
            "\u001b[0;32mzmq/backend/cython/socket.pyx\u001b[0m in \u001b[0;36mzmq.backend.cython.socket.Socket.recv\u001b[0;34m()\u001b[0m\n",
            "\u001b[0;32mzmq/backend/cython/socket.pyx\u001b[0m in \u001b[0;36mzmq.backend.cython.socket._recv_copy\u001b[0;34m()\u001b[0m\n",
            "\u001b[0;32m/usr/local/lib/python3.7/dist-packages/zmq/backend/cython/checkrc.pxd\u001b[0m in \u001b[0;36mzmq.backend.cython.checkrc._check_rc\u001b[0;34m()\u001b[0m\n",
            "\u001b[0;31mKeyboardInterrupt\u001b[0m: ",
            "\nDuring handling of the above exception, another exception occurred:\n",
            "\u001b[0;31mKeyboardInterrupt\u001b[0m                         Traceback (most recent call last)",
            "\u001b[0;32m<ipython-input-14-6261eaad1eb3>\u001b[0m in \u001b[0;36m<module>\u001b[0;34m()\u001b[0m\n\u001b[1;32m      6\u001b[0m \u001b[0;32mfor\u001b[0m \u001b[0mi\u001b[0m \u001b[0;32min\u001b[0m \u001b[0mrange\u001b[0m\u001b[0;34m(\u001b[0m\u001b[0mN\u001b[0m\u001b[0;34m)\u001b[0m\u001b[0;34m:\u001b[0m\u001b[0;34m\u001b[0m\u001b[0;34m\u001b[0m\u001b[0m\n\u001b[1;32m      7\u001b[0m     \u001b[0mstudents\u001b[0m \u001b[0;34m=\u001b[0m \u001b[0mnamedtuple\u001b[0m\u001b[0;34m(\u001b[0m\u001b[0;34m'student'\u001b[0m\u001b[0;34m,\u001b[0m\u001b[0mfields\u001b[0m\u001b[0;34m)\u001b[0m\u001b[0;34m\u001b[0m\u001b[0;34m\u001b[0m\u001b[0m\n\u001b[0;32m----> 8\u001b[0;31m     \u001b[0mfield1\u001b[0m\u001b[0;34m,\u001b[0m \u001b[0mfield2\u001b[0m\u001b[0;34m,\u001b[0m \u001b[0mfield3\u001b[0m\u001b[0;34m,\u001b[0m\u001b[0mfield4\u001b[0m \u001b[0;34m=\u001b[0m \u001b[0minput\u001b[0m\u001b[0;34m(\u001b[0m\u001b[0;34m)\u001b[0m\u001b[0;34m.\u001b[0m\u001b[0msplit\u001b[0m\u001b[0;34m(\u001b[0m\u001b[0;34m)\u001b[0m\u001b[0;34m\u001b[0m\u001b[0;34m\u001b[0m\u001b[0m\n\u001b[0m\u001b[1;32m      9\u001b[0m     \u001b[0mstudent\u001b[0m \u001b[0;34m=\u001b[0m \u001b[0mstudents\u001b[0m\u001b[0;34m(\u001b[0m\u001b[0mfield1\u001b[0m\u001b[0;34m,\u001b[0m\u001b[0mfield2\u001b[0m\u001b[0;34m,\u001b[0m\u001b[0mfield3\u001b[0m\u001b[0;34m,\u001b[0m\u001b[0mfield4\u001b[0m\u001b[0;34m)\u001b[0m\u001b[0;34m\u001b[0m\u001b[0;34m\u001b[0m\u001b[0m\n\u001b[1;32m     10\u001b[0m     \u001b[0mprint\u001b[0m\u001b[0;34m(\u001b[0m\u001b[0mstudent\u001b[0m\u001b[0;34m)\u001b[0m\u001b[0;34m\u001b[0m\u001b[0;34m\u001b[0m\u001b[0m\n",
            "\u001b[0;32m/usr/local/lib/python3.7/dist-packages/ipykernel/kernelbase.py\u001b[0m in \u001b[0;36mraw_input\u001b[0;34m(self, prompt)\u001b[0m\n\u001b[1;32m    702\u001b[0m             \u001b[0mself\u001b[0m\u001b[0;34m.\u001b[0m\u001b[0m_parent_ident\u001b[0m\u001b[0;34m,\u001b[0m\u001b[0;34m\u001b[0m\u001b[0;34m\u001b[0m\u001b[0m\n\u001b[1;32m    703\u001b[0m             \u001b[0mself\u001b[0m\u001b[0;34m.\u001b[0m\u001b[0m_parent_header\u001b[0m\u001b[0;34m,\u001b[0m\u001b[0;34m\u001b[0m\u001b[0;34m\u001b[0m\u001b[0m\n\u001b[0;32m--> 704\u001b[0;31m             \u001b[0mpassword\u001b[0m\u001b[0;34m=\u001b[0m\u001b[0;32mFalse\u001b[0m\u001b[0;34m,\u001b[0m\u001b[0;34m\u001b[0m\u001b[0;34m\u001b[0m\u001b[0m\n\u001b[0m\u001b[1;32m    705\u001b[0m         )\n\u001b[1;32m    706\u001b[0m \u001b[0;34m\u001b[0m\u001b[0m\n",
            "\u001b[0;32m/usr/local/lib/python3.7/dist-packages/ipykernel/kernelbase.py\u001b[0m in \u001b[0;36m_input_request\u001b[0;34m(self, prompt, ident, parent, password)\u001b[0m\n\u001b[1;32m    732\u001b[0m             \u001b[0;32mexcept\u001b[0m \u001b[0mKeyboardInterrupt\u001b[0m\u001b[0;34m:\u001b[0m\u001b[0;34m\u001b[0m\u001b[0;34m\u001b[0m\u001b[0m\n\u001b[1;32m    733\u001b[0m                 \u001b[0;31m# re-raise KeyboardInterrupt, to truncate traceback\u001b[0m\u001b[0;34m\u001b[0m\u001b[0;34m\u001b[0m\u001b[0;34m\u001b[0m\u001b[0m\n\u001b[0;32m--> 734\u001b[0;31m                 \u001b[0;32mraise\u001b[0m \u001b[0mKeyboardInterrupt\u001b[0m\u001b[0;34m\u001b[0m\u001b[0;34m\u001b[0m\u001b[0m\n\u001b[0m\u001b[1;32m    735\u001b[0m             \u001b[0;32melse\u001b[0m\u001b[0;34m:\u001b[0m\u001b[0;34m\u001b[0m\u001b[0;34m\u001b[0m\u001b[0m\n\u001b[1;32m    736\u001b[0m                 \u001b[0;32mbreak\u001b[0m\u001b[0;34m\u001b[0m\u001b[0;34m\u001b[0m\u001b[0m\n",
            "\u001b[0;31mKeyboardInterrupt\u001b[0m: "
          ]
        }
      ]
    },
    {
      "cell_type": "code",
      "metadata": {
        "colab": {
          "base_uri": "https://localhost:8080/"
        },
        "id": "OrxJ_eZwrRwG",
        "outputId": "1ea832cf-6a16-414a-a9a5-f8662b27dd95"
      },
      "source": [
        "\n",
        "n=int(input())\n",
        "arr=list(map(int,input().rstrip().split()))\n",
        "print(\" \".join(map(str,arr[::-1])))"
      ],
      "execution_count": null,
      "outputs": [
        {
          "output_type": "stream",
          "text": [
            "4\n",
            "1 2  3 4\n",
            "4 3 2 1\n"
          ],
          "name": "stdout"
        }
      ]
    },
    {
      "cell_type": "code",
      "metadata": {
        "colab": {
          "base_uri": "https://localhost:8080/"
        },
        "id": "0A2qwSOZrRr2",
        "outputId": "fe1427ff-d73a-497a-e1a3-f9c6ae103c68"
      },
      "source": [
        "n=int(input())\n",
        "name_numbers=[input().split() for i in range(n)]\n",
        "phone_book={k:v for k,v in name_numbers}\n",
        "while True:\n",
        "  try:\n",
        "    name=input()\n",
        "    if name in phone_book:\n",
        "      print(\"%s=%s\"%(name,phone_book[name]))\n",
        "    else:\n",
        "      print('not found')\n",
        "  except:\n",
        "    break\n"
      ],
      "execution_count": null,
      "outputs": [
        {
          "output_type": "stream",
          "text": [
            "3\n",
            "sam 99912222\n",
            "tom 11122222\n",
            "harry 12299933\n",
            "sam\n",
            "sam=99912222\n",
            "edward\n",
            "not found\n",
            "harry\n",
            "harry=12299933\n"
          ],
          "name": "stdout"
        }
      ]
    },
    {
      "cell_type": "code",
      "metadata": {
        "colab": {
          "base_uri": "https://localhost:8080/"
        },
        "id": "ll1v1hzOrRou",
        "outputId": "1febf6c2-144e-4454-8820-0d6a4048973a"
      },
      "source": [
        "for i in range(int(input())):\n",
        "  try:\n",
        "    a,b=map(int,input().split())\n",
        "    print(a//b)\n",
        "  except Exception as e:\n",
        "    print(\"Error code\",e)\n",
        "\n"
      ],
      "execution_count": null,
      "outputs": [
        {
          "output_type": "stream",
          "text": [
            "3\n",
            "1 0\n",
            "Error code integer division or modulo by zero\n",
            "2 $\n",
            "Error code invalid literal for int() with base 10: '$'\n",
            "3 1\n",
            "3\n"
          ],
          "name": "stdout"
        }
      ]
    },
    {
      "cell_type": "code",
      "metadata": {
        "colab": {
          "base_uri": "https://localhost:8080/"
        },
        "id": "tAaAYvt7rRlB",
        "outputId": "4f37c5ac-3250-47e3-8fec-75e1d7d3fe71"
      },
      "source": [
        "import math\n",
        "ab=int(input())\n",
        "bc=int(input())\n",
        "print (str(int(round(math.degrees(math.atan2(ab,bc)))))+'°')\n"
      ],
      "execution_count": null,
      "outputs": [
        {
          "output_type": "stream",
          "text": [
            "10\n",
            "10\n",
            "45°\n"
          ],
          "name": "stdout"
        }
      ]
    },
    {
      "cell_type": "code",
      "metadata": {
        "colab": {
          "base_uri": "https://localhost:8080/"
        },
        "id": "pltiSy98rRgm",
        "outputId": "b23c9c41-ec48-40b0-dc6f-b74261a0e2cd"
      },
      "source": [
        "print(round(math.degrees(math.atan2(10,10))))\n"
      ],
      "execution_count": null,
      "outputs": [
        {
          "output_type": "stream",
          "text": [
            "45\n"
          ],
          "name": "stdout"
        }
      ]
    },
    {
      "cell_type": "code",
      "metadata": {
        "colab": {
          "base_uri": "https://localhost:8080/"
        },
        "id": "q9v6QMgkZDAa",
        "outputId": "40a818a9-f8f7-44ab-b955-c1468d0469d4"
      },
      "source": [
        "items=set()\n",
        "for i in range(int(input())):\n",
        "  items.add(input())\n",
        "print(len(items))"
      ],
      "execution_count": null,
      "outputs": [
        {
          "output_type": "stream",
          "text": [
            "7\n",
            "UK\n",
            "China\n",
            "USA\n",
            "France\n",
            "New Zealand\n",
            "UK\n",
            "France\n",
            "5\n"
          ],
          "name": "stdout"
        }
      ]
    },
    {
      "cell_type": "code",
      "metadata": {
        "colab": {
          "base_uri": "https://localhost:8080/"
        },
        "id": "BtqNTKb7HNys",
        "outputId": "e4ea2c80-79d0-481e-92ab-22087127d7a9"
      },
      "source": [
        "variable='15'\n",
        "print(\"the varible is =%s\"%(variable))\n",
        "\n",
        "print(variable)"
      ],
      "execution_count": null,
      "outputs": [
        {
          "output_type": "stream",
          "text": [
            "the varible is =15\n",
            "15\n"
          ],
          "name": "stdout"
        }
      ]
    },
    {
      "cell_type": "code",
      "metadata": {
        "colab": {
          "base_uri": "https://localhost:8080/"
        },
        "id": "f1AXJvN4HNtE",
        "outputId": "742df66c-c954-4baf-f409-ea91457251fd"
      },
      "source": [
        "string=\"pavithra\"\n",
        "print(string)"
      ],
      "execution_count": null,
      "outputs": [
        {
          "output_type": "stream",
          "text": [
            "pavithra\n"
          ],
          "name": "stdout"
        }
      ]
    },
    {
      "cell_type": "code",
      "metadata": {
        "colab": {
          "base_uri": "https://localhost:8080/"
        },
        "id": "s54Wk-AbHNZk",
        "outputId": "f6ca202c-3b2f-4926-8ae4-9f96b722851c"
      },
      "source": [
        "lis=[2]\n",
        "print(\"the list in %r\"%(lis))"
      ],
      "execution_count": null,
      "outputs": [
        {
          "output_type": "stream",
          "text": [
            "the list in [2]\n",
            "[2]\n"
          ],
          "name": "stdout"
        }
      ]
    },
    {
      "cell_type": "code",
      "metadata": {
        "colab": {
          "base_uri": "https://localhost:8080/"
        },
        "id": "ufkXMYu1HNJs",
        "outputId": "d7d0df1a-5c6b-4de3-9941-914074f5a88a"
      },
      "source": [
        "from string import  Template\n",
        "t=Template('x is $x')\n",
        "print(t.substitute({'x':1234}))"
      ],
      "execution_count": null,
      "outputs": [
        {
          "output_type": "stream",
          "text": [
            "x is 1234\n"
          ],
          "name": "stdout"
        }
      ]
    },
    {
      "cell_type": "code",
      "metadata": {
        "colab": {
          "base_uri": "https://localhost:8080/"
        },
        "id": "Fg0c_NeVdMQI",
        "outputId": "9dc6da18-2811-48d7-d14b-d45821b03055"
      },
      "source": [
        "from string import Template\n",
        " \n",
        "template = Template('$name is the $job of $company')\n",
        " \n",
        "string = template.safe_substitute(name='Raju Kumar',\n",
        "                      job='TCE')\n",
        "print(string)"
      ],
      "execution_count": null,
      "outputs": [
        {
          "output_type": "stream",
          "text": [
            "Raju Kumar is the TCE of $company\n"
          ],
          "name": "stdout"
        }
      ]
    },
    {
      "cell_type": "code",
      "metadata": {
        "colab": {
          "base_uri": "https://localhost:8080/"
        },
        "id": "GYldG3w0HMtv",
        "outputId": "b17a27a1-b870-4991-cd82-3ece6b0fd253"
      },
      "source": [
        "from collections import  Counter\n",
        "stri='geeksforgeeks'\n",
        "print(Counter(stri))\n"
      ],
      "execution_count": null,
      "outputs": [
        {
          "output_type": "stream",
          "text": [
            "Counter({'e': 4, 'g': 2, 'k': 2, 's': 2, 'f': 1, 'o': 1, 'r': 1})\n"
          ],
          "name": "stdout"
        }
      ]
    },
    {
      "cell_type": "code",
      "metadata": {
        "colab": {
          "base_uri": "https://localhost:8080/"
        },
        "id": "O8tCc9lmT6gI",
        "outputId": "f43b48e0-efb8-4306-ab30-95d8bc7c1c98"
      },
      "source": [
        "s=\"geeksforgeeks\"\n",
        "print(reversed(s))"
      ],
      "execution_count": null,
      "outputs": [
        {
          "output_type": "stream",
          "text": [
            "<reversed object at 0x7f5a4ababa90>\n"
          ],
          "name": "stdout"
        }
      ]
    },
    {
      "cell_type": "code",
      "metadata": {
        "colab": {
          "base_uri": "https://localhost:8080/"
        },
        "id": "KRVHmnCUT6R3",
        "outputId": "3e223e1c-1d93-483d-ed6d-90b7409b0aee"
      },
      "source": [
        "print(len(max(bin(int(input().strip()))[2:].split('0'))))"
      ],
      "execution_count": null,
      "outputs": [
        {
          "output_type": "stream",
          "text": [
            "223\n",
            "5\n"
          ],
          "name": "stdout"
        }
      ]
    },
    {
      "cell_type": "code",
      "metadata": {
        "colab": {
          "base_uri": "https://localhost:8080/"
        },
        "id": "MpFhNs83T6EG",
        "outputId": "b20f305d-539c-42ba-d20e-6b5b00b11d9f"
      },
      "source": [
        "#deque functions\n",
        "\n",
        "from collections import deque\n",
        "d=deque()\n",
        "for _ in range(int(input())):\n",
        "    inp=input().split()\n",
        "    getattr(d,inp[0])(*[inp[1]]if len(inp)>1 else [])\n",
        "print(*[item for item in d])"
      ],
      "execution_count": null,
      "outputs": [
        {
          "output_type": "stream",
          "text": [
            "6\n",
            "append 1\n",
            "append 2\n",
            "append 3\n",
            "appendleft 4\n",
            "pop\n",
            "popleft\n",
            "1 2\n"
          ],
          "name": "stdout"
        }
      ]
    },
    {
      "cell_type": "code",
      "metadata": {
        "colab": {
          "base_uri": "https://localhost:8080/",
          "height": 376
        },
        "id": "zdCPjWbvT51t",
        "outputId": "01ae27d5-d1c1-4981-a445-3fb1c692275e"
      },
      "source": [
        "from collections import deque\n",
        "def check(d):\n",
        "  while d:\n",
        "    big= d.popleft if d[0]>d[1] else d.pop()\n",
        "    if not d:\n",
        "      return \"yes\"\n",
        "    if d[-1]>(big) or d[0]>(big):\n",
        "      return \"No\"\n",
        "            \n",
        "for i in range(int(input())):\n",
        "  int(input())\n",
        "  d=deque(map(int,input().split()))\n",
        "  print(check(d))"
      ],
      "execution_count": null,
      "outputs": [
        {
          "output_type": "stream",
          "text": [
            "2\n",
            "6\n",
            "4 3 2 1 3 4\n"
          ],
          "name": "stdout"
        },
        {
          "output_type": "error",
          "ename": "TypeError",
          "evalue": "ignored",
          "traceback": [
            "\u001b[0;31m---------------------------------------------------------------------------\u001b[0m",
            "\u001b[0;31mTypeError\u001b[0m                                 Traceback (most recent call last)",
            "\u001b[0;32m<ipython-input-20-55156d2c35e1>\u001b[0m in \u001b[0;36m<module>\u001b[0;34m()\u001b[0m\n\u001b[1;32m     11\u001b[0m   \u001b[0mint\u001b[0m\u001b[0;34m(\u001b[0m\u001b[0minput\u001b[0m\u001b[0;34m(\u001b[0m\u001b[0;34m)\u001b[0m\u001b[0;34m)\u001b[0m\u001b[0;34m\u001b[0m\u001b[0;34m\u001b[0m\u001b[0m\n\u001b[1;32m     12\u001b[0m   \u001b[0md\u001b[0m\u001b[0;34m=\u001b[0m\u001b[0mdeque\u001b[0m\u001b[0;34m(\u001b[0m\u001b[0mmap\u001b[0m\u001b[0;34m(\u001b[0m\u001b[0mint\u001b[0m\u001b[0;34m,\u001b[0m\u001b[0minput\u001b[0m\u001b[0;34m(\u001b[0m\u001b[0;34m)\u001b[0m\u001b[0;34m.\u001b[0m\u001b[0msplit\u001b[0m\u001b[0;34m(\u001b[0m\u001b[0;34m)\u001b[0m\u001b[0;34m)\u001b[0m\u001b[0;34m)\u001b[0m\u001b[0;34m\u001b[0m\u001b[0;34m\u001b[0m\u001b[0m\n\u001b[0;32m---> 13\u001b[0;31m   \u001b[0mprint\u001b[0m\u001b[0;34m(\u001b[0m\u001b[0mcheck\u001b[0m\u001b[0;34m(\u001b[0m\u001b[0md\u001b[0m\u001b[0;34m)\u001b[0m\u001b[0;34m)\u001b[0m\u001b[0;34m\u001b[0m\u001b[0;34m\u001b[0m\u001b[0m\n\u001b[0m",
            "\u001b[0;32m<ipython-input-20-55156d2c35e1>\u001b[0m in \u001b[0;36mcheck\u001b[0;34m(d)\u001b[0m\n\u001b[1;32m      5\u001b[0m     \u001b[0;32mif\u001b[0m \u001b[0;32mnot\u001b[0m \u001b[0md\u001b[0m\u001b[0;34m:\u001b[0m\u001b[0;34m\u001b[0m\u001b[0;34m\u001b[0m\u001b[0m\n\u001b[1;32m      6\u001b[0m       \u001b[0;32mreturn\u001b[0m \u001b[0;34m\"yes\"\u001b[0m\u001b[0;34m\u001b[0m\u001b[0;34m\u001b[0m\u001b[0m\n\u001b[0;32m----> 7\u001b[0;31m     \u001b[0;32mif\u001b[0m \u001b[0md\u001b[0m\u001b[0;34m[\u001b[0m\u001b[0;34m-\u001b[0m\u001b[0;36m1\u001b[0m\u001b[0;34m]\u001b[0m\u001b[0;34m>\u001b[0m\u001b[0;34m(\u001b[0m\u001b[0mbig\u001b[0m\u001b[0;34m)\u001b[0m \u001b[0;32mor\u001b[0m \u001b[0md\u001b[0m\u001b[0;34m[\u001b[0m\u001b[0;36m0\u001b[0m\u001b[0;34m]\u001b[0m\u001b[0;34m>\u001b[0m\u001b[0;34m(\u001b[0m\u001b[0mbig\u001b[0m\u001b[0;34m)\u001b[0m\u001b[0;34m:\u001b[0m\u001b[0;34m\u001b[0m\u001b[0;34m\u001b[0m\u001b[0m\n\u001b[0m\u001b[1;32m      8\u001b[0m       \u001b[0;32mreturn\u001b[0m \u001b[0;34m\"No\"\u001b[0m\u001b[0;34m\u001b[0m\u001b[0;34m\u001b[0m\u001b[0m\n\u001b[1;32m      9\u001b[0m \u001b[0;34m\u001b[0m\u001b[0m\n",
            "\u001b[0;31mTypeError\u001b[0m: '>' not supported between instances of 'int' and 'builtin_function_or_method'"
          ]
        }
      ]
    },
    {
      "cell_type": "code",
      "metadata": {
        "colab": {
          "base_uri": "https://localhost:8080/"
        },
        "id": "j0hdOoZVT5nt",
        "outputId": "ec475c22-f571-410f-b1a3-9364ddaf3908"
      },
      "source": [
        "from collections import deque\n",
        "def check(d):\n",
        "    while d:\n",
        "        big = d.popleft() if d[0]>d[-1] else d.pop()\n",
        "        if not d:\n",
        "            return \"Yes\"\n",
        "        if d[-1]>big or d[0]>big:\n",
        "            return \"No\"\n",
        "    \n",
        "for i in range(int(input())):\n",
        "    int(input())\n",
        "    d = deque(map(int,input().split()))\n",
        "    print(check(d))"
      ],
      "execution_count": null,
      "outputs": [
        {
          "output_type": "stream",
          "text": [
            "2\n",
            "6\n",
            "4 3 2 1 3 4\n",
            "Yes\n",
            "3\n",
            "1 3 2\n",
            "No\n"
          ],
          "name": "stdout"
        }
      ]
    },
    {
      "cell_type": "code",
      "metadata": {
        "colab": {
          "base_uri": "https://localhost:8080/"
        },
        "id": "E4UGbD_zPsEQ",
        "outputId": "29dbc637-0b45-4b7b-e9b9-8024e0967cad"
      },
      "source": [
        "from collections import Counter,OrderedDict\n",
        "class OrderedCounter(Counter,OrderedDict):\n",
        "  pass\n",
        "[print(*c) for c in OrderedCounter(sorted(input())).most_common(3)]\n"
      ],
      "execution_count": null,
      "outputs": [
        {
          "output_type": "stream",
          "text": [
            "aabbbccde\n",
            "b 3\n",
            "a 2\n",
            "c 2\n"
          ],
          "name": "stdout"
        },
        {
          "output_type": "execute_result",
          "data": {
            "text/plain": [
              "[None, None, None]"
            ]
          },
          "metadata": {
            "tags": []
          },
          "execution_count": 29
        }
      ]
    },
    {
      "cell_type": "code",
      "metadata": {
        "colab": {
          "base_uri": "https://localhost:8080/",
          "height": 341
        },
        "id": "iTW4f5yyPr6z",
        "outputId": "d28254eb-1d0b-4ec4-fc77-a3c12b476d64"
      },
      "source": [
        "n=int(input())\n",
        "s=set(map(int,input().split()))\n",
        "for i in range(int(input())):\n",
        "  eval('s.{0}({1})'.format(*input().split()+['']))\n",
        "print(sum(s))"
      ],
      "execution_count": null,
      "outputs": [
        {
          "output_type": "stream",
          "text": [
            "9\n",
            "123456789\n",
            "10\n",
            "pop \n",
            "remove9\n"
          ],
          "name": "stdout"
        },
        {
          "output_type": "error",
          "ename": "AttributeError",
          "evalue": "ignored",
          "traceback": [
            "\u001b[0;31m---------------------------------------------------------------------------\u001b[0m",
            "\u001b[0;31mAttributeError\u001b[0m                            Traceback (most recent call last)",
            "\u001b[0;32m<ipython-input-3-2b7680ac10e3>\u001b[0m in \u001b[0;36m<module>\u001b[0;34m()\u001b[0m\n\u001b[1;32m      2\u001b[0m \u001b[0ms\u001b[0m\u001b[0;34m=\u001b[0m\u001b[0mset\u001b[0m\u001b[0;34m(\u001b[0m\u001b[0mmap\u001b[0m\u001b[0;34m(\u001b[0m\u001b[0mint\u001b[0m\u001b[0;34m,\u001b[0m\u001b[0minput\u001b[0m\u001b[0;34m(\u001b[0m\u001b[0;34m)\u001b[0m\u001b[0;34m.\u001b[0m\u001b[0msplit\u001b[0m\u001b[0;34m(\u001b[0m\u001b[0;34m)\u001b[0m\u001b[0;34m)\u001b[0m\u001b[0;34m)\u001b[0m\u001b[0;34m\u001b[0m\u001b[0;34m\u001b[0m\u001b[0m\n\u001b[1;32m      3\u001b[0m \u001b[0;32mfor\u001b[0m \u001b[0mi\u001b[0m \u001b[0;32min\u001b[0m \u001b[0mrange\u001b[0m\u001b[0;34m(\u001b[0m\u001b[0mint\u001b[0m\u001b[0;34m(\u001b[0m\u001b[0minput\u001b[0m\u001b[0;34m(\u001b[0m\u001b[0;34m)\u001b[0m\u001b[0;34m)\u001b[0m\u001b[0;34m)\u001b[0m\u001b[0;34m:\u001b[0m\u001b[0;34m\u001b[0m\u001b[0;34m\u001b[0m\u001b[0m\n\u001b[0;32m----> 4\u001b[0;31m   \u001b[0meval\u001b[0m\u001b[0;34m(\u001b[0m\u001b[0;34m's.{0}({1})'\u001b[0m\u001b[0;34m.\u001b[0m\u001b[0mformat\u001b[0m\u001b[0;34m(\u001b[0m\u001b[0;34m*\u001b[0m\u001b[0minput\u001b[0m\u001b[0;34m(\u001b[0m\u001b[0;34m)\u001b[0m\u001b[0;34m.\u001b[0m\u001b[0msplit\u001b[0m\u001b[0;34m(\u001b[0m\u001b[0;34m)\u001b[0m\u001b[0;34m+\u001b[0m\u001b[0;34m[\u001b[0m\u001b[0;34m''\u001b[0m\u001b[0;34m]\u001b[0m\u001b[0;34m)\u001b[0m\u001b[0;34m)\u001b[0m\u001b[0;34m\u001b[0m\u001b[0;34m\u001b[0m\u001b[0m\n\u001b[0m\u001b[1;32m      5\u001b[0m \u001b[0mprint\u001b[0m\u001b[0;34m(\u001b[0m\u001b[0msum\u001b[0m\u001b[0;34m(\u001b[0m\u001b[0ms\u001b[0m\u001b[0;34m)\u001b[0m\u001b[0;34m)\u001b[0m\u001b[0;34m\u001b[0m\u001b[0;34m\u001b[0m\u001b[0m\n",
            "\u001b[0;32m<string>\u001b[0m in \u001b[0;36m<module>\u001b[0;34m()\u001b[0m\n",
            "\u001b[0;31mAttributeError\u001b[0m: 'set' object has no attribute 'remove9'"
          ]
        }
      ]
    },
    {
      "cell_type": "code",
      "metadata": {
        "colab": {
          "base_uri": "https://localhost:8080/"
        },
        "id": "9EFX6ZfePr2j",
        "outputId": "67bc8d77-6af3-497c-8f98-bbc2ae0ec82e"
      },
      "source": [
        "#set union\n",
        "\n",
        "print(len((set(input().split()) if input() != '-1' else '')|(set(input().split()) if input() != '-1' else '')))"
      ],
      "execution_count": null,
      "outputs": [
        {
          "output_type": "stream",
          "text": [
            "9\n",
            "1 2 3 4 5  6 7 8 9\n",
            "9\n",
            "10 1 2 3 11 21 55 6 8\n",
            "13\n"
          ],
          "name": "stdout"
        }
      ]
    },
    {
      "cell_type": "code",
      "metadata": {
        "colab": {
          "base_uri": "https://localhost:8080/"
        },
        "id": "PQI0dVBUPrze",
        "outputId": "0efddfca-88bc-415b-9114-c62258fa59ab"
      },
      "source": [
        "#set intersection operation\n",
        "print(len((set(input().split()) if input()!= '-1' else \" \")&(set(input().split())if input()!= '-1' else  \" \")))"
      ],
      "execution_count": null,
      "outputs": [
        {
          "output_type": "stream",
          "text": [
            "9\n",
            "1 2 3 4 5 6 7 8 9\n",
            "9\n",
            "10 1 2 3 11 21 55 6 8\n",
            "5\n"
          ],
          "name": "stdout"
        }
      ]
    },
    {
      "cell_type": "code",
      "metadata": {
        "id": "WTtArMUmPrvM"
      },
      "source": [
        "#set difference\n",
        "print(len((set(input().split()) if input()!= '-1' else \" \")-(set(input().split())if input()!= '-1' else  \" \")))"
      ],
      "execution_count": null,
      "outputs": []
    },
    {
      "cell_type": "code",
      "metadata": {
        "colab": {
          "base_uri": "https://localhost:8080/"
        },
        "id": "6koJJ5zoPrpc",
        "outputId": "0a646892-daa3-4b35-e596-e491bbdc9e95"
      },
      "source": [
        "#symmetric difference\n",
        "print(len((set(input().split()) if input()!='-1' else \" \")^(set(input().split())if input()!='-1' else \" \")))"
      ],
      "execution_count": null,
      "outputs": [
        {
          "output_type": "stream",
          "text": [
            "9\n",
            "1 2 3 4 5 6 7 8 9\n",
            "9\n",
            "10 1 2 3 11 2 55 6 8\n",
            "7\n"
          ],
          "name": "stdout"
        }
      ]
    },
    {
      "cell_type": "code",
      "metadata": {
        "colab": {
          "base_uri": "https://localhost:8080/"
        },
        "id": "XYA1mCpjbmtt",
        "outputId": "9d9cb6c4-fb6e-46e2-8e15-77fb23aacf86"
      },
      "source": [
        "lis=[[\"orange\",'apple'],['strawberry']]\n",
        "print(lis[0][1])\n",
        "print(lis[1][0])"
      ],
      "execution_count": null,
      "outputs": [
        {
          "output_type": "stream",
          "text": [
            "apple\n",
            "strawberry\n"
          ],
          "name": "stdout"
        }
      ]
    },
    {
      "cell_type": "code",
      "metadata": {
        "colab": {
          "base_uri": "https://localhost:8080/"
        },
        "id": "o-YN-6s_bmqg",
        "outputId": "fee3d585-6707-4004-8fed-c00ed858039d"
      },
      "source": [
        "odd=[i**2 for i in range(1,11) if i%2==1]\n",
        "print(odd)"
      ],
      "execution_count": null,
      "outputs": [
        {
          "output_type": "stream",
          "text": [
            "[1, 9, 25, 49, 81]\n"
          ],
          "name": "stdout"
        }
      ]
    },
    {
      "cell_type": "code",
      "metadata": {
        "colab": {
          "base_uri": "https://localhost:8080/"
        },
        "id": "KgPN41ljbmm7",
        "outputId": "0180dad3-01e2-40d4-caa4-c8fbd94d9fb5"
      },
      "source": [
        "for i in range(1,11):\n",
        "  if i%2==1:\n",
        "    print(i**2,end=\" \")\n",
        "   "
      ],
      "execution_count": null,
      "outputs": [
        {
          "output_type": "stream",
          "text": [
            "1 9 25 49 81 "
          ],
          "name": "stdout"
        }
      ]
    },
    {
      "cell_type": "code",
      "metadata": {
        "id": "j59EeDtFbmi0"
      },
      "source": [
        ""
      ],
      "execution_count": null,
      "outputs": []
    },
    {
      "cell_type": "code",
      "metadata": {
        "id": "mSn2_SHtbmfK"
      },
      "source": [
        ""
      ],
      "execution_count": null,
      "outputs": []
    },
    {
      "cell_type": "code",
      "metadata": {
        "id": "danVm9hjbmbM"
      },
      "source": [
        "#set mutation\n",
        "a = int(input())\n",
        "A = set(map(int, input().split(' ')))\n",
        "for i in range(int(input())):\n",
        "    s, b = input().split(' ')\n",
        "    if s == 'intersection_update':\n",
        "        A &= set(map(int, input().split(' ')))\n",
        "    elif s == 'update':\n",
        "        A |= set(map(int, input().split(' ')))\n",
        "    elif s == 'symmetric_difference_update':\n",
        "        A ^= set(map(int, input().split(' ')))\n",
        "    else:\n",
        "        A -= set(map(int, input().split(' ')))\n",
        "print(sum(A))"
      ],
      "execution_count": null,
      "outputs": []
    },
    {
      "cell_type": "code",
      "metadata": {
        "colab": {
          "base_uri": "https://localhost:8080/",
          "height": 573
        },
        "id": "l8JU5qcbPrlg",
        "outputId": "ec2ee17b-c2b5-47a2-f6bb-14ab5a0bbf71"
      },
      "source": [
        "_= int(input())\n",
        "s1 = set(map(int, input().split()))\n",
        "N = int(input()) \n",
        "for _ in range(N):\n",
        "    cmd, _ = input().split()\n",
        "    s2 = set(map(int, input().split()))\n",
        "    if(cmd == \"intersection_update\"):\n",
        "        s1.intersection_update(s2)\n",
        "    elif(cmd == \"update\"):\n",
        "        s1.update(s2)\n",
        "    elif(cmd == \"symmetric_difference_update\"):\n",
        "        s1.symmetric_difference_update(s2)\n",
        "    elif(cmd == \"difference_update\"):\n",
        "        s1.difference_update(s2)\n",
        "print(s1)\n",
        "\n",
        "print(sum(s1))\n"
      ],
      "execution_count": null,
      "outputs": [
        {
          "output_type": "error",
          "ename": "KeyboardInterrupt",
          "evalue": "ignored",
          "traceback": [
            "\u001b[0;31m---------------------------------------------------------------------------\u001b[0m",
            "\u001b[0;31mKeyboardInterrupt\u001b[0m                         Traceback (most recent call last)",
            "\u001b[0;32m/usr/local/lib/python3.7/dist-packages/ipykernel/kernelbase.py\u001b[0m in \u001b[0;36m_input_request\u001b[0;34m(self, prompt, ident, parent, password)\u001b[0m\n\u001b[1;32m    728\u001b[0m             \u001b[0;32mtry\u001b[0m\u001b[0;34m:\u001b[0m\u001b[0;34m\u001b[0m\u001b[0;34m\u001b[0m\u001b[0m\n\u001b[0;32m--> 729\u001b[0;31m                 \u001b[0mident\u001b[0m\u001b[0;34m,\u001b[0m \u001b[0mreply\u001b[0m \u001b[0;34m=\u001b[0m \u001b[0mself\u001b[0m\u001b[0;34m.\u001b[0m\u001b[0msession\u001b[0m\u001b[0;34m.\u001b[0m\u001b[0mrecv\u001b[0m\u001b[0;34m(\u001b[0m\u001b[0mself\u001b[0m\u001b[0;34m.\u001b[0m\u001b[0mstdin_socket\u001b[0m\u001b[0;34m,\u001b[0m \u001b[0;36m0\u001b[0m\u001b[0;34m)\u001b[0m\u001b[0;34m\u001b[0m\u001b[0;34m\u001b[0m\u001b[0m\n\u001b[0m\u001b[1;32m    730\u001b[0m             \u001b[0;32mexcept\u001b[0m \u001b[0mException\u001b[0m\u001b[0;34m:\u001b[0m\u001b[0;34m\u001b[0m\u001b[0;34m\u001b[0m\u001b[0m\n",
            "\u001b[0;32m/usr/local/lib/python3.7/dist-packages/jupyter_client/session.py\u001b[0m in \u001b[0;36mrecv\u001b[0;34m(self, socket, mode, content, copy)\u001b[0m\n\u001b[1;32m    802\u001b[0m         \u001b[0;32mtry\u001b[0m\u001b[0;34m:\u001b[0m\u001b[0;34m\u001b[0m\u001b[0;34m\u001b[0m\u001b[0m\n\u001b[0;32m--> 803\u001b[0;31m             \u001b[0mmsg_list\u001b[0m \u001b[0;34m=\u001b[0m \u001b[0msocket\u001b[0m\u001b[0;34m.\u001b[0m\u001b[0mrecv_multipart\u001b[0m\u001b[0;34m(\u001b[0m\u001b[0mmode\u001b[0m\u001b[0;34m,\u001b[0m \u001b[0mcopy\u001b[0m\u001b[0;34m=\u001b[0m\u001b[0mcopy\u001b[0m\u001b[0;34m)\u001b[0m\u001b[0;34m\u001b[0m\u001b[0;34m\u001b[0m\u001b[0m\n\u001b[0m\u001b[1;32m    804\u001b[0m         \u001b[0;32mexcept\u001b[0m \u001b[0mzmq\u001b[0m\u001b[0;34m.\u001b[0m\u001b[0mZMQError\u001b[0m \u001b[0;32mas\u001b[0m \u001b[0me\u001b[0m\u001b[0;34m:\u001b[0m\u001b[0;34m\u001b[0m\u001b[0;34m\u001b[0m\u001b[0m\n",
            "\u001b[0;32m/usr/local/lib/python3.7/dist-packages/zmq/sugar/socket.py\u001b[0m in \u001b[0;36mrecv_multipart\u001b[0;34m(self, flags, copy, track)\u001b[0m\n\u001b[1;32m    582\u001b[0m         \"\"\"\n\u001b[0;32m--> 583\u001b[0;31m         \u001b[0mparts\u001b[0m \u001b[0;34m=\u001b[0m \u001b[0;34m[\u001b[0m\u001b[0mself\u001b[0m\u001b[0;34m.\u001b[0m\u001b[0mrecv\u001b[0m\u001b[0;34m(\u001b[0m\u001b[0mflags\u001b[0m\u001b[0;34m,\u001b[0m \u001b[0mcopy\u001b[0m\u001b[0;34m=\u001b[0m\u001b[0mcopy\u001b[0m\u001b[0;34m,\u001b[0m \u001b[0mtrack\u001b[0m\u001b[0;34m=\u001b[0m\u001b[0mtrack\u001b[0m\u001b[0;34m)\u001b[0m\u001b[0;34m]\u001b[0m\u001b[0;34m\u001b[0m\u001b[0;34m\u001b[0m\u001b[0m\n\u001b[0m\u001b[1;32m    584\u001b[0m         \u001b[0;31m# have first part already, only loop while more to receive\u001b[0m\u001b[0;34m\u001b[0m\u001b[0;34m\u001b[0m\u001b[0;34m\u001b[0m\u001b[0m\n",
            "\u001b[0;32mzmq/backend/cython/socket.pyx\u001b[0m in \u001b[0;36mzmq.backend.cython.socket.Socket.recv\u001b[0;34m()\u001b[0m\n",
            "\u001b[0;32mzmq/backend/cython/socket.pyx\u001b[0m in \u001b[0;36mzmq.backend.cython.socket.Socket.recv\u001b[0;34m()\u001b[0m\n",
            "\u001b[0;32mzmq/backend/cython/socket.pyx\u001b[0m in \u001b[0;36mzmq.backend.cython.socket._recv_copy\u001b[0;34m()\u001b[0m\n",
            "\u001b[0;32m/usr/local/lib/python3.7/dist-packages/zmq/backend/cython/checkrc.pxd\u001b[0m in \u001b[0;36mzmq.backend.cython.checkrc._check_rc\u001b[0;34m()\u001b[0m\n",
            "\u001b[0;31mKeyboardInterrupt\u001b[0m: ",
            "\nDuring handling of the above exception, another exception occurred:\n",
            "\u001b[0;31mKeyboardInterrupt\u001b[0m                         Traceback (most recent call last)",
            "\u001b[0;32m<ipython-input-13-1d46e2347040>\u001b[0m in \u001b[0;36m<module>\u001b[0;34m()\u001b[0m\n\u001b[0;32m----> 1\u001b[0;31m \u001b[0m_\u001b[0m\u001b[0;34m=\u001b[0m \u001b[0mint\u001b[0m\u001b[0;34m(\u001b[0m\u001b[0minput\u001b[0m\u001b[0;34m(\u001b[0m\u001b[0;34m)\u001b[0m\u001b[0;34m)\u001b[0m\u001b[0;34m\u001b[0m\u001b[0;34m\u001b[0m\u001b[0m\n\u001b[0m\u001b[1;32m      2\u001b[0m \u001b[0ms1\u001b[0m \u001b[0;34m=\u001b[0m \u001b[0mset\u001b[0m\u001b[0;34m(\u001b[0m\u001b[0mmap\u001b[0m\u001b[0;34m(\u001b[0m\u001b[0mint\u001b[0m\u001b[0;34m,\u001b[0m \u001b[0minput\u001b[0m\u001b[0;34m(\u001b[0m\u001b[0;34m)\u001b[0m\u001b[0;34m.\u001b[0m\u001b[0msplit\u001b[0m\u001b[0;34m(\u001b[0m\u001b[0;34m)\u001b[0m\u001b[0;34m)\u001b[0m\u001b[0;34m)\u001b[0m\u001b[0;34m\u001b[0m\u001b[0;34m\u001b[0m\u001b[0m\n\u001b[1;32m      3\u001b[0m \u001b[0mN\u001b[0m \u001b[0;34m=\u001b[0m \u001b[0mint\u001b[0m\u001b[0;34m(\u001b[0m\u001b[0minput\u001b[0m\u001b[0;34m(\u001b[0m\u001b[0;34m)\u001b[0m\u001b[0;34m)\u001b[0m\u001b[0;34m\u001b[0m\u001b[0;34m\u001b[0m\u001b[0m\n\u001b[1;32m      4\u001b[0m \u001b[0;32mfor\u001b[0m \u001b[0m_\u001b[0m \u001b[0;32min\u001b[0m \u001b[0mrange\u001b[0m\u001b[0;34m(\u001b[0m\u001b[0mN\u001b[0m\u001b[0;34m)\u001b[0m\u001b[0;34m:\u001b[0m\u001b[0;34m\u001b[0m\u001b[0;34m\u001b[0m\u001b[0m\n\u001b[1;32m      5\u001b[0m     \u001b[0mcmd\u001b[0m\u001b[0;34m,\u001b[0m \u001b[0m_\u001b[0m \u001b[0;34m=\u001b[0m \u001b[0minput\u001b[0m\u001b[0;34m(\u001b[0m\u001b[0;34m)\u001b[0m\u001b[0;34m.\u001b[0m\u001b[0msplit\u001b[0m\u001b[0;34m(\u001b[0m\u001b[0;34m)\u001b[0m\u001b[0;34m\u001b[0m\u001b[0;34m\u001b[0m\u001b[0m\n",
            "\u001b[0;32m/usr/local/lib/python3.7/dist-packages/ipykernel/kernelbase.py\u001b[0m in \u001b[0;36mraw_input\u001b[0;34m(self, prompt)\u001b[0m\n\u001b[1;32m    702\u001b[0m             \u001b[0mself\u001b[0m\u001b[0;34m.\u001b[0m\u001b[0m_parent_ident\u001b[0m\u001b[0;34m,\u001b[0m\u001b[0;34m\u001b[0m\u001b[0;34m\u001b[0m\u001b[0m\n\u001b[1;32m    703\u001b[0m             \u001b[0mself\u001b[0m\u001b[0;34m.\u001b[0m\u001b[0m_parent_header\u001b[0m\u001b[0;34m,\u001b[0m\u001b[0;34m\u001b[0m\u001b[0;34m\u001b[0m\u001b[0m\n\u001b[0;32m--> 704\u001b[0;31m             \u001b[0mpassword\u001b[0m\u001b[0;34m=\u001b[0m\u001b[0;32mFalse\u001b[0m\u001b[0;34m,\u001b[0m\u001b[0;34m\u001b[0m\u001b[0;34m\u001b[0m\u001b[0m\n\u001b[0m\u001b[1;32m    705\u001b[0m         )\n\u001b[1;32m    706\u001b[0m \u001b[0;34m\u001b[0m\u001b[0m\n",
            "\u001b[0;32m/usr/local/lib/python3.7/dist-packages/ipykernel/kernelbase.py\u001b[0m in \u001b[0;36m_input_request\u001b[0;34m(self, prompt, ident, parent, password)\u001b[0m\n\u001b[1;32m    732\u001b[0m             \u001b[0;32mexcept\u001b[0m \u001b[0mKeyboardInterrupt\u001b[0m\u001b[0;34m:\u001b[0m\u001b[0;34m\u001b[0m\u001b[0;34m\u001b[0m\u001b[0m\n\u001b[1;32m    733\u001b[0m                 \u001b[0;31m# re-raise KeyboardInterrupt, to truncate traceback\u001b[0m\u001b[0;34m\u001b[0m\u001b[0;34m\u001b[0m\u001b[0;34m\u001b[0m\u001b[0m\n\u001b[0;32m--> 734\u001b[0;31m                 \u001b[0;32mraise\u001b[0m \u001b[0mKeyboardInterrupt\u001b[0m\u001b[0;34m\u001b[0m\u001b[0;34m\u001b[0m\u001b[0m\n\u001b[0m\u001b[1;32m    735\u001b[0m             \u001b[0;32melse\u001b[0m\u001b[0;34m:\u001b[0m\u001b[0;34m\u001b[0m\u001b[0;34m\u001b[0m\u001b[0m\n\u001b[1;32m    736\u001b[0m                 \u001b[0;32mbreak\u001b[0m\u001b[0;34m\u001b[0m\u001b[0;34m\u001b[0m\u001b[0m\n",
            "\u001b[0;31mKeyboardInterrupt\u001b[0m: "
          ]
        }
      ]
    },
    {
      "cell_type": "code",
      "metadata": {
        "colab": {
          "base_uri": "https://localhost:8080/"
        },
        "id": "wgDlgvbDgkgO",
        "outputId": "73a4d722-40f8-445c-c9a8-e67e5879e130"
      },
      "source": [
        "#cpatain room\n",
        "\n",
        "k,arr = int(input()),list(map(int, input().split()))\n",
        "\n",
        "myset = set(arr)\n",
        "\n",
        "\n",
        "print(((sum(myset)*k)-(sum(arr)))//(k-1))"
      ],
      "execution_count": null,
      "outputs": [
        {
          "output_type": "stream",
          "text": [
            "5\n",
            "1 2 3 6 5 4 4 2 5 3 6 1 6 5 3 2 4 1 2 5 1 4 3 6 8 4 3 1 5 6 2\n",
            "{1, 2, 3, 4, 5, 6, 8}\n",
            "8\n"
          ],
          "name": "stdout"
        }
      ]
    },
    {
      "cell_type": "code",
      "metadata": {
        "colab": {
          "base_uri": "https://localhost:8080/"
        },
        "id": "0-gKvDacgkcb",
        "outputId": "af9877c5-c7d3-4218-c4ed-632f757eb0ce"
      },
      "source": [
        "from collections import Counter\n",
        "k=int(input())\n",
        "arr = list(map(int,input().split()))\n",
        "print({v:k for k,v in Counter(arr).items()}[1])\n"
      ],
      "execution_count": null,
      "outputs": [
        {
          "output_type": "stream",
          "text": [
            "5\n",
            "1 2 3 6 5 4 4 2 5 3 6 1 6 5 3 2 4 1 2 5 1 4 3 6 8 4 3 1 5 6 2\n",
            "8\n"
          ],
          "name": "stdout"
        }
      ]
    },
    {
      "cell_type": "code",
      "metadata": {
        "colab": {
          "base_uri": "https://localhost:8080/"
        },
        "id": "CtGc-wDagkZ3",
        "outputId": "772ad3d4-c077-44fd-c80f-e02e88032751"
      },
      "source": [
        "for _ in range(int(input())):\n",
        "  x,a,z,b=input(),set(input().split()),input(),set(input().split())\n",
        "  print(a.issubset(b))"
      ],
      "execution_count": null,
      "outputs": [
        {
          "output_type": "stream",
          "text": [
            "3\n",
            "5\n",
            "1 2 3 5 6\n",
            "9\n",
            "9 8 5 6 3 2 1 4 7\n",
            "True\n",
            "1\n",
            "2\n",
            "5\n",
            "3 6 5 4 1\n",
            "False\n",
            "7\n",
            "1 2 3 5 6 8 9\n",
            "3\n",
            "9 8 2\n",
            "False\n"
          ],
          "name": "stdout"
        }
      ]
    },
    {
      "cell_type": "code",
      "metadata": {
        "colab": {
          "background_save": true,
          "base_uri": "https://localhost:8080/"
        },
        "id": "04RK76pagkWK",
        "outputId": "07ce1372-686c-4b5f-9951-fe05453bdb26"
      },
      "source": [
        "lis = [2, 1, 3, 5, 4, 3, 8]\n",
        "del (lis[3:5])\n",
        "print(lis)\n",
        "     "
      ],
      "execution_count": null,
      "outputs": [
        {
          "output_type": "stream",
          "text": [
            "[2, 1, 3, 3, 8]\n"
          ],
          "name": "stdout"
        },
        {
          "output_type": "error",
          "ename": "TypeError",
          "evalue": "ignored",
          "traceback": [
            "\u001b[0;31m---------------------------------------------------------------------------\u001b[0m",
            "\u001b[0;31mTypeError\u001b[0m                                 Traceback (most recent call last)",
            "\u001b[0;32m<ipython-input-14-6030dee1475f>\u001b[0m in \u001b[0;36m<module>\u001b[0;34m()\u001b[0m\n\u001b[1;32m      2\u001b[0m \u001b[0;32mdel\u001b[0m \u001b[0;34m(\u001b[0m\u001b[0mlis\u001b[0m\u001b[0;34m[\u001b[0m\u001b[0;36m3\u001b[0m\u001b[0;34m:\u001b[0m\u001b[0;36m5\u001b[0m\u001b[0;34m]\u001b[0m\u001b[0;34m)\u001b[0m\u001b[0;34m\u001b[0m\u001b[0;34m\u001b[0m\u001b[0m\n\u001b[1;32m      3\u001b[0m \u001b[0mprint\u001b[0m\u001b[0;34m(\u001b[0m\u001b[0mlis\u001b[0m\u001b[0;34m)\u001b[0m\u001b[0;34m\u001b[0m\u001b[0;34m\u001b[0m\u001b[0m\n\u001b[0;32m----> 4\u001b[0;31m \u001b[0;32mfor\u001b[0m \u001b[0mi\u001b[0m \u001b[0;32min\u001b[0m \u001b[0mrange\u001b[0m\u001b[0;34m(\u001b[0m\u001b[0mlis\u001b[0m\u001b[0;34m)\u001b[0m\u001b[0;34m:\u001b[0m\u001b[0;34m\u001b[0m\u001b[0;34m\u001b[0m\u001b[0m\n\u001b[0m\u001b[1;32m      5\u001b[0m   \u001b[0mprint\u001b[0m\u001b[0;34m(\u001b[0m\u001b[0mlist\u001b[0m\u001b[0;34m[\u001b[0m\u001b[0mi\u001b[0m\u001b[0;34m]\u001b[0m\u001b[0;34m,\u001b[0m\u001b[0mend\u001b[0m\u001b[0;34m=\u001b[0m\u001b[0;34m' '\u001b[0m\u001b[0;34m)\u001b[0m\u001b[0;34m\u001b[0m\u001b[0;34m\u001b[0m\u001b[0m\n\u001b[1;32m      6\u001b[0m \u001b[0;34m\u001b[0m\u001b[0m\n",
            "\u001b[0;31mTypeError\u001b[0m: 'list' object cannot be interpreted as an integer"
          ]
        }
      ]
    },
    {
      "cell_type": "code",
      "metadata": {
        "id": "O07BlMlqgkTd",
        "colab": {
          "base_uri": "https://localhost:8080/"
        },
        "outputId": "35cd6586-a7b9-487c-a741-cb75dfea9394"
      },
      "source": [
        "import math\n",
        "a,b,m=[int(input()) for _ in \"123\"]\n",
        "print(pow(a,b),pow(a,b,m),sep='\\n')"
      ],
      "execution_count": null,
      "outputs": [
        {
          "output_type": "stream",
          "text": [
            "3\n",
            "4\n",
            "5\n",
            "81\n",
            "1\n"
          ],
          "name": "stdout"
        }
      ]
    },
    {
      "cell_type": "code",
      "metadata": {
        "id": "grNWCkXFgkQv",
        "colab": {
          "base_uri": "https://localhost:8080/"
        },
        "outputId": "57ceb432-036e-482f-a05f-5e822405f42c"
      },
      "source": [
        "a,b,c,d=[int(input()) for _ in \"1234\"]\n",
        "print(pow(a,b)+pow(c,d))"
      ],
      "execution_count": null,
      "outputs": [
        {
          "output_type": "stream",
          "text": [
            "9\n",
            "29\n",
            "7\n",
            "27\n",
            "4710194409608608369201743232\n"
          ],
          "name": "stdout"
        }
      ]
    },
    {
      "cell_type": "code",
      "metadata": {
        "id": "XwPQ5D8xgkNN",
        "colab": {
          "base_uri": "https://localhost:8080/"
        },
        "outputId": "7afca05f-1f68-4a1d-e176-ba2186690480"
      },
      "source": [
        "import numpy\n",
        "print(numpy.eye(8,7,k=1))\n",
        "print(\"\\r\")\n",
        "print(numpy.eye(8,7,k=-2))"
      ],
      "execution_count": null,
      "outputs": [
        {
          "output_type": "stream",
          "text": [
            "[[0. 1. 0. 0. 0. 0. 0.]\n",
            " [0. 0. 1. 0. 0. 0. 0.]\n",
            " [0. 0. 0. 1. 0. 0. 0.]\n",
            " [0. 0. 0. 0. 1. 0. 0.]\n",
            " [0. 0. 0. 0. 0. 1. 0.]\n",
            " [0. 0. 0. 0. 0. 0. 1.]\n",
            " [0. 0. 0. 0. 0. 0. 0.]\n",
            " [0. 0. 0. 0. 0. 0. 0.]]\n",
            "\r\n",
            "[[0. 0. 0. 0. 0. 0. 0.]\n",
            " [0. 0. 0. 0. 0. 0. 0.]\n",
            " [1. 0. 0. 0. 0. 0. 0.]\n",
            " [0. 1. 0. 0. 0. 0. 0.]\n",
            " [0. 0. 1. 0. 0. 0. 0.]\n",
            " [0. 0. 0. 1. 0. 0. 0.]\n",
            " [0. 0. 0. 0. 1. 0. 0.]\n",
            " [0. 0. 0. 0. 0. 1. 0.]]\n"
          ],
          "name": "stdout"
        }
      ]
    },
    {
      "cell_type": "code",
      "metadata": {
        "id": "oD_YKEq0gkI6",
        "colab": {
          "base_uri": "https://localhost:8080/"
        },
        "outputId": "adea3327-723a-4c88-f99d-281e4f4f5833"
      },
      "source": [
        "import numpy\n",
        "print(str(numpy.eye(*map(int,input().split()))).replace('1',' 1').replace('0',' 0'))\n"
      ],
      "execution_count": null,
      "outputs": [
        {
          "output_type": "stream",
          "text": [
            "3  3\n",
            "[[ 1.  0.  0.]\n",
            " [ 0.  1.  0.]\n",
            " [ 0.  0.  1.]]\n"
          ],
          "name": "stdout"
        }
      ]
    },
    {
      "cell_type": "code",
      "metadata": {
        "id": "prNSCsD9gkEj",
        "colab": {
          "base_uri": "https://localhost:8080/"
        },
        "outputId": "7569b98b-d5b8-4373-aa3f-9efbdd7475d7"
      },
      "source": [
        "import numpy\n",
        "print(numpy.eye(3,3))"
      ],
      "execution_count": null,
      "outputs": [
        {
          "output_type": "stream",
          "text": [
            "[[1. 0. 0.]\n",
            " [0. 1. 0.]\n",
            " [0. 0. 1.]]\n"
          ],
          "name": "stdout"
        }
      ]
    },
    {
      "cell_type": "code",
      "metadata": {
        "colab": {
          "base_uri": "https://localhost:8080/"
        },
        "id": "agb2cFwO-0uv",
        "outputId": "6ed31a81-9700-4a84-dab9-9a4ec447d980"
      },
      "source": [
        "import numpy as np\n",
        "n,m=map(int,input().split())\n",
        "a,b=(np.array([input().split() ],dtype=int) for _ in range(2))\n",
        "print(a+b,a-b,a*b,a//b,a%b,a**b,sep=\"\\n\")"
      ],
      "execution_count": null,
      "outputs": [
        {
          "output_type": "stream",
          "text": [
            "1 4\n",
            "1 2 3 4\n",
            "5 6 7 8\n",
            "[[ 6  8 10 12]]\n",
            "[[-4 -4 -4 -4]]\n",
            "[[ 5 12 21 32]]\n",
            "[[0 0 0 0]]\n",
            "[[1 2 3 4]]\n",
            "[[    1    64  2187 65536]]\n"
          ],
          "name": "stdout"
        }
      ]
    },
    {
      "cell_type": "code",
      "metadata": {
        "colab": {
          "base_uri": "https://localhost:8080/"
        },
        "id": "Qdm-IzsO-0sA",
        "outputId": "49eb94b2-1b59-41da-89f8-6c3951b770df"
      },
      "source": [
        "import numpy as np\n",
        "n, m = map(int, input().split())\n",
        "a, b = (np.array([input().split() for _ in range(n)], dtype=int) for _ in range(2))\n",
        "print(a+b, a-b, a*b, a//b, a%b, a**b, sep='\\n')"
      ],
      "execution_count": null,
      "outputs": [
        {
          "output_type": "stream",
          "text": [
            "1 4\n",
            "1 2 3 4\n",
            "5 6  7  8\n",
            "[[ 6  8 10 12]]\n",
            "[[-4 -4 -4 -4]]\n",
            "[[ 5 12 21 32]]\n",
            "[[0 0 0 0]]\n",
            "[[1 2 3 4]]\n",
            "[[    1    64  2187 65536]]\n"
          ],
          "name": "stdout"
        }
      ]
    },
    {
      "cell_type": "code",
      "metadata": {
        "id": "kQh6pPZV-0oJ",
        "colab": {
          "base_uri": "https://localhost:8080/"
        },
        "outputId": "25e2da7b-7331-4b83-8a88-22dd6bec7717"
      },
      "source": [
        "from itertools import combinations_with_replacement\n",
        "s,k=input().split()\n",
        "for c in combinations_with_replacement(sorted(s),int(k)):\n",
        "  print(''.join(c))"
      ],
      "execution_count": null,
      "outputs": [
        {
          "output_type": "stream",
          "text": [
            "HACK 2\n",
            "AA\n",
            "AC\n",
            "AH\n",
            "AK\n",
            "CC\n",
            "CH\n",
            "CK\n",
            "HH\n",
            "HK\n",
            "KK\n"
          ],
          "name": "stdout"
        }
      ]
    },
    {
      "cell_type": "code",
      "metadata": {
        "id": "o-P9Gce3-0ks",
        "colab": {
          "base_uri": "https://localhost:8080/"
        },
        "outputId": "0b9505db-877f-4248-99ad-1d459f785f7d"
      },
      "source": [
        "from itertools import groupby\n",
        "print(*[(len(list(c)),int(k)) for k,c in groupby(input())])\n"
      ],
      "execution_count": null,
      "outputs": [
        {
          "output_type": "stream",
          "text": [
            "12223311\n",
            "(1, 1) (3, 2) (2, 3) (2, 1)\n"
          ],
          "name": "stdout"
        }
      ]
    },
    {
      "cell_type": "code",
      "metadata": {
        "colab": {
          "base_uri": "https://localhost:8080/",
          "height": 185
        },
        "id": "yPAbroTuUV9x",
        "outputId": "4957040f-0a84-4c6d-dbd9-8d49a5ee0e5c"
      },
      "source": [
        "s='1222'\n",
        "len(list(s),int(s))"
      ],
      "execution_count": null,
      "outputs": [
        {
          "output_type": "error",
          "ename": "TypeError",
          "evalue": "ignored",
          "traceback": [
            "\u001b[0;31m---------------------------------------------------------------------------\u001b[0m",
            "\u001b[0;31mTypeError\u001b[0m                                 Traceback (most recent call last)",
            "\u001b[0;32m<ipython-input-9-1fac7f72046f>\u001b[0m in \u001b[0;36m<module>\u001b[0;34m()\u001b[0m\n\u001b[1;32m      1\u001b[0m \u001b[0ms\u001b[0m\u001b[0;34m=\u001b[0m\u001b[0;34m'1222'\u001b[0m\u001b[0;34m\u001b[0m\u001b[0;34m\u001b[0m\u001b[0m\n\u001b[0;32m----> 2\u001b[0;31m \u001b[0mlen\u001b[0m\u001b[0;34m(\u001b[0m\u001b[0mlist\u001b[0m\u001b[0;34m(\u001b[0m\u001b[0ms\u001b[0m\u001b[0;34m)\u001b[0m\u001b[0;34m,\u001b[0m\u001b[0mint\u001b[0m\u001b[0;34m(\u001b[0m\u001b[0ms\u001b[0m\u001b[0;34m)\u001b[0m\u001b[0;34m)\u001b[0m\u001b[0;34m\u001b[0m\u001b[0;34m\u001b[0m\u001b[0m\n\u001b[0m",
            "\u001b[0;31mTypeError\u001b[0m: len() takes exactly one argument (2 given)"
          ]
        }
      ]
    },
    {
      "cell_type": "code",
      "metadata": {
        "colab": {
          "base_uri": "https://localhost:8080/"
        },
        "id": "1PRhWzhnUV58",
        "outputId": "57041f33-a67a-4e95-b287-66451ae86d12"
      },
      "source": [
        "N = int(input())\n",
        "L = input().split()\n",
        "K = int(input())\n",
        "\n",
        "C = list(combinations(L, K))\n",
        "print(C)\n",
        "F = filter(lambda c: 'a' in c, C)\n",
        "print(F)\n",
        "print(\"{0:.3}\".format(len(list(F))/len(C)))"
      ],
      "execution_count": null,
      "outputs": [
        {
          "output_type": "stream",
          "text": [
            "4\n",
            "a a c d\n",
            "2\n",
            "[('a', 'a'), ('a', 'c'), ('a', 'd'), ('a', 'c'), ('a', 'd'), ('c', 'd')]\n",
            "<filter object at 0x7ffa7bd65ed0>\n",
            "0.833\n"
          ],
          "name": "stdout"
        }
      ]
    },
    {
      "cell_type": "code",
      "metadata": {
        "colab": {
          "base_uri": "https://localhost:8080/",
          "height": 411
        },
        "id": "8d2Awu99UV2m",
        "outputId": "17778907-b40e-41b9-f624-f6a77fa6c37f"
      },
      "source": [
        "from itertools import product\n",
        "K,M = map(int,input().split())\n",
        "N = (list(map(int, input().split()))[1:] for _ in range(K))\n",
        "results = map(lambda x: sum(i**2 for i in x)%M, product(*N))\n",
        "print(list(results))\n",
        "print(max(results))"
      ],
      "execution_count": null,
      "outputs": [
        {
          "output_type": "stream",
          "text": [
            "3 100\n",
            "\n",
            "sdko\n"
          ],
          "name": "stdout"
        },
        {
          "output_type": "error",
          "ename": "ValueError",
          "evalue": "ignored",
          "traceback": [
            "\u001b[0;31m---------------------------------------------------------------------------\u001b[0m",
            "\u001b[0;31mValueError\u001b[0m                                Traceback (most recent call last)",
            "\u001b[0;32m<ipython-input-21-18a106a3a9ba>\u001b[0m in \u001b[0;36m<module>\u001b[0;34m()\u001b[0m\n\u001b[1;32m      2\u001b[0m \u001b[0mK\u001b[0m\u001b[0;34m,\u001b[0m\u001b[0mM\u001b[0m \u001b[0;34m=\u001b[0m \u001b[0mmap\u001b[0m\u001b[0;34m(\u001b[0m\u001b[0mint\u001b[0m\u001b[0;34m,\u001b[0m\u001b[0minput\u001b[0m\u001b[0;34m(\u001b[0m\u001b[0;34m)\u001b[0m\u001b[0;34m.\u001b[0m\u001b[0msplit\u001b[0m\u001b[0;34m(\u001b[0m\u001b[0;34m)\u001b[0m\u001b[0;34m)\u001b[0m\u001b[0;34m\u001b[0m\u001b[0;34m\u001b[0m\u001b[0m\n\u001b[1;32m      3\u001b[0m \u001b[0mN\u001b[0m \u001b[0;34m=\u001b[0m \u001b[0;34m(\u001b[0m\u001b[0mlist\u001b[0m\u001b[0;34m(\u001b[0m\u001b[0mmap\u001b[0m\u001b[0;34m(\u001b[0m\u001b[0mint\u001b[0m\u001b[0;34m,\u001b[0m \u001b[0minput\u001b[0m\u001b[0;34m(\u001b[0m\u001b[0;34m)\u001b[0m\u001b[0;34m.\u001b[0m\u001b[0msplit\u001b[0m\u001b[0;34m(\u001b[0m\u001b[0;34m)\u001b[0m\u001b[0;34m)\u001b[0m\u001b[0;34m)\u001b[0m\u001b[0;34m[\u001b[0m\u001b[0;36m1\u001b[0m\u001b[0;34m:\u001b[0m\u001b[0;34m]\u001b[0m \u001b[0;32mfor\u001b[0m \u001b[0m_\u001b[0m \u001b[0;32min\u001b[0m \u001b[0mrange\u001b[0m\u001b[0;34m(\u001b[0m\u001b[0mK\u001b[0m\u001b[0;34m)\u001b[0m\u001b[0;34m)\u001b[0m\u001b[0;34m\u001b[0m\u001b[0;34m\u001b[0m\u001b[0m\n\u001b[0;32m----> 4\u001b[0;31m \u001b[0mresults\u001b[0m \u001b[0;34m=\u001b[0m \u001b[0mmap\u001b[0m\u001b[0;34m(\u001b[0m\u001b[0;32mlambda\u001b[0m \u001b[0mx\u001b[0m\u001b[0;34m:\u001b[0m \u001b[0msum\u001b[0m\u001b[0;34m(\u001b[0m\u001b[0mi\u001b[0m\u001b[0;34m**\u001b[0m\u001b[0;36m2\u001b[0m \u001b[0;32mfor\u001b[0m \u001b[0mi\u001b[0m \u001b[0;32min\u001b[0m \u001b[0mx\u001b[0m\u001b[0;34m)\u001b[0m\u001b[0;34m%\u001b[0m\u001b[0mM\u001b[0m\u001b[0;34m,\u001b[0m \u001b[0mproduct\u001b[0m\u001b[0;34m(\u001b[0m\u001b[0;34m*\u001b[0m\u001b[0mN\u001b[0m\u001b[0;34m)\u001b[0m\u001b[0;34m)\u001b[0m\u001b[0;34m\u001b[0m\u001b[0;34m\u001b[0m\u001b[0m\n\u001b[0m\u001b[1;32m      5\u001b[0m \u001b[0mprint\u001b[0m\u001b[0;34m(\u001b[0m\u001b[0mlist\u001b[0m\u001b[0;34m(\u001b[0m\u001b[0mresults\u001b[0m\u001b[0;34m)\u001b[0m\u001b[0;34m)\u001b[0m\u001b[0;34m\u001b[0m\u001b[0;34m\u001b[0m\u001b[0m\n\u001b[1;32m      6\u001b[0m \u001b[0mprint\u001b[0m\u001b[0;34m(\u001b[0m\u001b[0mmax\u001b[0m\u001b[0;34m(\u001b[0m\u001b[0mresults\u001b[0m\u001b[0;34m)\u001b[0m\u001b[0;34m)\u001b[0m\u001b[0;34m\u001b[0m\u001b[0;34m\u001b[0m\u001b[0m\n",
            "\u001b[0;32m<ipython-input-21-18a106a3a9ba>\u001b[0m in \u001b[0;36m<genexpr>\u001b[0;34m(.0)\u001b[0m\n\u001b[1;32m      1\u001b[0m \u001b[0;32mfrom\u001b[0m \u001b[0mitertools\u001b[0m \u001b[0;32mimport\u001b[0m \u001b[0mproduct\u001b[0m\u001b[0;34m\u001b[0m\u001b[0;34m\u001b[0m\u001b[0m\n\u001b[1;32m      2\u001b[0m \u001b[0mK\u001b[0m\u001b[0;34m,\u001b[0m\u001b[0mM\u001b[0m \u001b[0;34m=\u001b[0m \u001b[0mmap\u001b[0m\u001b[0;34m(\u001b[0m\u001b[0mint\u001b[0m\u001b[0;34m,\u001b[0m\u001b[0minput\u001b[0m\u001b[0;34m(\u001b[0m\u001b[0;34m)\u001b[0m\u001b[0;34m.\u001b[0m\u001b[0msplit\u001b[0m\u001b[0;34m(\u001b[0m\u001b[0;34m)\u001b[0m\u001b[0;34m)\u001b[0m\u001b[0;34m\u001b[0m\u001b[0;34m\u001b[0m\u001b[0m\n\u001b[0;32m----> 3\u001b[0;31m \u001b[0mN\u001b[0m \u001b[0;34m=\u001b[0m \u001b[0;34m(\u001b[0m\u001b[0mlist\u001b[0m\u001b[0;34m(\u001b[0m\u001b[0mmap\u001b[0m\u001b[0;34m(\u001b[0m\u001b[0mint\u001b[0m\u001b[0;34m,\u001b[0m \u001b[0minput\u001b[0m\u001b[0;34m(\u001b[0m\u001b[0;34m)\u001b[0m\u001b[0;34m.\u001b[0m\u001b[0msplit\u001b[0m\u001b[0;34m(\u001b[0m\u001b[0;34m)\u001b[0m\u001b[0;34m)\u001b[0m\u001b[0;34m)\u001b[0m\u001b[0;34m[\u001b[0m\u001b[0;36m1\u001b[0m\u001b[0;34m:\u001b[0m\u001b[0;34m]\u001b[0m \u001b[0;32mfor\u001b[0m \u001b[0m_\u001b[0m \u001b[0;32min\u001b[0m \u001b[0mrange\u001b[0m\u001b[0;34m(\u001b[0m\u001b[0mK\u001b[0m\u001b[0;34m)\u001b[0m\u001b[0;34m)\u001b[0m\u001b[0;34m\u001b[0m\u001b[0;34m\u001b[0m\u001b[0m\n\u001b[0m\u001b[1;32m      4\u001b[0m \u001b[0mresults\u001b[0m \u001b[0;34m=\u001b[0m \u001b[0mmap\u001b[0m\u001b[0;34m(\u001b[0m\u001b[0;32mlambda\u001b[0m \u001b[0mx\u001b[0m\u001b[0;34m:\u001b[0m \u001b[0msum\u001b[0m\u001b[0;34m(\u001b[0m\u001b[0mi\u001b[0m\u001b[0;34m**\u001b[0m\u001b[0;36m2\u001b[0m \u001b[0;32mfor\u001b[0m \u001b[0mi\u001b[0m \u001b[0;32min\u001b[0m \u001b[0mx\u001b[0m\u001b[0;34m)\u001b[0m\u001b[0;34m%\u001b[0m\u001b[0mM\u001b[0m\u001b[0;34m,\u001b[0m \u001b[0mproduct\u001b[0m\u001b[0;34m(\u001b[0m\u001b[0;34m*\u001b[0m\u001b[0mN\u001b[0m\u001b[0;34m)\u001b[0m\u001b[0;34m)\u001b[0m\u001b[0;34m\u001b[0m\u001b[0;34m\u001b[0m\u001b[0m\n\u001b[1;32m      5\u001b[0m \u001b[0mprint\u001b[0m\u001b[0;34m(\u001b[0m\u001b[0mlist\u001b[0m\u001b[0;34m(\u001b[0m\u001b[0mresults\u001b[0m\u001b[0;34m)\u001b[0m\u001b[0;34m)\u001b[0m\u001b[0;34m\u001b[0m\u001b[0;34m\u001b[0m\u001b[0m\n",
            "\u001b[0;31mValueError\u001b[0m: invalid literal for int() with base 10: 'sdko'"
          ]
        }
      ]
    },
    {
      "cell_type": "code",
      "metadata": {
        "id": "txrY1NYiUVyU"
      },
      "source": [
        "K,M=map(int,input().split())\n",
        "N=(list(map(int,input().split()))[1:] for _ in range(k))\n",
        "results=map(lambda x:sum(i**2 for i in x)%M,product(*N))\n",
        "print(results)"
      ],
      "execution_count": null,
      "outputs": []
    },
    {
      "cell_type": "code",
      "metadata": {
        "id": "vMzFiGG6UVvH",
        "colab": {
          "base_uri": "https://localhost:8080/"
        },
        "outputId": "77dfa26c-a7ff-40de-9a6b-61ec31c22e73"
      },
      "source": [
        "n,x=map(int,input().split())\n",
        "sheet=[]\n",
        "for _ in range(x):\n",
        "  sheet.append(map(float,input().split()))\n",
        "for i in zip(*sheet):\n",
        "  print(sum(i)/len(i))"
      ],
      "execution_count": null,
      "outputs": [
        {
          "output_type": "stream",
          "text": [
            "5 3\n",
            "89 90 78 93 80\n",
            "90 91 85 88 86 \n",
            "91 92 83 89 90.5\n",
            "90.0\n",
            "91.0\n",
            "82.0\n",
            "90.0\n",
            "85.5\n"
          ],
          "name": "stdout"
        }
      ]
    },
    {
      "cell_type": "code",
      "metadata": {
        "id": "8GnVsuMbUVq3",
        "colab": {
          "base_uri": "https://localhost:8080/"
        },
        "outputId": "680ff6c1-bfd0-4479-bfb8-fb6f7954869e"
      },
      "source": [
        "ui = input().split()\n",
        "x = int(ui[0])\n",
        "print(eval(input()) == int(ui[1]))"
      ],
      "execution_count": null,
      "outputs": [
        {
          "output_type": "stream",
          "text": [
            "1 4\n",
            "x**3+x**2+x+1\n",
            "True\n"
          ],
          "name": "stdout"
        }
      ]
    },
    {
      "cell_type": "code",
      "metadata": {
        "id": "JGhTI65rSlWN",
        "colab": {
          "base_uri": "https://localhost:8080/"
        },
        "outputId": "78b7acd5-6f3d-40d4-9f5c-eccb27e89b96"
      },
      "source": [
        "N,n = int(input()),input().split()\n",
        "print (all([int(i)>0 for i in n]) and any([j == j[::-1] for j in n]))"
      ],
      "execution_count": null,
      "outputs": [
        {
          "output_type": "stream",
          "text": [
            "5\n",
            "12 9 61 5 14 \n",
            "True\n"
          ],
          "name": "stdout"
        }
      ]
    },
    {
      "cell_type": "code",
      "metadata": {
        "colab": {
          "base_uri": "https://localhost:8080/"
        },
        "id": "7kyXT8w0M_KK",
        "outputId": "936074af-527e-4153-eee7-bc3eda170581"
      },
      "source": [
        "class flashcard:\n",
        "  def __init__(self,word,meaning):\n",
        "    self.word=word\n",
        "    self.meaning=meaning\n",
        "  def __str__(self):\n",
        "    return self.word+'('+self.meaning+')'\n",
        "flash=[]\n",
        "print(\"welcome to the flash card aplication\")\n",
        "while(True):\n",
        "  word=input(\"enter the name you want to add your flash card\")\n",
        "  meaning=input(\"enter the meaning add to flash card\")\n",
        "  flash.append(flashcard(word,meaning))\n",
        "  option=int(input(\"enter 0 if you want another flash card\"))\n",
        "  if(option):\n",
        "    break\n",
        "print(\"\\n flash cards\")\n",
        "for i in flash:\n",
        "  print(\">\",i)\n"
      ],
      "execution_count": null,
      "outputs": [
        {
          "output_type": "stream",
          "text": [
            "welcome to the flash card aplication\n",
            "enter the name you want to add your flash carddsa\n",
            "enter the meaning add to flash carddata structures and algos\n",
            "enter 0 if you want another flash card0\n",
            "enter the name you want to add your flash cardgfg\n",
            "enter the meaning add to flash cardgeeks for geeks\n",
            "enter 0 if you want another flash card1\n",
            "\n",
            " flash cards\n",
            "dsa(data structures and algos) gfg(geeks for geeks) "
          ],
          "name": "stdout"
        }
      ]
    },
    {
      "cell_type": "code",
      "metadata": {
        "colab": {
          "base_uri": "https://localhost:8080/"
        },
        "id": "QepKJb45S3xO",
        "outputId": "fdb1565f-4c1c-455b-a762-ba11f9e4658d"
      },
      "source": [
        "class geeks:\n",
        "  count=0\n",
        "  def __init__(self):\n",
        "    geeks.count+=1\n",
        "g1=geeks()\n",
        "g2=geeks()\n",
        "g3=geeks()\n",
        "print(geeks.count)\n"
      ],
      "execution_count": null,
      "outputs": [
        {
          "output_type": "stream",
          "text": [
            "3\n"
          ],
          "name": "stdout"
        }
      ]
    },
    {
      "cell_type": "code",
      "metadata": {
        "id": "3CdZkVI5URwz",
        "colab": {
          "base_uri": "https://localhost:8080/"
        },
        "outputId": "c5d9acfb-b0f2-4c17-db97-bb00aed18c43"
      },
      "source": [
        "import math\n",
        "import random\n",
        "print(random.randint(0,5))\n",
        "print(random.random())\n",
        "print(random.random()*100)\n"
      ],
      "execution_count": null,
      "outputs": [
        {
          "output_type": "stream",
          "text": [
            "0\n",
            "0.2398227204047496\n",
            "37.94990655778749\n"
          ],
          "name": "stdout"
        }
      ]
    },
    {
      "cell_type": "code",
      "metadata": {
        "colab": {
          "base_uri": "https://localhost:8080/"
        },
        "id": "uE8oi2pbO_cZ",
        "outputId": "fd3ae572-991d-42eb-e990-f61ae8a27173"
      },
      "source": [
        "import os\n",
        "cwd=os.getcwd()\n",
        "print(\"current working directory\",cwd)"
      ],
      "execution_count": null,
      "outputs": [
        {
          "output_type": "stream",
          "text": [
            "current working directory /content\n"
          ],
          "name": "stdout"
        }
      ]
    },
    {
      "cell_type": "code",
      "metadata": {
        "colab": {
          "base_uri": "https://localhost:8080/"
        },
        "id": "icUkrHerO_Y5",
        "outputId": "a2b3e45f-ed99-4d2f-fc9b-141583fa6e2c"
      },
      "source": [
        "import os\n",
        "def current_path():\n",
        "  print(\"current working directory\")\n",
        "  print(os.getcwd)\n",
        "  print()\n",
        "current_path()\n",
        "os.chdir('../')\n",
        "current_path()"
      ],
      "execution_count": null,
      "outputs": [
        {
          "output_type": "stream",
          "text": [
            "current working directory\n",
            "<built-in function getcwd>\n",
            "\n",
            "current working directory\n",
            "<built-in function getcwd>\n",
            "\n"
          ],
          "name": "stdout"
        }
      ]
    },
    {
      "cell_type": "code",
      "metadata": {
        "id": "5E96RIFmO_Vn",
        "colab": {
          "base_uri": "https://localhost:8080/"
        },
        "outputId": "b5b5aa53-4272-428d-851a-feeef17159cd"
      },
      "source": [
        "from abc import ABCMeta,abstractmethod\n",
        "class Book(object,metaclass=ABCMeta):\n",
        "  def __init__(self,author,title):\n",
        "    self.author=author\n",
        "    self.title=title\n",
        "  @abstractmethod\n",
        "  def display():\n",
        "    pass\n",
        "class MyBook(Book):\n",
        "  price=0\n",
        "  def __init__(self,author,title,price):\n",
        "    self.price=price\n",
        "    super(Book,self).__init__\n",
        "  def display(self):\n",
        "    print(\"Title :\"+ title)\n",
        "    print(\"Author :\"+ author)\n",
        "    print(\"Price :\"+ str(price))\n",
        "\n",
        "\n",
        "title=input()\n",
        "author=input()\n",
        "price=int(input())\n",
        "New_novel=MyBook(author,title,price)\n",
        "New_novel.display()\n"
      ],
      "execution_count": 1,
      "outputs": [
        {
          "output_type": "stream",
          "text": [
            "The Alchemist\n",
            "Paulo Coelho\n",
            "248\n",
            "Title :The Alchemist\n",
            "Author :Paulo Coelho\n",
            "Price :248\n"
          ],
          "name": "stdout"
        }
      ]
    },
    {
      "cell_type": "code",
      "metadata": {
        "id": "-zD8eJcJO_SP"
      },
      "source": [
        ""
      ],
      "execution_count": null,
      "outputs": []
    }
  ]
}