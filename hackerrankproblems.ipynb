{
  "nbformat": 4,
  "nbformat_minor": 0,
  "metadata": {
    "colab": {
      "name": "hackerrankproblems.ipynb",
      "provenance": [],
      "authorship_tag": "ABX9TyOAtoYl52DmRgshqwLJyq5E",
      "include_colab_link": true
    },
    "kernelspec": {
      "name": "python3",
      "display_name": "Python 3"
    },
    "language_info": {
      "name": "python"
    }
  },
  "cells": [
    {
      "cell_type": "markdown",
      "metadata": {
        "id": "view-in-github",
        "colab_type": "text"
      },
      "source": [
        "<a href=\"https://colab.research.google.com/github/srikrishna-stack/python-problem-solving/blob/main/hackerrankproblems.ipynb\" target=\"_parent\"><img src=\"https://colab.research.google.com/assets/colab-badge.svg\" alt=\"Open In Colab\"/></a>"
      ]
    },
    {
      "cell_type": "code",
      "metadata": {
        "colab": {
          "base_uri": "https://localhost:8080/"
        },
        "id": "x74kPi9SH-8s",
        "outputId": "7586b919-5327-4afb-8385-af349669eae4"
      },
      "source": [
        "#factorial of a number\n",
        "def factorial (n):\n",
        "  if (n==0 or n==1):\n",
        "    return 1\n",
        "  else:\n",
        "    return n*foactorial (n-1)\n",
        "print(factorial (5))\n",
        "import math\n",
        "i=math.factorial(5)\n",
        "print(i)\n",
        "\n"
      ],
      "execution_count": null,
      "outputs": [
        {
          "output_type": "stream",
          "text": [
            "120\n"
          ],
          "name": "stdout"
        }
      ]
    },
    {
      "cell_type": "code",
      "metadata": {
        "colab": {
          "base_uri": "https://localhost:8080/"
        },
        "id": "wjey04uEJCH7",
        "outputId": "e5d5222e-f692-4eda-bea0-bd43e59c8e1a"
      },
      "source": [
        "def compound_intrest(principle,rate,time):\n",
        "  amount=principle*(pow((1 + rate / 100), time))\n",
        "  ci=amount-time\n",
        "  print(\"compound intrest is\",ci)\n",
        "compound_intrest(10000,10.25,5)\n",
        "\n",
        "\n"
      ],
      "execution_count": null,
      "outputs": [
        {
          "output_type": "stream",
          "text": [
            "compound intrest is 16283.946267774416\n"
          ],
          "name": "stdout"
        }
      ]
    },
    {
      "cell_type": "code",
      "metadata": {
        "colab": {
          "base_uri": "https://localhost:8080/"
        },
        "id": "1JOXuuEtJ545",
        "outputId": "e7577b46-b02c-4df8-e12c-2469d13eeb41"
      },
      "source": [
        "#to calculate the amstrong number or not\n",
        "num=int(input(\"enter the value\"))\n",
        "temp=num\n",
        "sum=0\n",
        "while (temp>0):\n",
        "  digit=temp % 10\n",
        "  sum+=digit**3\n",
        "  temp//=10\n",
        "if num==sum:\n",
        "  print(\"it is a amstrong number\")\n",
        "else :\n",
        "  print(\"it is not a amstrong number\")\n",
        "#amstrong of n digits\n",
        "\n"
      ],
      "execution_count": null,
      "outputs": [
        {
          "output_type": "stream",
          "text": [
            "enter the value123\n",
            "it is not a amstrong number\n",
            "this is not the amsdtong number\n"
          ],
          "name": "stdout"
        }
      ]
    },
    {
      "cell_type": "code",
      "metadata": {
        "colab": {
          "base_uri": "https://localhost:8080/"
        },
        "id": "nb9X5A60O2b-",
        "outputId": "e5cb1b3e-8d53-44e8-eaf4-a890bdd6dcb4"
      },
      "source": [
        "num1=int(input(\"enter the value\"))\n",
        "order=len(str(num1))\n",
        "sum=0\n",
        "temp=num1\n",
        "while (temp>0):\n",
        "  digit=temp%10\n",
        "  sum+=digit** order\n",
        "  temp//=10\n",
        "if(num1==sum):\n",
        "  print(\"amstrong number\")\n",
        "else:\n",
        "  print(\"this is not the amsdtong number\")\n"
      ],
      "execution_count": null,
      "outputs": [
        {
          "output_type": "stream",
          "text": [
            "enter the value1634\n",
            "amstrong number\n"
          ],
          "name": "stdout"
        }
      ]
    },
    {
      "cell_type": "code",
      "metadata": {
        "colab": {
          "base_uri": "https://localhost:8080/"
        },
        "id": "ry2_d6eGPTcZ",
        "outputId": "fdea2f0b-01b9-47e7-f535-be9566a011eb"
      },
      "source": [
        "#python program to print prime number\n",
        "start=11\n",
        "end=25\n",
        "for i in range(start,end+1):\n",
        "  for j in range(2,i):\n",
        "    if i%j==0:\n",
        "      break\n",
        "  else:\n",
        "    print(i)\n"
      ],
      "execution_count": null,
      "outputs": [
        {
          "output_type": "stream",
          "text": [
            "11\n",
            "13\n",
            "17\n",
            "19\n",
            "23\n"
          ],
          "name": "stdout"
        }
      ]
    },
    {
      "cell_type": "code",
      "metadata": {
        "colab": {
          "base_uri": "https://localhost:8080/"
        },
        "id": "K-WHDR8BRrvR",
        "outputId": "2d10e71e-3aa9-4901-b498-65bf8bab8349"
      },
      "source": [
        "p1=int(input(\"enter the number\"))\n",
        "if p1 >1:\n",
        "  for i in range(2,int(p1/2)+1):\n",
        "    if p1%i==0:\n",
        "      print(\"p1 is not a prime number\")\n",
        "      break\n",
        "  else:\n",
        "    print(p1,\"it is a prime number\")\n",
        "else:\n",
        "  print(\"it is not a prime number\")\n"
      ],
      "execution_count": null,
      "outputs": [
        {
          "output_type": "stream",
          "text": [
            "enter the number3\n",
            "3 it is a prime number\n"
          ],
          "name": "stdout"
        }
      ]
    },
    {
      "cell_type": "code",
      "metadata": {
        "colab": {
          "base_uri": "https://localhost:8080/"
        },
        "id": "1G40qPXHS8IW",
        "outputId": "9f9e833e-a22f-485a-9840-14e050da7b99"
      },
      "source": [
        "#fibonacci serires\n",
        "def fibonaci(n):\n",
        "  a=0\n",
        "  b=1\n",
        "  if (n<0):\n",
        "    print(\"incorrect input\")\n",
        "  elif n==0:\n",
        "    return a\n",
        "  elif n==1:\n",
        "    return b\n",
        "  else:\n",
        "    for i in range(2,n):\n",
        "      i=a+b\n",
        "      a=b\n",
        "      b=i\n",
        "    return b\n",
        "\n",
        "print (fibonaci(9))"
      ],
      "execution_count": null,
      "outputs": [
        {
          "output_type": "stream",
          "text": [
            "21\n"
          ],
          "name": "stdout"
        }
      ]
    },
    {
      "cell_type": "code",
      "metadata": {
        "colab": {
          "base_uri": "https://localhost:8080/"
        },
        "id": "FF6qhMhbVbDM",
        "outputId": "293fdf10-cb96-492c-e859-593ae86c1696"
      },
      "source": [
        "c='g'\n",
        "print(\"the ASCII value of  c is \",c,ord(c))"
      ],
      "execution_count": null,
      "outputs": [
        {
          "output_type": "stream",
          "text": [
            "the ASCII value of  c is  g 103\n"
          ],
          "name": "stdout"
        }
      ]
    },
    {
      "cell_type": "code",
      "metadata": {
        "colab": {
          "base_uri": "https://localhost:8080/"
        },
        "id": "qQX96cd3eKl3",
        "outputId": "2d1f6738-06e4-4a1a-ec94-c02bfeae84a1"
      },
      "source": [
        "#sum of first natural numbers\n",
        "def squaresum(n):\n",
        "  sum=0\n",
        "  for i in range(1,n+1):\n",
        "    sum+=i*i\n",
        "  return sum\n",
        "print(squaresum(5))"
      ],
      "execution_count": null,
      "outputs": [
        {
          "output_type": "stream",
          "text": [
            "55\n"
          ],
          "name": "stdout"
        }
      ]
    },
    {
      "cell_type": "code",
      "metadata": {
        "colab": {
          "base_uri": "https://localhost:8080/"
        },
        "id": "PCxaif03fcBv",
        "outputId": "dc9abf75-d896-4352-c221-bfd18c141ce7"
      },
      "source": [
        "#program to find the sum of array\n",
        "import array as arr\n",
        "arr=arr.array('i',[1,2,3,4])\n",
        "sum=0\n",
        "for i in arr:\n",
        "  sum=sum+i\n",
        "print(sum)\n",
        "max=arr[0]\n",
        "for i in range(len(arr)):\n",
        "  arr[i]>max\n",
        "  max=arr[i]\n",
        "print(max)\n",
        "  \n",
        "\n",
        "  \n"
      ],
      "execution_count": null,
      "outputs": [
        {
          "output_type": "stream",
          "text": [
            "10\n",
            "4\n"
          ],
          "name": "stdout"
        }
      ]
    },
    {
      "cell_type": "code",
      "metadata": {
        "colab": {
          "base_uri": "https://localhost:8080/"
        },
        "id": "1OYnEk76hRSX",
        "outputId": "8596f8ae-72f4-4322-ed75-f7aa08e3703f"
      },
      "source": [
        "def rotation_array(arr,n,d):\n",
        "  temp=[]\n",
        "  i=0\n",
        "  while(i<d):\n",
        "    temp.append(arr[i])\n",
        "    i=i+1\n",
        "  i=0\n",
        "  while(d<n):\n",
        "    arr[i]=arr[d]\n",
        "    i=i+1\n",
        "    d=d+1\n",
        "  arr[:]=arr[:i]+temp\n",
        "  return arr\n",
        "arr=[1,2,3,4,5,6,7]\n",
        "print('this is the original array',arr)\n",
        "print('array after left rotation')\n",
        "print(rotation_array(arr,len(arr),2))"
      ],
      "execution_count": null,
      "outputs": [
        {
          "output_type": "stream",
          "text": [
            "this is the original array [1, 2, 3, 4, 5, 6, 7]\n",
            "array after left rotation\n",
            "[3, 4, 5, 6, 7, 1, 2]\n"
          ],
          "name": "stdout"
        }
      ]
    },
    {
      "cell_type": "code",
      "metadata": {
        "colab": {
          "base_uri": "https://localhost:8080/"
        },
        "id": "N7V9aX2-mVKc",
        "outputId": "fac23163-8542-4b2a-8d18-95abe28ad12e"
      },
      "source": [
        "def findremainder(arr, lens, n):\n",
        "    mul = 1\n",
        " \n",
        "    # find the individual\n",
        "    # remainder and\n",
        "    # multiple with mul.\n",
        "    for i in arr:\n",
        "        mul = mul *i\n",
        " \n",
        "    return mul % n\n",
        " \n",
        " \n",
        "# Driven code\n",
        "arr = [100, 10, 5, 25, 35, 14]\n",
        "lens = len(arr)\n",
        "n = 11\n",
        "print(findremainder(arr, lens, n))"
      ],
      "execution_count": null,
      "outputs": [
        {
          "output_type": "stream",
          "text": [
            "9\n"
          ],
          "name": "stdout"
        }
      ]
    },
    {
      "cell_type": "code",
      "metadata": {
        "colab": {
          "base_uri": "https://localhost:8080/"
        },
        "id": "cFrf-dkaqs7t",
        "outputId": "93d718e5-47f6-4c6b-8b06-3297101b94eb"
      },
      "source": [
        "def isMonotonic(A):\n",
        "  \n",
        "    return (all(A[i] <= A[i + 1] for i in range(len(A) - 1)) or\n",
        "            all(A[i] >= A[i + 1] for i in range(len(A) - 1)))\n",
        "A = [6, 5, 4, 4]\n",
        "print(isMonotonic(A))"
      ],
      "execution_count": null,
      "outputs": [
        {
          "output_type": "stream",
          "text": [
            "True\n"
          ],
          "name": "stdout"
        }
      ]
    },
    {
      "cell_type": "code",
      "metadata": {
        "colab": {
          "base_uri": "https://localhost:8080/"
        },
        "id": "NP5jY18PsQvl",
        "outputId": "17683579-bff7-4e9c-dddc-429f27b427cd"
      },
      "source": [
        "#swaping the elements in the list\n",
        "def swap_element(list1):\n",
        "  n= len(list1)\n",
        "  temp=list1[0]\n",
        "  list1[0]=list1[n-1]\n",
        "  list1[n-1]=temp\n",
        "  return list1\n",
        "  \n",
        "list1=[1,2,3,4,5,6]\n",
        "print(\"list before swapping\",list1)\n",
        "print(swap_element(list1))"
      ],
      "execution_count": null,
      "outputs": [
        {
          "output_type": "stream",
          "text": [
            "list before swapping [1, 2, 3, 4, 5, 6]\n",
            "[6, 2, 3, 4, 5, 1]\n"
          ],
          "name": "stdout"
        }
      ]
    },
    {
      "cell_type": "code",
      "metadata": {
        "id": "18ZbfAI40sWu",
        "colab": {
          "base_uri": "https://localhost:8080/"
        },
        "outputId": "d367b6b6-934e-4e41-9cd4-8b37c73731ba"
      },
      "source": [
        "list1=[2,3,1,4,5,6]\n",
        "list1.sort()\n",
        "print(list1[:1])"
      ],
      "execution_count": null,
      "outputs": [
        {
          "output_type": "stream",
          "text": [
            "[1]\n"
          ],
          "name": "stdout"
        }
      ]
    },
    {
      "cell_type": "code",
      "metadata": {
        "colab": {
          "base_uri": "https://localhost:8080/"
        },
        "id": "LEBOEL7KffJV",
        "outputId": "f841c782-21fa-4ab7-cbc5-ddd129de6bef"
      },
      "source": [
        "import sys\n",
        "a=int(input())\n",
        "b=int(input())\n",
        "print(a//b)\n",
        "print(a/b)\n",
        "\n",
        "\n"
      ],
      "execution_count": null,
      "outputs": [
        {
          "output_type": "stream",
          "text": [
            "4\n",
            "3\n",
            "1\n",
            "1.3333333333333333\n"
          ],
          "name": "stdout"
        }
      ]
    },
    {
      "cell_type": "code",
      "metadata": {
        "colab": {
          "base_uri": "https://localhost:8080/"
        },
        "id": "JKi4UPtWffEl",
        "outputId": "6d64c699-e892-4090-80bc-a5679916c7e2"
      },
      "source": [
        "#TO print leap year\n",
        "def is_leap(year):\n",
        "    leap = False\n",
        "    if (year==2100):\n",
        "      return leap\n",
        "    if (year%4==0):\n",
        "        return True\n",
        "    if (year%400==0):\n",
        "        return True\n",
        "    \n",
        "    else:\n",
        "        return leap\n",
        "year = int(input())\n",
        "print(is_leap(year))"
      ],
      "execution_count": null,
      "outputs": [
        {
          "output_type": "stream",
          "text": [
            "2100\n",
            "False\n"
          ],
          "name": "stdout"
        }
      ]
    },
    {
      "cell_type": "code",
      "metadata": {
        "colab": {
          "base_uri": "https://localhost:8080/"
        },
        "id": "rmaHvxWTffBV",
        "outputId": "89e9195f-b5c6-4d52-c833-c75c913fca29"
      },
      "source": [
        "n=int(input())\n",
        "for i in range(n):\n",
        "  print(i+1,end=\"\")"
      ],
      "execution_count": null,
      "outputs": [
        {
          "output_type": "stream",
          "text": [
            "3\n",
            "123"
          ],
          "name": "stdout"
        }
      ]
    },
    {
      "cell_type": "code",
      "metadata": {
        "colab": {
          "base_uri": "https://localhost:8080/"
        },
        "id": "1HDZxC1bfe9-",
        "outputId": "a894d44e-85ac-4dba-f93d-9494785403ac"
      },
      "source": [
        "    class EvenStream(object):\n",
        "        def __init__(self):\n",
        "            self.current = 0\n",
        "\n",
        "        def get_next(self):\n",
        "            to_return = self.current\n",
        "            self.current += 2\n",
        "            return to_return\n",
        "\n",
        "    class OddStream(object):\n",
        "        def __init__(self):\n",
        "            self.current = 1\n",
        "\n",
        "        def get_next(self):\n",
        "            to_return = self.current\n",
        "            self.current += 2\n",
        "            return to_return\n",
        "\n",
        "    def print_from_stream(n, stream=None):\n",
        "        stream = OddStream() if stream else EvenStream()\n",
        "        for _ in range(n):\n",
        "            print(stream.get_next())\n",
        "\n",
        "\n",
        "    queries = int(input())\n",
        "    for _ in range(queries):\n",
        "        stream_name, n = input().split()\n",
        "        n = int(n)\n",
        "        if stream_name == \"even\":\n",
        "            print_from_stream(n)\n",
        "        else:\n",
        "            print_from_stream(n, OddStream())\n"
      ],
      "execution_count": null,
      "outputs": [
        {
          "output_type": "stream",
          "text": [
            "3\n",
            "even 3\n",
            "0\n",
            "2\n",
            "4\n",
            "odd 2\n",
            "1\n",
            "3\n",
            "odd 5\n",
            "1\n",
            "3\n",
            "5\n",
            "7\n",
            "9\n"
          ],
          "name": "stdout"
        }
      ]
    },
    {
      "cell_type": "code",
      "metadata": {
        "id": "Ki4a7yCpfe6U",
        "colab": {
          "base_uri": "https://localhost:8080/"
        },
        "outputId": "7b6405f2-fac5-4fd3-80ea-2abde9fa51ea"
      },
      "source": [
        "def lexnumbers(n):\n",
        "  s=[]\n",
        "  for i in range(1,n+1):\n",
        "    s.append(str(i))\n",
        "  s.sort()\n",
        "  ans=[]\n",
        "  for i in range(n):\n",
        "    ans.append(int(s[i]))\n",
        "  for i in range(n):\n",
        "    print(ans[i],end=\" \")\n",
        "  \n",
        "if __name__==\"__main__\":\n",
        "  n=15\n",
        "  lexnumbers(n)"
      ],
      "execution_count": null,
      "outputs": [
        {
          "output_type": "stream",
          "text": [
            "1 10 11 12 13 14 15 2 3 4 5 6 7 8 9 "
          ],
          "name": "stdout"
        }
      ]
    },
    {
      "cell_type": "code",
      "metadata": {
        "id": "qSNKPS8Xfe3I",
        "colab": {
          "base_uri": "https://localhost:8080/"
        },
        "outputId": "7d7d6872-2368-4185-b1ae-6d774dd26bb7"
      },
      "source": [
        "if __name__==\"__main__\":\n",
        "  x=int(input())\n",
        "  y=int(input())\n",
        "  z=int(input())\n",
        "  n=int(input())\n",
        "  output=[]\n",
        "  abc=[]\n",
        "  for x in range(x+1):\n",
        "    for y in range(y+1):\n",
        "      for z in range(z+1):\n",
        "        if x+y+z!=n:\n",
        "          abc=[x,y,z]\n",
        "          output.append(abc)\n",
        "print(output)"
      ],
      "execution_count": null,
      "outputs": [
        {
          "output_type": "stream",
          "text": [
            "1\n",
            "1\n",
            "1\n",
            "2\n",
            "[[0, 0, 0], [0, 0, 1], [0, 1, 0], [1, 0, 0], [1, 1, 1]]\n"
          ],
          "name": "stdout"
        }
      ]
    },
    {
      "cell_type": "code",
      "metadata": {
        "id": "5-UgZhOP4pxv",
        "colab": {
          "base_uri": "https://localhost:8080/"
        },
        "outputId": "33371a33-7932-42da-f20b-c4ca7cdfc8d8"
      },
      "source": [
        "input_string=(input())\n",
        "print('Hello, World')\n",
        "print(input_string)"
      ],
      "execution_count": null,
      "outputs": [
        {
          "output_type": "stream",
          "text": [
            "Welcome to 30 Days of Code!\n",
            "Hello, World\n",
            "Welcome to 30 Days of Code!\n"
          ],
          "name": "stdout"
        }
      ]
    },
    {
      "cell_type": "code",
      "metadata": {
        "id": "g6RiTNuXHTrQ",
        "colab": {
          "base_uri": "https://localhost:8080/"
        },
        "outputId": "16d30908-1d33-4226-813a-0ac348a91aad"
      },
      "source": [
        "n=int(input())\n",
        "ans=map(int,input().split())\n",
        "print (sorted(list(set(ans)))[-2])"
      ],
      "execution_count": null,
      "outputs": [
        {
          "output_type": "stream",
          "text": [
            "5\n",
            "2 3 6 6 5\n",
            "5\n"
          ],
          "name": "stdout"
        }
      ]
    },
    {
      "cell_type": "code",
      "metadata": {
        "colab": {
          "base_uri": "https://localhost:8080/",
          "height": 133
        },
        "id": "E-ak0HQRfxsX",
        "outputId": "3e54222c-28a1-4f62-b3a3-47661b086c55"
      },
      "source": [
        "score_list=[]\n",
        "for _ in range(int(input())):\n",
        "  name=input()\n",
        "  score=float(input())\n",
        "  score_list.append([name,score])\n",
        "second_highest=sorted(set[score for name,score in score_list]))[1]\n",
        "print('\\n'.join(sorted([name for name,score in score_list if score==second_highest])))\n"
      ],
      "execution_count": null,
      "outputs": [
        {
          "output_type": "error",
          "ename": "SyntaxError",
          "evalue": "ignored",
          "traceback": [
            "\u001b[0;36m  File \u001b[0;32m\"<ipython-input-20-146771645ad9>\"\u001b[0;36m, line \u001b[0;32m6\u001b[0m\n\u001b[0;31m    second_highest=sorted(set[score for name,score in score_list]))[1]\u001b[0m\n\u001b[0m                                      ^\u001b[0m\n\u001b[0;31mSyntaxError\u001b[0m\u001b[0;31m:\u001b[0m invalid syntax\n"
          ]
        }
      ]
    },
    {
      "cell_type": "code",
      "metadata": {
        "colab": {
          "base_uri": "https://localhost:8080/",
          "height": 133
        },
        "id": "uYU3A9HWfxnz",
        "outputId": "d42ab381-2d62-458c-c16e-f66284ef17f6"
      },
      "source": [
        "harry bina teena ankit harsh\n",
        "37.2137.2137.24139"
      ],
      "execution_count": null,
      "outputs": [
        {
          "output_type": "error",
          "ename": "SyntaxError",
          "evalue": "ignored",
          "traceback": [
            "\u001b[0;36m  File \u001b[0;32m\"<ipython-input-23-77a2d488a308>\"\u001b[0;36m, line \u001b[0;32m1\u001b[0m\n\u001b[0;31m    harry bina teena ankit harsh\u001b[0m\n\u001b[0m             ^\u001b[0m\n\u001b[0;31mSyntaxError\u001b[0m\u001b[0;31m:\u001b[0m invalid syntax\n"
          ]
        }
      ]
    },
    {
      "cell_type": "code",
      "metadata": {
        "colab": {
          "base_uri": "https://localhost:8080/",
          "height": 254
        },
        "id": "z8o6STOefxkE",
        "outputId": "5e976554-6be2-4d8c-c834-ccefae5e9a27"
      },
      "source": [
        "score_list = []; # do not forget to declare a list\n",
        "for _ in range(int(input())):\n",
        "    name = input()\n",
        "    score = float(input())\n",
        "    \n",
        "\n",
        "    # Nested Lists in Python - Hacker Rank Solution START\n",
        "    score_list.append([name, score])\n",
        "second_highest = sorted(set([score for name, score in score_list]))[1]\n",
        "print('\\n'.join(sorted([name for name, score in score_list if score == second_highest])))\n",
        "# Nested Lists in Python - Hacker Rank Solution END"
      ],
      "execution_count": null,
      "outputs": [
        {
          "output_type": "stream",
          "text": [
            "3]]3[\n"
          ],
          "name": "stdout"
        },
        {
          "output_type": "error",
          "ename": "ValueError",
          "evalue": "ignored",
          "traceback": [
            "\u001b[0;31m---------------------------------------------------------------------------\u001b[0m",
            "\u001b[0;31mValueError\u001b[0m                                Traceback (most recent call last)",
            "\u001b[0;32m<ipython-input-25-853c68691c8d>\u001b[0m in \u001b[0;36m<module>\u001b[0;34m()\u001b[0m\n\u001b[1;32m      1\u001b[0m \u001b[0mscore_list\u001b[0m \u001b[0;34m=\u001b[0m \u001b[0;34m[\u001b[0m\u001b[0;34m]\u001b[0m\u001b[0;34m;\u001b[0m \u001b[0;31m# do not forget to declare a list\u001b[0m\u001b[0;34m\u001b[0m\u001b[0;34m\u001b[0m\u001b[0m\n\u001b[0;32m----> 2\u001b[0;31m \u001b[0;32mfor\u001b[0m \u001b[0m_\u001b[0m \u001b[0;32min\u001b[0m \u001b[0mrange\u001b[0m\u001b[0;34m(\u001b[0m\u001b[0mint\u001b[0m\u001b[0;34m(\u001b[0m\u001b[0minput\u001b[0m\u001b[0;34m(\u001b[0m\u001b[0;34m)\u001b[0m\u001b[0;34m)\u001b[0m\u001b[0;34m)\u001b[0m\u001b[0;34m:\u001b[0m\u001b[0;34m\u001b[0m\u001b[0;34m\u001b[0m\u001b[0m\n\u001b[0m\u001b[1;32m      3\u001b[0m     \u001b[0mname\u001b[0m \u001b[0;34m=\u001b[0m \u001b[0minput\u001b[0m\u001b[0;34m(\u001b[0m\u001b[0;34m)\u001b[0m\u001b[0;34m\u001b[0m\u001b[0;34m\u001b[0m\u001b[0m\n\u001b[1;32m      4\u001b[0m     \u001b[0mscore\u001b[0m \u001b[0;34m=\u001b[0m \u001b[0mfloat\u001b[0m\u001b[0;34m(\u001b[0m\u001b[0minput\u001b[0m\u001b[0;34m(\u001b[0m\u001b[0;34m)\u001b[0m\u001b[0;34m)\u001b[0m\u001b[0;34m\u001b[0m\u001b[0;34m\u001b[0m\u001b[0m\n\u001b[1;32m      5\u001b[0m \u001b[0;34m\u001b[0m\u001b[0m\n",
            "\u001b[0;31mValueError\u001b[0m: invalid literal for int() with base 10: '3]]3['"
          ]
        }
      ]
    },
    {
      "cell_type": "code",
      "metadata": {
        "id": "vXSxsMAlfxf1",
        "colab": {
          "base_uri": "https://localhost:8080/",
          "height": 272
        },
        "outputId": "09fa43c1-a861-4f1a-9e6b-f750cbc7b0c8"
      },
      "source": [
        "#list problem\n",
        "T = int(input().strip())\n",
        "\n",
        "L = []\n",
        "for t in range(T):\n",
        "    args = input().strip().split(\" \")\n",
        "    if args[0] == \"append\":\n",
        "        L.append(int(args[1]))\n",
        "    elif args[0] == \"insert\":\n",
        "        L.insert(int(args[1]), int(args[2]))\n",
        "    elif args[0] == \"remove\":\n",
        "        L.remove(int(args[1]))\n",
        "    elif args[0] == \"pop\":\n",
        "        L.pop()\n",
        "    elif args[0] == \"sort\":\n",
        "        L.sort()\n",
        "    elif args[0] == \"reverse\":\n",
        "        L.reverse()\n",
        "    elif args[0] == \"print\":\n",
        "        print(L)\n"
      ],
      "execution_count": null,
      "outputs": [
        {
          "output_type": "stream",
          "text": [
            "12\n",
            "append\n"
          ],
          "name": "stdout"
        },
        {
          "output_type": "error",
          "ename": "IndexError",
          "evalue": "ignored",
          "traceback": [
            "\u001b[0;31m---------------------------------------------------------------------------\u001b[0m",
            "\u001b[0;31mIndexError\u001b[0m                                Traceback (most recent call last)",
            "\u001b[0;32m<ipython-input-2-1b09f7510e4a>\u001b[0m in \u001b[0;36m<module>\u001b[0;34m()\u001b[0m\n\u001b[1;32m      6\u001b[0m     \u001b[0margs\u001b[0m \u001b[0;34m=\u001b[0m \u001b[0minput\u001b[0m\u001b[0;34m(\u001b[0m\u001b[0;34m)\u001b[0m\u001b[0;34m.\u001b[0m\u001b[0mstrip\u001b[0m\u001b[0;34m(\u001b[0m\u001b[0;34m)\u001b[0m\u001b[0;34m.\u001b[0m\u001b[0msplit\u001b[0m\u001b[0;34m(\u001b[0m\u001b[0;34m\" \"\u001b[0m\u001b[0;34m)\u001b[0m\u001b[0;34m\u001b[0m\u001b[0;34m\u001b[0m\u001b[0m\n\u001b[1;32m      7\u001b[0m     \u001b[0;32mif\u001b[0m \u001b[0margs\u001b[0m\u001b[0;34m[\u001b[0m\u001b[0;36m0\u001b[0m\u001b[0;34m]\u001b[0m \u001b[0;34m==\u001b[0m \u001b[0;34m\"append\"\u001b[0m\u001b[0;34m:\u001b[0m\u001b[0;34m\u001b[0m\u001b[0;34m\u001b[0m\u001b[0m\n\u001b[0;32m----> 8\u001b[0;31m         \u001b[0mL\u001b[0m\u001b[0;34m.\u001b[0m\u001b[0mappend\u001b[0m\u001b[0;34m(\u001b[0m\u001b[0mint\u001b[0m\u001b[0;34m(\u001b[0m\u001b[0margs\u001b[0m\u001b[0;34m[\u001b[0m\u001b[0;36m1\u001b[0m\u001b[0;34m]\u001b[0m\u001b[0;34m)\u001b[0m\u001b[0;34m)\u001b[0m\u001b[0;34m\u001b[0m\u001b[0;34m\u001b[0m\u001b[0m\n\u001b[0m\u001b[1;32m      9\u001b[0m     \u001b[0;32melif\u001b[0m \u001b[0margs\u001b[0m\u001b[0;34m[\u001b[0m\u001b[0;36m0\u001b[0m\u001b[0;34m]\u001b[0m \u001b[0;34m==\u001b[0m \u001b[0;34m\"insert\"\u001b[0m\u001b[0;34m:\u001b[0m\u001b[0;34m\u001b[0m\u001b[0;34m\u001b[0m\u001b[0m\n\u001b[1;32m     10\u001b[0m         \u001b[0mL\u001b[0m\u001b[0;34m.\u001b[0m\u001b[0minsert\u001b[0m\u001b[0;34m(\u001b[0m\u001b[0mint\u001b[0m\u001b[0;34m(\u001b[0m\u001b[0margs\u001b[0m\u001b[0;34m[\u001b[0m\u001b[0;36m1\u001b[0m\u001b[0;34m]\u001b[0m\u001b[0;34m)\u001b[0m\u001b[0;34m,\u001b[0m \u001b[0mint\u001b[0m\u001b[0;34m(\u001b[0m\u001b[0margs\u001b[0m\u001b[0;34m[\u001b[0m\u001b[0;36m2\u001b[0m\u001b[0;34m]\u001b[0m\u001b[0;34m)\u001b[0m\u001b[0;34m)\u001b[0m\u001b[0;34m\u001b[0m\u001b[0;34m\u001b[0m\u001b[0m\n",
            "\u001b[0;31mIndexError\u001b[0m: list index out of range"
          ]
        }
      ]
    },
    {
      "cell_type": "code",
      "metadata": {
        "id": "i6Jdpw8kfxbd",
        "colab": {
          "base_uri": "https://localhost:8080/"
        },
        "outputId": "7e8c6006-1e4c-4c09-eb26-86df84ad9378"
      },
      "source": [
        "#hash functon in tuple\n",
        "if __name__ == '__main__':\n",
        "    n = int(input())\n",
        "    integer_list = map(int, input().split())\n",
        "    tuple_list=tuple(integer_list)\n",
        "    print(hash(tuple_list))"
      ],
      "execution_count": null,
      "outputs": [
        {
          "output_type": "stream",
          "text": [
            "2\n",
            "12\n",
            "3430014387543\n"
          ],
          "name": "stdout"
        }
      ]
    },
    {
      "cell_type": "code",
      "metadata": {
        "id": "8ep7vVrnfxW5",
        "colab": {
          "base_uri": "https://localhost:8080/"
        },
        "outputId": "816040fa-fd9b-4e9d-bd50-4bd4f05bdd23"
      },
      "source": [
        "#textwrap function\n",
        "import textwrap\n",
        "def text_wrap(string,max_width):\n",
        "  return textwrap.fill(string,max_width)\n",
        "if __name__==\"__main__\":\n",
        "  string=input()\n",
        "  max_width=int(input())\n",
        "  result=text_wrap(string,max_width)\n",
        "  print(result)\n"
      ],
      "execution_count": null,
      "outputs": [
        {
          "output_type": "stream",
          "text": [
            "abcdefghijklmnopqrstuvwxyz\n",
            "4\n",
            "abcd\n",
            "efgh\n",
            "ijkl\n",
            "mnop\n",
            "qrst\n",
            "uvwx\n",
            "yz\n"
          ],
          "name": "stdout"
        }
      ]
    },
    {
      "cell_type": "code",
      "metadata": {
        "colab": {
          "base_uri": "https://localhost:8080/",
          "height": 272
        },
        "id": "w-g7ldVqSmCw",
        "outputId": "0283351c-8558-495e-fcae-f87b562aa56b"
      },
      "source": [
        "import textwrap\n",
        "def text_wrap(string,max_width):\n",
        "  return textwrap.fill(string,max_width)\n",
        "if __name__==\"__main__\":\n",
        "  string,max_width=input(),int(input())\n",
        "  result=text_wrap(string,max_width)\n",
        "  print(result)\n"
      ],
      "execution_count": null,
      "outputs": [
        {
          "output_type": "stream",
          "text": [
            "abcdefghjklmnopqrstuvwxyz 4\n",
            "\n"
          ],
          "name": "stdout"
        },
        {
          "output_type": "error",
          "ename": "ValueError",
          "evalue": "ignored",
          "traceback": [
            "\u001b[0;31m---------------------------------------------------------------------------\u001b[0m",
            "\u001b[0;31mValueError\u001b[0m                                Traceback (most recent call last)",
            "\u001b[0;32m<ipython-input-8-92cc2575efe0>\u001b[0m in \u001b[0;36m<module>\u001b[0;34m()\u001b[0m\n\u001b[1;32m      3\u001b[0m   \u001b[0;32mreturn\u001b[0m \u001b[0mtextwrap\u001b[0m\u001b[0;34m.\u001b[0m\u001b[0mfill\u001b[0m\u001b[0;34m(\u001b[0m\u001b[0mstring\u001b[0m\u001b[0;34m,\u001b[0m\u001b[0mmax_width\u001b[0m\u001b[0;34m)\u001b[0m\u001b[0;34m\u001b[0m\u001b[0;34m\u001b[0m\u001b[0m\n\u001b[1;32m      4\u001b[0m \u001b[0;32mif\u001b[0m \u001b[0m__name__\u001b[0m\u001b[0;34m==\u001b[0m\u001b[0;34m\"__main__\"\u001b[0m\u001b[0;34m:\u001b[0m\u001b[0;34m\u001b[0m\u001b[0;34m\u001b[0m\u001b[0m\n\u001b[0;32m----> 5\u001b[0;31m   \u001b[0mstring\u001b[0m\u001b[0;34m,\u001b[0m\u001b[0mmax_width\u001b[0m\u001b[0;34m=\u001b[0m\u001b[0minput\u001b[0m\u001b[0;34m(\u001b[0m\u001b[0;34m)\u001b[0m\u001b[0;34m,\u001b[0m\u001b[0mint\u001b[0m\u001b[0;34m(\u001b[0m\u001b[0minput\u001b[0m\u001b[0;34m(\u001b[0m\u001b[0;34m)\u001b[0m\u001b[0;34m)\u001b[0m\u001b[0;34m\u001b[0m\u001b[0;34m\u001b[0m\u001b[0m\n\u001b[0m\u001b[1;32m      6\u001b[0m   \u001b[0mresult\u001b[0m\u001b[0;34m=\u001b[0m\u001b[0mtext_wrap\u001b[0m\u001b[0;34m(\u001b[0m\u001b[0mstring\u001b[0m\u001b[0;34m,\u001b[0m\u001b[0mmax_width\u001b[0m\u001b[0;34m)\u001b[0m\u001b[0;34m\u001b[0m\u001b[0;34m\u001b[0m\u001b[0m\n\u001b[1;32m      7\u001b[0m   \u001b[0mprint\u001b[0m\u001b[0;34m(\u001b[0m\u001b[0mresult\u001b[0m\u001b[0;34m)\u001b[0m\u001b[0;34m\u001b[0m\u001b[0;34m\u001b[0m\u001b[0m\n",
            "\u001b[0;31mValueError\u001b[0m: invalid literal for int() with base 10: ''"
          ]
        }
      ]
    },
    {
      "cell_type": "code",
      "metadata": {
        "colab": {
          "base_uri": "https://localhost:8080/",
          "height": 289
        },
        "id": "LNdCYFbUSl6w",
        "outputId": "cede44f4-d9c8-4155-80a9-771e7855fb81"
      },
      "source": [
        "N=int(input())\n",
        "M=int(input())\n",
        "for i in range(1,N,2):\n",
        "  print('*'*i).center(M,'-')\n",
        "print('welcome').center(M,'-')\n",
        "for i in range(N-2,-1,-2):\n",
        "  print('*'*i).center(M,'-')\n"
      ],
      "execution_count": null,
      "outputs": [
        {
          "output_type": "stream",
          "text": [
            "9\n",
            "34\n",
            "*\n"
          ],
          "name": "stdout"
        },
        {
          "output_type": "error",
          "ename": "AttributeError",
          "evalue": "ignored",
          "traceback": [
            "\u001b[0;31m---------------------------------------------------------------------------\u001b[0m",
            "\u001b[0;31mAttributeError\u001b[0m                            Traceback (most recent call last)",
            "\u001b[0;32m<ipython-input-21-359407b96696>\u001b[0m in \u001b[0;36m<module>\u001b[0;34m()\u001b[0m\n\u001b[1;32m      2\u001b[0m \u001b[0mM\u001b[0m\u001b[0;34m=\u001b[0m\u001b[0mint\u001b[0m\u001b[0;34m(\u001b[0m\u001b[0minput\u001b[0m\u001b[0;34m(\u001b[0m\u001b[0;34m)\u001b[0m\u001b[0;34m)\u001b[0m\u001b[0;34m\u001b[0m\u001b[0;34m\u001b[0m\u001b[0m\n\u001b[1;32m      3\u001b[0m \u001b[0;32mfor\u001b[0m \u001b[0mi\u001b[0m \u001b[0;32min\u001b[0m \u001b[0mrange\u001b[0m\u001b[0;34m(\u001b[0m\u001b[0;36m1\u001b[0m\u001b[0;34m,\u001b[0m\u001b[0mN\u001b[0m\u001b[0;34m,\u001b[0m\u001b[0;36m2\u001b[0m\u001b[0;34m)\u001b[0m\u001b[0;34m:\u001b[0m\u001b[0;34m\u001b[0m\u001b[0;34m\u001b[0m\u001b[0m\n\u001b[0;32m----> 4\u001b[0;31m   \u001b[0mprint\u001b[0m\u001b[0;34m(\u001b[0m\u001b[0;34m'*'\u001b[0m\u001b[0;34m*\u001b[0m\u001b[0mi\u001b[0m\u001b[0;34m)\u001b[0m\u001b[0;34m.\u001b[0m\u001b[0mcenter\u001b[0m\u001b[0;34m(\u001b[0m\u001b[0mM\u001b[0m\u001b[0;34m,\u001b[0m\u001b[0;34m'-'\u001b[0m\u001b[0;34m)\u001b[0m\u001b[0;34m\u001b[0m\u001b[0;34m\u001b[0m\u001b[0m\n\u001b[0m\u001b[1;32m      5\u001b[0m \u001b[0mprint\u001b[0m\u001b[0;34m(\u001b[0m\u001b[0;34m'welcome'\u001b[0m\u001b[0;34m)\u001b[0m\u001b[0;34m.\u001b[0m\u001b[0mcenter\u001b[0m\u001b[0;34m(\u001b[0m\u001b[0mM\u001b[0m\u001b[0;34m,\u001b[0m\u001b[0;34m'-'\u001b[0m\u001b[0;34m)\u001b[0m\u001b[0;34m\u001b[0m\u001b[0;34m\u001b[0m\u001b[0m\n\u001b[1;32m      6\u001b[0m \u001b[0;32mfor\u001b[0m \u001b[0mi\u001b[0m \u001b[0;32min\u001b[0m \u001b[0mrange\u001b[0m\u001b[0;34m(\u001b[0m\u001b[0mN\u001b[0m\u001b[0;34m-\u001b[0m\u001b[0;36m2\u001b[0m\u001b[0;34m,\u001b[0m\u001b[0;34m-\u001b[0m\u001b[0;36m1\u001b[0m\u001b[0;34m,\u001b[0m\u001b[0;34m-\u001b[0m\u001b[0;36m2\u001b[0m\u001b[0;34m)\u001b[0m\u001b[0;34m:\u001b[0m\u001b[0;34m\u001b[0m\u001b[0;34m\u001b[0m\u001b[0m\n",
            "\u001b[0;31mAttributeError\u001b[0m: 'NoneType' object has no attribute 'center'"
          ]
        }
      ]
    },
    {
      "cell_type": "code",
      "metadata": {
        "id": "bV55aOhSSl3s"
      },
      "source": [
        "'''Mr. Vincent works in a door mat manufacturing company. One day, he designed a new door mat with the following specifications:\n",
        "\n",
        "   # Mat size must be \n",
        "\n",
        "X. ( is an odd natural number, and is times\n",
        ".)\n",
        "The design should have 'WELCOME' written in the center.\n",
        "The design pattern should only use |, . and - characters.'''\n",
        "N,M=map(int,input())\n",
        "for i in range(1,N,2):\n",
        "  print('.|.'*i).center(M,'-')\n",
        "print('welcome').center(M,'-')\n",
        "for i in range(N-1,-1,-2):\n",
        "  \n"
      ],
      "execution_count": null,
      "outputs": []
    },
    {
      "cell_type": "code",
      "metadata": {
        "id": "GqtkPP2FSl0t",
        "colab": {
          "base_uri": "https://localhost:8080/",
          "height": 133
        },
        "outputId": "283e3ce0-682a-4545-fbf2-516ed7cd5682"
      },
      "source": [
        "#swap case\n",
        "def swap_case(s):\n",
        "  return s.swapcase()\n",
        " ''' output=''\n",
        "  for char in s:\n",
        "    if (char.isupper==True):\n",
        "      output+=(char.lower())\n",
        "    elif (char.islower==True):\n",
        "      output+=(char.upper())\n",
        "    else:\n",
        "      output+=char\n",
        "  return output'''\n",
        "  \n",
        "if __name__==\"__main__\":\n",
        "  s=input()\n",
        "  result=swap_case(s)\n",
        "  print(result)\n"
      ],
      "execution_count": 8,
      "outputs": [
        {
          "output_type": "error",
          "ename": "IndentationError",
          "evalue": "ignored",
          "traceback": [
            "\u001b[0;36m  File \u001b[0;32m\"<ipython-input-8-33f75878ad2d>\"\u001b[0;36m, line \u001b[0;32m4\u001b[0m\n\u001b[0;31m    ''' output=''\u001b[0m\n\u001b[0m                 ^\u001b[0m\n\u001b[0;31mIndentationError\u001b[0m\u001b[0;31m:\u001b[0m unindent does not match any outer indentation level\n"
          ]
        }
      ]
    },
    {
      "cell_type": "code",
      "metadata": {
        "id": "zmtThx7gSlxa",
        "colab": {
          "base_uri": "https://localhost:8080/"
        },
        "outputId": "08d31342-076f-4d0d-b813-56a03d9b9641"
      },
      "source": [
        "def split_and_join(line):\n",
        "    line=line.split()\n",
        "    return \"-\".join(line)\n",
        "    \n",
        "if __name__ == '__main__':\n",
        "    line = input()\n",
        "    result = split_and_join(line)\n",
        "    print (result)\n"
      ],
      "execution_count": 12,
      "outputs": [
        {
          "output_type": "stream",
          "text": [
            "this is a string\n",
            "this-is-a-string\n"
          ],
          "name": "stdout"
        }
      ]
    },
    {
      "cell_type": "code",
      "metadata": {
        "id": "wvLOQMEXPMRa"
      },
      "source": [
        ""
      ],
      "execution_count": null,
      "outputs": []
    },
    {
      "cell_type": "code",
      "metadata": {
        "colab": {
          "base_uri": "https://localhost:8080/"
        },
        "id": "5Gv-nhJwMi7d",
        "outputId": "eada496b-89df-4333-9bcb-96695f2ff66c"
      },
      "source": [
        "def print_full_name(first, last):\n",
        "    # Write your code here\n",
        "    print('Hello'+' '+first_name+last_name+ ' '+'!' +'You just delved into python',end=\"\")\n",
        "\n",
        "if __name__ == '__main__':\n",
        "    first_name = input()\n",
        "    last_name = input()\n",
        "    print_full_name(first_name, last_name)"
      ],
      "execution_count": 17,
      "outputs": [
        {
          "output_type": "stream",
          "text": [
            "Ross\n",
            "Taylor'\n",
            "Hello RossTaylor' !You just delved into python"
          ],
          "name": "stdout"
        }
      ]
    },
    {
      "cell_type": "code",
      "metadata": {
        "id": "9H7po3OdPAOn"
      },
      "source": [
        "#mutation\n",
        "def mutate_string(string, position, character):\n",
        "    l=list(string)\n",
        "    l[position]=character\n",
        "    string=''.join(l)\n",
        "    return string\n",
        "   \n",
        "\n",
        "if __name__ == '__main__':\n",
        "    s = input()\n",
        "    i, c = input().split()\n",
        "    s_new = mutate_string(s, int(i), c)\n",
        "    print(s_new)"
      ],
      "execution_count": null,
      "outputs": []
    }
  ]
}