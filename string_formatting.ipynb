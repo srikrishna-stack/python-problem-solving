{
  "nbformat": 4,
  "nbformat_minor": 0,
  "metadata": {
    "colab": {
      "name": "string formatting.ipynb",
      "provenance": [],
      "authorship_tag": "ABX9TyNm5OtiQHDnfqvklvZy41c9",
      "include_colab_link": true
    },
    "kernelspec": {
      "name": "python3",
      "display_name": "Python 3"
    },
    "language_info": {
      "name": "python"
    }
  },
  "cells": [
    {
      "cell_type": "markdown",
      "metadata": {
        "id": "view-in-github",
        "colab_type": "text"
      },
      "source": [
        "<a href=\"https://colab.research.google.com/github/srikrishna-stack/python-problem-solving/blob/main/string_formatting.ipynb\" target=\"_parent\"><img src=\"https://colab.research.google.com/assets/colab-badge.svg\" alt=\"Open In Colab\"/></a>"
      ]
    },
    {
      "cell_type": "code",
      "metadata": {
        "id": "rryP0rBDHzsh",
        "colab": {
          "base_uri": "https://localhost:8080/"
        },
        "outputId": "14822f3b-7dd2-4fcd-ba12-7e5c293720eb"
      },
      "source": [
        "#formattin with placeholders\n",
        "x='looked'\n",
        "print(\"misha %s and %s around\"%('walked',x))"
      ],
      "execution_count": 6,
      "outputs": [
        {
          "output_type": "stream",
          "text": [
            "misha walked and looked around\n"
          ],
          "name": "stdout"
        }
      ]
    },
    {
      "cell_type": "code",
      "metadata": {
        "id": "4IQlzwhTHzpk",
        "colab": {
          "base_uri": "https://localhost:8080/"
        },
        "outputId": "a15e9c26-8990-4ecf-d209-95f6f68cd0dd"
      },
      "source": [
        "#float  format\n",
        "print('The value of pi is: %5.4f' %(3.141592))"
      ],
      "execution_count": 9,
      "outputs": [
        {
          "output_type": "stream",
          "text": [
            "The value of pi is: 3.1416\n"
          ],
          "name": "stdout"
        }
      ]
    },
    {
      "cell_type": "code",
      "metadata": {
        "id": "HJzgnUcWHzmw",
        "colab": {
          "base_uri": "https://localhost:8080/"
        },
        "outputId": "c368b6af-b50d-42ce-da88-b71bdab07652"
      },
      "source": [
        "#formating with the .format string method\n",
        "print(\"we are {}.\".format('equal'))"
      ],
      "execution_count": 10,
      "outputs": [
        {
          "output_type": "stream",
          "text": [
            "we are equal.\n"
          ],
          "name": "stdout"
        }
      ]
    },
    {
      "cell_type": "code",
      "metadata": {
        "id": "hU1qKcW9Hzjl",
        "colab": {
          "base_uri": "https://localhost:8080/"
        },
        "outputId": "09a7e875-ee7d-4fe2-f698-b866a5b817bc"
      },
      "source": [
        "print(\"{2} {1} {0}\".format('directions','the','read'))"
      ],
      "execution_count": 14,
      "outputs": [
        {
          "output_type": "stream",
          "text": [
            "read the directions\n"
          ],
          "name": "stdout"
        }
      ]
    },
    {
      "cell_type": "code",
      "metadata": {
        "id": "b3Men28MHzfr",
        "colab": {
          "base_uri": "https://localhost:8080/"
        },
        "outputId": "3f0e91f8-deb0-4c15-e4f2-90c2d484aad5"
      },
      "source": [
        "#This new formatting syntax is very powerful and easy. You can also insert arbitrary Python expressions and you can even do arithmetic operations in it.\n",
        "a=5\n",
        "b=10\n",
        "print(f'he said hi age is {2*(a+b)}')"
      ],
      "execution_count": 15,
      "outputs": [
        {
          "output_type": "stream",
          "text": [
            "he said hi age is 30\n"
          ],
          "name": "stdout"
        }
      ]
    },
    {
      "cell_type": "code",
      "metadata": {
        "id": "5S3OmxilHzbf",
        "colab": {
          "base_uri": "https://localhost:8080/"
        },
        "outputId": "b988a1ad-33d9-4b9b-bf47-8007b715497d"
      },
      "source": [
        "print(f\"He said his age is {(lambda x: x*2)(4)}\")"
      ],
      "execution_count": 16,
      "outputs": [
        {
          "output_type": "stream",
          "text": [
            "He said his age is 8\n"
          ],
          "name": "stdout"
        }
      ]
    },
    {
      "cell_type": "code",
      "metadata": {
        "id": "pPTEiYw9HzYr"
      },
      "source": [
        ""
      ],
      "execution_count": null,
      "outputs": []
    },
    {
      "cell_type": "code",
      "metadata": {
        "id": "x2EKCn7vHlYq"
      },
      "source": [
        ""
      ],
      "execution_count": null,
      "outputs": []
    }
  ]
}