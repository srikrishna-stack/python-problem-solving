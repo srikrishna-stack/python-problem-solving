{
  "nbformat": 4,
  "nbformat_minor": 0,
  "metadata": {
    "colab": {
      "name": "dictionary.ipynb",
      "provenance": [],
      "authorship_tag": "ABX9TyPohIM9EV38Ng8803w8NBst",
      "include_colab_link": true
    },
    "kernelspec": {
      "name": "python3",
      "display_name": "Python 3"
    },
    "language_info": {
      "name": "python"
    }
  },
  "cells": [
    {
      "cell_type": "markdown",
      "metadata": {
        "id": "view-in-github",
        "colab_type": "text"
      },
      "source": [
        "<a href=\"https://colab.research.google.com/github/srikrishna-stack/python-problem-solving/blob/main/dictionary.ipynb\" target=\"_parent\"><img src=\"https://colab.research.google.com/assets/colab-badge.svg\" alt=\"Open In Colab\"/></a>"
      ]
    },
    {
      "cell_type": "code",
      "metadata": {
        "id": "dMJ_sqEFhHbB"
      },
      "source": [
        ""
      ],
      "execution_count": null,
      "outputs": []
    },
    {
      "cell_type": "code",
      "metadata": {
        "colab": {
          "base_uri": "https://localhost:8080/"
        },
        "id": "_G9oMM69AA3U",
        "outputId": "75d6037d-a19e-4046-e967-9670b47762f0"
      },
      "source": [
        "d = {\"cat\": \"cute\", \"pig\": \"ugly\"}\n",
        "print(d[\"cat\"])"
      ],
      "execution_count": null,
      "outputs": [
        {
          "output_type": "stream",
          "text": [
            "cute\n"
          ],
          "name": "stdout"
        }
      ]
    },
    {
      "cell_type": "code",
      "metadata": {
        "id": "F6M9YsDzAXbc"
      },
      "source": [
        "d[\"fish\"] = \"swim\""
      ],
      "execution_count": null,
      "outputs": []
    },
    {
      "cell_type": "code",
      "metadata": {
        "colab": {
          "base_uri": "https://localhost:8080/"
        },
        "id": "Hu56nR0WAmjv",
        "outputId": "b0213e9b-55e8-457b-d109-639a1d00af05"
      },
      "source": [
        "print(d)"
      ],
      "execution_count": null,
      "outputs": [
        {
          "output_type": "stream",
          "text": [
            "{'cat': 'cute', 'pig': 'ugly', 'fish': 'swim'}\n"
          ],
          "name": "stdout"
        }
      ]
    },
    {
      "cell_type": "code",
      "metadata": {
        "colab": {
          "base_uri": "https://localhost:8080/"
        },
        "id": "MSa0ICbkAo3O",
        "outputId": "3f5609b5-1094-4832-b944-23975d8caa47"
      },
      "source": [
        "print(d.get(\"monkey\", \"N/A\"))"
      ],
      "execution_count": null,
      "outputs": [
        {
          "output_type": "stream",
          "text": [
            "N/A\n"
          ],
          "name": "stdout"
        }
      ]
    },
    {
      "cell_type": "code",
      "metadata": {
        "colab": {
          "base_uri": "https://localhost:8080/"
        },
        "id": "A-9uGssyBWGC",
        "outputId": "23aac3e9-5445-4547-e96e-f9b4137f0b11"
      },
      "source": [
        "print(d.get(\"fish\", \"N/A\"))"
      ],
      "execution_count": null,
      "outputs": [
        {
          "output_type": "stream",
          "text": [
            "swim\n"
          ],
          "name": "stdout"
        }
      ]
    },
    {
      "cell_type": "code",
      "metadata": {
        "id": "jfKi5b02BhkV"
      },
      "source": [
        "del d[\"cat\"]"
      ],
      "execution_count": null,
      "outputs": []
    },
    {
      "cell_type": "code",
      "metadata": {
        "colab": {
          "base_uri": "https://localhost:8080/"
        },
        "id": "RvYgjg8SCXbh",
        "outputId": "a08869b8-a3e4-45ec-e7f9-ff8e36d9c174"
      },
      "source": [
        "print(d)"
      ],
      "execution_count": null,
      "outputs": [
        {
          "output_type": "stream",
          "text": [
            "{'pig': 'ugly'}\n"
          ],
          "name": "stdout"
        }
      ]
    },
    {
      "cell_type": "code",
      "metadata": {
        "colab": {
          "base_uri": "https://localhost:8080/",
          "height": 236
        },
        "id": "qsuvQgBXC0vk",
        "outputId": "30e3c6d4-503f-4f31-cfec-bec0fe7d8cc5"
      },
      "source": [
        "import random\n",
        "x= list(range(1,101))\n",
        "y=random.sample(x,20)\n",
        "z=[]\n",
        "for i,j in ():\n",
        "  print(j)\n",
        "  \n",
        "\n",
        "\n",
        "  \n",
        " \n",
        "\n",
        "\n"
      ],
      "execution_count": null,
      "outputs": [
        {
          "output_type": "error",
          "ename": "AttributeError",
          "evalue": "ignored",
          "traceback": [
            "\u001b[0;31m---------------------------------------------------------------------------\u001b[0m",
            "\u001b[0;31mAttributeError\u001b[0m                            Traceback (most recent call last)",
            "\u001b[0;32m<ipython-input-31-c969be06b0ae>\u001b[0m in \u001b[0;36m<module>\u001b[0;34m()\u001b[0m\n\u001b[1;32m      3\u001b[0m \u001b[0my\u001b[0m\u001b[0;34m=\u001b[0m\u001b[0mrandom\u001b[0m\u001b[0;34m.\u001b[0m\u001b[0msample\u001b[0m\u001b[0;34m(\u001b[0m\u001b[0mx\u001b[0m\u001b[0;34m,\u001b[0m\u001b[0;36m20\u001b[0m\u001b[0;34m)\u001b[0m\u001b[0;34m\u001b[0m\u001b[0;34m\u001b[0m\u001b[0m\n\u001b[1;32m      4\u001b[0m \u001b[0mz\u001b[0m\u001b[0;34m=\u001b[0m\u001b[0;34m[\u001b[0m\u001b[0;34m]\u001b[0m\u001b[0;34m\u001b[0m\u001b[0;34m\u001b[0m\u001b[0m\n\u001b[0;32m----> 5\u001b[0;31m \u001b[0;32mfor\u001b[0m \u001b[0mi\u001b[0m\u001b[0;34m,\u001b[0m\u001b[0mj\u001b[0m \u001b[0;32min\u001b[0m \u001b[0my\u001b[0m\u001b[0;34m.\u001b[0m\u001b[0mitems\u001b[0m\u001b[0;34m(\u001b[0m\u001b[0;34m)\u001b[0m\u001b[0;34m:\u001b[0m\u001b[0;34m\u001b[0m\u001b[0;34m\u001b[0m\u001b[0m\n\u001b[0m\u001b[1;32m      6\u001b[0m   \u001b[0mprint\u001b[0m\u001b[0;34m(\u001b[0m\u001b[0mj\u001b[0m\u001b[0;34m)\u001b[0m\u001b[0;34m\u001b[0m\u001b[0;34m\u001b[0m\u001b[0m\n\u001b[1;32m      7\u001b[0m \u001b[0;34m\u001b[0m\u001b[0m\n",
            "\u001b[0;31mAttributeError\u001b[0m: 'list' object has no attribute 'items'"
          ]
        }
      ]
    },
    {
      "cell_type": "code",
      "metadata": {
        "colab": {
          "base_uri": "https://localhost:8080/"
        },
        "id": "lcR-t_MUDoll",
        "outputId": "210fdf3f-8faf-4c3b-d8c9-c958b26f959b"
      },
      "source": [
        "dict(x=5,y=7)"
      ],
      "execution_count": null,
      "outputs": [
        {
          "output_type": "execute_result",
          "data": {
            "text/plain": [
              "{'x': 5, 'y': 7}"
            ]
          },
          "metadata": {
            "tags": []
          },
          "execution_count": 16
        }
      ]
    },
    {
      "cell_type": "code",
      "metadata": {
        "colab": {
          "base_uri": "https://localhost:8080/"
        },
        "id": "HcU2nxuiES2r",
        "outputId": "c563ab49-7790-4433-b145-47e6fba12656"
      },
      "source": [
        "x=list (range(1,101))\n",
        "y = random.sample(x, 20)\n",
        "\n",
        "d = dict()\n",
        "for i, k in enumerate(y):\n",
        "  sum = 0\n",
        "  for j in str(k):\n",
        "    sum = sum + int(j)\n",
        "  if sum == 8:\n",
        "     d[k] = i\n",
        "print(d)"
      ],
      "execution_count": null,
      "outputs": [
        {
          "output_type": "stream",
          "text": [
            "{35: 9}\n"
          ],
          "name": "stdout"
        }
      ]
    },
    {
      "cell_type": "code",
      "metadata": {
        "colab": {
          "base_uri": "https://localhost:8080/"
        },
        "id": "jXO6inuiI_aA",
        "outputId": "6141688c-6481-434b-cebf-c007660573a7"
      },
      "source": [
        "import string\n",
        "x = \" ! All hell lord # Rama, What a Great leader !?\"\n",
        "d = dict()\n",
        "y1 = []\n",
        "y2=[]\n",
        "y3=[]\n",
        "for i in x:\n",
        "  for j in i:\n",
        "    if j in \"aeiouAEIOU\":\n",
        "      y1.append(j)\n",
        "    elif j in string.punctuation:\n",
        "      y2.append(j)\n",
        "    elif j.isupper():\n",
        "      y3.append(j)\n",
        "d = {\"vowels\":[y1], \"punctuation\":[y2], \"captial\":[y3]}\n",
        "print(d)\n",
        "\n",
        "\n",
        "\n",
        "    \n",
        "\n",
        "\n",
        "\n",
        "\n"
      ],
      "execution_count": null,
      "outputs": [
        {
          "output_type": "stream",
          "text": [
            "{'vowels': [['A', 'e', 'o', 'a', 'a', 'a', 'a', 'e', 'a', 'e', 'a', 'e']], 'punctuation': [['!', '#', ',', '!', '?']], 'captial': [['R', 'W', 'G']]}\n"
          ],
          "name": "stdout"
        }
      ]
    },
    {
      "cell_type": "code",
      "metadata": {
        "id": "KFCbXPI6UOWE",
        "colab": {
          "base_uri": "https://localhost:8080/"
        },
        "outputId": "ac06ed65-f1c4-495e-e941-8bece1a74a17"
      },
      "source": [
        "def dictionairy(): \n",
        "  \n",
        " # Declaring the hash function      \n",
        " key_value ={}    \n",
        "   \n",
        "# Initialize value \n",
        " key_value[2] = 56       \n",
        " key_value[1] = 2 \n",
        " key_value[5] = 12 \n",
        " key_value[4] = 24\n",
        " key_value[6] = 18      \n",
        " key_value[3] = 323 \n",
        " for i in sorted (key_value) :\n",
        "    print ((i, key_value[i]), end =\" \")\n",
        "  \n",
        "def main():\n",
        "   dictionairy()\n",
        "if __name__==\"__main__\":     \n",
        "    main()"
      ],
      "execution_count": null,
      "outputs": [
        {
          "output_type": "stream",
          "text": [
            "(1, 2) (2, 56) (3, 323) (4, 24) (5, 12) (6, 18) "
          ],
          "name": "stdout"
        }
      ]
    },
    {
      "cell_type": "code",
      "metadata": {
        "colab": {
          "base_uri": "https://localhost:8080/"
        },
        "id": "phBVe62S-Inf",
        "outputId": "93756e16-9bd9-407a-e208-fa5323443c4b"
      },
      "source": [
        "from collections import OrderedDict\n",
        "  \n",
        "dict = {'ravi':'10','rajnish':'9','sanjeev':'15','yash':'2','suraj':'32'}\n",
        "dict1 = OrderedDict(sorted(dict.items()))\n",
        "print(dict1)"
      ],
      "execution_count": null,
      "outputs": [
        {
          "output_type": "stream",
          "text": [
            "OrderedDict([('rajnish', '9'), ('ravi', '10'), ('sanjeev', '15'), ('suraj', '32'), ('yash', '2')])\n"
          ],
          "name": "stdout"
        }
      ]
    },
    {
      "cell_type": "code",
      "metadata": {
        "colab": {
          "base_uri": "https://localhost:8080/"
        },
        "id": "sIdXvhd6_8Vq",
        "outputId": "d898fda1-5dea-4eb3-b5d5-f6b3127eb3ef"
      },
      "source": [
        "#Handling missing keys in Python dictionaries\n",
        "county_code={'a':1,'b':2}\n",
        "print(county_code.get('a','not found'))\n",
        "print(county_code.get('c','not found'))"
      ],
      "execution_count": null,
      "outputs": [
        {
          "output_type": "stream",
          "text": [
            "1\n",
            "not found\n"
          ],
          "name": "stdout"
        }
      ]
    },
    {
      "cell_type": "code",
      "metadata": {
        "colab": {
          "base_uri": "https://localhost:8080/"
        },
        "id": "Q7TNkHaBBFDa",
        "outputId": "569ea366-752e-4801-a8a7-711027af182c"
      },
      "source": [
        "#using set defalut method\n",
        "country_code = {'India' : '0091',\n",
        "                'Australia' : '0025',\n",
        "                'Nepal' : '00977'}\n",
        "country_code.setdefault('japan','notpresent')\n",
        "print(country_code['japan'])\n",
        "print(country_code['India'])"
      ],
      "execution_count": null,
      "outputs": [
        {
          "output_type": "stream",
          "text": [
            "notpresent\n",
            "0091\n"
          ],
          "name": "stdout"
        }
      ]
    },
    {
      "cell_type": "code",
      "metadata": {
        "colab": {
          "base_uri": "https://localhost:8080/"
        },
        "id": "WsZMDAFECLBN",
        "outputId": "ffc7ce08-ff76-4371-d32a-be7f490b6bd0"
      },
      "source": [
        "#by using default dict it saves lot of time\n",
        "import collections\n",
        "defd=collections.defaultdict(lambda:'keynotfound')\n",
        "defd['a']=1\n",
        "defd['b']=2\n",
        "print(defd['c'])\n",
        "print(defd['a'])\n"
      ],
      "execution_count": null,
      "outputs": [
        {
          "output_type": "stream",
          "text": [
            "keynotfound\n",
            "1\n"
          ],
          "name": "stdout"
        }
      ]
    },
    {
      "cell_type": "code",
      "metadata": {
        "colab": {
          "base_uri": "https://localhost:8080/"
        },
        "id": "vb0SoQ3YDPSZ",
        "outputId": "322f6530-08f1-49c7-ca24-f31ba1886168"
      },
      "source": [
        "#Python dictionary with keys having multiple inputs\n",
        "import random as rn\n",
        "  \n",
        "# creating an empty dictionary\n",
        "dict = {}\n",
        "x, y, z = 10, 20, 30\n",
        "dict[x, y, z] = x + y - z;\n",
        "x, y, z = 5, 2, 4\n",
        "dict[x, y, z] = x + y - z;\n",
        "  \n",
        "# print the dictionary\n",
        "print(dict)"
      ],
      "execution_count": null,
      "outputs": [
        {
          "output_type": "stream",
          "text": [
            "{(10, 20, 30): 0, (5, 2, 4): 3}\n"
          ],
          "name": "stdout"
        }
      ]
    },
    {
      "cell_type": "code",
      "metadata": {
        "colab": {
          "base_uri": "https://localhost:8080/"
        },
        "id": "6luvKGmNDsch",
        "outputId": "fee68f9f-8bd4-4caa-f37a-9916c8a14f85"
      },
      "source": [
        "places = {(\"19.07'53.2\", \"72.54'51.0\"):\"Mumbai\", \\\n",
        "          (\"28.33'34.1\", \"77.06'16.6\"):\"Delhi\"}\n",
        "  \n",
        "print(places)\n",
        "print('\\n')\n",
        "  \n",
        "# Traversing dictionary with multi-keys and crearing\n",
        "# different lists from it\n",
        "lat = []\n",
        "long = []\n",
        "plc = []\n",
        "for i in places:\n",
        "    lat.append(i[0])\n",
        "    long.append(i[1])\n",
        "    plc.append(places[i[0], i[1]])\n",
        "  \n",
        "print(lat)\n",
        "print(long)\n",
        "print(plc)"
      ],
      "execution_count": null,
      "outputs": [
        {
          "output_type": "stream",
          "text": [
            "{(\"19.07'53.2\", \"72.54'51.0\"): 'Mumbai', (\"28.33'34.1\", \"77.06'16.6\"): 'Delhi'}\n",
            "\n",
            "\n",
            "[\"19.07'53.2\", \"28.33'34.1\"]\n",
            "[\"72.54'51.0\", \"77.06'16.6\"]\n",
            "['Mumbai', 'Delhi']\n"
          ],
          "name": "stdout"
        }
      ]
    },
    {
      "cell_type": "code",
      "metadata": {
        "colab": {
          "base_uri": "https://localhost:8080/"
        },
        "id": "DCAuxWAqERqK",
        "outputId": "50b39a6d-fe5c-4027-dd8c-243e553e0425"
      },
      "source": [
        "#program to find the sum of all items in a dictionary\n",
        "def returnsum(dict):\n",
        "  sum=0\n",
        "  for i in dict:\n",
        "    sum=sum+dict[i]\n",
        "dict = {'a': 100, 'b':200, 'c':300}\n",
        "print(\"the sum of dict\",returnsum(dict))"
      ],
      "execution_count": null,
      "outputs": [
        {
          "output_type": "stream",
          "text": [
            "the sum of dict None\n"
          ],
          "name": "stdout"
        }
      ]
    },
    {
      "cell_type": "code",
      "metadata": {
        "id": "aVNEoRe9LE4H",
        "colab": {
          "base_uri": "https://localhost:8080/"
        },
        "outputId": "775ed256-637c-4893-c158-2b5bc0ddb32d"
      },
      "source": [
        "# to sort the list of dictoinaries \n",
        "lis = [{ \"name\" : \"Nandini\", \"age\" : 20},\n",
        "{ \"name\" : \"Manjeet\", \"age\" : 20 },\n",
        "{ \"name\" : \"Nikhil\" , \"age\" : 19 }]\n",
        "print(\"list sorted by age\")\n",
        "\n",
        "print( sorted(lis,key=lambda i:i['age']))\n",
        "print(\"list sorted by age and name\")\n",
        "print(sorted(lis,key=lambda i:(i['age'],i['name'])))\n",
        "#using lambda  fumction reversing the function\n",
        "print(sorted(lis,key=lambda i:i['age'],reverse=True))"
      ],
      "execution_count": null,
      "outputs": [
        {
          "output_type": "stream",
          "text": [
            "list sorted by age\n",
            "[{'name': 'Nikhil', 'age': 19}, {'name': 'Nandini', 'age': 20}, {'name': 'Manjeet', 'age': 20}]\n",
            "list sorted by age and name\n",
            "[{'name': 'Nikhil', 'age': 19}, {'name': 'Manjeet', 'age': 20}, {'name': 'Nandini', 'age': 20}]\n",
            "[{'name': 'Nandini', 'age': 20}, {'name': 'Manjeet', 'age': 20}, {'name': 'Nikhil', 'age': 19}]\n"
          ],
          "name": "stdout"
        }
      ]
    },
    {
      "cell_type": "code",
      "metadata": {
        "colab": {
          "base_uri": "https://localhost:8080/"
        },
        "id": "UoLeyFedM00O",
        "outputId": "c1d8092a-87db-4a03-adac-ec20e66f7ad0"
      },
      "source": [
        "#merging two dictionaries using update function\n",
        "def merge(dict1,dict2):\n",
        "  return dict2.update(dict1)\n",
        "dict1={'a':10,'b':20}\n",
        "dict2={'d':14,'c':'13'}\n",
        "print(merge(dict1,dict2))\n",
        "print(dict2)"
      ],
      "execution_count": null,
      "outputs": [
        {
          "output_type": "stream",
          "text": [
            "None\n",
            "{'d': 14, 'c': '13', 'a': 10, 'b': 20}\n"
          ],
          "name": "stdout"
        }
      ]
    },
    {
      "cell_type": "code",
      "metadata": {
        "id": "sqYJrsc3SNDY",
        "colab": {
          "base_uri": "https://localhost:8080/"
        },
        "outputId": "98dbc92e-6282-44cd-d48c-6c7ebf659072"
      },
      "source": [
        "from collections import OrderedDict\n",
        "  \n",
        "# initialising ordered_dict\n",
        "iniordered_dict = OrderedDict([('akshat', '1'), ('nikhil', '2')])\n",
        "  \n",
        "# inserting items in starting of dict \n",
        "iniordered_dict.update({'manjeet':'3'})\n",
        "iniordered_dict.move_to_end('manjeet', last = False)\n",
        "  \n",
        "# print result\n",
        "print (\"Resultant Dictionary : \"+str(iniordered_dict))\n"
      ],
      "execution_count": null,
      "outputs": [
        {
          "output_type": "stream",
          "text": [
            "Resultant Dictionary : OrderedDict([('manjeet', '3'), ('akshat', '1'), ('nikhil', '2')])\n"
          ],
          "name": "stdout"
        }
      ]
    },
    {
      "cell_type": "code",
      "metadata": {
        "colab": {
          "base_uri": "https://localhost:8080/"
        },
        "id": "d2V2E_AElPW-",
        "outputId": "32c92d2e-60b6-4cdb-be02-dc2453af54b0"
      },
      "source": [
        "from collections import OrderedDict \n",
        "  \n",
        "def checkOrder(input, pattern): \n",
        "      \n",
        "    # create empty OrderedDict \n",
        "    # output will be like {'a': None,'b': None, 'c': None} \n",
        "    dict = OrderedDict.fromkeys(input) \n",
        "  \n",
        "    # traverse generated OrderedDict parallel with \n",
        "    # pattern string to check if order of characters \n",
        "    # are same or not \n",
        "    ptrlen = 0\n",
        "    for key,value in dict.items():\n",
        "      \n",
        "\n",
        "      if (key == pattern[ptrlen]):\n",
        "          ptrlen = ptrlen + 1\n",
        "      if (ptrlen==(len(pattern))):\n",
        "         return 'true'\n",
        "    return 'false'\n",
        "\n",
        "if __name__ == \"__main__\": \n",
        "    input = 'engineers rock'\n",
        "    pattern = 'egr'\n",
        "    print (checkOrder(input,pattern)) \n"
      ],
      "execution_count": null,
      "outputs": [
        {
          "output_type": "stream",
          "text": [
            "e\n",
            "n\n",
            "g\n",
            "i\n",
            "r\n",
            "true\n"
          ],
          "name": "stdout"
        }
      ]
    },
    {
      "cell_type": "code",
      "metadata": {
        "id": "V5I3wrbvpp0S",
        "colab": {
          "base_uri": "https://localhost:8080/"
        },
        "outputId": "a7e754f3-7e7f-481e-8e3e-d9f3f37f4fe3"
      },
      "source": [
        "#find the common elements in aray by dictionary insertion\n",
        "\n",
        "from collections import Counter\n",
        "def commonElement(ar1,ar2,ar3):\n",
        "  ar1=Counter(ar1)\n",
        "  ar2=Counter(ar2)\n",
        "  ar3=Counter(ar3)\n",
        "  #perfoming the intersection operation\n",
        "  resultdict=dict(ar1.items()&ar2.items()&ar3.items())\n",
        "  common=[]\n",
        "  for (key,val) in resultdict.items():\n",
        "    for i in range(0,val):\n",
        "      common.append(key)\n",
        "  print(common)\n",
        "  \n",
        "if __name__==\"__main__\":\n",
        "   ar1 = [1, 5, 10, 20, 40, 80]\n",
        "   ar2 = [6, 7, 20, 80, 100]\n",
        "   ar3 = [3, 4, 15, 20, 30, 70, 80, 120]\n",
        "   commonElement(ar1,ar2,ar3)\n"
      ],
      "execution_count": null,
      "outputs": [
        {
          "output_type": "stream",
          "text": [
            "[80, 20]\n"
          ],
          "name": "stdout"
        }
      ]
    },
    {
      "cell_type": "code",
      "metadata": {
        "colab": {
          "base_uri": "https://localhost:8080/"
        },
        "id": "1jeMUhPwmQZM",
        "outputId": "86503f07-ed79-4549-f610-694052ca5fd8"
      },
      "source": [
        "#dictionary and counter in python to print the winner of election\n",
        "from collections import Counter\n",
        "def winner(input):\n",
        "  votes=Counter(input)\n",
        "  dict={}\n",
        "  for value in votes.values():\n",
        "    \n",
        "    dict[value]=[]\n",
        "  for (key,value)  in votes.items():\n",
        "    \n",
        "    dict[value].append(key)\n",
        "    \n",
        "  maxvote=sorted(dict.keys(),reverse=True)[0]\n",
        "  if(len(dict[maxvote]))>1:\n",
        "    print(sorted(dict[maxvote][0]))\n",
        "  else:\n",
        "    print(dict[maxvote][0])  \n",
        "if __name__ == \"__main__\":\n",
        "  input =['john','johnny','jackie','johnny',\n",
        "            'john','jackie','jamie','jamie',\n",
        "            'john','johnny','jamie','johnny',\n",
        "            'john'] \n",
        "  winner(input)"
      ],
      "execution_count": null,
      "outputs": [
        {
          "output_type": "stream",
          "text": [
            "<built-in method values of Counter object at 0x7f567b468f50>\n",
            "<built-in method values of Counter object at 0x7f567b468f50>\n",
            "<built-in method values of Counter object at 0x7f567b468f50>\n",
            "<built-in method values of Counter object at 0x7f567b468f50>\n",
            "['h', 'j', 'n', 'o']\n"
          ],
          "name": "stdout"
        }
      ]
    }
  ]
}