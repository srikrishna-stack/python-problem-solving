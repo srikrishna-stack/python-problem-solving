{
  "nbformat": 4,
  "nbformat_minor": 0,
  "metadata": {
    "colab": {
      "name": "regex.ipynb",
      "provenance": [],
      "authorship_tag": "ABX9TyOa6jmLE2oks0GouIiLjAG1",
      "include_colab_link": true
    },
    "kernelspec": {
      "name": "python3",
      "display_name": "Python 3"
    },
    "language_info": {
      "name": "python"
    }
  },
  "cells": [
    {
      "cell_type": "markdown",
      "metadata": {
        "id": "view-in-github",
        "colab_type": "text"
      },
      "source": [
        "<a href=\"https://colab.research.google.com/github/srikrishna-stack/python-problem-solving/blob/main/regex.ipynb\" target=\"_parent\"><img src=\"https://colab.research.google.com/assets/colab-badge.svg\" alt=\"Open In Colab\"/></a>"
      ]
    },
    {
      "cell_type": "code",
      "metadata": {
        "colab": {
          "base_uri": "https://localhost:8080/",
          "height": 35
        },
        "id": "Lk_DHJUOmAJT",
        "outputId": "3d981de4-f8e6-47e8-843b-18d9693a1e4d"
      },
      "source": [
        "#group\n",
        "import re\n",
        "m=re.match(r'(\\w+)@(\\w+)\\.(\\w+)','usename@hackerank.com')\n",
        "m.group(0)\n",
        "m.group(1)\n",
        "m.group(2)\n",
        "m.group(3)\n"
      ],
      "execution_count": null,
      "outputs": [
        {
          "output_type": "execute_result",
          "data": {
            "application/vnd.google.colaboratory.intrinsic+json": {
              "type": "string"
            },
            "text/plain": [
              "'com'"
            ]
          },
          "metadata": {
            "tags": []
          },
          "execution_count": 3
        }
      ]
    },
    {
      "cell_type": "code",
      "metadata": {
        "colab": {
          "base_uri": "https://localhost:8080/"
        },
        "id": "IJt81_BPm1DA",
        "outputId": "b2f775df-82f8-456f-9a51-5788aa714b1e"
      },
      "source": [
        "#groups\n",
        "import re\n",
        "m=re.match(r'(\\w+)@(\\w+)\\.(\\w+)','username@hackerrank.com')\n",
        "m.groups()"
      ],
      "execution_count": null,
      "outputs": [
        {
          "output_type": "execute_result",
          "data": {
            "text/plain": [
              "('username', 'hackerrank', 'com')"
            ]
          },
          "metadata": {
            "tags": []
          },
          "execution_count": 4
        }
      ]
    },
    {
      "cell_type": "code",
      "metadata": {
        "colab": {
          "base_uri": "https://localhost:8080/"
        },
        "id": "NtvmUGn3nZi7",
        "outputId": "0701261d-22aa-4d8a-b57d-391d9e9df283"
      },
      "source": [
        "m = re.match(r'(?P<user>\\w+)@(?P<website>\\w+)\\.(?P<extension>\\w+)','myname@hackerrank.com')\n",
        "m.groupdict()"
      ],
      "execution_count": null,
      "outputs": [
        {
          "output_type": "execute_result",
          "data": {
            "text/plain": [
              "{'extension': 'com', 'user': 'myname', 'website': 'hackerrank'}"
            ]
          },
          "metadata": {
            "tags": []
          },
          "execution_count": 6
        }
      ]
    },
    {
      "cell_type": "code",
      "metadata": {
        "id": "OZUlaB3enb8z",
        "colab": {
          "base_uri": "https://localhost:8080/"
        },
        "outputId": "edb36068-adad-48f2-f7b1-c5b4a27b3b8f"
      },
      "source": [
        "import re\n",
        "m=re.search(r'([a-zA-Z0-9])\\1+',input().strip())\n",
        "print(m.group(1) if m else -1 )"
      ],
      "execution_count": null,
      "outputs": [
        {
          "output_type": "stream",
          "text": [
            "..12345678910111213141516171820212223\n",
            "1\n"
          ],
          "name": "stdout"
        }
      ]
    },
    {
      "cell_type": "code",
      "metadata": {
        "colab": {
          "base_uri": "https://localhost:8080/"
        },
        "id": "QKehnb34or5x",
        "outputId": "61aa47ae-1bf4-44e5-c092-a1e40ba6bca5"
      },
      "source": [
        "#find all\n",
        "import re\n",
        "re.findall(r'\\w','http://www.hackerrank.com/')"
      ],
      "execution_count": null,
      "outputs": [
        {
          "output_type": "execute_result",
          "data": {
            "text/plain": [
              "['h',\n",
              " 't',\n",
              " 't',\n",
              " 'p',\n",
              " 'w',\n",
              " 'w',\n",
              " 'w',\n",
              " 'h',\n",
              " 'a',\n",
              " 'c',\n",
              " 'k',\n",
              " 'e',\n",
              " 'r',\n",
              " 'r',\n",
              " 'a',\n",
              " 'n',\n",
              " 'k',\n",
              " 'c',\n",
              " 'o',\n",
              " 'm']"
            ]
          },
          "metadata": {
            "tags": []
          },
          "execution_count": 8
        }
      ]
    },
    {
      "cell_type": "code",
      "metadata": {
        "colab": {
          "base_uri": "https://localhost:8080/"
        },
        "id": "yaGEY3Zzp-CC",
        "outputId": "15a27953-7265-4df0-8756-0d78705a58a8"
      },
      "source": [
        "import re\n",
        "re.finditer(r'\\w','http://www.hackerrank.com/')\n",
        "map(lambda x: x.group(),re.finditer(r'\\w','http://www.hackerrank.com/'))\n"
      ],
      "execution_count": null,
      "outputs": [
        {
          "output_type": "execute_result",
          "data": {
            "text/plain": [
              "<map at 0x7ff4fa6d6750>"
            ]
          },
          "metadata": {
            "tags": []
          },
          "execution_count": 10
        }
      ]
    },
    {
      "cell_type": "code",
      "metadata": {
        "id": "lqNOBMXJqta1",
        "colab": {
          "base_uri": "https://localhost:8080/"
        },
        "outputId": "f29a349f-020c-493e-fee7-5ebefa46942b"
      },
      "source": [
        "import re\n",
        "p=re.compile('\\D+')\n",
        "\n",
        "print(p.findall('I went at him 11 am on 1999'))"
      ],
      "execution_count": 4,
      "outputs": [
        {
          "output_type": "stream",
          "text": [
            "['I went at him ', ' am on ']\n"
          ],
          "name": "stdout"
        }
      ]
    },
    {
      "cell_type": "code",
      "metadata": {
        "colab": {
          "base_uri": "https://localhost:8080/"
        },
        "id": "ocLnF0w2yqH0",
        "outputId": "a2c1c60b-331b-45c7-ba60-3c37273e6d86"
      },
      "source": [
        "import re\n",
        "p=re.compile('\\S')\n",
        "print(p.findall(\"He said * in some_lang.\"))"
      ],
      "execution_count": 10,
      "outputs": [
        {
          "output_type": "stream",
          "text": [
            "['H', 'e', 's', 'a', 'i', 'd', '*', 'i', 'n', 's', 'o', 'm', 'e', '_', 'l', 'a', 'n', 'g', '.']\n"
          ],
          "name": "stdout"
        }
      ]
    },
    {
      "cell_type": "code",
      "metadata": {
        "colab": {
          "base_uri": "https://localhost:8080/"
        },
        "id": "FH4vQuC7zVb2",
        "outputId": "b7e4d071-ebd9-4445-f1b8-f012bf134841"
      },
      "source": [
        "import re\n",
        "  \n",
        "# '*' replaces the no. of occurrence of a character.\n",
        "p = re.compile('ab*')\n",
        "print(p.findall(\"ababbaabbb\"))"
      ],
      "execution_count": 13,
      "outputs": [
        {
          "output_type": "stream",
          "text": [
            "['ab', 'abb', 'a', 'abbb']\n"
          ],
          "name": "stdout"
        }
      ]
    },
    {
      "cell_type": "code",
      "metadata": {
        "colab": {
          "base_uri": "https://localhost:8080/"
        },
        "id": "DU67fghZ0ZWV",
        "outputId": "623b6177-0eb5-483e-e334-3f29cd697238"
      },
      "source": [
        "from re import split\n",
        "print(split('\\W+', 'Words, words , Words'))\n",
        "print(split('\\W+', \"Word's words Words\"))\n",
        "  \n",
        "# Here ':', ' ' ,',' are not AlphaNumeric thus, the point where splitting occurs\n",
        "print(split('\\S+', 'On 12th Jan 2016, at 11:02 AM'))\n",
        "\n",
        "  \n",
        "# '\\d+' denotes Numeric Characters or group of characters\n",
        "# Splitting occurs at '12', '2016', '11', '02' only\n",
        "print(split('\\d+', 'On 12th Jan 2016, at 11:02 AM'))"
      ],
      "execution_count": 18,
      "outputs": [
        {
          "output_type": "stream",
          "text": [
            "['Words', 'words', 'Words']\n",
            "['Word', 's', 'words', 'Words']\n",
            "['', ' ', ' ', ' ', ' ', ' ', ' ', '']\n",
            "['On ', 'th Jan ', ', at ', ':', ' AM']\n"
          ],
          "name": "stdout"
        }
      ]
    },
    {
      "cell_type": "code",
      "metadata": {
        "id": "KRgzuYK91TVY"
      },
      "source": [
        ""
      ],
      "execution_count": null,
      "outputs": []
    }
  ]
}