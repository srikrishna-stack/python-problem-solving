{
  "nbformat": 4,
  "nbformat_minor": 0,
  "metadata": {
    "colab": {
      "name": "regex.ipynb",
      "provenance": [],
      "authorship_tag": "ABX9TyN9lngGWccn5fULCiMYGAOM",
      "include_colab_link": true
    },
    "kernelspec": {
      "name": "python3",
      "display_name": "Python 3"
    },
    "language_info": {
      "name": "python"
    }
  },
  "cells": [
    {
      "cell_type": "markdown",
      "metadata": {
        "id": "view-in-github",
        "colab_type": "text"
      },
      "source": [
        "<a href=\"https://colab.research.google.com/github/srikrishna-stack/python-problem-solving/blob/main/regex.ipynb\" target=\"_parent\"><img src=\"https://colab.research.google.com/assets/colab-badge.svg\" alt=\"Open In Colab\"/></a>"
      ]
    },
    {
      "cell_type": "code",
      "metadata": {
        "colab": {
          "base_uri": "https://localhost:8080/",
          "height": 35
        },
        "id": "Lk_DHJUOmAJT",
        "outputId": "3d981de4-f8e6-47e8-843b-18d9693a1e4d"
      },
      "source": [
        "#group\n",
        "import re\n",
        "m=re.match(r'(\\w+)@(\\w+)\\.(\\w+)','usename@hackerank.com')\n",
        "m.group(0)\n",
        "m.group(1)\n",
        "m.group(2)\n",
        "m.group(3)\n"
      ],
      "execution_count": null,
      "outputs": [
        {
          "output_type": "execute_result",
          "data": {
            "application/vnd.google.colaboratory.intrinsic+json": {
              "type": "string"
            },
            "text/plain": [
              "'com'"
            ]
          },
          "metadata": {
            "tags": []
          },
          "execution_count": 3
        }
      ]
    },
    {
      "cell_type": "code",
      "metadata": {
        "colab": {
          "base_uri": "https://localhost:8080/"
        },
        "id": "IJt81_BPm1DA",
        "outputId": "b2f775df-82f8-456f-9a51-5788aa714b1e"
      },
      "source": [
        "#groups\n",
        "import re\n",
        "m=re.match(r'(\\w+)@(\\w+)\\.(\\w+)','username@hackerrank.com')\n",
        "m.groups()"
      ],
      "execution_count": null,
      "outputs": [
        {
          "output_type": "execute_result",
          "data": {
            "text/plain": [
              "('username', 'hackerrank', 'com')"
            ]
          },
          "metadata": {
            "tags": []
          },
          "execution_count": 4
        }
      ]
    },
    {
      "cell_type": "code",
      "metadata": {
        "colab": {
          "base_uri": "https://localhost:8080/"
        },
        "id": "NtvmUGn3nZi7",
        "outputId": "0701261d-22aa-4d8a-b57d-391d9e9df283"
      },
      "source": [
        "m = re.match(r'(?P<user>\\w+)@(?P<website>\\w+)\\.(?P<extension>\\w+)','myname@hackerrank.com')\n",
        "m.groupdict()"
      ],
      "execution_count": null,
      "outputs": [
        {
          "output_type": "execute_result",
          "data": {
            "text/plain": [
              "{'extension': 'com', 'user': 'myname', 'website': 'hackerrank'}"
            ]
          },
          "metadata": {
            "tags": []
          },
          "execution_count": 6
        }
      ]
    },
    {
      "cell_type": "code",
      "metadata": {
        "id": "OZUlaB3enb8z",
        "colab": {
          "base_uri": "https://localhost:8080/"
        },
        "outputId": "edb36068-adad-48f2-f7b1-c5b4a27b3b8f"
      },
      "source": [
        "import re\n",
        "m=re.search(r'([a-zA-Z0-9])\\1+',input().strip())\n",
        "print(m.group(1) if m else -1 )"
      ],
      "execution_count": null,
      "outputs": [
        {
          "output_type": "stream",
          "text": [
            "..12345678910111213141516171820212223\n",
            "1\n"
          ],
          "name": "stdout"
        }
      ]
    },
    {
      "cell_type": "code",
      "metadata": {
        "colab": {
          "base_uri": "https://localhost:8080/"
        },
        "id": "QKehnb34or5x",
        "outputId": "61aa47ae-1bf4-44e5-c092-a1e40ba6bca5"
      },
      "source": [
        "#find all\n",
        "import re\n",
        "re.findall(r'\\w','http://www.hackerrank.com/')"
      ],
      "execution_count": null,
      "outputs": [
        {
          "output_type": "execute_result",
          "data": {
            "text/plain": [
              "['h',\n",
              " 't',\n",
              " 't',\n",
              " 'p',\n",
              " 'w',\n",
              " 'w',\n",
              " 'w',\n",
              " 'h',\n",
              " 'a',\n",
              " 'c',\n",
              " 'k',\n",
              " 'e',\n",
              " 'r',\n",
              " 'r',\n",
              " 'a',\n",
              " 'n',\n",
              " 'k',\n",
              " 'c',\n",
              " 'o',\n",
              " 'm']"
            ]
          },
          "metadata": {
            "tags": []
          },
          "execution_count": 8
        }
      ]
    },
    {
      "cell_type": "code",
      "metadata": {
        "colab": {
          "base_uri": "https://localhost:8080/"
        },
        "id": "yaGEY3Zzp-CC",
        "outputId": "15a27953-7265-4df0-8756-0d78705a58a8"
      },
      "source": [
        "import re\n",
        "re.finditer(r'\\w','http://www.hackerrank.com/')\n",
        "map(lambda x: x.group(),re.finditer(r'\\w','http://www.hackerrank.com/'))\n"
      ],
      "execution_count": null,
      "outputs": [
        {
          "output_type": "execute_result",
          "data": {
            "text/plain": [
              "<map at 0x7ff4fa6d6750>"
            ]
          },
          "metadata": {
            "tags": []
          },
          "execution_count": 10
        }
      ]
    },
    {
      "cell_type": "code",
      "metadata": {
        "id": "lqNOBMXJqta1",
        "colab": {
          "base_uri": "https://localhost:8080/"
        },
        "outputId": "f29a349f-020c-493e-fee7-5ebefa46942b"
      },
      "source": [
        "import re\n",
        "p=re.compile('\\D+')\n",
        "\n",
        "print(p.findall('I went at him 11 am on 1999'))"
      ],
      "execution_count": null,
      "outputs": [
        {
          "output_type": "stream",
          "text": [
            "['I went at him ', ' am on ']\n"
          ],
          "name": "stdout"
        }
      ]
    },
    {
      "cell_type": "code",
      "metadata": {
        "colab": {
          "base_uri": "https://localhost:8080/"
        },
        "id": "ocLnF0w2yqH0",
        "outputId": "a2c1c60b-331b-45c7-ba60-3c37273e6d86"
      },
      "source": [
        "import re\n",
        "p=re.compile('\\S')\n",
        "print(p.findall(\"He said * in some_lang.\"))"
      ],
      "execution_count": null,
      "outputs": [
        {
          "output_type": "stream",
          "text": [
            "['H', 'e', 's', 'a', 'i', 'd', '*', 'i', 'n', 's', 'o', 'm', 'e', '_', 'l', 'a', 'n', 'g', '.']\n"
          ],
          "name": "stdout"
        }
      ]
    },
    {
      "cell_type": "code",
      "metadata": {
        "colab": {
          "base_uri": "https://localhost:8080/"
        },
        "id": "FH4vQuC7zVb2",
        "outputId": "b7e4d071-ebd9-4445-f1b8-f012bf134841"
      },
      "source": [
        "import re\n",
        "  \n",
        "# '*' replaces the no. of occurrence of a character.\n",
        "p = re.compile('ab*')\n",
        "print(p.findall(\"ababbaabbb\"))"
      ],
      "execution_count": null,
      "outputs": [
        {
          "output_type": "stream",
          "text": [
            "['ab', 'abb', 'a', 'abbb']\n"
          ],
          "name": "stdout"
        }
      ]
    },
    {
      "cell_type": "code",
      "metadata": {
        "colab": {
          "base_uri": "https://localhost:8080/"
        },
        "id": "DU67fghZ0ZWV",
        "outputId": "623b6177-0eb5-483e-e334-3f29cd697238"
      },
      "source": [
        "from re import split\n",
        "print(split('\\W+', 'Words, words , Words'))\n",
        "print(split('\\W+', \"Word's words Words\"))\n",
        "  \n",
        "# Here ':', ' ' ,',' are not AlphaNumeric thus, the point where splitting occurs\n",
        "print(split('\\S+', 'On 12th Jan 2016, at 11:02 AM'))\n",
        "\n",
        "  \n",
        "# '\\d+' denotes Numeric Characters or group of characters\n",
        "# Splitting occurs at '12', '2016', '11', '02' only\n",
        "print(split('\\d+', 'On 12th Jan 2016, at 11:02 AM'))"
      ],
      "execution_count": null,
      "outputs": [
        {
          "output_type": "stream",
          "text": [
            "['Words', 'words', 'Words']\n",
            "['Word', 's', 'words', 'Words']\n",
            "['', ' ', ' ', ' ', ' ', ' ', ' ', '']\n",
            "['On ', 'th Jan ', ', at ', ':', ' AM']\n"
          ],
          "name": "stdout"
        }
      ]
    },
    {
      "cell_type": "code",
      "metadata": {
        "colab": {
          "base_uri": "https://localhost:8080/"
        },
        "id": "KRgzuYK91TVY",
        "outputId": "8f22f866-9a4a-4d4a-a24b-c2271c186934"
      },
      "source": [
        "import re\n",
        "  \n",
        "# Regular Expression pattern 'ub' matches the string at \"Subject\" and \"Uber\".\n",
        "# As the CASE has been ignored, using Flag, 'ub' should match twice with the string\n",
        "# Upon matching, 'ub' is replaced by '~*' in \"Subject\", and in \"Uber\", 'Ub' is replaced.\n",
        "print(re.sub('ub', '~*' , 'Subject has Uber booked already', flags = re.IGNORECASE))\n",
        "  \n",
        "# Consider the Case Sensitivity, 'Ub' in \"Uber\", will not be reaplced.\n",
        "print(re.sub('ub', '~*' , 'Subject has Uber booked already'))\n",
        "  \n",
        "# As count has been given value 1, the maximum times replacement occurs is 1\n",
        "print(re.sub('ub', '~*' , 'Subject has Uber booked already', count=1, flags = re.IGNORECASE))\n",
        "  \n",
        "# 'r' before the patter denotes RE, \\s is for start and end of a String.\n",
        "print(re.sub(r'\\sAND\\s', ' & ', 'Baked Beans And Spam', flags=re.IGNORECASE))"
      ],
      "execution_count": null,
      "outputs": [
        {
          "output_type": "stream",
          "text": [
            "S~*ject has ~*er booked already\n",
            "S~*ject has Uber booked already\n",
            "S~*ject has Uber booked already\n",
            "Baked Beans & Spam\n"
          ],
          "name": "stdout"
        }
      ]
    },
    {
      "cell_type": "code",
      "metadata": {
        "id": "7_U9tF4r38Jf",
        "colab": {
          "base_uri": "https://localhost:8080/"
        },
        "outputId": "3c6ecf21-3cdf-4585-c57a-f6e41810c226"
      },
      "source": [
        "#start and  end\n",
        "import re\n",
        "m=re.search(r'\\d+','1234')\n",
        "print(m.end())\n",
        "print(m.start())"
      ],
      "execution_count": null,
      "outputs": [
        {
          "output_type": "stream",
          "text": [
            "4\n",
            "0\n"
          ],
          "name": "stdout"
        }
      ]
    },
    {
      "cell_type": "code",
      "metadata": {
        "colab": {
          "base_uri": "https://localhost:8080/"
        },
        "id": "TE_skL51Wt8T",
        "outputId": "dd06d9b3-deaa-44a5-bfae-f3ce6696ff21"
      },
      "source": [
        "import re\n",
        "string=input()\n",
        "sub_string=input()\n",
        "pattern=re.compile(sub_string)\n",
        "match=pattern.search(string)\n",
        "if not match:\n",
        "  print('(-1, -1)')\n",
        "while match:\n",
        "  print('({0},{1})'.format(match.start(),match.end()-1))\n",
        "  match=pattern.search(string,match.start()+1)"
      ],
      "execution_count": null,
      "outputs": [
        {
          "output_type": "stream",
          "text": [
            "aaadaa\n",
            "aa\n",
            "(0,1)\n",
            "(1,2)\n",
            "(4,5)\n"
          ],
          "name": "stdout"
        }
      ]
    },
    {
      "cell_type": "code",
      "metadata": {
        "colab": {
          "base_uri": "https://localhost:8080/"
        },
        "id": "LvziudeEcBT9",
        "outputId": "d4ca946a-b8d9-4e4e-9f73-3a9d5a43aeab"
      },
      "source": [
        "thousand = 'M{0,3}'\n",
        "hundred = '(C[MD]|D?C{0,3})'\n",
        "ten = '(X[CL]|L?X{0,3})'\n",
        "digit = '(I[VX]|V?I{0,3})'\n",
        "regex_pattern=r\"%s%s%s%s$\" % (thousand, hundred, ten, digit)\t\n",
        "import re\n",
        "print(str(bool(re.match(regex_pattern,input()))))\n"
      ],
      "execution_count": null,
      "outputs": [
        {
          "output_type": "stream",
          "text": [
            "DXXVIIII\n",
            "False\n"
          ],
          "name": "stdout"
        }
      ]
    },
    {
      "cell_type": "code",
      "metadata": {
        "colab": {
          "base_uri": "https://localhost:8080/"
        },
        "id": "SwCScu0kweox",
        "outputId": "055bc291-f3b0-4218-d286-ddb149c3df1b"
      },
      "source": [
        "#validating phone number\n",
        "import re\n",
        "N=int(input())\n",
        "for i in range(N):\n",
        "  if re.match(r'[789]\\d{9}$',input()):\n",
        "    print('YES')\n",
        "  else:\n",
        "    print('NO')"
      ],
      "execution_count": null,
      "outputs": [
        {
          "output_type": "stream",
          "text": [
            "2\n",
            "9550065301\n",
            "YES\n",
            "1234567\n",
            "NO\n"
          ],
          "name": "stdout"
        }
      ]
    },
    {
      "cell_type": "code",
      "metadata": {
        "colab": {
          "base_uri": "https://localhost:8080/"
        },
        "id": "kh6CE7dWzayS",
        "outputId": "b11499a5-6cdb-4ed4-9da4-03fc6a800566"
      },
      "source": [
        "import re\n",
        "n=int(input())\n",
        "for _ in range(n):\n",
        "  x,y=input().split(' ')\n",
        "  m = re.match(r'<[A-Za-z](\\w|-|\\.|_)+@[A-Za-z]+\\.[A-Za-z]{1,3}>', y)\n",
        " \n",
        "  if m:\n",
        "\n",
        "    print(x,y)\n"
      ],
      "execution_count": null,
      "outputs": [
        {
          "output_type": "stream",
          "text": [
            "2\n",
            "DEXTER <dexter@hotmail.com>\n",
            "DEXTER <dexter@hotmail.com>\n",
            "VIRUS <virus!@variable.:p>\n"
          ],
          "name": "stdout"
        }
      ]
    },
    {
      "cell_type": "code",
      "metadata": {
        "colab": {
          "base_uri": "https://localhost:8080/"
        },
        "id": "1UgWqmkzzaup",
        "outputId": "976446b6-6a9d-4cc5-aef1-887f4d99e2ea"
      },
      "source": [
        "print('greeshma, you are making too much overaction!!!!')"
      ],
      "execution_count": null,
      "outputs": [
        {
          "output_type": "stream",
          "text": [
            "greeshma, you are making too much overaction!!!!\n"
          ],
          "name": "stdout"
        }
      ]
    },
    {
      "cell_type": "code",
      "metadata": {
        "id": "WJujv2lmzaq5",
        "colab": {
          "base_uri": "https://localhost:8080/"
        },
        "outputId": "85849e04-9627-4d9d-9775-0631d735a31d"
      },
      "source": [
        "#hex colors\n",
        "import re\n",
        "for i in range(int(input())):\n",
        "    matches = re.findall(r':?.(#[0-9a-fA-F]{6}|#[0-9a-fA-F]{3})', input())\n",
        "    if matches:\n",
        "        print(*matches, sep='\\n')\n"
      ],
      "execution_count": null,
      "outputs": [
        {
          "output_type": "stream",
          "text": [
            "11\n",
            "#BED {     color: #FfFdF8; background-color:#aef;     font-size: 123px;     background: -webkit-linear-gradient(top, #f9f9f9, #fff); } #Cab {     background-color: #ABC;     border: 2px dashed #fff; }   \n",
            "#FfFdF8\n",
            "#aef\n",
            "#f9f9f9\n",
            "#fff\n",
            "#Cab\n",
            "#ABC\n",
            "#fff\n"
          ],
          "name": "stdout"
        }
      ]
    },
    {
      "cell_type": "code",
      "metadata": {
        "id": "Y6YgDGPszaoG",
        "colab": {
          "base_uri": "https://localhost:8080/"
        },
        "outputId": "028ccf27-346d-4f5c-8ea1-01586d8d3541"
      },
      "source": [
        "from html.parser import HTMLParser\n",
        "class MyHTMLParser(HTMLParser):\n",
        "    def handle_starttag(self, tag, attrs):\n",
        "        print (\"Encountered a start tag:\", tag)\n",
        "\n",
        "    def handle_endtag(self, tag):\n",
        "        print (\"Encountered an end tag :\", tag)\n",
        "\n",
        "    def handle_data(self, data):\n",
        "        print (\"Encountered some data  :\", data)\n",
        "\n",
        "# instantiate the parser and fed it some HTML\n",
        "parser = MyHTMLParser()\n",
        "parser.feed('<html><head><title>Test</title></head>'\n",
        "            '<body><h1>Parse me!</h1></body></html>')"
      ],
      "execution_count": null,
      "outputs": [
        {
          "output_type": "stream",
          "text": [
            "Encountered a start tag: html\n",
            "Encountered a start tag: head\n",
            "Encountered a start tag: title\n",
            "Encountered some data  : Test\n",
            "Encountered an end tag : title\n",
            "Encountered an end tag : head\n",
            "Encountered a start tag: body\n",
            "Encountered a start tag: h1\n",
            "Encountered some data  : Parse me!\n",
            "Encountered an end tag : h1\n",
            "Encountered an end tag : body\n",
            "Encountered an end tag : html\n"
          ],
          "name": "stdout"
        }
      ]
    },
    {
      "cell_type": "code",
      "metadata": {
        "colab": {
          "base_uri": "https://localhost:8080/"
        },
        "id": "IkMT3OIUeOeY",
        "outputId": "cd9f0679-28b3-4b94-beab-929f172430e8"
      },
      "source": [
        "from html.parser import HTMLParser\n",
        "class Parser(HTMLParser):\n",
        "  # method to append the start tag to the list start_tags.\n",
        "  def handle_starttag(self, tag, attrs):\n",
        "    global start_tags\n",
        "    start_tags.append(tag)\n",
        "    # method to append the end tag to the list end_tags.\n",
        "  def handle_endtag(self, tag):\n",
        "    global end_tags\n",
        "    end_tags.append(tag)\n",
        "  # method to append the data between the tags to the list all_data.\n",
        "  def handle_data(self, data):\n",
        "    global all_data\n",
        "    all_data.append(data)\n",
        "  # method to append the comment to the list comments.\n",
        "  def handle_comment(self, data):\n",
        "    global comments\n",
        "    comments.append(data)\n",
        "start_tags = []\n",
        "end_tags = []\n",
        "all_data = []\n",
        "comments = []\n",
        "# Creating an instance of our class.\n",
        "parser = Parser()\n",
        "# Poviding the input.\n",
        "parser.feed('<html><title>Desserts</title><body><p>'\n",
        "            'I am a fan of frozen yoghurt.</p><'\n",
        "            '/body><!--My first webpage--></html>')\n",
        "print(\"start tags:\", start_tags)\n",
        "print(\"end tags:\", end_tags)\n",
        "print(\"data:\", all_data)\n",
        "print(\"comments\", comments)"
      ],
      "execution_count": null,
      "outputs": [
        {
          "output_type": "stream",
          "text": [
            "start tags: ['html', 'title', 'body', 'p']\n",
            "end tags: ['title', 'p', 'body', 'html']\n",
            "data: ['Desserts', 'I am a fan of frozen yoghurt.']\n",
            "comments ['My first webpage']\n"
          ],
          "name": "stdout"
        }
      ]
    },
    {
      "cell_type": "code",
      "metadata": {
        "colab": {
          "base_uri": "https://localhost:8080/"
        },
        "id": "63zbJREBeOWh",
        "outputId": "5a0bb7b8-0e21-4adc-92b8-546e817cef91"
      },
      "source": [
        "from html.parser import HTMLParser\n",
        "def read_int():\n",
        "  return int(input())\n",
        "def read_init_words():\n",
        "  return map(int,input().split())\n",
        "def pa(a):\n",
        "  for ai in a:\n",
        "    (k,v)=ai\n",
        "    print('->',k.strip(),'>',srt(v).strip())\n",
        "  \n",
        "  \n",
        "class myhtml_parser(HTMLParser):\n",
        "  def handle_start_tag(self,tag,attrs):\n",
        "    print('Strat :',tag.strip())\n",
        "    pa(attrs)\n",
        "  def handle_end_tag(self,tag):\n",
        "    print('End :',tag.strip())\n",
        "  def handle_startendtag(self,tag,attrs):\n",
        "    print('Empty :',tag.strip())\n",
        "    pa(attrs)\n",
        "n=int(input())\n",
        "parser=myhtml_parser()\n",
        "for i in range(n):\n",
        "  parser.feed(input())\n"
      ],
      "execution_count": null,
      "outputs": [
        {
          "output_type": "stream",
          "text": [
            "2\n",
            "<html><head><title>HTML Parser - I</title></head>\n",
            "<body data-modal-target class='1'><h1>HackerRank</h1><br /></body></html>\n",
            "Empty : br\n"
          ],
          "name": "stdout"
        }
      ]
    },
    {
      "cell_type": "code",
      "metadata": {
        "colab": {
          "base_uri": "https://localhost:8080/"
        },
        "id": "uMePvAIaeOTv",
        "outputId": "ed4dac0d-17a3-424b-843a-af31e9aebdad"
      },
      "source": [
        "from html.parser import HTMLParser\n",
        "class MyHTMLParser(HTMLParser):\n",
        "    def handle_starttag(self, tag, attrs):\n",
        "        print(\"Start : {0}\".format(tag))\n",
        "        for key, val in attrs:\n",
        "            print(\"-> {0} > {1}\".format(key, val))\n",
        "    def handle_endtag(self, tag):\n",
        "        print(\"End   : {0}\".format(tag))\n",
        "    def handle_startendtag(self, tag, attrs):\n",
        "        print(\"Empty : {0}\".format(tag))\n",
        "        for key, val in attrs:\n",
        "            print(\"-> {0} > {1}\".format(key, val))\n",
        "parser = MyHTMLParser()\n",
        "lines = []\n",
        "n = int(input())\n",
        "for i in range(n):\n",
        "    lines.append(str(input()).strip())\n",
        "parser.feed(''.join(lines))"
      ],
      "execution_count": null,
      "outputs": [
        {
          "output_type": "stream",
          "text": [
            "2\n",
            "<html><head><title>HTML Parser - I</title></head>\n",
            "<body data-modal-target class='1'><h1>HackerRank</h1><br /></body></html>\n",
            "Start : html\n",
            "Start : head\n",
            "Start : title\n",
            "End   : title\n",
            "End   : head\n",
            "Start : body\n",
            "-> data-modal-target > None\n",
            "-> class > 1\n",
            "Start : h1\n",
            "End   : h1\n",
            "Empty : br\n",
            "End   : body\n",
            "End   : html\n"
          ],
          "name": "stdout"
        }
      ]
    },
    {
      "cell_type": "code",
      "metadata": {
        "id": "VRgvahKceOQ6"
      },
      "source": [
        ""
      ],
      "execution_count": null,
      "outputs": []
    }
  ]
}