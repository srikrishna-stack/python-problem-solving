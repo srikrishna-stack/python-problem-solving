{
  "nbformat": 4,
  "nbformat_minor": 0,
  "metadata": {
    "colab": {
      "name": "Untitled0.ipynb",
      "provenance": [],
      "authorship_tag": "ABX9TyOOXx+DJI62r1SJ0sQoNjMT",
      "include_colab_link": true
    },
    "kernelspec": {
      "name": "python3",
      "display_name": "Python 3"
    },
    "language_info": {
      "name": "python"
    }
  },
  "cells": [
    {
      "cell_type": "markdown",
      "metadata": {
        "id": "view-in-github",
        "colab_type": "text"
      },
      "source": [
        "<a href=\"https://colab.research.google.com/github/srikrishna-stack/python-problem-solving/blob/main/Untitled0.ipynb\" target=\"_parent\"><img src=\"https://colab.research.google.com/assets/colab-badge.svg\" alt=\"Open In Colab\"/></a>"
      ]
    },
    {
      "cell_type": "code",
      "metadata": {
        "id": "Xq0WSyzbQItZ",
        "colab": {
          "base_uri": "https://localhost:8080/"
        },
        "outputId": "ee9998c7-8b58-4d64-e463-80392ea0e499"
      },
      "source": [
        "boardgames = [\n",
        "  'Pandemic Legacy: Season 1', \n",
        "  'Terraforming Mars', \n",
        "  'Brass: Birmingham'\n",
        "]\n",
        "\n",
        "boardgames.insert(0, 'Gloomhaven')\n",
        "\n",
        "print(boardgames)\n"
      ],
      "execution_count": 2,
      "outputs": [
        {
          "output_type": "stream",
          "text": [
            "['Gloomhaven', 'Pandemic Legacy: Season 1', 'Terraforming Mars', 'Brass: Birmingham']\n"
          ],
          "name": "stdout"
        }
      ]
    },
    {
      "cell_type": "code",
      "metadata": {
        "colab": {
          "base_uri": "https://localhost:8080/"
        },
        "id": "raCaORUaKx4L",
        "outputId": "6f66217d-80e3-44f5-c4eb-6f09aae39af3"
      },
      "source": [
        "d = {\n",
        "    'one': 1,\n",
        "    'two': 2,\n",
        "    'three': 3,\n",
        "    'four': 4\n",
        "}\n",
        "\n",
        "d['two']"
      ],
      "execution_count": 4,
      "outputs": [
        {
          "output_type": "execute_result",
          "data": {
            "text/plain": [
              "2"
            ]
          },
          "metadata": {
            "tags": []
          },
          "execution_count": 4
        }
      ]
    },
    {
      "cell_type": "code",
      "metadata": {
        "colab": {
          "base_uri": "https://localhost:8080/",
          "height": 35
        },
        "id": "_4vfJjnnMaNK",
        "outputId": "5ed926db-7ea7-4259-b53f-e47680604f7e"
      },
      "source": [
        "lst = ['numpy', 'pandas', 'requests']\n",
        "\n",
        "lst_gen = (pkg for pkg in lst)\n",
        "next(lst_gen)"
      ],
      "execution_count": 7,
      "outputs": [
        {
          "output_type": "execute_result",
          "data": {
            "application/vnd.google.colaboratory.intrinsic+json": {
              "type": "string"
            },
            "text/plain": [
              "'numpy'"
            ]
          },
          "metadata": {
            "tags": []
          },
          "execution_count": 7
        }
      ]
    },
    {
      "cell_type": "code",
      "metadata": {
        "id": "FtRJHQkdM638"
      },
      "source": [
        ""
      ],
      "execution_count": null,
      "outputs": []
    }
  ]
}