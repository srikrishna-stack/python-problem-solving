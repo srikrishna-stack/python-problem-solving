{
  "nbformat": 4,
  "nbformat_minor": 0,
  "metadata": {
    "colab": {
      "name": "python regular expressions.ipynb",
      "provenance": [],
      "authorship_tag": "ABX9TyO9otD8BfURXyTiy5er8WLb",
      "include_colab_link": true
    },
    "kernelspec": {
      "name": "python3",
      "display_name": "Python 3"
    },
    "language_info": {
      "name": "python"
    }
  },
  "cells": [
    {
      "cell_type": "markdown",
      "metadata": {
        "id": "view-in-github",
        "colab_type": "text"
      },
      "source": [
        "<a href=\"https://colab.research.google.com/github/srikrishna-stack/python-problem-solving/blob/main/python_regular_expressions.ipynb\" target=\"_parent\"><img src=\"https://colab.research.google.com/assets/colab-badge.svg\" alt=\"Open In Colab\"/></a>"
      ]
    },
    {
      "cell_type": "code",
      "metadata": {
        "colab": {
          "base_uri": "https://localhost:8080/"
        },
        "id": "6YPkbhFrGBGD",
        "outputId": "bec0c362-d3b4-40c7-d9cc-666f12a86e7f"
      },
      "source": [
        "import re\n",
        "p=re.compile('[a-e]')\n",
        "print(p.findall(\"aye,said mr.gibson stark\"))"
      ],
      "execution_count": 1,
      "outputs": [
        {
          "output_type": "stream",
          "text": [
            "['a', 'e', 'a', 'd', 'b', 'a']\n"
          ],
          "name": "stdout"
        }
      ]
    },
    {
      "cell_type": "code",
      "metadata": {
        "colab": {
          "base_uri": "https://localhost:8080/"
        },
        "id": "WRCDMhhKGGeh",
        "outputId": "1ae6b183-67c7-4e07-ed48-1c7b65d7ab47"
      },
      "source": [
        "import re\n",
        "p=re.compile('\\d')\n",
        "print(p.findall(\"I went to him at 11 A.M. on 4th july 2000\"))\n",
        "p=re.compile('\\d+')\n",
        "print(p.findall('I went to him at 11 A.M. on 4th july 2000'))"
      ],
      "execution_count": 3,
      "outputs": [
        {
          "output_type": "stream",
          "text": [
            "['1', '1', '4', '2', '0', '0', '0']\n",
            "['11', '4', '2000']\n"
          ],
          "name": "stdout"
        }
      ]
    },
    {
      "cell_type": "code",
      "metadata": {
        "colab": {
          "base_uri": "https://localhost:8080/"
        },
        "id": "XZjVAXaWGGhv",
        "outputId": "58453e7d-f23b-4ceb-bfbe-88bd56d620ba"
      },
      "source": [
        "import re\n",
        "p=re.compile('\\w')\n",
        "print(p.findall(\"he said * in same_lang\"))\n",
        "p=re.compile('\\w+')\n",
        "print(p.findall(\"he said * in same_lang\"))\n",
        "p=re.compile('\\W')\n",
        "print(p.findall(\"he said *** in same_lang\"))\n"
      ],
      "execution_count": 12,
      "outputs": [
        {
          "output_type": "stream",
          "text": [
            "['h', 'e', 's', 'a', 'i', 'd', 'i', 'n', 's', 'a', 'm', 'e', '_', 'l', 'a', 'n', 'g']\n",
            "['he', 'said', 'in', 'same_lang']\n",
            "[' ', ' ', '*', '*', '*', ' ', ' ']\n"
          ],
          "name": "stdout"
        }
      ]
    },
    {
      "cell_type": "code",
      "metadata": {
        "colab": {
          "base_uri": "https://localhost:8080/"
        },
        "id": "1gHVJh2kGGmX",
        "outputId": "c8a74c44-3751-4e88-aedc-4e396e764d0e"
      },
      "source": [
        "import re\n",
        "p=re.compile('ab*')\n",
        "print(p.findall(\"ababbaabbb\"))\n"
      ],
      "execution_count": 13,
      "outputs": [
        {
          "output_type": "stream",
          "text": [
            "['ab', 'abb', 'a', 'abbb']\n"
          ],
          "name": "stdout"
        }
      ]
    },
    {
      "cell_type": "code",
      "metadata": {
        "colab": {
          "base_uri": "https://localhost:8080/"
        },
        "id": "vH_dWj9RGGqI",
        "outputId": "eb71ff4a-a9e4-4b17-818c-3edaaaea8da3"
      },
      "source": [
        "from re import split\n",
        "print(split('\\W+','Words,word,word'))\n",
        "print(split())"
      ],
      "execution_count": 14,
      "outputs": [
        {
          "output_type": "stream",
          "text": [
            "['Words', 'word', 'word']\n"
          ],
          "name": "stdout"
        }
      ]
    },
    {
      "cell_type": "code",
      "metadata": {
        "id": "L2C3_xrMGGtU"
      },
      "source": [
        ""
      ],
      "execution_count": null,
      "outputs": []
    }
  ]
}