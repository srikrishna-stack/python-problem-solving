{
  "nbformat": 4,
  "nbformat_minor": 0,
  "metadata": {
    "colab": {
      "name": "python collections.ipynb",
      "provenance": [],
      "collapsed_sections": [],
      "authorship_tag": "ABX9TyMIx1lpAdu7+xFfUrTBPB63",
      "include_colab_link": true
    },
    "kernelspec": {
      "name": "python3",
      "display_name": "Python 3"
    },
    "language_info": {
      "name": "python"
    }
  },
  "cells": [
    {
      "cell_type": "markdown",
      "metadata": {
        "id": "view-in-github",
        "colab_type": "text"
      },
      "source": [
        "<a href=\"https://colab.research.google.com/github/srikrishna-stack/python-problem-solving/blob/main/python_collections.ipynb\" target=\"_parent\"><img src=\"https://colab.research.google.com/assets/colab-badge.svg\" alt=\"Open In Colab\"/></a>"
      ]
    },
    {
      "cell_type": "markdown",
      "metadata": {
        "id": "U_SLO2FIFq9g"
      },
      "source": [
        "\n",
        "counters\n"
      ]
    },
    {
      "cell_type": "code",
      "metadata": {
        "colab": {
          "base_uri": "https://localhost:8080/"
        },
        "id": "osq0YSCnE3lp",
        "outputId": "e2bb6a3f-033c-4a07-b2cc-170ee706b780"
      },
      "source": [
        "#counters in python intialization and updation\n",
        "# a counter is a subclass of dict it is a unorder collects of dictionaries and elements\n",
        "#syntax\n",
        "# class collections.counter([iterable-or-mapping])]\n",
        "from collections import Counter\n",
        "print(Counter(['B','B','A','B','C','A','B','B','A','C']))\n",
        "print(Counter({'A':3,'B':5,'C':6}))\n",
        "print(Counter(A=3,B=5,C=6))"
      ],
      "execution_count": null,
      "outputs": [
        {
          "output_type": "stream",
          "text": [
            "Counter({'B': 5, 'A': 3, 'C': 2})\n",
            "Counter({'C': 6, 'B': 5, 'A': 3})\n",
            "Counter({'C': 6, 'B': 5, 'A': 3})\n"
          ],
          "name": "stdout"
        }
      ]
    },
    {
      "cell_type": "code",
      "metadata": {
        "colab": {
          "base_uri": "https://localhost:8080/"
        },
        "id": "srlswjRPE3hT",
        "outputId": "592dfcc8-1549-40e4-9247-5abcf3f3afc6"
      },
      "source": [
        "#updation of a counter\n",
        "from collections import Counter\n",
        "coun=Counter()\n",
        "coun.update(['A','B','C','A','A','B','C','C'])\n",
        "print(coun)\n"
      ],
      "execution_count": null,
      "outputs": [
        {
          "output_type": "stream",
          "text": [
            "Counter({'A': 3, 'C': 3, 'B': 2})\n"
          ],
          "name": "stdout"
        }
      ]
    },
    {
      "cell_type": "code",
      "metadata": {
        "colab": {
          "base_uri": "https://localhost:8080/"
        },
        "id": "7oOcE4OWE3Zj",
        "outputId": "97d26e8e-cc1a-4d75-e75b-a993e5bd0cb3"
      },
      "source": [
        "#counters can be zero or negative\n",
        "from collections  import Counter\n",
        "c1 = Counter(A=4,  B=3, C=10)\n",
        "c2 = Counter(A=10, B=3, C=4)\n",
        "c1.subtract(c2)\n",
        "print(c1)"
      ],
      "execution_count": null,
      "outputs": [
        {
          "output_type": "stream",
          "text": [
            "Counter({'C': 6, 'B': 0, 'A': -6})\n"
          ],
          "name": "stdout"
        }
      ]
    },
    {
      "cell_type": "markdown",
      "metadata": {
        "id": "Bwvk2ZWgJwbN"
      },
      "source": [
        "order dict\n",
        "it is a subclass of the dictionary"
      ]
    },
    {
      "cell_type": "code",
      "metadata": {
        "colab": {
          "base_uri": "https://localhost:8080/"
        },
        "id": "If94XPWSE3Wb",
        "outputId": "71aa0ead-2eae-4e83-b25a-5b244e8fd9e5"
      },
      "source": [
        "from collections import OrderedDict\n",
        "  \n",
        "print(\"This is a Dict:\\n\")\n",
        "d = {}\n",
        "d['a'] = 1\n",
        "d['b'] = 2\n",
        "d['c'] = 3\n",
        "d['d'] = 4\n",
        "  \n",
        "for key, value in d.items():\n",
        "    print(key, value)\n",
        "  \n",
        "print(\"\\nThis is an Ordered Dict:\\n\")\n",
        "od = OrderedDict()\n",
        "od['a'] = 1\n",
        "od['b'] = 2\n",
        "od['c'] = 3\n",
        "od['d'] = 4\n",
        "  \n",
        "for key, value in od.items():\n",
        "    print(key, value)"
      ],
      "execution_count": null,
      "outputs": [
        {
          "output_type": "stream",
          "text": [
            "This is a Dict:\n",
            "\n",
            "a 1\n",
            "b 2\n",
            "c 3\n",
            "d 4\n",
            "\n",
            "This is an Ordered Dict:\n",
            "\n",
            "a 1\n",
            "b 2\n",
            "c 3\n",
            "d 4\n"
          ],
          "name": "stdout"
        }
      ]
    },
    {
      "cell_type": "code",
      "metadata": {
        "colab": {
          "base_uri": "https://localhost:8080/"
        },
        "id": "F_UYCnLyE3S5",
        "outputId": "9934842b-ee8b-4011-8fe6-d03457f08ba0"
      },
      "source": [
        "from collections import OrderedDict\n",
        "print(\"before\\n\")\n",
        "od=OrderedDict()\n",
        "od['a']=1\n",
        "od['b']=2\n",
        "od['c']=3\n",
        "od['d']=4\n",
        "od['e']=5\n",
        "for key,value in od.items():\n",
        "  print(key,value)\n",
        "\n",
        "\n",
        "print(\"After\\n\")\n",
        "od['a']=16\n",
        "for key,value in od.items():\n",
        "  print(key,value)\n",
        "#deletion and re-inserting values\n",
        "print(\"\\n\")\n",
        "\n",
        "od.pop('c')\n",
        "for key,value in od.items():\n",
        "  print(key,value)"
      ],
      "execution_count": null,
      "outputs": [
        {
          "output_type": "stream",
          "text": [
            "before\n",
            "\n",
            "a 1\n",
            "b 2\n",
            "c 3\n",
            "d 4\n",
            "e 5\n",
            "After\n",
            "\n",
            "a 16\n",
            "b 2\n",
            "c 3\n",
            "d 4\n",
            "e 5\n",
            "\n",
            "\n",
            "a 16\n",
            "b 2\n",
            "d 4\n",
            "e 5\n"
          ],
          "name": "stdout"
        }
      ]
    },
    {
      "cell_type": "markdown",
      "metadata": {
        "id": "ZswVO8P1P23L"
      },
      "source": [
        "defalut **dict**"
      ]
    },
    {
      "cell_type": "code",
      "metadata": {
        "colab": {
          "base_uri": "https://localhost:8080/"
        },
        "id": "KxOCVYCPE3Nw",
        "outputId": "48638f96-5b36-43a3-f652-dbe6d2d0eed0"
      },
      "source": [
        "# Defaultdict is a sub-class of the dict class that returns a dictionary-like object. The functionality of both dictionaries and defualtdict are almost same except for the fact that defualtdict never raises a KeyError. It provides a default value for the key that does not exists.\n",
        "from collections import defaultdict\n",
        "#def empty_value():\n",
        "  #return \"not present\"\n",
        "#d=defaultdict(empty_value)\n",
        "d=defaultdict(lambda :\"not present\")\n",
        "d['a']=1\n",
        "d['b']=2\n",
        "print(d['a'])\n",
        "print(d['b'])\n",
        "print(d['c'])\n"
      ],
      "execution_count": null,
      "outputs": [
        {
          "output_type": "stream",
          "text": [
            "1\n",
            "2\n",
            "not present\n"
          ],
          "name": "stdout"
        }
      ]
    },
    {
      "cell_type": "markdown",
      "metadata": {
        "id": "G93yjobvR6gn"
      },
      "source": [
        "chian map "
      ]
    },
    {
      "cell_type": "markdown",
      "metadata": {
        "id": "Qy8zvKRWSHZD"
      },
      "source": [
        "Python contains a container called “ChainMap” which encapsulates many dictionaries into one unit. ChainMap is member of module “collections“.\n",
        "\n"
      ]
    },
    {
      "cell_type": "code",
      "metadata": {
        "colab": {
          "base_uri": "https://localhost:8080/"
        },
        "id": "YopkkkdzE3KX",
        "outputId": "36d290c3-41ee-4882-caff-9758eef43a1a"
      },
      "source": [
        "from collections import ChainMap\n",
        "d1 = {'a': 1, 'b': 2} \n",
        "d2 = {'c': 3, 'd': 4} \n",
        "d3 = {'e': 5, 'f': 6}\n",
        "c=ChainMap(d1,d2,d3)\n",
        "c"
      ],
      "execution_count": null,
      "outputs": [
        {
          "output_type": "execute_result",
          "data": {
            "text/plain": [
              "ChainMap({'a': 1, 'b': 2}, {'c': 3, 'd': 4}, {'e': 5, 'f': 6})"
            ]
          },
          "metadata": {
            "tags": []
          },
          "execution_count": 21
        }
      ]
    },
    {
      "cell_type": "code",
      "metadata": {
        "colab": {
          "base_uri": "https://localhost:8080/"
        },
        "id": "3mjucaCQE3H5",
        "outputId": "de3aba9e-758b-4740-dcef-de91ac87b6b5"
      },
      "source": [
        "#key(),value(),maps()\n",
        "import collections\n",
        "dic1 = { 'a' : 1, 'b' : 2 }\n",
        "dic2 = { 'b' : 3, 'c' : 4 }\n",
        "chain=collections.ChainMap(dic1,dic2)\n",
        "print(chain.maps)\n",
        "print(list(chain.keys()))\n",
        "print(list(chain.values()))\n"
      ],
      "execution_count": 3,
      "outputs": [
        {
          "output_type": "stream",
          "text": [
            "[{'a': 1, 'b': 2}, {'b': 3, 'c': 4}]\n",
            "['b', 'c', 'a']\n",
            "[2, 4, 1]\n"
          ],
          "name": "stdout"
        }
      ]
    },
    {
      "cell_type": "markdown",
      "metadata": {
        "id": "iS6Hc9ZCCibH"
      },
      "source": [
        "named *tuple*"
      ]
    },
    {
      "cell_type": "code",
      "metadata": {
        "id": "ei5ZEUdTE3Ej",
        "colab": {
          "base_uri": "https://localhost:8080/"
        },
        "outputId": "00c8b115-afe7-497d-b4f3-bab5213c1222"
      },
      "source": [
        "from collections import  namedtuple\n",
        "student=namedtuple('student',['name','age','dob'])\n",
        "S=student('krishna',21,'25-04-2000')\n",
        "print(\"printing the student using index\")\n",
        "print(S[1])\n",
        "print(\"the student name is\")\n",
        "print(S.name)\n",
        "print(\"printing the value using the getattr\")\n",
        "print(getattr(S,'dob'))"
      ],
      "execution_count": 7,
      "outputs": [
        {
          "output_type": "stream",
          "text": [
            "printing the student using index\n",
            "21\n",
            "the student name is\n",
            "krishna\n",
            "printing the value using the getattr\n",
            "25-04-2000\n"
          ],
          "name": "stdout"
        }
      ]
    },
    {
      "cell_type": "code",
      "metadata": {
        "id": "jD6xFiZyE2_K",
        "colab": {
          "base_uri": "https://localhost:8080/"
        },
        "outputId": "eba03d48-6c60-4a8f-f1ab-7d445255d104"
      },
      "source": [
        "#._make,._asdict,**di\n",
        "from collections import namedtuple\n",
        "student=namedtuple('student',['name','age','dob'])\n",
        "S=student('srikrishna','21','25-04-2000')\n",
        "li = ['Manjeet', '19', '4-1-1997' ]\n",
        "di = { 'name' : \"Nikhil\", 'age' : 19 , 'dob' : '1391997' }\n",
        "print (\"The namedtuple instance using iterable is  : \")\n",
        "print(student._make(li))\n",
        "print(\"the named tuple instance using orderdict\")\n",
        "print(S._asdict())\n",
        "print (\"The namedtuple instance from dict is  : \")\n",
        "print (student(**di))"
      ],
      "execution_count": 11,
      "outputs": [
        {
          "output_type": "stream",
          "text": [
            "The namedtuple instance using iterable is  : \n",
            "student(name='Manjeet', age='19', dob='4-1-1997')\n",
            "the named tuple instance using orderdict\n",
            "OrderedDict([('name', 'srikrishna'), ('age', '21'), ('dob', '25-04-2000')])\n",
            "The namedtuple instance from dict is  : \n",
            "student(name='Nikhil', age=19, dob='1391997')\n"
          ],
          "name": "stdout"
        }
      ]
    },
    {
      "cell_type": "code",
      "metadata": {
        "colab": {
          "base_uri": "https://localhost:8080/"
        },
        "id": "h79PSIeIChZ-",
        "outputId": "ea93da0a-23c0-4f61-e19b-9fb9288cb16f"
      },
      "source": [
        "#replce,fields\n",
        "from collections import namedtuple\n",
        "stuent=namedtuple('student',['name','age','dob'])\n",
        "s=student('srikrishna','21','25-04-2000')\n",
        "print(\"printing all the fields\")\n",
        "print(s._fields)\n",
        "print(\"repelacing the value\")\n",
        "print(s._replace(name='krishna'))"
      ],
      "execution_count": 13,
      "outputs": [
        {
          "output_type": "stream",
          "text": [
            "printing all the fields\n",
            "('name', 'age', 'dob')\n",
            "repelacing the value\n",
            "student(name='krishna', age='21', dob='25-04-2000')\n"
          ],
          "name": "stdout"
        }
      ]
    },
    {
      "cell_type": "code",
      "metadata": {
        "id": "Vxd_0sJMFUd3"
      },
      "source": [
        ""
      ],
      "execution_count": null,
      "outputs": []
    },
    {
      "cell_type": "code",
      "metadata": {
        "id": "YLOzKooBFUaS"
      },
      "source": [
        ""
      ],
      "execution_count": null,
      "outputs": []
    },
    {
      "cell_type": "code",
      "metadata": {
        "id": "U2L5kHr_FUWa"
      },
      "source": [
        ""
      ],
      "execution_count": null,
      "outputs": []
    },
    {
      "cell_type": "code",
      "metadata": {
        "id": "gIowi66DFUTS"
      },
      "source": [
        ""
      ],
      "execution_count": null,
      "outputs": []
    },
    {
      "cell_type": "code",
      "metadata": {
        "id": "2QMKG2tdFUPj"
      },
      "source": [
        ""
      ],
      "execution_count": null,
      "outputs": []
    },
    {
      "cell_type": "code",
      "metadata": {
        "id": "pF1CNQ_pFUMY"
      },
      "source": [
        ""
      ],
      "execution_count": null,
      "outputs": []
    },
    {
      "cell_type": "code",
      "metadata": {
        "id": "f2MysYDpChWz"
      },
      "source": [
        ""
      ],
      "execution_count": null,
      "outputs": []
    },
    {
      "cell_type": "code",
      "metadata": {
        "id": "AC8mH3uFChT2"
      },
      "source": [
        ""
      ],
      "execution_count": null,
      "outputs": []
    },
    {
      "cell_type": "code",
      "metadata": {
        "id": "OMATg8GxChQA"
      },
      "source": [
        ""
      ],
      "execution_count": null,
      "outputs": []
    },
    {
      "cell_type": "code",
      "metadata": {
        "id": "SzH8qzabChMX"
      },
      "source": [
        ""
      ],
      "execution_count": null,
      "outputs": []
    },
    {
      "cell_type": "code",
      "metadata": {
        "id": "9EGOBW32ChFZ"
      },
      "source": [
        ""
      ],
      "execution_count": null,
      "outputs": []
    },
    {
      "cell_type": "code",
      "metadata": {
        "id": "3PgENrG1E0H2"
      },
      "source": [
        ""
      ],
      "execution_count": null,
      "outputs": []
    }
  ]
}