{
  "nbformat": 4,
  "nbformat_minor": 0,
  "metadata": {
    "colab": {
      "name": "practice.ipynb",
      "provenance": [],
      "authorship_tag": "ABX9TyNx4HN8Rg4r5V3+BPVcdIVK",
      "include_colab_link": true
    },
    "kernelspec": {
      "name": "python3",
      "display_name": "Python 3"
    },
    "language_info": {
      "name": "python"
    }
  },
  "cells": [
    {
      "cell_type": "markdown",
      "metadata": {
        "id": "view-in-github",
        "colab_type": "text"
      },
      "source": [
        "<a href=\"https://colab.research.google.com/github/srikrishna-stack/python-problem-solving/blob/main/practice.ipynb\" target=\"_parent\"><img src=\"https://colab.research.google.com/assets/colab-badge.svg\" alt=\"Open In Colab\"/></a>"
      ]
    },
    {
      "cell_type": "code",
      "metadata": {
        "colab": {
          "base_uri": "https://localhost:8080/"
        },
        "id": "x74kPi9SH-8s",
        "outputId": "7586b919-5327-4afb-8385-af349669eae4"
      },
      "source": [
        "#factorial of a number\n",
        "def factorial (n):\n",
        "  if (n==0 or n==1):\n",
        "    return 1\n",
        "  else:\n",
        "    return n*foactorial (n-1)\n",
        "print(factorial (5))\n",
        "import math\n",
        "i=math.factorial(5)\n",
        "print(i)\n",
        "\n"
      ],
      "execution_count": null,
      "outputs": [
        {
          "output_type": "stream",
          "text": [
            "120\n"
          ],
          "name": "stdout"
        }
      ]
    },
    {
      "cell_type": "code",
      "metadata": {
        "colab": {
          "base_uri": "https://localhost:8080/"
        },
        "id": "wjey04uEJCH7",
        "outputId": "e5d5222e-f692-4eda-bea0-bd43e59c8e1a"
      },
      "source": [
        "def compound_intrest(principle,rate,time):\n",
        "  amount=principle*(pow((1 + rate / 100), time))\n",
        "  ci=amount-time\n",
        "  print(\"compound intrest is\",ci)\n",
        "compound_intrest(10000,10.25,5)\n",
        "\n",
        "\n"
      ],
      "execution_count": null,
      "outputs": [
        {
          "output_type": "stream",
          "text": [
            "compound intrest is 16283.946267774416\n"
          ],
          "name": "stdout"
        }
      ]
    },
    {
      "cell_type": "code",
      "metadata": {
        "colab": {
          "base_uri": "https://localhost:8080/"
        },
        "id": "1JOXuuEtJ545",
        "outputId": "e7577b46-b02c-4df8-e12c-2469d13eeb41"
      },
      "source": [
        "#to calculate the amstrong number or not\n",
        "num=int(input(\"enter the value\"))\n",
        "temp=num\n",
        "sum=0\n",
        "while (temp>0):\n",
        "  digit=temp % 10\n",
        "  sum+=digit**3\n",
        "  temp//=10\n",
        "if num==sum:\n",
        "  print(\"it is a amstrong number\")\n",
        "else :\n",
        "  print(\"it is not a amstrong number\")\n",
        "#amstrong of n digits\n",
        "\n"
      ],
      "execution_count": null,
      "outputs": [
        {
          "output_type": "stream",
          "text": [
            "enter the value123\n",
            "it is not a amstrong number\n",
            "this is not the amsdtong number\n"
          ],
          "name": "stdout"
        }
      ]
    },
    {
      "cell_type": "code",
      "metadata": {
        "colab": {
          "base_uri": "https://localhost:8080/"
        },
        "id": "nb9X5A60O2b-",
        "outputId": "e5cb1b3e-8d53-44e8-eaf4-a890bdd6dcb4"
      },
      "source": [
        "num1=int(input(\"enter the value\"))\n",
        "order=len(str(num1))\n",
        "sum=0\n",
        "temp=num1\n",
        "while (temp>0):\n",
        "  digit=temp%10\n",
        "  sum+=digit** order\n",
        "  temp//=10\n",
        "if(num1==sum):\n",
        "  print(\"amstrong number\")\n",
        "else:\n",
        "  print(\"this is not the amsdtong number\")\n"
      ],
      "execution_count": null,
      "outputs": [
        {
          "output_type": "stream",
          "text": [
            "enter the value1634\n",
            "amstrong number\n"
          ],
          "name": "stdout"
        }
      ]
    },
    {
      "cell_type": "code",
      "metadata": {
        "colab": {
          "base_uri": "https://localhost:8080/"
        },
        "id": "ry2_d6eGPTcZ",
        "outputId": "fdea2f0b-01b9-47e7-f535-be9566a011eb"
      },
      "source": [
        "#python program to print prime number\n",
        "start=11\n",
        "end=25\n",
        "for i in range(start,end+1):\n",
        "  for j in range(2,i):\n",
        "    if i%j==0:\n",
        "      break\n",
        "  else:\n",
        "    print(i)\n"
      ],
      "execution_count": null,
      "outputs": [
        {
          "output_type": "stream",
          "text": [
            "11\n",
            "13\n",
            "17\n",
            "19\n",
            "23\n"
          ],
          "name": "stdout"
        }
      ]
    },
    {
      "cell_type": "code",
      "metadata": {
        "colab": {
          "base_uri": "https://localhost:8080/"
        },
        "id": "K-WHDR8BRrvR",
        "outputId": "2d10e71e-3aa9-4901-b498-65bf8bab8349"
      },
      "source": [
        "p1=int(input(\"enter the number\"))\n",
        "if p1 >1:\n",
        "  for i in range(2,int(p1/2)+1):\n",
        "    if p1%i==0:\n",
        "      print(\"p1 is not a prime number\")\n",
        "      break\n",
        "  else:\n",
        "    print(p1,\"it is a prime number\")\n",
        "else:\n",
        "  print(\"it is not a prime number\")\n"
      ],
      "execution_count": null,
      "outputs": [
        {
          "output_type": "stream",
          "text": [
            "enter the number3\n",
            "3 it is a prime number\n"
          ],
          "name": "stdout"
        }
      ]
    },
    {
      "cell_type": "code",
      "metadata": {
        "colab": {
          "base_uri": "https://localhost:8080/"
        },
        "id": "1G40qPXHS8IW",
        "outputId": "9f9e833e-a22f-485a-9840-14e050da7b99"
      },
      "source": [
        "#fibonacci serires\n",
        "def fibonaci(n):\n",
        "  a=0\n",
        "  b=1\n",
        "  if (n<0):\n",
        "    print(\"incorrect input\")\n",
        "  elif n==0:\n",
        "    return a\n",
        "  elif n==1:\n",
        "    return b\n",
        "  else:\n",
        "    for i in range(2,n):\n",
        "      i=a+b\n",
        "      a=b\n",
        "      b=i\n",
        "    return b\n",
        "\n",
        "print (fibonaci(9))"
      ],
      "execution_count": null,
      "outputs": [
        {
          "output_type": "stream",
          "text": [
            "21\n"
          ],
          "name": "stdout"
        }
      ]
    },
    {
      "cell_type": "code",
      "metadata": {
        "colab": {
          "base_uri": "https://localhost:8080/"
        },
        "id": "FF6qhMhbVbDM",
        "outputId": "293fdf10-cb96-492c-e859-593ae86c1696"
      },
      "source": [
        "c='g'\n",
        "print(\"the ASCII value of  c is \",c,ord(c))"
      ],
      "execution_count": null,
      "outputs": [
        {
          "output_type": "stream",
          "text": [
            "the ASCII value of  c is  g 103\n"
          ],
          "name": "stdout"
        }
      ]
    },
    {
      "cell_type": "code",
      "metadata": {
        "colab": {
          "base_uri": "https://localhost:8080/"
        },
        "id": "qQX96cd3eKl3",
        "outputId": "2d1f6738-06e4-4a1a-ec94-c02bfeae84a1"
      },
      "source": [
        "#sum of first natural numbers\n",
        "def squaresum(n):\n",
        "  sum=0\n",
        "  for i in range(1,n+1):\n",
        "    sum+=i*i\n",
        "  return sum\n",
        "print(squaresum(5))"
      ],
      "execution_count": null,
      "outputs": [
        {
          "output_type": "stream",
          "text": [
            "55\n"
          ],
          "name": "stdout"
        }
      ]
    },
    {
      "cell_type": "code",
      "metadata": {
        "colab": {
          "base_uri": "https://localhost:8080/"
        },
        "id": "PCxaif03fcBv",
        "outputId": "dc9abf75-d896-4352-c221-bfd18c141ce7"
      },
      "source": [
        "#program to find the sum of array\n",
        "import array as arr\n",
        "arr=arr.array('i',[1,2,3,4])\n",
        "sum=0\n",
        "for i in arr:\n",
        "  sum=sum+i\n",
        "print(sum)\n",
        "max=arr[0]\n",
        "for i in range(len(arr)):\n",
        "  arr[i]>max\n",
        "  max=arr[i]\n",
        "print(max)\n",
        "  \n",
        "\n",
        "  \n"
      ],
      "execution_count": null,
      "outputs": [
        {
          "output_type": "stream",
          "text": [
            "10\n",
            "4\n"
          ],
          "name": "stdout"
        }
      ]
    },
    {
      "cell_type": "code",
      "metadata": {
        "colab": {
          "base_uri": "https://localhost:8080/"
        },
        "id": "1OYnEk76hRSX",
        "outputId": "8596f8ae-72f4-4322-ed75-f7aa08e3703f"
      },
      "source": [
        "def rotation_array(arr,n,d):\n",
        "  temp=[]\n",
        "  i=0\n",
        "  while(i<d):\n",
        "    temp.append(arr[i])\n",
        "    i=i+1\n",
        "  i=0\n",
        "  while(d<n):\n",
        "    arr[i]=arr[d]\n",
        "    i=i+1\n",
        "    d=d+1\n",
        "  arr[:]=arr[:i]+temp\n",
        "  return arr\n",
        "arr=[1,2,3,4,5,6,7]\n",
        "print('this is the original array',arr)\n",
        "print('array after left rotation')\n",
        "print(rotation_array(arr,len(arr),2))"
      ],
      "execution_count": null,
      "outputs": [
        {
          "output_type": "stream",
          "text": [
            "this is the original array [1, 2, 3, 4, 5, 6, 7]\n",
            "array after left rotation\n",
            "[3, 4, 5, 6, 7, 1, 2]\n"
          ],
          "name": "stdout"
        }
      ]
    },
    {
      "cell_type": "code",
      "metadata": {
        "colab": {
          "base_uri": "https://localhost:8080/"
        },
        "id": "N7V9aX2-mVKc",
        "outputId": "fac23163-8542-4b2a-8d18-95abe28ad12e"
      },
      "source": [
        "def findremainder(arr, lens, n):\n",
        "    mul = 1\n",
        " \n",
        "    # find the individual\n",
        "    # remainder and\n",
        "    # multiple with mul.\n",
        "    for i in arr:\n",
        "        mul = mul *i\n",
        " \n",
        "    return mul % n\n",
        " \n",
        " \n",
        "# Driven code\n",
        "arr = [100, 10, 5, 25, 35, 14]\n",
        "lens = len(arr)\n",
        "n = 11\n",
        "print(findremainder(arr, lens, n))"
      ],
      "execution_count": null,
      "outputs": [
        {
          "output_type": "stream",
          "text": [
            "9\n"
          ],
          "name": "stdout"
        }
      ]
    },
    {
      "cell_type": "code",
      "metadata": {
        "colab": {
          "base_uri": "https://localhost:8080/"
        },
        "id": "cFrf-dkaqs7t",
        "outputId": "93d718e5-47f6-4c6b-8b06-3297101b94eb"
      },
      "source": [
        "def isMonotonic(A):\n",
        "  \n",
        "    return (all(A[i] <= A[i + 1] for i in range(len(A) - 1)) or\n",
        "            all(A[i] >= A[i + 1] for i in range(len(A) - 1)))\n",
        "A = [6, 5, 4, 4]\n",
        "print(isMonotonic(A))"
      ],
      "execution_count": null,
      "outputs": [
        {
          "output_type": "stream",
          "text": [
            "True\n"
          ],
          "name": "stdout"
        }
      ]
    },
    {
      "cell_type": "code",
      "metadata": {
        "colab": {
          "base_uri": "https://localhost:8080/"
        },
        "id": "NP5jY18PsQvl",
        "outputId": "17683579-bff7-4e9c-dddc-429f27b427cd"
      },
      "source": [
        "#swaping the elements in the list\n",
        "def swap_element(list1):\n",
        "  n= len(list1)\n",
        "  temp=list1[0]\n",
        "  list1[0]=list1[n-1]\n",
        "  list1[n-1]=temp\n",
        "  return list1\n",
        "  \n",
        "list1=[1,2,3,4,5,6]\n",
        "print(\"list before swapping\",list1)\n",
        "print(swap_element(list1))"
      ],
      "execution_count": null,
      "outputs": [
        {
          "output_type": "stream",
          "text": [
            "list before swapping [1, 2, 3, 4, 5, 6]\n",
            "[6, 2, 3, 4, 5, 1]\n"
          ],
          "name": "stdout"
        }
      ]
    },
    {
      "cell_type": "code",
      "metadata": {
        "id": "18ZbfAI40sWu",
        "colab": {
          "base_uri": "https://localhost:8080/"
        },
        "outputId": "d367b6b6-934e-4e41-9cd4-8b37c73731ba"
      },
      "source": [
        "list1=[2,3,1,4,5,6]\n",
        "list1.sort()\n",
        "print(list1[:1])"
      ],
      "execution_count": null,
      "outputs": [
        {
          "output_type": "stream",
          "text": [
            "[1]\n"
          ],
          "name": "stdout"
        }
      ]
    },
    {
      "cell_type": "code",
      "metadata": {
        "colab": {
          "base_uri": "https://localhost:8080/"
        },
        "id": "LEBOEL7KffJV",
        "outputId": "f841c782-21fa-4ab7-cbc5-ddd129de6bef"
      },
      "source": [
        "import sys\n",
        "a=int(input())\n",
        "b=int(input())\n",
        "print(a//b)\n",
        "print(a/b)\n",
        "\n",
        "\n"
      ],
      "execution_count": 4,
      "outputs": [
        {
          "output_type": "stream",
          "text": [
            "4\n",
            "3\n",
            "1\n",
            "1.3333333333333333\n"
          ],
          "name": "stdout"
        }
      ]
    },
    {
      "cell_type": "code",
      "metadata": {
        "id": "JKi4UPtWffEl"
      },
      "source": [
        ""
      ],
      "execution_count": null,
      "outputs": []
    },
    {
      "cell_type": "code",
      "metadata": {
        "id": "rmaHvxWTffBV"
      },
      "source": [
        ""
      ],
      "execution_count": null,
      "outputs": []
    },
    {
      "cell_type": "code",
      "metadata": {
        "id": "1HDZxC1bfe9-"
      },
      "source": [
        ""
      ],
      "execution_count": null,
      "outputs": []
    },
    {
      "cell_type": "code",
      "metadata": {
        "id": "Ki4a7yCpfe6U"
      },
      "source": [
        ""
      ],
      "execution_count": null,
      "outputs": []
    },
    {
      "cell_type": "code",
      "metadata": {
        "id": "qSNKPS8Xfe3I"
      },
      "source": [
        ""
      ],
      "execution_count": null,
      "outputs": []
    },
    {
      "cell_type": "code",
      "metadata": {
        "id": "5-UgZhOP4pxv"
      },
      "source": [
        ""
      ],
      "execution_count": null,
      "outputs": []
    },
    {
      "cell_type": "markdown",
      "metadata": {
        "id": "xEXTn8J4UvGW"
      },
      "source": [
        "# New Section"
      ]
    },
    {
      "cell_type": "code",
      "metadata": {
        "id": "g6RiTNuXHTrQ"
      },
      "source": [
        ""
      ],
      "execution_count": null,
      "outputs": []
    }
  ]
}