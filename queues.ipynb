{
  "nbformat": 4,
  "nbformat_minor": 0,
  "metadata": {
    "colab": {
      "name": "queues.ipynb",
      "provenance": [],
      "authorship_tag": "ABX9TyOI2h9lxPtJRGPPa9zBX2j+",
      "include_colab_link": true
    },
    "kernelspec": {
      "name": "python3",
      "display_name": "Python 3"
    },
    "language_info": {
      "name": "python"
    }
  },
  "cells": [
    {
      "cell_type": "markdown",
      "metadata": {
        "id": "view-in-github",
        "colab_type": "text"
      },
      "source": [
        "<a href=\"https://colab.research.google.com/github/srikrishna-stack/python-problem-solving/blob/main/queues.ipynb\" target=\"_parent\"><img src=\"https://colab.research.google.com/assets/colab-badge.svg\" alt=\"Open In Colab\"/></a>"
      ]
    },
    {
      "cell_type": "code",
      "metadata": {
        "colab": {
          "base_uri": "https://localhost:8080/",
          "height": 191
        },
        "id": "h-WspE9wNcFJ",
        "outputId": "0a1ac9ea-0b6b-4f36-c1ac-765cfb657c1f"
      },
      "source": [
        "#implementing queue using array \n",
        "#class queue to represent the queue\n",
        "#default of capacity value is 5\n",
        "\n",
        "\n",
        "class Queue:\n",
        "  def __init__(self,capacity):\n",
        "    self.front=self.size=0\n",
        "    self.rear=capacity-1\n",
        "    self.q=[None]*capacity\n",
        "    self.capacity=capacity\n",
        "    #queue is full when size becomes equals to capacity\n",
        "  def isFull(self):\n",
        "    return self.size==self.capacity\n",
        "  #queue is empty when size equals to zero\n",
        "  def isEmpty(self):\n",
        "    return self.size==0\n",
        "  #function to add an item into the queue\n",
        "  #it changes the rear and queue\n",
        "  def Enqueue(self,item):\n",
        "    if self.isFull():\n",
        "      print('full')\n",
        "      return\n",
        "    self.rear=(self.rear+1)%(self.capacity)\n",
        "    self.q[self.rear]=item\n",
        "    self.size=self.size+1\n",
        "    print('%s enqueued to  queueu'%str(item))\n",
        "  #function to remove the queue it changes the rear and front\n",
        "  def Dequeue(self):\n",
        "    if self.isEmpty():\n",
        "      print('queue is empty')\n",
        "    print('%s dequeue from queue '%str(self.q[self.front]))\n",
        "    self.front=self.front+1\n",
        "    self.size=self.size-1\n",
        "  #function to get front of queue\n",
        "  def que_front(self):\n",
        "    if self.isEmpty():\n",
        "      print('queue is empty')\n",
        "    print('front item is ',self.q[self.front])\n",
        "  #function to get rear of queue\n",
        "  def que_rear(self):\n",
        "    if self.isEmpty():\n",
        "      print('queue is empty')\n",
        "    print('rear of item is',self.q[self.rear])\n",
        "#driver code\n",
        "if __name__=='__main__':\n",
        "  queue=Queue(30)\n",
        "  queue.Enqueue(10)\n",
        "  queue.Enqueue(20)\n",
        "  queue.Enqueue(30)\n",
        "  queue.Enqueue(40)\n",
        "  queue.Dequeue()\n",
        "  queue.que_front()\n",
        "  queue.que_rear()\n",
        "'''    Time Complexity:\n",
        "\n",
        "Operations              Complexity\n",
        "Enque(insertion)           O(1)\n",
        "Deque(deletion)            O(1)\n",
        "Front(Get front)           O(1)\n",
        "Rear(Get Rear)             O(1)              \n",
        "\n",
        "    Auxiliary Space: O(N). \n",
        "    N is the size of array for storing elements.\n",
        "    Pros of Array Implementation:  \n",
        "\n",
        "    Easy to implement.\n",
        "\n",
        "Cons of Array Implementation:  \n",
        "\n",
        "    Static Data Structure, fixed size.\n",
        "    If the queue has a large number of enqueue and dequeue operations, at some point (in case of linear increment of front and rear indexes) we may not be able to insert elements in the queue even if the queue is empty (this problem is avoided by using circular queue).'''\n",
        "\n",
        "\n",
        "\n",
        "\n",
        "\n",
        "    \n",
        "\n",
        "\n",
        "\n",
        "\n",
        "\n",
        "\n",
        "\n",
        "  \n"
      ],
      "execution_count": 15,
      "outputs": [
        {
          "output_type": "stream",
          "text": [
            "10 enqueued to  queueu\n",
            "20 enqueued to  queueu\n",
            "30 enqueued to  queueu\n",
            "40 enqueued to  queueu\n",
            "10 dequeue from queue \n",
            "front item is  20\n",
            "rear of item is 40\n"
          ],
          "name": "stdout"
        },
        {
          "output_type": "execute_result",
          "data": {
            "application/vnd.google.colaboratory.intrinsic+json": {
              "type": "string"
            },
            "text/plain": [
              "'    Time Complexity:\\n\\nOperations              Complexity\\nEnque(insertion)           O(1)\\nDeque(deletion)            O(1)\\nFront(Get front)           O(1)\\nRear(Get Rear)             O(1)              \\n\\n    Auxiliary Space: O(N). \\n    N is the size of array for storing elements.'"
            ]
          },
          "metadata": {
            "tags": []
          },
          "execution_count": 15
        }
      ]
    },
    {
      "cell_type": "code",
      "metadata": {
        "id": "Y_KbQyP3NgI7"
      },
      "source": [
        "#linked list implementation of queue\n",
        "class Node:\n",
        "  def __init__(self,data):\n",
        "    self.data=data\n",
        "    self.next=None\n",
        "\n"
      ],
      "execution_count": 24,
      "outputs": []
    },
    {
      "cell_type": "code",
      "metadata": {
        "colab": {
          "base_uri": "https://localhost:8080/"
        },
        "id": "D51LqNu1NgLp",
        "outputId": "244c0274-5c07-4698-c9a0-8aa4c771f3a5"
      },
      "source": [
        "class Queue:\n",
        "      \n",
        "    def __init__(self):\n",
        "        self.front = self.rear = None\n",
        "  \n",
        "    def isEmpty(self):\n",
        "        return self.front == None\n",
        "      \n",
        "    # Method to add an item to the queue\n",
        "    def EnQueue(self, item):\n",
        "        temp = Node(item)\n",
        "          \n",
        "        if self.rear == None:\n",
        "            self.front = self.rear = temp\n",
        "            return\n",
        "        self.rear.next = temp\n",
        "        self.rear = temp\n",
        "  \n",
        "    # Method to remove an item from queue\n",
        "    def DeQueue(self):\n",
        "          \n",
        "        if self.isEmpty():\n",
        "            return\n",
        "        temp = self.front\n",
        "        self.front = temp.next\n",
        "  \n",
        "        if(self.front == None):\n",
        "            self.rear = None\n",
        "  \n",
        "# Driver Code\n",
        "if __name__== '__main__':\n",
        "    q = Queue()\n",
        "    q.EnQueue(10)\n",
        "    q.EnQueue(20)\n",
        "    q.DeQueue()\n",
        "    q.DeQueue()\n",
        "    q.EnQueue(30)\n",
        "    q.EnQueue(40)\n",
        "    q.EnQueue(50) \n",
        "    q.DeQueue()   \n",
        "    print(\"Queue Front \" + str(q.front.data))\n",
        "    print(\"Queue Rear \" + str(q.rear.data))\n",
        "#time complexity of both enqueue() and dequeue() is bigO(1) because we dont use any loop here\n"
      ],
      "execution_count": 23,
      "outputs": [
        {
          "output_type": "stream",
          "text": [
            "Queue Front 40\n",
            "Queue Rear 50\n"
          ],
          "name": "stdout"
        }
      ]
    },
    {
      "cell_type": "code",
      "metadata": {
        "colab": {
          "base_uri": "https://localhost:8080/"
        },
        "id": "gNz3GusNNgPN",
        "outputId": "2d77f403-fc43-4fa4-9f15-e9e2b4af5084"
      },
      "source": [
        "#heap queue\n",
        "import heapq\n",
        "ls=[1,3,5,7,9]\n",
        "#usinf heapify to convert list into heap\n",
        "heapq.heapify(ls)\n",
        "print('the creaed heap is',end=\"\")\n",
        "print(list(ls))\n",
        "heapq.heappush(ls,4)\n",
        "print('the heap after modification is',end='')\n",
        "print(list(ls))\n",
        "print('the smallest element popped from the list is',end='')\n",
        "print(heapq.heappop(ls))"
      ],
      "execution_count": 32,
      "outputs": [
        {
          "output_type": "stream",
          "text": [
            "the creaed heap is[1, 3, 5, 7, 9]\n",
            "the heap after modification is[1, 3, 4, 7, 9, 5]\n",
            "the smallest element popped from the list is1\n"
          ],
          "name": "stdout"
        }
      ]
    },
    {
      "cell_type": "code",
      "metadata": {
        "id": "dV8cz_MXNgSL"
      },
      "source": [
        "h"
      ],
      "execution_count": null,
      "outputs": []
    },
    {
      "cell_type": "code",
      "metadata": {
        "id": "w_3yNz8iNgVD"
      },
      "source": [
        ""
      ],
      "execution_count": null,
      "outputs": []
    },
    {
      "cell_type": "code",
      "metadata": {
        "id": "-JusdPwANgX4"
      },
      "source": [
        ""
      ],
      "execution_count": null,
      "outputs": []
    },
    {
      "cell_type": "code",
      "metadata": {
        "id": "L8mWBG0aNgaV"
      },
      "source": [
        ""
      ],
      "execution_count": null,
      "outputs": []
    }
  ]
}