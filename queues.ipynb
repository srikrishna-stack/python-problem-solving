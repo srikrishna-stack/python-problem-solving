{
  "nbformat": 4,
  "nbformat_minor": 0,
  "metadata": {
    "colab": {
      "name": "queues.ipynb",
      "provenance": [],
      "authorship_tag": "ABX9TyNFMQGFvOOQorOXXOxo3U8T",
      "include_colab_link": true
    },
    "kernelspec": {
      "name": "python3",
      "display_name": "Python 3"
    },
    "language_info": {
      "name": "python"
    }
  },
  "cells": [
    {
      "cell_type": "markdown",
      "metadata": {
        "id": "view-in-github",
        "colab_type": "text"
      },
      "source": [
        "<a href=\"https://colab.research.google.com/github/srikrishna-stack/python-problem-solving/blob/main/queues.ipynb\" target=\"_parent\"><img src=\"https://colab.research.google.com/assets/colab-badge.svg\" alt=\"Open In Colab\"/></a>"
      ]
    },
    {
      "cell_type": "code",
      "metadata": {
        "colab": {
          "base_uri": "https://localhost:8080/"
        },
        "id": "h-WspE9wNcFJ",
        "outputId": "89806ea1-e509-4faa-b0b8-75a7141ed4c3"
      },
      "source": [
        "#implementing queue using array \n",
        "#class queue to represent the queue\n",
        "#default of capacity value is 5\n",
        "\n",
        "\n",
        "class Queue:\n",
        "  def __init__(self,capacity):\n",
        "    self.front=self.size=0\n",
        "    self.rear=capacity-1\n",
        "    self.q=[None]*capacity\n",
        "    self.capacity=capacity\n",
        "    #queue is full when size becomes equals to capacity\n",
        "  def isFull(self):\n",
        "    return self.size==self.capacity\n",
        "  #queue is empty when size equals to zero\n",
        "  def isEmpty(self):\n",
        "    return self.size==0\n",
        "  #function to add an item into the queue\n",
        "  #it changes the rear and queue\n",
        "  def Enqueue(self,item):\n",
        "    if self.isFull():\n",
        "      print('full')\n",
        "      return\n",
        "    self.rear=(self.rear+1)%(self.capacity)\n",
        "    self.q[self.rear]=item\n",
        "    self.size=self.size+1\n",
        "    print('%s enqueued to  queueu'%str(item))\n",
        "  #function to remove the queue it changes the rear and front\n",
        "  def Dequeue(self):\n",
        "    if self.isEmpty():\n",
        "      print('queue is empty')\n",
        "    print('%s dequeue from queue '%str(self.q[self.front]))\n",
        "    self.front=self.front+1\n",
        "    self.size=self.size-1\n",
        "  #function to get front of queue\n",
        "  def que_front(self):\n",
        "    if self.isEmpty():\n",
        "      print('queue is empty')\n",
        "    print('front item is ',self.q[self.front])\n",
        "  #function to get rear of queue\n",
        "  def que_rear(self):\n",
        "    if self.isEmpty():\n",
        "      print('queue is empty')\n",
        "    print('rear of item is',self.q[self.rear])\n",
        "#driver code\n",
        "if __name__=='__main__':\n",
        "  queue=Queue(30)\n",
        "  queue.Enqueue(10)\n",
        "  queue.Enqueue(20)\n",
        "  queue.Enqueue(30)\n",
        "  queue.Enqueue(40)\n",
        "  queue.Dequeue()\n",
        "  queue.que_front()\n",
        "  queue.que_rear()\n",
        "\n",
        "\n",
        "\n",
        "\n",
        "\n",
        "    \n",
        "\n",
        "\n",
        "\n",
        "\n",
        "\n",
        "\n",
        "\n",
        "  \n"
      ],
      "execution_count": 11,
      "outputs": [
        {
          "output_type": "stream",
          "text": [
            "10 enqueued to  queueu\n",
            "20 enqueued to  queueu\n",
            "30 enqueued to  queueu\n",
            "40 enqueued to  queueu\n",
            "10 dequeue from queue \n",
            "front item is  20\n",
            "rear of item is 40\n"
          ],
          "name": "stdout"
        }
      ]
    },
    {
      "cell_type": "code",
      "metadata": {
        "colab": {
          "base_uri": "https://localhost:8080/"
        },
        "id": "Y_KbQyP3NgI7",
        "outputId": "5254f83a-c0c5-4148-a7ef-53bc42a60435"
      },
      "source": [
        "\n"
      ],
      "execution_count": 14,
      "outputs": [
        {
          "output_type": "stream",
          "text": [
            "1\n"
          ],
          "name": "stdout"
        }
      ]
    },
    {
      "cell_type": "code",
      "metadata": {
        "id": "D51LqNu1NgLp"
      },
      "source": [
        ""
      ],
      "execution_count": null,
      "outputs": []
    },
    {
      "cell_type": "code",
      "metadata": {
        "id": "gNz3GusNNgPN"
      },
      "source": [
        ""
      ],
      "execution_count": null,
      "outputs": []
    },
    {
      "cell_type": "code",
      "metadata": {
        "id": "dV8cz_MXNgSL"
      },
      "source": [
        ""
      ],
      "execution_count": null,
      "outputs": []
    },
    {
      "cell_type": "code",
      "metadata": {
        "id": "w_3yNz8iNgVD"
      },
      "source": [
        ""
      ],
      "execution_count": null,
      "outputs": []
    },
    {
      "cell_type": "code",
      "metadata": {
        "id": "-JusdPwANgX4"
      },
      "source": [
        ""
      ],
      "execution_count": null,
      "outputs": []
    },
    {
      "cell_type": "code",
      "metadata": {
        "id": "L8mWBG0aNgaV"
      },
      "source": [
        "if "
      ],
      "execution_count": null,
      "outputs": []
    }
  ]
}