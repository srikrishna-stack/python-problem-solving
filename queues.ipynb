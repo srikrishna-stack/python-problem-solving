{
  "nbformat": 4,
  "nbformat_minor": 0,
  "metadata": {
    "colab": {
      "name": "queues.ipynb",
      "provenance": [],
      "authorship_tag": "ABX9TyN6/A5qTs3vuq1BRyo+wfUZ",
      "include_colab_link": true
    },
    "kernelspec": {
      "name": "python3",
      "display_name": "Python 3"
    },
    "language_info": {
      "name": "python"
    }
  },
  "cells": [
    {
      "cell_type": "markdown",
      "metadata": {
        "id": "view-in-github",
        "colab_type": "text"
      },
      "source": [
        "<a href=\"https://colab.research.google.com/github/srikrishna-stack/python-problem-solving/blob/main/queues.ipynb\" target=\"_parent\"><img src=\"https://colab.research.google.com/assets/colab-badge.svg\" alt=\"Open In Colab\"/></a>"
      ]
    },
    {
      "cell_type": "code",
      "metadata": {
        "colab": {
          "base_uri": "https://localhost:8080/",
          "height": 191
        },
        "id": "h-WspE9wNcFJ",
        "outputId": "0a1ac9ea-0b6b-4f36-c1ac-765cfb657c1f"
      },
      "source": [
        "#implementing queue using array \n",
        "#class queue to represent the queue\n",
        "#default of capacity value is 5\n",
        "\n",
        "\n",
        "class Queue:\n",
        "  def __init__(self,capacity):\n",
        "    self.front=self.size=0\n",
        "    self.rear=capacity-1\n",
        "    self.q=[None]*capacity\n",
        "    self.capacity=capacity\n",
        "    #queue is full when size becomes equals to capacity\n",
        "  def isFull(self):\n",
        "    return self.size==self.capacity\n",
        "  #queue is empty when size equals to zero\n",
        "  def isEmpty(self):\n",
        "    return self.size==0\n",
        "  #function to add an item into the queue\n",
        "  #it changes the rear and queue\n",
        "  def Enqueue(self,item):\n",
        "    if self.isFull():\n",
        "      print('full')\n",
        "      return\n",
        "    self.rear=(self.rear+1)%(self.capacity)\n",
        "    self.q[self.rear]=item\n",
        "    self.size=self.size+1\n",
        "    print('%s enqueued to  queueu'%str(item))\n",
        "  #function to remove the queue it changes the rear and front\n",
        "  def Dequeue(self):\n",
        "    if self.isEmpty():\n",
        "      print('queue is empty')\n",
        "    print('%s dequeue from queue '%str(self.q[self.front]))\n",
        "    self.front=self.front+1\n",
        "    self.size=self.size-1\n",
        "  #function to get front of queue\n",
        "  def que_front(self):\n",
        "    if self.isEmpty():\n",
        "      print('queue is empty')\n",
        "    print('front item is ',self.q[self.front])\n",
        "  #function to get rear of queue\n",
        "  def que_rear(self):\n",
        "    if self.isEmpty():\n",
        "      print('queue is empty')\n",
        "    print('rear of item is',self.q[self.rear])\n",
        "#driver code\n",
        "if __name__=='__main__':\n",
        "  queue=Queue(30)\n",
        "  queue.Enqueue(10)\n",
        "  queue.Enqueue(20)\n",
        "  queue.Enqueue(30)\n",
        "  queue.Enqueue(40)\n",
        "  queue.Dequeue()\n",
        "  queue.que_front()\n",
        "  queue.que_rear()\n",
        "'''    Time Complexity:\n",
        "\n",
        "Operations              Complexity\n",
        "Enque(insertion)           O(1)\n",
        "Deque(deletion)            O(1)\n",
        "Front(Get front)           O(1)\n",
        "Rear(Get Rear)             O(1)              \n",
        "\n",
        "    Auxiliary Space: O(N). \n",
        "    N is the size of array for storing elements.\n",
        "    Pros of Array Implementation:  \n",
        "\n",
        "    Easy to implement.\n",
        "\n",
        "Cons of Array Implementation:  \n",
        "\n",
        "    Static Data Structure, fixed size.\n",
        "    If the queue has a large number of enqueue and dequeue operations, at some point (in case of linear increment of front and rear indexes) we may not be able to insert elements in the queue even if the queue is empty (this problem is avoided by using circular queue).'''\n",
        "\n",
        "\n",
        "\n",
        "\n",
        "\n",
        "    \n",
        "\n",
        "\n",
        "\n",
        "\n",
        "\n",
        "\n",
        "\n",
        "  \n"
      ],
      "execution_count": 15,
      "outputs": [
        {
          "output_type": "stream",
          "text": [
            "10 enqueued to  queueu\n",
            "20 enqueued to  queueu\n",
            "30 enqueued to  queueu\n",
            "40 enqueued to  queueu\n",
            "10 dequeue from queue \n",
            "front item is  20\n",
            "rear of item is 40\n"
          ],
          "name": "stdout"
        },
        {
          "output_type": "execute_result",
          "data": {
            "application/vnd.google.colaboratory.intrinsic+json": {
              "type": "string"
            },
            "text/plain": [
              "'    Time Complexity:\\n\\nOperations              Complexity\\nEnque(insertion)           O(1)\\nDeque(deletion)            O(1)\\nFront(Get front)           O(1)\\nRear(Get Rear)             O(1)              \\n\\n    Auxiliary Space: O(N). \\n    N is the size of array for storing elements.'"
            ]
          },
          "metadata": {
            "tags": []
          },
          "execution_count": 15
        }
      ]
    },
    {
      "cell_type": "code",
      "metadata": {
        "id": "Y_KbQyP3NgI7"
      },
      "source": [
        "#linked list implementation of queue\n",
        "class Node:\n",
        "  def __init__(self,data):\n",
        "    self.data=data\n",
        "    self.next=None\n",
        "\n"
      ],
      "execution_count": 24,
      "outputs": []
    },
    {
      "cell_type": "code",
      "metadata": {
        "colab": {
          "base_uri": "https://localhost:8080/"
        },
        "id": "D51LqNu1NgLp",
        "outputId": "244c0274-5c07-4698-c9a0-8aa4c771f3a5"
      },
      "source": [
        "class Queue:\n",
        "      \n",
        "    def __init__(self):\n",
        "        self.front = self.rear = None\n",
        "  \n",
        "    def isEmpty(self):\n",
        "        return self.front == None\n",
        "      \n",
        "    # Method to add an item to the queue\n",
        "    def EnQueue(self, item):\n",
        "        temp = Node(item)\n",
        "          \n",
        "        if self.rear == None:\n",
        "            self.front = self.rear = temp\n",
        "            return\n",
        "        self.rear.next = temp\n",
        "        self.rear = temp\n",
        "  \n",
        "    # Method to remove an item from queue\n",
        "    def DeQueue(self):\n",
        "          \n",
        "        if self.isEmpty():\n",
        "            return\n",
        "        temp = self.front\n",
        "        self.front = temp.next\n",
        "  \n",
        "        if(self.front == None):\n",
        "            self.rear = None\n",
        "  \n",
        "# Driver Code\n",
        "if __name__== '__main__':\n",
        "    q = Queue()\n",
        "    q.EnQueue(10)\n",
        "    q.EnQueue(20)\n",
        "    q.DeQueue()\n",
        "    q.DeQueue()\n",
        "    q.EnQueue(30)\n",
        "    q.EnQueue(40)\n",
        "    q.EnQueue(50) \n",
        "    q.DeQueue()   \n",
        "    print(\"Queue Front \" + str(q.front.data))\n",
        "    print(\"Queue Rear \" + str(q.rear.data))\n",
        "#time complexity of both enqueue() and dequeue() is bigO(1) because we dont use any loop here\n"
      ],
      "execution_count": 23,
      "outputs": [
        {
          "output_type": "stream",
          "text": [
            "Queue Front 40\n",
            "Queue Rear 50\n"
          ],
          "name": "stdout"
        }
      ]
    },
    {
      "cell_type": "code",
      "metadata": {
        "colab": {
          "base_uri": "https://localhost:8080/"
        },
        "id": "gNz3GusNNgPN",
        "outputId": "3ada0a5c-a3df-41aa-8087-dc17b6528432"
      },
      "source": [
        "#heap queue\n",
        "import heapq\n",
        "ls=[1,3,5,7,9]\n",
        "#usinf heapify to convert list into heap\n",
        "heapq.heapify(ls)\n",
        "print('the creaed heap is',end=\"\")\n",
        "print(list(ls))\n",
        "heapq.heappush(ls,4)\n",
        "print('the heap after modification is',end='')\n",
        "print(list(ls))\n",
        "print('the smallest element popped from the list is',end=' ')\n",
        "print(heapq.heappop(ls))\n",
        "print('using the push pop function',end=' ')\n",
        "print(heapq.heappushpop(ls,6))\n",
        "#heappushpop function returns the pop the smallest element and reurns the insert the functiom\n",
        "print('print the three largest numebers in the list',end=' ')\n",
        "print(heapq.nlargest(3,ls))\n",
        "print('print the smallest numbers in the list',end=' ')\n",
        "print(heapq.nsmallest(3,ls))\n",
        "#inserting and deleting 0(LOGN) "
      ],
      "execution_count": 39,
      "outputs": [
        {
          "output_type": "stream",
          "text": [
            "the creaed heap is[1, 3, 5, 7, 9]\n",
            "the heap after modification is[1, 3, 4, 7, 9, 5]\n",
            "the smallest element popped from the list is 1\n",
            "using the push pop function 3\n",
            "print the three largest numebers in the list [9, 7, 6]\n",
            "print the smallest numbers in the list [4, 5, 6]\n"
          ],
          "name": "stdout"
        }
      ]
    },
    {
      "cell_type": "code",
      "metadata": {
        "colab": {
          "base_uri": "https://localhost:8080/"
        },
        "id": "dV8cz_MXNgSL",
        "outputId": "ca4458b1-c9ca-45d0-fdac-07e753311597"
      },
      "source": [
        "#dequeue is called doubly ended queue is impelemeted using collections in ds in \n",
        "#list provides 0(n) and dequeue provides 0(1) for inserting and pop operations\n",
        "from collections import deque\n",
        "queue=deque(['name','age','dob'])\n",
        "print(queue)"
      ],
      "execution_count": 41,
      "outputs": [
        {
          "output_type": "stream",
          "text": [
            "deque(['name', 'age', 'dob'])\n"
          ],
          "name": "stdout"
        }
      ]
    },
    {
      "cell_type": "code",
      "metadata": {
        "colab": {
          "base_uri": "https://localhost:8080/"
        },
        "id": "w_3yNz8iNgVD",
        "outputId": "fd10d7d1-267a-4edb-abe9-3a6c584f885e"
      },
      "source": [
        "import collections\n",
        "de=collections.deque([1,2,3])\n",
        "de.append(4)\n",
        "print(de)\n",
        "de.appendleft(6)\n",
        "print(de)\n",
        "de.pop()\n",
        "print(de)\n",
        "de.popleft()\n",
        "print(de)"
      ],
      "execution_count": 46,
      "outputs": [
        {
          "output_type": "stream",
          "text": [
            "deque([1, 2, 3, 4])\n",
            "deque([6, 1, 2, 3, 4])\n",
            "deque([6, 1, 2, 3])\n",
            "deque([1, 2, 3])\n"
          ],
          "name": "stdout"
        }
      ]
    },
    {
      "cell_type": "code",
      "metadata": {
        "colab": {
          "base_uri": "https://localhost:8080/"
        },
        "id": "-JusdPwANgX4",
        "outputId": "6690c0f6-6d99-4bd5-9112-435a68a309f9"
      },
      "source": [
        "import collections\n",
        "de=collections.deque([1,2,3,3,4,2,4])\n",
        "print(de)\n",
        "#using the index to print the occurenc ofthe  number\n",
        "print('the numbers 4 comes at the first four occurence',end=\" \")\n",
        "print(de.index(4,2,5))\n",
        "print(de)\n",
        "#using insert value insert at the 5th position\n",
        "#insert(position,element)\n",
        "de.insert(4,3)\n",
        "#insert the 2 value at 5th positiom\n",
        "print('after inserting value at the 5th position')\n",
        "print(de)\n",
        "print('count the deque in 3 is',end=\" \")\n",
        "print(de.count(3))\n",
        "#using remove() to remove the first occurence of the 3\n",
        "de.remove(3)\n",
        "print(de)"
      ],
      "execution_count": 58,
      "outputs": [
        {
          "output_type": "stream",
          "text": [
            "deque([1, 2, 3, 3, 4, 2, 4])\n",
            "the numbers 4 comes at the first four occurence 4\n",
            "deque([1, 2, 3, 3, 4, 2, 4])\n",
            "after inserting value at the 5th position\n",
            "deque([1, 2, 3, 3, 3, 4, 2, 4])\n",
            "count the deque in 3 is 3\n",
            "deque([1, 2, 3, 3, 4, 2, 4])\n"
          ],
          "name": "stdout"
        }
      ]
    },
    {
      "cell_type": "code",
      "metadata": {
        "colab": {
          "base_uri": "https://localhost:8080/"
        },
        "id": "dsJJOQHs6GHy",
        "outputId": "d94605ee-37db-41fa-b1e9-ca492a8654f6"
      },
      "source": [
        "#extend(),extendleft(),rotate(),reverse()'\n",
        "import collections\n",
        "de=collections.deque([1,2,3])\n",
        "#it will add the bunch of elements at the right side\n",
        "\n",
        "de.extend([4,5,6])\n",
        "print(de)\n",
        "de.extendleft([9,8,7])\n",
        "print(de)\n",
        "#using rotate( ) to the rotate the queue\n",
        "#it rotate the queue \n",
        "de.rotate(-3)\n",
        "print(de)\n",
        "#using reverse to revese the elements\n",
        "de.reverse()\n",
        "print(de)"
      ],
      "execution_count": 66,
      "outputs": [
        {
          "output_type": "stream",
          "text": [
            "deque([1, 2, 3, 4, 5, 6])\n",
            "deque([7, 8, 9, 1, 2, 3, 4, 5, 6])\n",
            "deque([1, 2, 3, 4, 5, 6, 7, 8, 9])\n",
            "deque([9, 8, 7, 6, 5, 4, 3, 2, 1])\n"
          ],
          "name": "stdout"
        }
      ]
    },
    {
      "cell_type": "code",
      "metadata": {
        "id": "bO31RvG56GCP"
      },
      "source": [
        "#finding the first circular queue that visit all the petrol pumps\n"
      ],
      "execution_count": null,
      "outputs": []
    },
    {
      "cell_type": "code",
      "metadata": {
        "id": "RIWZRShV6F8r"
      },
      "source": [
        "#maximum sliding window\n"
      ],
      "execution_count": null,
      "outputs": []
    },
    {
      "cell_type": "code",
      "metadata": {
        "id": "2xoTbr146F5B"
      },
      "source": [
        "#generating binary methods\n",
        "def genreateBinarycode(n):\n",
        "  from Queue import Queue\n",
        "  q=Queue()\n",
        "  q.put('1')\n",
        "  \n",
        "\n",
        "n=10\n",
        "genreateBinarycode(n)"
      ],
      "execution_count": null,
      "outputs": []
    },
    {
      "cell_type": "code",
      "metadata": {
        "id": "RzdpMU1l6F1P"
      },
      "source": [
        "#implememting the  k or n queues in single array\n",
        "class KQueue:\n",
        "  #just created 3 queues and array with length 10\n",
        "  def __init__(self,number_of_queues,array_length):\n",
        "    self.number_of_queues=number_of_queues\n",
        "    self.array_length=array_length\n",
        "    self.array=[-1]*array_length\n",
        "    self.front=[-1]*number_of_queues\n",
        "    self.rear=[-1]*number_of_queues\n",
        "    self.next_array=list(range(1,array_length))\n",
        "    self.next_array.append(-1)\n",
        "    self.free(0)\n",
        "    #to check the current queue is empty or not\n",
        "  \n",
        "  def isEmpty(self,queue_number):\n",
        "\n",
        "    return  True  if self.front[queue_number]==-1  else False\n",
        "   #to check the current queue _number is full or not\n",
        "\n",
        "  def  isFull(self,queue_number):\n",
        "\n",
        "    return True if self.free=-1 else False\n",
        "  def enqueue(self,item,queue_number):\n",
        "    if self.isFUll(queue_numnber):\n",
        "      print('Queue FUll')\n",
        "      return\n",
        "    \n",
        "\n",
        " \n",
        "\n",
        "\n",
        "\n",
        "if __name__=='__main__':\n",
        "  #let us crearte the 3 queues in single array\n",
        "\n",
        "  ks=KQueue(3,10)\n",
        "\n",
        "\n"
      ],
      "execution_count": null,
      "outputs": []
    },
    {
      "cell_type": "code",
      "metadata": {
        "id": "COuRByYsAiuD"
      },
      "source": [
        ""
      ],
      "execution_count": null,
      "outputs": []
    },
    {
      "cell_type": "code",
      "metadata": {
        "id": "k4xRNYNZAixg"
      },
      "source": [
        ""
      ],
      "execution_count": null,
      "outputs": []
    },
    {
      "cell_type": "code",
      "metadata": {
        "id": "taIa7uhrAi2L"
      },
      "source": [
        ""
      ],
      "execution_count": null,
      "outputs": []
    },
    {
      "cell_type": "code",
      "metadata": {
        "id": "yczLi9uxAi8A"
      },
      "source": [
        ""
      ],
      "execution_count": null,
      "outputs": []
    },
    {
      "cell_type": "code",
      "metadata": {
        "id": "BZF5EzBEAjp8"
      },
      "source": [
        ""
      ],
      "execution_count": null,
      "outputs": []
    },
    {
      "cell_type": "code",
      "metadata": {
        "id": "A5ImiNvQAjsj"
      },
      "source": [
        ""
      ],
      "execution_count": null,
      "outputs": []
    },
    {
      "cell_type": "code",
      "metadata": {
        "id": "FK7l35b0AjxK"
      },
      "source": [
        ""
      ],
      "execution_count": null,
      "outputs": []
    },
    {
      "cell_type": "code",
      "metadata": {
        "id": "L8mWBG0aNgaV"
      },
      "source": [
        ""
      ],
      "execution_count": 56,
      "outputs": []
    }
  ]
}