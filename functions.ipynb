{
  "nbformat": 4,
  "nbformat_minor": 0,
  "metadata": {
    "colab": {
      "name": "functions.ipynb",
      "provenance": [],
      "collapsed_sections": [],
      "authorship_tag": "ABX9TyPINc5/BsuoWUV4bKUi7lV6",
      "include_colab_link": true
    },
    "kernelspec": {
      "name": "python3",
      "display_name": "Python 3"
    },
    "language_info": {
      "name": "python"
    }
  },
  "cells": [
    {
      "cell_type": "markdown",
      "metadata": {
        "id": "view-in-github",
        "colab_type": "text"
      },
      "source": [
        "<a href=\"https://colab.research.google.com/github/srikrishna-stack/python-problem-solving/blob/main/functions.ipynb\" target=\"_parent\"><img src=\"https://colab.research.google.com/assets/colab-badge.svg\" alt=\"Open In Colab\"/></a>"
      ]
    },
    {
      "cell_type": "code",
      "metadata": {
        "colab": {
          "base_uri": "https://localhost:8080/"
        },
        "id": "-LBr_AH5FJZl",
        "outputId": "29741887-7d9b-44ce-ad2f-169b37f2aa62"
      },
      "source": [
        "#docstring\n",
        "def say_hi():\n",
        "  \"hello computescience!\"\n",
        "print(say_hi.__doc__)"
      ],
      "execution_count": null,
      "outputs": [
        {
          "output_type": "stream",
          "text": [
            "hello geeksforgeeks!\n"
          ],
          "name": "stdout"
        }
      ]
    },
    {
      "cell_type": "code",
      "metadata": {
        "id": "NG8fw7pDFq0u"
      },
      "source": [
        "#creating empty function\n",
        "def fun():\n",
        "  pass"
      ],
      "execution_count": null,
      "outputs": []
    },
    {
      "cell_type": "code",
      "metadata": {
        "colab": {
          "base_uri": "https://localhost:8080/"
        },
        "id": "8Ui7wuEtmaMH",
        "outputId": "3cb8b99b-f684-4892-9e64-215409180fb1"
      },
      "source": [
        "#yield function\n",
        "def simplegenearator():\n",
        "  yield 1\n",
        "  yield 2\n",
        "  yield 3\n",
        "for value in simplegenearator():\n",
        "  print(value)\n",
        "\n"
      ],
      "execution_count": null,
      "outputs": [
        {
          "output_type": "stream",
          "text": [
            "1\n",
            "2\n",
            "3\n"
          ],
          "name": "stdout"
        }
      ]
    },
    {
      "cell_type": "code",
      "metadata": {
        "colab": {
          "base_uri": "https://localhost:8080/"
        },
        "id": "mXzFX_MloBVx",
        "outputId": "65c7d226-f6af-44c1-8bf0-396b99e776f6"
      },
      "source": [
        "def nextsquare():\n",
        "  i=1\n",
        "  while True :\n",
        "    yield i*i\n",
        "    i=i+1\n",
        "for num in nextsquare():\n",
        "  if num>100:\n",
        "    break\n",
        "  print(num)"
      ],
      "execution_count": null,
      "outputs": [
        {
          "output_type": "stream",
          "text": [
            "1\n",
            "4\n",
            "9\n",
            "16\n",
            "25\n",
            "36\n",
            "49\n",
            "64\n",
            "81\n",
            "100\n"
          ],
          "name": "stdout"
        }
      ]
    },
    {
      "cell_type": "code",
      "metadata": {
        "colab": {
          "base_uri": "https://localhost:8080/"
        },
        "id": "qdOrVonKpdLI",
        "outputId": "e96aa910-17c9-4aa6-c696-0c9201156356"
      },
      "source": [
        "#returning multiple values in function\n",
        "class Test:\n",
        "  def __init__(self):\n",
        "    self.str = \"computerscience\"\n",
        "    self.x=20\n",
        "def fun():\n",
        "  return Test()\n",
        "t=fun()\n",
        "print(t.str)\n",
        "print(t.x)\n",
        "#using tuple\n",
        "\n",
        "\n"
      ],
      "execution_count": null,
      "outputs": [
        {
          "output_type": "stream",
          "text": [
            "computerscience\n",
            "20\n"
          ],
          "name": "stdout"
        }
      ]
    },
    {
      "cell_type": "code",
      "metadata": {
        "colab": {
          "base_uri": "https://localhost:8080/"
        },
        "id": "2Zq-QYEfqSk5",
        "outputId": "0b22d87d-ef49-45c6-c0ce-b548cf2581d4"
      },
      "source": [
        "#Partial functions allow us to fix a certain number of arguments of a function and generate a new function\n",
        "from functools import partial\n",
        "def f(a,b,c,x):\n",
        "  return 1000*a+100*b+10*c+x\n",
        "g=partial(f,1,3,4)\n",
        "print(g(5))\n",
        "\n"
      ],
      "execution_count": null,
      "outputs": [
        {
          "output_type": "stream",
          "text": [
            "1345\n"
          ],
          "name": "stdout"
        }
      ]
    },
    {
      "cell_type": "code",
      "metadata": {
        "colab": {
          "base_uri": "https://localhost:8080/"
        },
        "id": "m9XEE21rtLiZ",
        "outputId": "6966539d-0237-494c-a233-a13e8ab784ae"
      },
      "source": [
        "from functools import*\n",
        "def add(a,b,c):\n",
        "  return a*100+b*10+c*1\n",
        "par_add=partial(add,b=1,c=2)\n",
        "print(par_add(3))\n"
      ],
      "execution_count": null,
      "outputs": [
        {
          "output_type": "stream",
          "text": [
            "312\n"
          ],
          "name": "stdout"
        }
      ]
    },
    {
      "cell_type": "code",
      "metadata": {
        "colab": {
          "base_uri": "https://localhost:8080/"
        },
        "id": "9KVrqY0kuZgl",
        "outputId": "a493a7e7-df39-4afb-f82b-fd27f6f6d949"
      },
      "source": [
        "#first class function in python\n",
        "#here function can be treted as object\n",
        "\n",
        "def shout(text):\n",
        "  return text.upper()\n",
        "print(shout('hello'))\n",
        "yell=shout\n",
        "print(yell('hello'))"
      ],
      "execution_count": null,
      "outputs": [
        {
          "output_type": "stream",
          "text": [
            "HELLO\n",
            "HELLO\n"
          ],
          "name": "stdout"
        }
      ]
    },
    {
      "cell_type": "markdown",
      "metadata": {
        "id": "PMqH1R6dvuUj"
      },
      "source": [
        "Functions can be passed as arguments to other functions: Because functions are objects we can pass them as arguments to other functions. Functions that can accept other functions as arguments are also called higher-order functions"
      ]
    },
    {
      "cell_type": "code",
      "metadata": {
        "colab": {
          "base_uri": "https://localhost:8080/"
        },
        "id": "uDmqRqOpuZdi",
        "outputId": "141ae5ab-7311-47ec-c91d-4ce9786584fe"
      },
      "source": [
        "def shout(text):\n",
        "  return text.upper()\n",
        "def wishper(text):\n",
        "  return text.lower()\n",
        "def greet(func):\n",
        "  greeting=func(\"hi i am created by a function passed by an argument\")\n",
        "  print(greeting)\n",
        "greet(shout)\n",
        "greet(wishper)\n",
        "\n",
        "  \n"
      ],
      "execution_count": null,
      "outputs": [
        {
          "output_type": "stream",
          "text": [
            "HI I AM CREATED BY A FUNCTION PASSED BY AN ARGUMENT\n",
            "hi i am created by a function passed by an argument\n"
          ],
          "name": "stdout"
        }
      ]
    },
    {
      "cell_type": "code",
      "metadata": {
        "colab": {
          "base_uri": "https://localhost:8080/"
        },
        "id": "owYDJjYGuZZ1",
        "outputId": "d0bc44f5-d91b-4244-cbd8-885f2db558e6"
      },
      "source": [
        "# Functions can return another function: Because functions are objects we can return a function from another function\n",
        "def create_adder(x):\n",
        "  def adder(y):\n",
        "    return x+y\n",
        "  return adder\n",
        "adder1=create_adder(15)\n",
        "print(adder1(10))"
      ],
      "execution_count": null,
      "outputs": [
        {
          "output_type": "stream",
          "text": [
            "25\n"
          ],
          "name": "stdout"
        }
      ]
    },
    {
      "cell_type": "markdown",
      "metadata": {
        "id": "TQkjtE1zzCgM"
      },
      "source": [
        "We use *args and **kwargs as an argument when we have no doubt about the number of  arguments we should pass in a function.”"
      ]
    },
    {
      "cell_type": "code",
      "metadata": {
        "id": "WXVO6lW8uZWD",
        "colab": {
          "base_uri": "https://localhost:8080/"
        },
        "outputId": "393e59d9-29c5-4d34-e680-ca1847d73fe3"
      },
      "source": [
        "#*arg argument\n",
        "def myFun(*arg):\n",
        "  for argv in arg:\n",
        "    print(argv)\n",
        "myFun('Hello', 'Welcome', 'to', 'GeeksforGeeks') "
      ],
      "execution_count": null,
      "outputs": [
        {
          "output_type": "stream",
          "text": [
            "Hello\n",
            "Welcome\n",
            "to\n",
            "GeeksforGeeks\n"
          ],
          "name": "stdout"
        }
      ]
    },
    {
      "cell_type": "code",
      "metadata": {
        "id": "aA4xmuaRuZR9",
        "colab": {
          "base_uri": "https://localhost:8080/"
        },
        "outputId": "a0c4e369-ecdd-44e8-a492-9b558aea7f24"
      },
      "source": [
        "def myFun(arg1,*arg):\n",
        "  print(\"the first element is \",arg1)\n",
        "  for argv in arg:\n",
        "    print(\"the next element is \",argv)\n",
        "myFun('Hello', 'Welcome', 'to', 'GeeksforGeeks') "
      ],
      "execution_count": null,
      "outputs": [
        {
          "output_type": "stream",
          "text": [
            "the first element is  Hello\n",
            "the next element is  Welcome\n",
            "the next element is  to\n",
            "the next element is  GeeksforGeeks\n"
          ],
          "name": "stdout"
        }
      ]
    },
    {
      "cell_type": "code",
      "metadata": {
        "id": "gjXyFGH3uZOz",
        "colab": {
          "base_uri": "https://localhost:8080/"
        },
        "outputId": "fe96af54-be1b-4c33-9556-dd6f3677a85f"
      },
      "source": [
        "#The special syntax **kwargs in function definitions in python is used to pass a keyworded, variable-length argument list. We use the name kwargs with the double star\n",
        "def myfun(**argv):\n",
        "  for key,value in argv.items():\n",
        "    print (\"%s == %s\" %(key, value))\n",
        "    \n",
        "\n",
        "myfun(first='geeks',mid='for',last='geeks')\n"
      ],
      "execution_count": null,
      "outputs": [
        {
          "output_type": "stream",
          "text": [
            "first == geeks\n",
            "mid == for\n",
            "last == geeks\n"
          ],
          "name": "stdout"
        }
      ]
    },
    {
      "cell_type": "code",
      "metadata": {
        "id": "rKIhNYzvuZFN",
        "colab": {
          "base_uri": "https://localhost:8080/"
        },
        "outputId": "55232353-f2b9-4a73-ea75-20dafaf8b62f"
      },
      "source": [
        "def myfun1(arg,**arg1):\n",
        "  \n",
        "  for key,value in arg1.items():\n",
        "    print(\"%s == %s\" %(key,value))\n",
        "\n",
        "myfun1('hi',first='geeks',mid='for',last='geeks')"
      ],
      "execution_count": null,
      "outputs": [
        {
          "output_type": "stream",
          "text": [
            "first == geeks\n",
            "mid == for\n",
            "last == geeks\n"
          ],
          "name": "stdout"
        }
      ]
    },
    {
      "cell_type": "code",
      "metadata": {
        "id": "_oK5N5IytLmf",
        "colab": {
          "base_uri": "https://localhost:8080/"
        },
        "outputId": "53b2dd00-0251-4c00-ec78-6064a1fb4def"
      },
      "source": [
        "#Using *args and **kwargs to call a function\n",
        "def myfun_to(arg1,arg2,arg3):\n",
        "  print(\"arg1\",arg1)\n",
        "  print(\"arg2\",arg2)\n",
        "  print(\"arg3\",arg3)\n",
        "\n",
        "args=(\"geeks\",\"for\",\"geeks\")\n",
        "myfun_to(*args)\n",
        "kwargs={'arg1':'computer','arg2':'science','arg3':'isgood'}\n",
        "myfun_to(**kwargs)"
      ],
      "execution_count": null,
      "outputs": [
        {
          "output_type": "stream",
          "text": [
            "arg1 geeks\n",
            "arg2 for\n",
            "arg3 geeks\n",
            "arg1 computer\n",
            "arg2 science\n",
            "arg3 isgood\n"
          ],
          "name": "stdout"
        }
      ]
    },
    {
      "cell_type": "code",
      "metadata": {
        "colab": {
          "base_uri": "https://localhost:8080/"
        },
        "id": "rltZCgvvREIQ",
        "outputId": "fe01fc70-52a0-49d1-b09e-0c6a0b5ac5c7"
      },
      "source": [
        "#Using *args and **kwargs in same line to call a function\n",
        "def myfun(*arg,**kwargs):\n",
        "  print('args',arg)\n",
        "  print('kwargs',kwargs)\n",
        "myfun('geeks','for','geeks',first='geeks',mid='for',last='geeks')"
      ],
      "execution_count": null,
      "outputs": [
        {
          "output_type": "stream",
          "text": [
            "args ('geeks', 'for', 'geeks')\n",
            "kwargs {'first': 'geeks', 'mid': 'for', 'last': 'geeks'}\n"
          ],
          "name": "stdout"
        }
      ]
    },
    {
      "cell_type": "markdown",
      "metadata": {
        "id": "BRrk9F2PTJXu"
      },
      "source": [
        "python closures\n",
        "A Closure is a function object that remembers values in enclosing scopes even if they are not present in memory. "
      ]
    },
    {
      "cell_type": "code",
      "metadata": {
        "colab": {
          "base_uri": "https://localhost:8080/"
        },
        "id": "zlX7UFp5TILz",
        "outputId": "6e96ebe7-b643-4eb3-941c-4a0b6792f7d0"
      },
      "source": [
        "def outerFunction(text):\n",
        "    text = text\n",
        " \n",
        "    def innerFunction():\n",
        "        print(text)\n",
        " \n",
        "    innerFunction()\n",
        " \n",
        "if __name__ == '__main__':\n",
        "    outerFunction('Hey!')"
      ],
      "execution_count": null,
      "outputs": [
        {
          "output_type": "stream",
          "text": [
            "Hey!\n"
          ],
          "name": "stdout"
        }
      ]
    },
    {
      "cell_type": "code",
      "metadata": {
        "colab": {
          "base_uri": "https://localhost:8080/"
        },
        "id": "umGGUdhCTIHa",
        "outputId": "afb062e9-3629-41c3-c148-dae512652c29"
      },
      "source": [
        "def overfunction(text):\n",
        "  text=text\n",
        "  def innerfunction():\n",
        "    print(text)\n",
        "  return innerfunction()\n",
        "\n",
        "\n",
        "if __name__=='__main__':\n",
        "  myfunction=overfunction('hey!')\n",
        "  \n"
      ],
      "execution_count": null,
      "outputs": [
        {
          "output_type": "stream",
          "text": [
            "hey!\n"
          ],
          "name": "stdout"
        }
      ]
    },
    {
      "cell_type": "code",
      "metadata": {
        "colab": {
          "base_uri": "https://localhost:8080/"
        },
        "id": "LQsf2U6bTIB9",
        "outputId": "8ce089c0-f280-4f28-941e-c8b96e77c4cc"
      },
      "source": [
        "def messagewithwelcome(str):\n",
        "  def addwelcome():\n",
        "    return \"welcometo\"\n",
        "  return addwelcome()+str\n",
        "def site(site_name):\n",
        "  return site_name\n",
        "print(messagewithwelcome(site(\"geeksforgeeks\")))"
      ],
      "execution_count": null,
      "outputs": [
        {
          "output_type": "stream",
          "text": [
            "welcometogeeksforgeeks\n"
          ],
          "name": "stdout"
        }
      ]
    },
    {
      "cell_type": "code",
      "metadata": {
        "id": "zhQTzlUwTH64",
        "colab": {
          "base_uri": "https://localhost:8080/"
        },
        "outputId": "f9e49109-e980-45a7-dc88-19c0599b3d49"
      },
      "source": [
        "#function closure\n",
        "def outer_function(msg):\n",
        "  message=msg\n",
        "  def inner_function():\n",
        "    print(message)\n",
        "  return inner_function\n",
        "hi_func=outer_function('hi')\n",
        "bye_func=outer_function('bye')\n",
        "hi_func()\n",
        "bye_func()"
      ],
      "execution_count": null,
      "outputs": [
        {
          "output_type": "stream",
          "text": [
            "hi\n",
            "bye\n"
          ],
          "name": "stdout"
        }
      ]
    },
    {
      "cell_type": "code",
      "metadata": {
        "id": "uUbzBow1TH3W",
        "colab": {
          "base_uri": "https://localhost:8080/"
        },
        "outputId": "bafd3dbd-73e1-41c9-e43e-a0574c85392b"
      },
      "source": [
        "#decorators are functions which take fumctoins as arguments and object and return the functions\n",
        "def decorator_function(original_function):\n",
        "  def wrapper_function():\n",
        "    print('wrapper executed before{}'.format(original_function.__name__))\n",
        "    return original_function\n",
        "  return wrapper_function\n",
        "@decorator_function\n",
        "def display():\n",
        "  print('display functon ram')\n",
        "print(display())\n",
        "  \n"
      ],
      "execution_count": null,
      "outputs": [
        {
          "output_type": "stream",
          "text": [
            "wrapper executed beforedisplay\n",
            "<function display at 0x7efcd6cf6b00>\n"
          ],
          "name": "stdout"
        }
      ]
    },
    {
      "cell_type": "code",
      "metadata": {
        "id": "84wWSfEOTHzp",
        "colab": {
          "base_uri": "https://localhost:8080/"
        },
        "outputId": "b44a040a-1242-45b7-b922-82e5268d19f2"
      },
      "source": [
        "def decorator_function(msg):\n",
        "  def wraper_finction():\n",
        "    print(message)\n",
        "  return wrapper_function\n",
        "hi_fun=outer_function('hi')\n",
        "bye_fun=outer_function('bye')\n",
        "hi_fun()\n",
        "bye_fun()"
      ],
      "execution_count": null,
      "outputs": [
        {
          "output_type": "stream",
          "text": [
            "hi\n",
            "bye\n"
          ],
          "name": "stdout"
        }
      ]
    },
    {
      "cell_type": "code",
      "metadata": {
        "id": "2qBOuv9TTHut"
      },
      "source": [
        ""
      ],
      "execution_count": null,
      "outputs": []
    },
    {
      "cell_type": "code",
      "metadata": {
        "id": "G36Doj6-THqm"
      },
      "source": [
        ""
      ],
      "execution_count": null,
      "outputs": []
    },
    {
      "cell_type": "code",
      "metadata": {
        "id": "Dse5YhINTHmo"
      },
      "source": [
        ""
      ],
      "execution_count": null,
      "outputs": []
    },
    {
      "cell_type": "code",
      "metadata": {
        "id": "bKmqZT0rTHjK"
      },
      "source": [
        ""
      ],
      "execution_count": null,
      "outputs": []
    },
    {
      "cell_type": "code",
      "metadata": {
        "id": "3K9TWaZQTHgb"
      },
      "source": [
        ""
      ],
      "execution_count": null,
      "outputs": []
    },
    {
      "cell_type": "code",
      "metadata": {
        "id": "qIHPxeTbRwjq"
      },
      "source": [
        ""
      ],
      "execution_count": null,
      "outputs": []
    }
  ]
}