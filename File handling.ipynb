{
 "cells": [
  {
   "cell_type": "code",
   "execution_count": 13,
   "id": "1abbbe10-3223-4cc2-8170-6cf7609d3ab8",
   "metadata": {},
   "outputs": [
    {
     "name": "stdout",
     "output_type": "stream",
     "text": [
      "name of the file file.txt\n",
      "file is closed False\n",
      "file has been opened in r mode\n",
      "<_io.TextIOWrapper name='file.txt' mode='r' encoding='UTF-8'>\n",
      "<built-in method read of _io.TextIOWrapper object at 0x7f696ee18a00>\n"
     ]
    }
   ],
   "source": [
    "file=open(\"file.txt\",'r')\n",
    "print('name of the file',file.name)\n",
    "print('file is closed',file.closed)\n",
    "print('file has been opened in',file.mode,'mode')\n",
    "print(file)\n",
    "print(file.read)\n",
    "file.close()\n"
   ]
  },
  {
   "cell_type": "code",
   "execution_count": null,
   "id": "e738fb64-4249-40d6-8354-1a8b42b54c27",
   "metadata": {},
   "outputs": [],
   "source": []
  },
  {
   "cell_type": "code",
   "execution_count": null,
   "id": "765c0406-bfc6-41cf-b405-130e91a7ab97",
   "metadata": {},
   "outputs": [],
   "source": []
  }
 ],
 "metadata": {
  "kernelspec": {
   "display_name": "Python 3",
   "language": "python",
   "name": "python3"
  },
  "language_info": {
   "codemirror_mode": {
    "name": "ipython",
    "version": 3
   },
   "file_extension": ".py",
   "mimetype": "text/x-python",
   "name": "python",
   "nbconvert_exporter": "python",
   "pygments_lexer": "ipython3",
   "version": "3.8.8"
  }
 },
 "nbformat": 4,
 "nbformat_minor": 5
}
