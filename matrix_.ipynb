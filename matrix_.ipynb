{
  "nbformat": 4,
  "nbformat_minor": 0,
  "metadata": {
    "colab": {
      "name": "matrix .ipynb",
      "provenance": [],
      "authorship_tag": "ABX9TyOYblNLRATK3DW1oEML4Rqe",
      "include_colab_link": true
    },
    "kernelspec": {
      "name": "python3",
      "display_name": "Python 3"
    },
    "language_info": {
      "name": "python"
    }
  },
  "cells": [
    {
      "cell_type": "markdown",
      "metadata": {
        "id": "view-in-github",
        "colab_type": "text"
      },
      "source": [
        "<a href=\"https://colab.research.google.com/github/srikrishna-stack/python-problem-solving/blob/main/matrix_.ipynb\" target=\"_parent\"><img src=\"https://colab.research.google.com/assets/colab-badge.svg\" alt=\"Open In Colab\"/></a>"
      ]
    },
    {
      "cell_type": "code",
      "metadata": {
        "colab": {
          "base_uri": "https://localhost:8080/"
        },
        "id": "iuMg7XHZUo0W",
        "outputId": "4a9caa59-53cd-4d7d-bb79-65fa09e3bf49"
      },
      "source": [
        "#matrix in python\n",
        "#program to add two matrices \n",
        "x=[[1,2,3],[4,5,6],[7,8,9]]\n",
        "y=[[9,8,7],[6,5,4],[3,2,1]]\n",
        "res=[[0,0,0],[0,0,0],[0,0,0]]\n",
        "for i in range(len(x)):\n",
        "  for j in range(len(x[0])):\n",
        "    res[i][j]=x[i][j]+y[i][j]\n",
        "for r in res:\n",
        "  print(r)\n",
        "  \n",
        "\n"
      ],
      "execution_count": null,
      "outputs": [
        {
          "output_type": "stream",
          "text": [
            "[10, 10, 10]\n",
            "[10, 10, 10]\n",
            "[10, 10, 10]\n"
          ],
          "name": "stdout"
        }
      ]
    },
    {
      "cell_type": "code",
      "metadata": {
        "colab": {
          "base_uri": "https://localhost:8080/"
        },
        "id": "m_IRmnuAZymT",
        "outputId": "c22a27a6-f444-408c-e032-506a7f09bdcd"
      },
      "source": [
        "#matrix multiplication\n",
        "x = [[1, 7, 3],\n",
        "    [3, 5, 6],\n",
        "    [6, 8, 9]]\n",
        "Y = [[1, 1, 1, 2],\n",
        "    [6, 7, 3, 0],\n",
        "    [4, 5, 9, 1]]     \n",
        "res=[[0,0,0],\n",
        "    [0,0,0],\n",
        "    [0,0,0]]\n",
        "for i in range(len(x)):\n",
        "  for j in range(len(x[0])):\n",
        "    for k in range(len(y)):\n",
        "      res[i][j]+=x[i][k]*y[k][j]\n",
        "for r in res:\n",
        "  print(r)       \n"
      ],
      "execution_count": null,
      "outputs": [
        {
          "output_type": "stream",
          "text": [
            "[60, 49, 38]\n",
            "[75, 61, 47]\n",
            "[129, 106, 83]\n"
          ],
          "name": "stdout"
        }
      ]
    },
    {
      "cell_type": "code",
      "metadata": {
        "colab": {
          "base_uri": "https://localhost:8080/"
        },
        "id": "XlaeZKe9dEzO",
        "outputId": "907f69e7-646c-4462-b418-aa573f588419"
      },
      "source": [
        "#product of a matrix\n",
        "def prod(val):\n",
        "  res=1\n",
        "  for ele in val:\n",
        "    res*=ele\n",
        "  return res\n",
        "test_list = [[1, 4, 5], [7, 3], [4], [46, 7, 3]]\n",
        "print(\"The original list : \" + str(test_list))\n",
        "res = prod ([ele for sub in test_list for ele in sub])\n",
        "print(\"the total no of product in the list is\",res)\n",
        "  \n"
      ],
      "execution_count": null,
      "outputs": [
        {
          "output_type": "stream",
          "text": [
            "The original list : [[1, 4, 5], [7, 3], [4], [46, 7, 3]]\n",
            "the total no of product in the list is 1622880\n"
          ],
          "name": "stdout"
        }
      ]
    },
    {
      "cell_type": "code",
      "metadata": {
        "colab": {
          "base_uri": "https://localhost:8080/"
        },
        "id": "l2dwesqDyWwn",
        "outputId": "684a9b51-93b7-4d93-8af8-53c4286ab5e8"
      },
      "source": [
        "#addition and subtraction of a matrix using numpy\n",
        "import numpy as np\n",
        "a=np.array([[1,2],[3,4]])\n",
        "b=np.array([[5,6],[7,8]])\n",
        "print(a)\n",
        "print(b)\n",
        "print(\"addition of matrices\")\n",
        "print(np.add(a,b))\n",
        "print(\"subtraction of matrices\")\n",
        "print(np.subtract(a,b))\n"
      ],
      "execution_count": null,
      "outputs": [
        {
          "output_type": "stream",
          "text": [
            "[[1 2]\n",
            " [3 4]]\n",
            "[[5 6]\n",
            " [7 8]]\n",
            "addition of matrices\n",
            "[[ 6  8]\n",
            " [10 12]]\n",
            "subtraction of matrices\n",
            "[[-4 -4]\n",
            " [-4 -4]]\n"
          ],
          "name": "stdout"
        }
      ]
    },
    {
      "cell_type": "code",
      "metadata": {
        "colab": {
          "base_uri": "https://localhost:8080/"
        },
        "id": "ZGLjPsZ80-Oy",
        "outputId": "8ee4c125-587b-40ef-8e05-fa2f9ac00e0a"
      },
      "source": [
        "#transpose of a matrix\n",
        "m=[[1,2],[3,4],[5,6]]\n",
        "for row in m:\n",
        "  print(row)\n",
        "res=[[m[j][i] for j in range(len(m))]for i in range(len(m[0]))]\n",
        "print(\"the transpose of a matrix\")\n",
        "for row in res:\n",
        "  print(row)\n",
        "print(\"\\n\")\n",
        "#using numpy\n",
        "import numpy \n",
        "matrix=[[1,2,3],[4,5,6]]\n",
        "print(matrix)\n",
        "print(\"\\n\")\n",
        "print(\"transpose of a matrix using numpy\")\n",
        "print(numpy.transpose(matrix))"
      ],
      "execution_count": null,
      "outputs": [
        {
          "output_type": "stream",
          "text": [
            "[1, 2]\n",
            "[3, 4]\n",
            "[5, 6]\n",
            "the transpose of a matrix\n",
            "[1, 3, 5]\n",
            "[2, 4, 6]\n",
            "\n",
            "\n",
            "[[1, 2, 3], [4, 5, 6]]\n",
            "\n",
            "\n",
            "transpose of a matrix using numpy\n",
            "[[1 4]\n",
            " [2 5]\n",
            " [3 6]]\n"
          ],
          "name": "stdout"
        }
      ]
    },
    {
      "cell_type": "code",
      "metadata": {
        "id": "XoSEu_v07rlH"
      },
      "source": [
        ""
      ],
      "execution_count": null,
      "outputs": []
    },
    {
      "cell_type": "markdown",
      "metadata": {
        "id": "J0Me8tax_HzW"
      },
      "source": [
        "Many times while working with numbers in data science we come across the problem in which we need to work with data science we need to transform a number to a **matrix**"
      ]
    },
    {
      "cell_type": "code",
      "metadata": {
        "colab": {
          "base_uri": "https://localhost:8080/"
        },
        "id": "dtpk7dv5_L0X",
        "outputId": "1f1a947f-b400-4a16-fc9f-de1039b2fa00"
      },
      "source": [
        "#transformation of numbers to matrices\n",
        "N=4\n",
        "print(\"the dimension \", N)\n",
        "res=[list(range(1+N*i,1+N*(i+1))) for i in range(N)]\n",
        "print(\"the created matrix \", res)\n"
      ],
      "execution_count": null,
      "outputs": [
        {
          "output_type": "stream",
          "text": [
            "the dimension  4\n",
            "the created matrix  [[1, 2, 3, 4], [5, 6, 7, 8], [9, 10, 11, 12], [13, 14, 15, 16]]\n"
          ],
          "name": "stdout"
        }
      ]
    },
    {
      "cell_type": "markdown",
      "metadata": {
        "id": "u4VDmp1lBMxL"
      },
      "source": [
        "Sometimes, while working with Python Matrix, one can have a problem in which one needs to find the Kth column of Matrix. This is a very popular problem in Machine Learning Domain and having solution to this is useful"
      ]
    },
    {
      "cell_type": "code",
      "metadata": {
        "colab": {
          "base_uri": "https://localhost:8080/"
        },
        "id": "fzsDaIZv_oCi",
        "outputId": "9f2fd627-fb1e-4f77-d055-c3af0d771702"
      },
      "source": [
        "#fetching the kth value using list comprehsion\n",
        "list1=[[4,5,6],[1,2,3],[9,8,7]]\n",
        "k=2\n",
        "result=[i[k] for i in list1]\n",
        "print(result)\n"
      ],
      "execution_count": 29,
      "outputs": [
        {
          "output_type": "stream",
          "text": [
            "[6, 3, 7]\n"
          ],
          "name": "stdout"
        }
      ]
    },
    {
      "cell_type": "code",
      "metadata": {
        "id": "CHBXuX_tB2jJ"
      },
      "source": [
        ""
      ],
      "execution_count": null,
      "outputs": []
    }
  ]
}