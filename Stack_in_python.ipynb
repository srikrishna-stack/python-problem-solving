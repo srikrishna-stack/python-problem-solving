{
  "nbformat": 4,
  "nbformat_minor": 0,
  "metadata": {
    "colab": {
      "name": "Stack_in_python.ipynb",
      "provenance": [],
      "authorship_tag": "ABX9TyM78h69igoupTDaqKhdO2RM",
      "include_colab_link": true
    },
    "kernelspec": {
      "name": "python3",
      "display_name": "Python 3"
    },
    "language_info": {
      "name": "python"
    }
  },
  "cells": [
    {
      "cell_type": "markdown",
      "metadata": {
        "id": "view-in-github",
        "colab_type": "text"
      },
      "source": [
        "<a href=\"https://colab.research.google.com/github/srikrishna-stack/python-problem-solving/blob/main/Stack_in_python.ipynb\" target=\"_parent\"><img src=\"https://colab.research.google.com/assets/colab-badge.svg\" alt=\"Open In Colab\"/></a>"
      ]
    },
    {
      "cell_type": "code",
      "metadata": {
        "colab": {
          "base_uri": "https://localhost:8080/"
        },
        "id": "coLAL7YQmFDr",
        "outputId": "0eb7d082-f00b-46c0-b6ba-c5e830126ef7"
      },
      "source": [
        "#python for impentation of stack\n",
        "from sys import maxsize\n",
        "#function to create a empty stack\n",
        "def createStack():\n",
        "  stack=[]\n",
        "  return stack\n",
        "#stack is empty when stack is 0\n",
        "def isEmpty(stack):\n",
        "  return len(stack)==0\n",
        "#function to add a item to stack .It increases by1\n",
        "def push(stack,item):\n",
        "  stack.append(item)\n",
        "  print(item+'pushed to stack)')\n",
        "#function to remove first element in the stack\n",
        "def pop(stack):\n",
        "  if(isEmpty(stack)):\n",
        "    return str(-maxsize-1)\n",
        "  return stack.pop()\n",
        "#function to return to of the stack\n",
        "def peek(stack):\n",
        "  if (isEmpty(stack)):\n",
        "    return str(-maxsize-1)\n",
        "  return stack[len(stack)-1]\n",
        "stack=createStack()\n",
        "push(stack,str(10))\n",
        "push(stack,str(20))\n",
        "push(stack,str(30))\n",
        "print(pop(stack)+'poped from stack')\n",
        "print(peek(stack))\n",
        "\n",
        "\n",
        "\n",
        "\n"
      ],
      "execution_count": null,
      "outputs": [
        {
          "output_type": "stream",
          "text": [
            "10pushed to stack)\n",
            "20pushed to stack)\n",
            "30pushed to stack)\n",
            "30poped from stack\n",
            "20\n"
          ],
          "name": "stdout"
        }
      ]
    },
    {
      "cell_type": "code",
      "metadata": {
        "colab": {
          "base_uri": "https://localhost:8080/"
        },
        "id": "ojZPrp_smFA0",
        "outputId": "5ba014dd-182b-4a80-e7f8-e14e46fa3cd9"
      },
      "source": [
        "#program to implement the stack through the linked list\n",
        "class StackNode:\n",
        "  def __init__(self,data):\n",
        "    self.data=data\n",
        "    self.next=None\n",
        "class Stack:\n",
        "  def __init__(self):\n",
        "    self.root=None\n",
        "  def isEmpty(self):\n",
        "    if self.root==None:\n",
        "      return True\n",
        "    else:\n",
        "      return False\n",
        "  def push(self,data):\n",
        "    newNode=StackNode(data)\n",
        "    newNode.next=self.root\n",
        "    self.root=newNode\n",
        "    print('%d pushed to stack '%(data))\n",
        "  def pop(self):\n",
        "    if (self.isEmpty()):\n",
        "      return float('-inf')\n",
        "    temp=self.root\n",
        "    self.root=self.root.next\n",
        "    popped=temp.data\n",
        "    return popped\n",
        "  def peek(self):\n",
        "    if (self.isEmpty()):\n",
        "      return flaot('-inf')\n",
        "    return self.root.data\n",
        "  def print_stock(self,data):\n",
        "    while data:\n",
        "\n",
        "      print(data)\n",
        "      \n",
        "\n",
        "stack=Stack()\n",
        "stack.push(10)\n",
        "stack.push(20)\n",
        "stack.push(30)\n",
        "print('%d popped from stack'%(stack.pop()))\n",
        "print('%d top of the stack'%(stack.peek()))\n",
        "#print('%d elements in the stack'%(stack.print_stock()))\n",
        "\n",
        "\n",
        "  \n",
        "  "
      ],
      "execution_count": null,
      "outputs": [
        {
          "output_type": "stream",
          "text": [
            "10 pushed to stack \n",
            "20 pushed to stack \n",
            "30 pushed to stack \n",
            "30 popped from stack\n",
            "20 top of the stack\n"
          ],
          "name": "stdout"
        }
      ]
    },
    {
      "cell_type": "code",
      "metadata": {
        "id": "kj_nApKamE86",
        "colab": {
          "base_uri": "https://localhost:8080/"
        },
        "outputId": "7048bb34-dfde-4f32-9fe7-10393480348e"
      },
      "source": [
        "#implementing stack using queue\n",
        "from queue import LifoQueue\n",
        "stack=LifoQueue(maxsize=3)\n",
        "print(stack.qsize())\n",
        "stack.put('a')\n",
        "stack.put('b')\n",
        "stack.put('c')\n",
        "print('full',stack.full())\n",
        "print('size',stack.qsize())\n",
        "print('\\nelements popped from the stock')\n",
        "print(stack.get())\n",
        "print(stack.get())\n",
        "print(stack.get())\n",
        "print('\\nEmpty',stack.empty())\n"
      ],
      "execution_count": null,
      "outputs": [
        {
          "output_type": "stream",
          "text": [
            "0\n",
            "full True\n",
            "size 3\n",
            "\n",
            "elements popped from the stock\n",
            "c\n",
            "b\n",
            "a\n",
            "\n",
            "Empty True\n"
          ],
          "name": "stdout"
        }
      ]
    },
    {
      "cell_type": "code",
      "metadata": {
        "id": "PbwxmapymE4e",
        "colab": {
          "base_uri": "https://localhost:8080/"
        },
        "outputId": "076e06fd-c5e9-4297-c5ef-4b2e52dcbbe5"
      },
      "source": [
        "#implementing stack using linkedlist\n",
        "class Node:\n",
        "  def __init__(self,value):\n",
        "    self.value=value\n",
        "    self.next=None\n",
        "class Stack:\n",
        "  def __init__(self):\n",
        "    self.head=Node('head')\n",
        "    self.size=0\n",
        "  #string reoeresentation of the stack\n",
        "  def __str__(self):\n",
        "    cur=self.head.next\n",
        "    out=''\n",
        "    while cur:\n",
        "      out+=str(cur.value)+'->'\n",
        "      cur=cur.next\n",
        "    return out[:-3] \n",
        "  #get the current size of the stack\n",
        "  def getsize(self):\n",
        "    return self.size\n",
        "  #check if the stack is empty\n",
        "  def isEmpty(self):\n",
        "    return self.size==0\n",
        "  #push the value into the stack\n",
        "  def push(self,value):\n",
        "    node=Node(value)\n",
        "    node.next=self.head.next\n",
        "    self.head.next=node\n",
        "    self.size+=1\n",
        "  #removing a value from the stack and returning the value\n",
        "  def pop(self):\n",
        "    if self.isEmpty():\n",
        "      raise Exception ('popping from the empty stock')\n",
        "    remove=self.head.next\n",
        "    self.head.next=self.head.next.next\n",
        "    self.size-=1\n",
        "    return remove.value\n",
        "if __name__=='__main__':\n",
        "  stack=Stack()\n",
        "  for i in range(1,11):\n",
        "    stack.push(i)\n",
        "  print(f\"Stack: {stack}\")\n",
        "  for _ in range(1,6):\n",
        "    remove=stack.pop()\n",
        "    print(f\"pop:{remove}\")\n",
        "  print(f'stack:{stack}')\n"
      ],
      "execution_count": null,
      "outputs": [
        {
          "output_type": "stream",
          "text": [
            "Stack: 10->9->8->7->6->5->4->3->2->\n",
            "pop:10\n",
            "pop:9\n",
            "pop:8\n",
            "pop:7\n",
            "pop:6\n",
            "stack:5->4->3->2->\n"
          ],
          "name": "stdout"
        }
      ]
    },
    {
      "cell_type": "code",
      "metadata": {
        "id": "D9ZNsEbKmE0d"
      },
      "source": [
        "#desinging and implementing stack data structure,there is no use of arrays and lists\n",
        "class Stack:\n",
        "  def __init__(self):\n",
        "    self.array=[]\n",
        "    self.top=-1\n",
        "    self.max=100\n",
        "  #method to check stock is empty or not\n",
        "  def isEmpty(self):\n",
        "    if self.top==-1:\n",
        "      return True\n",
        "    else:\n",
        "      return False\n",
        "  #if the stack is full\n",
        "  def \n",
        "\n",
        "\n",
        "\n"
      ],
      "execution_count": null,
      "outputs": []
    },
    {
      "cell_type": "code",
      "metadata": {
        "id": "n2C8PJlWl9MV"
      },
      "source": [
        ""
      ],
      "execution_count": null,
      "outputs": []
    },
    {
      "cell_type": "code",
      "metadata": {
        "id": "dCl_8mxzL1RW"
      },
      "source": [
        ""
      ],
      "execution_count": null,
      "outputs": []
    }
  ]
}