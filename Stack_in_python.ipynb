{
  "nbformat": 4,
  "nbformat_minor": 0,
  "metadata": {
    "colab": {
      "name": "Stack_in_python.ipynb",
      "provenance": [],
      "authorship_tag": "ABX9TyPeE6gSJ8PaRBLmfdivuT62",
      "include_colab_link": true
    },
    "kernelspec": {
      "name": "python3",
      "display_name": "Python 3"
    },
    "language_info": {
      "name": "python"
    }
  },
  "cells": [
    {
      "cell_type": "markdown",
      "metadata": {
        "id": "view-in-github",
        "colab_type": "text"
      },
      "source": [
        "<a href=\"https://colab.research.google.com/github/srikrishna-stack/python-problem-solving/blob/main/Stack_in_python.ipynb\" target=\"_parent\"><img src=\"https://colab.research.google.com/assets/colab-badge.svg\" alt=\"Open In Colab\"/></a>"
      ]
    },
    {
      "cell_type": "code",
      "metadata": {
        "colab": {
          "base_uri": "https://localhost:8080/"
        },
        "id": "coLAL7YQmFDr",
        "outputId": "0eb7d082-f00b-46c0-b6ba-c5e830126ef7"
      },
      "source": [
        "#python for impentation of stack\n",
        "from sys import maxsize\n",
        "#function to create a empty stack\n",
        "def createStack():\n",
        "  stack=[]\n",
        "  return stack\n",
        "#stack is empty when stack is 0\n",
        "def isEmpty(stack):\n",
        "  return len(stack)==0\n",
        "#function to add a item to stack .It increases by1\n",
        "def push(stack,item):\n",
        "  stack.append(item)\n",
        "  print(item+'pushed to stack)')\n",
        "#function to remove first element in the stack\n",
        "def pop(stack):\n",
        "  if(isEmpty(stack)):\n",
        "    return str(-maxsize-1)\n",
        "  return stack.pop()\n",
        "#function to return to of the stack\n",
        "def peek(stack):\n",
        "  if (isEmpty(stack)):\n",
        "    return str(-maxsize-1)\n",
        "  return stack[len(stack)-1]\n",
        "stack=createStack()\n",
        "push(stack,str(10))\n",
        "push(stack,str(20))\n",
        "push(stack,str(30))\n",
        "print(pop(stack)+'poped from stack')\n",
        "print(peek(stack))\n",
        "\n",
        "\n",
        "\n",
        "\n"
      ],
      "execution_count": null,
      "outputs": [
        {
          "output_type": "stream",
          "text": [
            "10pushed to stack)\n",
            "20pushed to stack)\n",
            "30pushed to stack)\n",
            "30poped from stack\n",
            "20\n"
          ],
          "name": "stdout"
        }
      ]
    },
    {
      "cell_type": "markdown",
      "metadata": {
        "id": "RlApPZFd6kMq"
      },
      "source": [
        ""
      ]
    },
    {
      "cell_type": "code",
      "metadata": {
        "colab": {
          "base_uri": "https://localhost:8080/"
        },
        "id": "ojZPrp_smFA0",
        "outputId": "5ba014dd-182b-4a80-e7f8-e14e46fa3cd9"
      },
      "source": [
        "#program to implement the stack through the linked list\n",
        "class StackNode:\n",
        "  def __init__(self,data):\n",
        "    self.data=data\n",
        "    self.next=None\n",
        "class Stack:\n",
        "  def __init__(self):\n",
        "    self.root=None\n",
        "  def isEmpty(self):\n",
        "    if self.root==None:\n",
        "      return True\n",
        "    else:\n",
        "      return False\n",
        "  def push(self,data):\n",
        "    newNode=StackNode(data)\n",
        "    newNode.next=self.root\n",
        "    self.root=newNode\n",
        "    print('%d pushed to stack '%(data))\n",
        "  def pop(self):\n",
        "    if (self.isEmpty()):\n",
        "      return float('-inf')\n",
        "    temp=self.root\n",
        "    self.root=self.root.next\n",
        "    popped=temp.data\n",
        "    return popped\n",
        "  def peek(self):\n",
        "    if (self.isEmpty()):\n",
        "      return flaot('-inf')\n",
        "    return self.root.data\n",
        "  def print_stock(self,data):\n",
        "    while data:\n",
        "\n",
        "      print(data)\n",
        "      \n",
        "\n",
        "stack=Stack()\n",
        "stack.push(10)\n",
        "stack.push(20)\n",
        "stack.push(30)\n",
        "print('%d popped from stack'%(stack.pop()))\n",
        "print('%d top of the stack'%(stack.peek()))\n",
        "#print('%d elements in the stack'%(stack.print_stock()))\n",
        "\n",
        "\n",
        "  \n",
        "  "
      ],
      "execution_count": null,
      "outputs": [
        {
          "output_type": "stream",
          "text": [
            "10 pushed to stack \n",
            "20 pushed to stack \n",
            "30 pushed to stack \n",
            "30 popped from stack\n",
            "20 top of the stack\n"
          ],
          "name": "stdout"
        }
      ]
    },
    {
      "cell_type": "code",
      "metadata": {
        "id": "kj_nApKamE86",
        "colab": {
          "base_uri": "https://localhost:8080/"
        },
        "outputId": "7048bb34-dfde-4f32-9fe7-10393480348e"
      },
      "source": [
        "#implementing stack using queue\n",
        "from queue import LifoQueue\n",
        "stack=LifoQueue(maxsize=3)\n",
        "print(stack.qsize())\n",
        "stack.put('a')\n",
        "stack.put('b')\n",
        "stack.put('c')\n",
        "print('full',stack.full())\n",
        "print('size',stack.qsize())\n",
        "print('\\nelements popped from the stock')\n",
        "print(stack.get())\n",
        "print(stack.get())\n",
        "print(stack.get())\n",
        "print('\\nEmpty',stack.empty())\n"
      ],
      "execution_count": null,
      "outputs": [
        {
          "output_type": "stream",
          "text": [
            "0\n",
            "full True\n",
            "size 3\n",
            "\n",
            "elements popped from the stock\n",
            "c\n",
            "b\n",
            "a\n",
            "\n",
            "Empty True\n"
          ],
          "name": "stdout"
        }
      ]
    },
    {
      "cell_type": "code",
      "metadata": {
        "id": "PbwxmapymE4e",
        "colab": {
          "base_uri": "https://localhost:8080/"
        },
        "outputId": "076e06fd-c5e9-4297-c5ef-4b2e52dcbbe5"
      },
      "source": [
        "#implementing stack using linkedlist\n",
        "class Node:\n",
        "  def __init__(self,value):\n",
        "    self.value=value\n",
        "    self.next=None\n",
        "class Stack:\n",
        "  def __init__(self):\n",
        "    self.head=Node('head')\n",
        "    self.size=0\n",
        "  #string reoeresentation of the stack\n",
        "  def __str__(self):\n",
        "    cur=self.head.next\n",
        "    out=''\n",
        "    while cur:\n",
        "      out+=str(cur.value)+'->'\n",
        "      cur=cur.next\n",
        "    return out[:-3] \n",
        "  #get the current size of the stack\n",
        "  def getsize(self):\n",
        "    return self.size\n",
        "  #check if the stack is empty\n",
        "  def isEmpty(self):\n",
        "    return self.size==0\n",
        "  #push the value into the stack\n",
        "  def push(self,value):\n",
        "    node=Node(value)\n",
        "    node.next=self.head.next\n",
        "    self.head.next=node\n",
        "    self.size+=1\n",
        "  #removing a value from the stack and returning the value\n",
        "  def pop(self):\n",
        "    if self.isEmpty():\n",
        "      raise Exception ('popping from the empty stock')\n",
        "    remove=self.head.next\n",
        "    self.head.next=self.head.next.next\n",
        "    self.size-=1\n",
        "    return remove.value\n",
        "if __name__=='__main__':\n",
        "  stack=Stack()\n",
        "  for i in range(1,11):\n",
        "    stack.push(i)\n",
        "  print(f\"Stack: {stack}\")\n",
        "  for _ in range(1,6):\n",
        "    remove=stack.pop()\n",
        "    print(f\"pop:{remove}\")\n",
        "  print(f'stack:{stack}')\n"
      ],
      "execution_count": null,
      "outputs": [
        {
          "output_type": "stream",
          "text": [
            "Stack: 10->9->8->7->6->5->4->3->2->\n",
            "pop:10\n",
            "pop:9\n",
            "pop:8\n",
            "pop:7\n",
            "pop:6\n",
            "stack:5->4->3->2->\n"
          ],
          "name": "stdout"
        }
      ]
    },
    {
      "cell_type": "code",
      "metadata": {
        "id": "D9ZNsEbKmE0d"
      },
      "source": [
        "#desinging and implementing stack data structure,there is no use of arrays and lists\n",
        "class Stack:\n",
        "  def __init__(self):\n",
        "    self.array=[]\n",
        "    self.top=-1\n",
        "    self.max=100\n",
        "  #method to check stock is empty or not\n",
        "  def isEmpty(self):\n",
        "    if self.top==-1:\n",
        "      return True\n",
        "    else:\n",
        "      return False\n",
        "  #if the stack is full\n",
        "  def \n",
        "\n",
        "\n",
        "\n"
      ],
      "execution_count": null,
      "outputs": []
    },
    {
      "cell_type": "code",
      "metadata": {
        "id": "n2C8PJlWl9MV",
        "colab": {
          "base_uri": "https://localhost:8080/"
        },
        "outputId": "c8740920-1c13-404b-8e38-0ef53d916594"
      },
      "source": [
        "#reversing a string using a stack\n",
        "#function to creating the empty stack as 0\n",
        "def createStack():\n",
        "  stack=[]\n",
        "  return stack\n",
        "#function to determine the size of the stack\n",
        "def sizestack(stack):\n",
        "  return len(stack)\n",
        "#Stack is empty is the size is zero\n",
        "def EmptyStack(stack):\n",
        "  if sizestack(stack)==0:\n",
        "    return true\n",
        "#it increases by 1\n",
        "#function to add item in a stack\n",
        "def push(stack,item):\n",
        "  stack.append(item)\n",
        "#function to remove the stack \n",
        "def pop(stack):\n",
        "  if EmptyStack(stack): return\n",
        "  return stack.pop()\n",
        "def reverse(string):\n",
        "  n=len(string)\n",
        "  #create an empty stack\n",
        "  stack=createStack()\n",
        "  for i in range(0,n,1):\n",
        "    push(stack,string[i])\n",
        "  string=''\n",
        "  for i in range(0,n,1):\n",
        "    string+=pop(stack)\n",
        "  return string\n",
        "string='geekquiz'\n",
        "string=reverse(string)\n",
        "print('reversed string is '+string)\n",
        "\n"
      ],
      "execution_count": null,
      "outputs": [
        {
          "output_type": "stream",
          "text": [
            "reversed string is ziuqkeeg\n"
          ],
          "name": "stdout"
        }
      ]
    },
    {
      "cell_type": "code",
      "metadata": {
        "id": "dCl_8mxzL1RW",
        "colab": {
          "base_uri": "https://localhost:8080/"
        },
        "outputId": "3f4e38d4-ac0b-402d-b55d-0823e3566399"
      },
      "source": [
        "#implementing two stack in array\n",
        "class twoStacks:\n",
        "  def __init__(self,n):\n",
        "    self.size=n\n",
        "    self.arr=[None]*n\n",
        "    self.top1=-1\n",
        "    self.top2=self.size\n",
        "  #method to push x element into the stack\n",
        "  def push1(self,x):\n",
        "    if self.top1<self.top2-1:\n",
        "      self.top1+=1\n",
        "      self.arr[self.top1]=x\n",
        "    else:\n",
        "      print('stack over flow')\n",
        "      exit(1)\n",
        "  #method to push x element into the stack2\n",
        "  def push2(self,x):\n",
        "    if self.top1<self.top2-1:\n",
        "      self.top2-=1\n",
        "      self.arr[self.top2]=x\n",
        "    else:\n",
        "      print('stack over flow')\n",
        "      exit(1)\n",
        "    #method to pop an element from stock 1\n",
        "\n",
        "    \n",
        "  def pop1(self):\n",
        "    if self.top1>=0:\n",
        "      x=self.arr[self.top1-1]\n",
        "      self.top1-=1\n",
        "      return x\n",
        "    else:\n",
        "      print('stack overflow')\n",
        "      exit(1)\n",
        "  #method to pop an element from stock2i\n",
        "  def pop2(self):\n",
        "    if self.top2>=0:\n",
        "      x=self.arr[self.top2]\n",
        "      self.top2+=1\n",
        "      return x\n",
        "    else:\n",
        "      print('stack over flow')\n",
        "      exit(1)\n",
        "ts=twoStacks(5)\n",
        "ts.push1(5)\n",
        "ts.push2(10)\n",
        "ts.push2(15)\n",
        "ts.push1(11)\n",
        "ts.push2(7)\n",
        "print(\"Popped element from stack1 is \" + str(ts.pop1()))\n",
        "ts.push2(40)\n",
        "print(\"Popped element from stack2 is \" + str(ts.pop2()))\n",
        "\n",
        "    \n",
        "\n",
        "\n",
        "\n",
        "    \n"
      ],
      "execution_count": null,
      "outputs": [
        {
          "output_type": "stream",
          "text": [
            "Popped element from stack1 is 5\n",
            "Popped element from stack2 is 40\n"
          ],
          "name": "stdout"
        }
      ]
    },
    {
      "cell_type": "code",
      "metadata": {
        "id": "KGUkqXb86qs6",
        "colab": {
          "base_uri": "https://localhost:8080/"
        },
        "outputId": "f8265a18-3ba7-4c0d-ed80-4c891a198f8c"
      },
      "source": [
        "def areBracketBalanced(exp):\n",
        "  n = len(exp)\n",
        "  S = []\n",
        "  for i in range(n):\n",
        "    if exp[i] in {'(','{','['}:\n",
        "        S.append(exp[i])\n",
        "    elif exp[i] in {')','}',']'}:\n",
        "      #checking for the empty string\n",
        "        if (len(S)== 0) or (S[-1] + exp[i] not in {'()','{}','[]'}):\n",
        "            return False\n",
        "        else: \n",
        "            S.pop()\n",
        "  return len(S)== 0\n",
        "\n",
        "\n",
        "#Create a stack: - S\n",
        "\n",
        "\n",
        "\n",
        "\n",
        "if __name__=='__main__':\n",
        "  exp='{()}[]'\n",
        "  if areBracketBalanced(exp):\n",
        "    print('balanced')\n",
        "  else:\n",
        "    print('not balanced')"
      ],
      "execution_count": null,
      "outputs": [
        {
          "output_type": "stream",
          "text": [
            "balanced\n"
          ],
          "name": "stdout"
        }
      ]
    },
    {
      "cell_type": "code",
      "metadata": {
        "id": "0ss6f4Bu6qpW",
        "colab": {
          "base_uri": "https://localhost:8080/"
        },
        "outputId": "f937a8f8-a876-4120-dc93-2a90dcf2cdea"
      },
      "source": [
        "#method to print the next greatest element in the list\n",
        "def NGE(arr):\n",
        "  for i in range(0,len(arr),1):\n",
        "    next=-1\n",
        "    for j in range(i+1,len(arr),1):\n",
        "      if arr[i]<arr[j]:\n",
        "        next=arr[j]\n",
        "        break\n",
        "    print(str(arr[i])+'---'+str(next))\n",
        "\n",
        "\n",
        "arr=[2,3,4,5,6,1]\n",
        "NGE(arr)\n"
      ],
      "execution_count": null,
      "outputs": [
        {
          "output_type": "stream",
          "text": [
            "2---3\n",
            "3---4\n",
            "4---5\n",
            "5---6\n",
            "6----1\n",
            "1----1\n"
          ],
          "name": "stdout"
        }
      ]
    },
    {
      "cell_type": "code",
      "metadata": {
        "id": "iZLCEvvQ6qjn",
        "colab": {
          "base_uri": "https://localhost:8080/",
          "height": 324
        },
        "outputId": "768e9a8e-4f34-445e-ac1f-575e68a6f570"
      },
      "source": [
        "#using stack\n",
        "def createstack():\n",
        "  stack=[]\n",
        "  return stack\n",
        "def isEmpty(stack):\n",
        "  return len(stack)==0\n",
        "def push(stack,x):\n",
        "  stack.append(x)\n",
        "def pop(stack):\n",
        "  if isEmpty(stack):\n",
        "    print('erreo stack underflow')\n",
        "def NGE(arr):\n",
        "  s=createstack()\n",
        "  element=0\n",
        "  next=0\n",
        "  #push the first element to the stack\n",
        "  push(s,arr[0])\n",
        "  #iterating over the rest of elements\n",
        "  for i  in range(1,len(arr),1):\n",
        "    next=arr[i]\n",
        "    if isEmpty(s)==False:\n",
        "      element=pop(s)\n",
        "      while element<next:\n",
        "        print(str(element)+'---'+str(next))\n",
        "        if isEmpty(s)==True:\n",
        "          break\n",
        "        element=pop(s)\n",
        "      if element>next:\n",
        "        push(s,element)\n",
        "    push(s,next)\n",
        "  while isEmpty==False:\n",
        "    elemnet=pop(s)\n",
        "    next=-1\n",
        "    print(str(element)+'----'+str(next))\n",
        "\n",
        "arr=[2,3,4,5,6,1]\n",
        "NGE(arr)\n"
      ],
      "execution_count": null,
      "outputs": [
        {
          "output_type": "error",
          "ename": "TypeError",
          "evalue": "ignored",
          "traceback": [
            "\u001b[0;31m---------------------------------------------------------------------------\u001b[0m",
            "\u001b[0;31mTypeError\u001b[0m                                 Traceback (most recent call last)",
            "\u001b[0;32m<ipython-input-9-ee5d3b32ee22>\u001b[0m in \u001b[0;36m<module>\u001b[0;34m()\u001b[0m\n\u001b[1;32m     35\u001b[0m \u001b[0;34m\u001b[0m\u001b[0m\n\u001b[1;32m     36\u001b[0m \u001b[0marr\u001b[0m\u001b[0;34m=\u001b[0m\u001b[0;34m[\u001b[0m\u001b[0;36m2\u001b[0m\u001b[0;34m,\u001b[0m\u001b[0;36m3\u001b[0m\u001b[0;34m,\u001b[0m\u001b[0;36m4\u001b[0m\u001b[0;34m,\u001b[0m\u001b[0;36m5\u001b[0m\u001b[0;34m,\u001b[0m\u001b[0;36m6\u001b[0m\u001b[0;34m,\u001b[0m\u001b[0;36m1\u001b[0m\u001b[0;34m]\u001b[0m\u001b[0;34m\u001b[0m\u001b[0;34m\u001b[0m\u001b[0m\n\u001b[0;32m---> 37\u001b[0;31m \u001b[0mNGE\u001b[0m\u001b[0;34m(\u001b[0m\u001b[0marr\u001b[0m\u001b[0;34m)\u001b[0m\u001b[0;34m\u001b[0m\u001b[0;34m\u001b[0m\u001b[0m\n\u001b[0m",
            "\u001b[0;32m<ipython-input-9-ee5d3b32ee22>\u001b[0m in \u001b[0;36mNGE\u001b[0;34m(arr)\u001b[0m\n\u001b[1;32m     21\u001b[0m     \u001b[0;32mif\u001b[0m \u001b[0misEmpty\u001b[0m\u001b[0;34m(\u001b[0m\u001b[0ms\u001b[0m\u001b[0;34m)\u001b[0m\u001b[0;34m==\u001b[0m\u001b[0;32mFalse\u001b[0m\u001b[0;34m:\u001b[0m\u001b[0;34m\u001b[0m\u001b[0;34m\u001b[0m\u001b[0m\n\u001b[1;32m     22\u001b[0m       \u001b[0melement\u001b[0m\u001b[0;34m=\u001b[0m\u001b[0mpop\u001b[0m\u001b[0;34m(\u001b[0m\u001b[0ms\u001b[0m\u001b[0;34m)\u001b[0m\u001b[0;34m\u001b[0m\u001b[0;34m\u001b[0m\u001b[0m\n\u001b[0;32m---> 23\u001b[0;31m       \u001b[0;32mwhile\u001b[0m \u001b[0melement\u001b[0m\u001b[0;34m<\u001b[0m\u001b[0mnext\u001b[0m\u001b[0;34m:\u001b[0m\u001b[0;34m\u001b[0m\u001b[0;34m\u001b[0m\u001b[0m\n\u001b[0m\u001b[1;32m     24\u001b[0m         \u001b[0mprint\u001b[0m\u001b[0;34m(\u001b[0m\u001b[0mstr\u001b[0m\u001b[0;34m(\u001b[0m\u001b[0melement\u001b[0m\u001b[0;34m)\u001b[0m\u001b[0;34m+\u001b[0m\u001b[0;34m'---'\u001b[0m\u001b[0;34m+\u001b[0m\u001b[0mstr\u001b[0m\u001b[0;34m(\u001b[0m\u001b[0mnext\u001b[0m\u001b[0;34m)\u001b[0m\u001b[0;34m)\u001b[0m\u001b[0;34m\u001b[0m\u001b[0;34m\u001b[0m\u001b[0m\n\u001b[1;32m     25\u001b[0m         \u001b[0;32mif\u001b[0m \u001b[0misEmpty\u001b[0m\u001b[0;34m(\u001b[0m\u001b[0ms\u001b[0m\u001b[0;34m)\u001b[0m\u001b[0;34m==\u001b[0m\u001b[0;32mTrue\u001b[0m\u001b[0;34m:\u001b[0m\u001b[0;34m\u001b[0m\u001b[0;34m\u001b[0m\u001b[0m\n",
            "\u001b[0;31mTypeError\u001b[0m: '<' not supported between instances of 'NoneType' and 'int'"
          ]
        }
      ]
    },
    {
      "cell_type": "code",
      "metadata": {
        "id": "67s-jksk6qgz",
        "colab": {
          "base_uri": "https://localhost:8080/"
        },
        "outputId": "f494d4ec-9547-4adf-d299-b3e524e6f82d"
      },
      "source": [
        "for i in range(4,-1,-1):\n",
        "  print(i)"
      ],
      "execution_count": null,
      "outputs": [
        {
          "output_type": "stream",
          "text": [
            "4\n",
            "3\n",
            "2\n",
            "1\n",
            "0\n"
          ],
          "name": "stdout"
        }
      ]
    },
    {
      "cell_type": "code",
      "metadata": {
        "id": "lSE-uBNy6qeI",
        "colab": {
          "base_uri": "https://localhost:8080/"
        },
        "outputId": "e11fa288-7d9a-49d9-c771-0486fc74667c"
      },
      "source": [
        "def insertAtBottom(stack,item):\n",
        "  if isEmpty(stack):\n",
        "    push(stack,item)\n",
        "  else:\n",
        "    temp=pop(stack)\n",
        "    insertAtBottom(stack,item)\n",
        "    push(stack,item)\n",
        "def reverse(stack):\n",
        "  if not isEmpty(stack):\n",
        "    temp=pop(stack)\n",
        "    reverse(stack)\n",
        "    insertAtBottom(stack,temp)\n",
        "\n",
        "def createStack():\n",
        "  stack=[]\n",
        "  return stack\n",
        "def isEmpty(stack):\n",
        "  return len(stack)==0\n",
        "def push(stack,item):\n",
        "  stack.append(item)\n",
        "def pop(stack):\n",
        "  if isEmpty(stack):\n",
        "    print('stack overflow')\n",
        "    exit(1)\n",
        "  return stack.pop()\n",
        "def prints(stack):\n",
        "  for i in range(len(stack)-1,-1,-1):\n",
        "    print(stack[i],end='')\n",
        "  print()\n",
        "stack=createStack()\n",
        "push(stack,str(4))\n",
        "push(stack,str(3))\n",
        "push(stack,str(2))\n",
        "push(stack,str(1))\n",
        "print('original stack')\n",
        "print(stack)\n",
        "reverse(stack)\n",
        "print('reversed stack')\n",
        "print(stack)\n"
      ],
      "execution_count": null,
      "outputs": [
        {
          "output_type": "stream",
          "text": [
            "original stack\n",
            "['4', '3', '2', '1']\n",
            "reversed stack\n",
            "['1', '1', '1', '1']\n"
          ],
          "name": "stdout"
        }
      ]
    },
    {
      "cell_type": "code",
      "metadata": {
        "colab": {
          "base_uri": "https://localhost:8080/"
        },
        "id": "ZT0r499VkXo6",
        "outputId": "a178b603-b2b0-43c6-8c8f-9fbe67dea520"
      },
      "source": [
        "def sortedInsert(s, element):\n",
        " \n",
        "    # Base case: Either stack is empty or newly inserted\n",
        "    # item is greater than top (more than all existing)\n",
        "    if len(s) == 0 or element > s[-1]:\n",
        "        s.append(element)\n",
        "        return\n",
        "    else:\n",
        " \n",
        "        # Remove the top item and recur\n",
        "        temp = s.pop()\n",
        "        sortedInsert(s, element)\n",
        " \n",
        "        # Put back the top item removed earlier\n",
        "        s.append(temp)\n",
        " \n",
        "# Method to sort stack\n",
        " \n",
        " \n",
        "def sortStack(s):\n",
        " \n",
        "    # If stack is not empty\n",
        "    if len(s) != 0:\n",
        " \n",
        "        # Remove the top item\n",
        "        temp = s.pop()\n",
        " \n",
        "        # Sort remaining stack\n",
        "        sortStack(s)\n",
        " \n",
        "        # Push the top item back in sorted stack\n",
        "        sortedInsert(s, temp)\n",
        " \n",
        "# Printing contents of stack\n",
        " \n",
        " \n",
        "def printStack(s):\n",
        "    for i in s[::-1]:\n",
        "        print(i, end=\" \")\n",
        "    print()\n",
        " \n",
        " \n",
        "# Driver Code\n",
        "if __name__ == '__main__':\n",
        "    s = []\n",
        "    s.append(30)\n",
        "    s.append(-5)\n",
        "    s.append(18)\n",
        "    s.append(14)\n",
        "    s.append(-3)\n",
        " \n",
        "    print(\"Stack elements before sorting: \")\n",
        "    printStack(s)\n",
        " \n",
        "    sortStack(s)\n",
        " \n",
        "    print(\"\\nStack elements after sorting: \")\n",
        "    printStack(s)"
      ],
      "execution_count": 7,
      "outputs": [
        {
          "output_type": "stream",
          "text": [
            "Stack elements before sorting: \n",
            "-3 14 18 -5 30 \n",
            "\n",
            "Stack elements after sorting: \n",
            "30 18 14 -3 -5 \n"
          ],
          "name": "stdout"
        }
      ]
    },
    {
      "cell_type": "code",
      "metadata": {
        "id": "M4jHDO7HkXk6"
      },
      "source": [
        ""
      ],
      "execution_count": null,
      "outputs": []
    },
    {
      "cell_type": "code",
      "metadata": {
        "id": "He-9W4iMkXg4"
      },
      "source": [
        ""
      ],
      "execution_count": null,
      "outputs": []
    },
    {
      "cell_type": "code",
      "metadata": {
        "id": "m_-oT7lwkXbQ"
      },
      "source": [
        ""
      ],
      "execution_count": null,
      "outputs": []
    },
    {
      "cell_type": "code",
      "metadata": {
        "id": "HPkvRLmbkXYb"
      },
      "source": [
        ""
      ],
      "execution_count": null,
      "outputs": []
    },
    {
      "cell_type": "code",
      "metadata": {
        "id": "VCbIa7e9kXT5"
      },
      "source": [
        ""
      ],
      "execution_count": null,
      "outputs": []
    }
  ]
}