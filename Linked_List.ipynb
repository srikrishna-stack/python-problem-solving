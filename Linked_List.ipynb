{
  "nbformat": 4,
  "nbformat_minor": 0,
  "metadata": {
    "colab": {
      "name": "Linked List.ipynb",
      "provenance": [],
      "collapsed_sections": [],
      "authorship_tag": "ABX9TyOCt/mtM6hBxLN0CiZUKo66",
      "include_colab_link": true
    },
    "kernelspec": {
      "name": "python3",
      "display_name": "Python 3"
    },
    "language_info": {
      "name": "python"
    }
  },
  "cells": [
    {
      "cell_type": "markdown",
      "metadata": {
        "id": "view-in-github",
        "colab_type": "text"
      },
      "source": [
        "<a href=\"https://colab.research.google.com/github/srikrishna-stack/python-problem-solving/blob/main/Linked_List.ipynb\" target=\"_parent\"><img src=\"https://colab.research.google.com/assets/colab-badge.svg\" alt=\"Open In Colab\"/></a>"
      ]
    },
    {
      "cell_type": "code",
      "metadata": {
        "colab": {
          "base_uri": "https://localhost:8080/"
        },
        "id": "tppB02O4IyP7",
        "outputId": "09788d40-4355-4f89-a8a5-662cdfa665fc"
      },
      "source": [
        "class Node:\n",
        "  def __init__(self,data):\n",
        "    self.data=data\n",
        "    self.next=None\n",
        "class LinkedList1:\n",
        "  def __init__(self):\n",
        "    self.head=None\n",
        "  def printList():\n",
        "    temp=self.data\n",
        "    while(temp):\n",
        "      print(temp.data)\n",
        "      temp=temp.next\n",
        "if __name__=='__main__':\n",
        "  list1=LinkedList()\n",
        "  list1.head=Node(2)\n",
        "  second=Node(3)\n",
        "  third=Node(4)\n",
        "  list1.head.next=second\n",
        "  second.next=third\n",
        "  print(\"the created linked list is\")\n",
        "  list1.printList()\n"
      ],
      "execution_count": null,
      "outputs": [
        {
          "output_type": "stream",
          "text": [
            "the created linked list is\n",
            "2\n",
            "3\n",
            "4\n"
          ],
          "name": "stdout"
        }
      ]
    },
    {
      "cell_type": "code",
      "metadata": {
        "colab": {
          "base_uri": "https://localhost:8080/"
        },
        "id": "NwfG8BpGI3Np",
        "outputId": "b50d9440-aac5-405f-9a13-d4336a3fa1ff"
      },
      "source": [
        "#inseting node at the first,middle,last at the linked list\n",
        "class Node:\n",
        "  def __init__(self,data):\n",
        "    self.data=data\n",
        "    self.next=None\n",
        "  \n",
        "class LinkedList:\n",
        "  def __init__(self):\n",
        "    self.head=None\n",
        "#functoin to insert a new node at the begining\n",
        "  def push(self,new_data):\n",
        "    new_node=Node(new_data)\n",
        "    new_node.next=self.head\n",
        "    self.head=new_node\n",
        "#inserting the node in a lined list after the given node\n",
        "  def insert(self,prev_node,new_data):\n",
        "    if prev_node is None:\n",
        "      print(\"the given previous node must in linkedlist\")\n",
        "      return\n",
        "    new_node=Node(new_data)\n",
        "    new_node.next=prev_node.next\n",
        "    prev_node.next=new_node\n",
        "#append a node at the end of the linked list\n",
        "  def append(self,new_data):\n",
        "    new_node=Node(new_data)\n",
        "    if self.head is None:\n",
        "      self.head=new_node\n",
        "      return\n",
        "    last=self.head\n",
        "    while(last.next):\n",
        "      last=last.next\n",
        "    last.next=new_node\n",
        "  def printList(self):\n",
        "    temp=self.head\n",
        "    while(temp):\n",
        "      print(temp.data)\n",
        "      temp=temp.next\n",
        "  \n",
        "\n",
        "if __name__ ==\"__main__\":\n",
        "  llist=LinkedList()\n",
        "  llist.append(6)\n",
        "  llist.push(7)\n",
        "  llist.push(1)\n",
        "  llist.append(4)\n",
        "  llist.insert(llist.head.next,8)\n",
        "\n",
        "\n",
        "  print(\"created linked list is\")\n",
        "  llist.printList()\n",
        "  \n"
      ],
      "execution_count": null,
      "outputs": [
        {
          "output_type": "stream",
          "text": [
            "created linked list is\n",
            "1\n",
            "7\n",
            "8\n",
            "6\n",
            "4\n"
          ],
          "name": "stdout"
        }
      ]
    },
    {
      "cell_type": "code",
      "metadata": {
        "colab": {
          "base_uri": "https://localhost:8080/"
        },
        "id": "6wWQlZrcI3LI",
        "outputId": "d8e90613-562a-4c37-fbe5-3ce877b8f30a"
      },
      "source": [
        "#linked list deletion\n",
        "class Node:\n",
        "  def __init__(self,data):\n",
        "    self.data=data\n",
        "    self.next=None\n",
        "class LinkedList:\n",
        "  def __init__(self):\n",
        "    self.head=None\n",
        "  def push(self,new_data):\n",
        "    new_node=Node(new_data)\n",
        "    new_node.next=self.head\n",
        "    self.head=new_node\n",
        "    #delte the first occurence of a key at a linked list\n",
        "\n",
        "  def delete(self,key):\n",
        "    #we have to store the head\n",
        "    temp=self.head\n",
        "    for i in range(position-1):\n",
        "      temp=temp.next\n",
        "      if temp is None:\n",
        "        break\n",
        "    #if position is more than number of nodes\n",
        "    if temp is None:\n",
        "      break\n",
        "    if temp.next is None:\n",
        "      break\n",
        "    #temp.next is node to be deleted\n",
        "    #store the node to the other node is node to be deleted\n",
        "    next=temp.next.next\n",
        "    temp=None\n",
        "    next=temp.next\n",
        "  def \n",
        "    \n",
        "    #if temp node it self holds the key to be deleted\n",
        "    if (temp is not None):\n",
        "      if (temp.data==key):\n",
        "        self.head=temp.next\n",
        "        temp=None\n",
        "        return\n",
        "#search for the key to be deleted keep tracking of the previous node to be changed\n",
        "\n",
        "    while(temp is not None):\n",
        "      if(temp.data==key):\n",
        "       break\n",
        "      prev=temp\n",
        "      temp=temp.next\n",
        "      #if key not present in the linked list\n",
        "    if(temp==None):\n",
        "      return\n",
        "     \n",
        "       \n",
        "      #unlinking the list from the linked list\n",
        "    prev.next=temp.next\n",
        "    temp=None\n",
        "    \n",
        "\n",
        "     \n",
        "   \n",
        "  def printLinkedlist(self):\n",
        "    temp=self.head\n",
        "    while(temp):\n",
        "      print(\"%d\"%(temp.data))\n",
        "      temp=temp.next\n",
        "if __name__=='__main__':\n",
        "  linked=LinkedList()\n",
        "  linked.push(1)\n",
        "  linked.push(4)\n",
        "  linked.push(5)\n",
        "  linked.push(6)\n",
        "\n",
        "  print(\"created linked list is\")\n",
        "  linked.printLinkedlist()\n",
        "  linked.delete(5)\n",
        "  linked.delete(6)\n",
        "  print(\"linked list after deletion\")\n",
        "  linked.printLinkedlist()"
      ],
      "execution_count": null,
      "outputs": [
        {
          "output_type": "stream",
          "text": [
            "created linked list is\n",
            "6\n",
            "5\n",
            "4\n",
            "1\n",
            "linked list after deletion\n",
            "4\n",
            "1\n"
          ],
          "name": "stdout"
        }
      ]
    },
    {
      "cell_type": "code",
      "metadata": {
        "id": "cRT-0bGzI3IH"
      },
      "source": [
        "class Node:\n",
        "  def __init__(self,data):\n",
        "    self.data=data\n",
        "    self.next=None\n",
        "class LinkedList2:\n",
        "  def __init__(self):\n",
        "    self.head=None\n",
        "  def push(self,new_data):\n",
        "    new_node=Node(new_data)\n",
        "    new_node.next=self.head\n",
        "    self.head=new_node\n",
        "  #deleting the node at a given position\n",
        "  def delete_at_position(self,positon):\n",
        "\n",
        "    #if linked list is empty\n",
        "    if self.head==none:\n",
        "      return\n",
        "    temp=self.head\n",
        "    #if head is the position it need to be removed\n",
        "    if positon==0:\n",
        "      self.head=temp.next\n",
        "      temp=None\n",
        "      return\n",
        "    #finding the previous node to be deleted\n",
        "    for i in range(position-1):\n",
        "      temp=temp.next\n",
        "      if temp is None:\n",
        "        break\n",
        "    if temp is None:\n",
        "      return\n",
        "    if temp.next is None:\n",
        "      return\n",
        "    next=temp.next.next\n",
        "    temp.next=None\n",
        "    temp.next=next\n",
        "  def printList(self):\n",
        "    temp=self.head\n",
        "    while(temp):\n",
        "      print(\"%d\"%temp(data))\n",
        "      temp=temp.next\n",
        "llist=LinkedList2()\n",
        "\n",
        "\n",
        "  \n",
        "    \n",
        "\n",
        "  \n",
        "      \n"
      ],
      "execution_count": null,
      "outputs": []
    },
    {
      "cell_type": "code",
      "metadata": {
        "id": "Q0ViyHaeI3FA",
        "colab": {
          "base_uri": "https://localhost:8080/"
        },
        "outputId": "d3c6412d-73f1-46a4-8b19-02a26b620a03"
      },
      "source": [
        "#linked list node to a deltet a node at a given position\n",
        "class Node:\n",
        "  def __init__(self,data):\n",
        "    self.data=data\n",
        "    self.next=None\n",
        "class LinkedList3:\n",
        "  def __init__(self):\n",
        "    self.head=None\n",
        "  def push(self,new_data):\n",
        "    new_node=Node(new_data)\n",
        "    new_node.next=self.head\n",
        "    self.head=new_node\n",
        "  def delete_at_position(self,position):\n",
        "    if self.head==None:\n",
        "      return\n",
        "    temp=self.head\n",
        "    #if head it self is a key to be deleted\n",
        "    if position==0:\n",
        "      self.head=temp.next\n",
        "      temp=None\n",
        "      return\n",
        "    #search for the to be deleted makes the temp.next to assign the node\n",
        "    #previous node to be delted\n",
        "    for i in range(position-1):\n",
        "      temp=temp.next\n",
        "      if temp is None:\n",
        "        break\n",
        "    #if position is more than number of nodes\n",
        "    if temp is None:\n",
        "      return\n",
        "    if temp.next is None:\n",
        "      return\n",
        "    #link the node to the another node\n",
        "    next=temp.next.next\n",
        "    temp.next=None\n",
        "    temp.next=next\n",
        "    #printing the list\n",
        "  def printList(self):\n",
        "    temp=self.head\n",
        "    while(temp):\n",
        "      print(\"%d\"%(temp.data))\n",
        "      temp=temp.next\n",
        "\n",
        "\n",
        "delete_list=LinkedList3()\n",
        "delete_list.push(7)\n",
        "delete_list.push(1)\n",
        "delete_list.push(3)\n",
        "delete_list.push(2)\n",
        "delete_list.push(8)\n",
        "print('linked list created')\n",
        "delete_list.printList()\n",
        "delete_list.delete_at_position(3)\n",
        "print(\"linked list after deletion\")\n",
        "delete_list.printList()\n",
        "    \n",
        "    \n",
        "\n",
        "      \n",
        "\n"
      ],
      "execution_count": 11,
      "outputs": [
        {
          "output_type": "stream",
          "text": [
            "linked list created\n",
            "8\n",
            "2\n",
            "3\n",
            "1\n",
            "7\n",
            "linked list after deletion\n",
            "8\n",
            "2\n",
            "3\n",
            "7\n"
          ],
          "name": "stdout"
        }
      ]
    },
    {
      "cell_type": "code",
      "metadata": {
        "id": "I3ZKZ2C8I3Bs"
      },
      "source": [
        ""
      ],
      "execution_count": 1,
      "outputs": []
    },
    {
      "cell_type": "code",
      "metadata": {
        "id": "eaGogC8SI2-j"
      },
      "source": [
        ""
      ],
      "execution_count": null,
      "outputs": []
    },
    {
      "cell_type": "code",
      "metadata": {
        "id": "ORIYBOEFI272"
      },
      "source": [
        ""
      ],
      "execution_count": null,
      "outputs": []
    },
    {
      "cell_type": "code",
      "metadata": {
        "id": "uFhB5vChI24u"
      },
      "source": [
        ""
      ],
      "execution_count": null,
      "outputs": []
    },
    {
      "cell_type": "code",
      "metadata": {
        "id": "OS8XtuMrI21n"
      },
      "source": [
        ""
      ],
      "execution_count": null,
      "outputs": []
    },
    {
      "cell_type": "code",
      "metadata": {
        "id": "n42GCCs2I2ye"
      },
      "source": [
        ""
      ],
      "execution_count": null,
      "outputs": []
    },
    {
      "cell_type": "code",
      "metadata": {
        "id": "doo2eckjI2v4"
      },
      "source": [
        ""
      ],
      "execution_count": null,
      "outputs": []
    },
    {
      "cell_type": "code",
      "metadata": {
        "id": "ZGIZ6LMcI2tG"
      },
      "source": [
        ""
      ],
      "execution_count": null,
      "outputs": []
    }
  ]
}