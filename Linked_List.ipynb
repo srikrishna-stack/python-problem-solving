{
  "nbformat": 4,
  "nbformat_minor": 0,
  "metadata": {
    "colab": {
      "name": "Linked List.ipynb",
      "provenance": [],
      "collapsed_sections": [],
      "authorship_tag": "ABX9TyMn8Ucyju8GWUDgU45QcFdU",
      "include_colab_link": true
    },
    "kernelspec": {
      "name": "python3",
      "display_name": "Python 3"
    },
    "language_info": {
      "name": "python"
    }
  },
  "cells": [
    {
      "cell_type": "markdown",
      "metadata": {
        "id": "view-in-github",
        "colab_type": "text"
      },
      "source": [
        "<a href=\"https://colab.research.google.com/github/srikrishna-stack/python-problem-solving/blob/main/Linked_List.ipynb\" target=\"_parent\"><img src=\"https://colab.research.google.com/assets/colab-badge.svg\" alt=\"Open In Colab\"/></a>"
      ]
    },
    {
      "cell_type": "code",
      "metadata": {
        "colab": {
          "base_uri": "https://localhost:8080/"
        },
        "id": "tppB02O4IyP7",
        "outputId": "09788d40-4355-4f89-a8a5-662cdfa665fc"
      },
      "source": [
        "class Node:\n",
        "  def __init__(self,data):\n",
        "    self.data=data\n",
        "    self.next=None\n",
        "class LinkedList1:\n",
        "  def __init__(self):\n",
        "    self.head=None\n",
        "  def printList():\n",
        "    temp=self.data\n",
        "    while(temp):\n",
        "      print(temp.data)\n",
        "      temp=temp.next\n",
        "if __name__=='__main__':\n",
        "  list1=LinkedList()\n",
        "  list1.head=Node(2)\n",
        "  second=Node(3)\n",
        "  third=Node(4)\n",
        "  list1.head.next=second\n",
        "  second.next=third\n",
        "  print(\"the created linked list is\")\n",
        "  list1.printList()\n"
      ],
      "execution_count": null,
      "outputs": [
        {
          "output_type": "stream",
          "text": [
            "the created linked list is\n",
            "2\n",
            "3\n",
            "4\n"
          ],
          "name": "stdout"
        }
      ]
    },
    {
      "cell_type": "code",
      "metadata": {
        "colab": {
          "base_uri": "https://localhost:8080/"
        },
        "id": "NwfG8BpGI3Np",
        "outputId": "6f617575-626f-4e18-93e0-9753d6199f14"
      },
      "source": [
        "#inseting node at the first,middle,last at the linked list\n",
        "class Node:\n",
        "  def __init__(self,data):\n",
        "    self.data=data\n",
        "    self.next=None\n",
        "  \n",
        "class LinkedList:\n",
        "  def __init__(self):\n",
        "    self.head=None\n",
        "#functoin to insert a new node at the begining\n",
        "  def push(self,new_data):\n",
        "    new_node=Node(new_data)\n",
        "    new_node.next=self.head\n",
        "    self.head=new_node\n",
        "#inserting the node in a linked list after the given node\n",
        "  def insert(self,prev_node,new_data):\n",
        "    if prev_node is None:\n",
        "      print(\"the given previous node must in linkedlist\")\n",
        "      return\n",
        "    new_node=Node(new_data)\n",
        "    new_node.next=prev_node.next\n",
        "    prev_node.next=new_node\n",
        "#append a node at the end of the linked list\n",
        "  def append(self,new_data):\n",
        "    new_node=Node(new_data)\n",
        "    if self.head is None:\n",
        "      self.head=new_node\n",
        "      return\n",
        "    last=self.head\n",
        "    while(last.next):\n",
        "      last=last.next\n",
        "    last.next=new_node\n",
        "  def printList(self):\n",
        "    temp=self.head\n",
        "    while(temp):\n",
        "      print(temp.data)\n",
        "      temp=temp.next\n",
        "  \n",
        "\n",
        "if __name__ ==\"__main__\":\n",
        "  llist=LinkedList()\n",
        "  llist.append(6)\n",
        "  llist.push(7)\n",
        "  llist.push(1)\n",
        "  llist.append(4)\n",
        "  print(\"linkde is created\")\n",
        "  llist.printList()\n",
        "  llist.insert(llist.head.next,8)\n",
        "\n",
        "\n",
        "  print(\"created linked list is\")\n",
        "  llist.printList()\n",
        "  \n"
      ],
      "execution_count": null,
      "outputs": [
        {
          "output_type": "stream",
          "text": [
            "linkde is created\n",
            "1\n",
            "7\n",
            "6\n",
            "4\n",
            "created linked list is\n",
            "1\n",
            "7\n",
            "8\n",
            "6\n",
            "4\n"
          ],
          "name": "stdout"
        }
      ]
    },
    {
      "cell_type": "code",
      "metadata": {
        "colab": {
          "base_uri": "https://localhost:8080/"
        },
        "id": "6wWQlZrcI3LI",
        "outputId": "d8e90613-562a-4c37-fbe5-3ce877b8f30a"
      },
      "source": [
        "#linked list deletion\n",
        "class Node:\n",
        "  def __init__(self,data):\n",
        "    self.data=data\n",
        "    self.next=None\n",
        "class LinkedList:\n",
        "  def __init__(self):\n",
        "    self.head=None\n",
        "  def push(self,new_data):\n",
        "    new_node=Node(new_data)\n",
        "    new_node.next=self.head\n",
        "    self.head=new_node\n",
        "    #delte the first occurence of a key at a linked list\n",
        "\n",
        "  def delete(self,key):\n",
        "    #we have to store the head\n",
        "    temp=self.head\n",
        "    for i in range(position-1):\n",
        "      temp=temp.next\n",
        "      if temp is None:\n",
        "        break\n",
        "    #if position is more than number of nodes\n",
        "    if temp is None:\n",
        "      break\n",
        "    if temp.next is None:\n",
        "      break\n",
        "    #temp.next is node to be deleted\n",
        "    #store the node to the other node is node to be deleted\n",
        "    next=temp.next.next\n",
        "    temp=None\n",
        "    next=temp.next\n",
        "  def \n",
        "    \n",
        "    #if temp node it self holds the key to be deleted\n",
        "    if (temp is not None):\n",
        "      if (temp.data==key):\n",
        "        self.head=temp.next\n",
        "        temp=None\n",
        "        return\n",
        "#search for the key to be deleted keep tracking of the previous node to be changed\n",
        "\n",
        "    while(temp is not None):\n",
        "      if(temp.data==key):\n",
        "       break\n",
        "      prev=temp\n",
        "      temp=temp.next\n",
        "      #if key not present in the linked list\n",
        "    if(temp==None):\n",
        "      return\n",
        "     \n",
        "       \n",
        "      #unlinking the list from the linked list\n",
        "    prev.next=temp.next\n",
        "    temp=None\n",
        "    \n",
        "\n",
        "     \n",
        "   \n",
        "  def printLinkedlist(self):\n",
        "    temp=self.head\n",
        "    while(temp):\n",
        "      print(\"%d\"%(temp.data))\n",
        "      temp=temp.next\n",
        "if __name__=='__main__':\n",
        "  linked=LinkedList()\n",
        "  linked.push(1)\n",
        "  linked.push(4)\n",
        "  linked.push(5)\n",
        "  linked.push(6)\n",
        "\n",
        "  print(\"created linked list is\")\n",
        "  linked.printLinkedlist()\n",
        "  linked.delete(5)\n",
        "  linked.delete(6)\n",
        "  print(\"linked list after deletion\")\n",
        "  linked.printLinkedlist()"
      ],
      "execution_count": null,
      "outputs": [
        {
          "output_type": "stream",
          "text": [
            "created linked list is\n",
            "6\n",
            "5\n",
            "4\n",
            "1\n",
            "linked list after deletion\n",
            "4\n",
            "1\n"
          ],
          "name": "stdout"
        }
      ]
    },
    {
      "cell_type": "code",
      "metadata": {
        "id": "cRT-0bGzI3IH"
      },
      "source": [
        "class Node:\n",
        "  def __init__(self,data):\n",
        "    self.data=data\n",
        "    self.next=None\n",
        "class LinkedList2:\n",
        "  def __init__(self):\n",
        "    self.head=None\n",
        "  def push(self,new_data):\n",
        "    new_node=Node(new_data)\n",
        "    new_node.next=self.head\n",
        "    self.head=new_node\n",
        "  #deleting the node at a given position\n",
        "  def delete_at_position(self,positon):\n",
        "\n",
        "    #if linked list is empty\n",
        "    if self.head==none:\n",
        "      return\n",
        "    temp=self.head\n",
        "    #if head is the position it need to be removed\n",
        "    if positon==0:\n",
        "      self.head=temp.next\n",
        "      temp=None\n",
        "      return\n",
        "    #finding the previous node to be deleted\n",
        "    for i in range(position-1):\n",
        "      temp=temp.next\n",
        "      if temp is None:\n",
        "        break\n",
        "    if temp is None:\n",
        "      return\n",
        "    if temp.next is None:\n",
        "      return\n",
        "    next=temp.next.next\n",
        "    temp.next=None\n",
        "    temp.next=next\n",
        "  def printList(self):\n",
        "    temp=self.head\n",
        "    while(temp):\n",
        "      print(\"%d\"%temp(data))\n",
        "      temp=temp.next\n",
        "llist=LinkedList2()\n",
        "\n",
        "\n",
        "  \n",
        "    \n",
        "\n",
        "  \n",
        "      \n"
      ],
      "execution_count": null,
      "outputs": []
    },
    {
      "cell_type": "code",
      "metadata": {
        "id": "Q0ViyHaeI3FA",
        "colab": {
          "base_uri": "https://localhost:8080/"
        },
        "outputId": "d3c6412d-73f1-46a4-8b19-02a26b620a03"
      },
      "source": [
        "#linked list node to a deltet a node at a given position\n",
        "class Node:\n",
        "  def __init__(self,data):\n",
        "    self.data=data\n",
        "    self.next=None\n",
        "class LinkedList3:\n",
        "  def __init__(self):\n",
        "    self.head=None\n",
        "  def push(self,new_data):\n",
        "    new_node=Node(new_data)\n",
        "    new_node.next=self.head\n",
        "    self.head=new_node\n",
        "  def delete_at_position(self,position):\n",
        "    if self.head==None:\n",
        "      return\n",
        "    temp=self.head\n",
        "    #if head it self is a key to be deleted\n",
        "    if position==0:\n",
        "      self.head=temp.next\n",
        "      temp=None\n",
        "      return\n",
        "    #search for the to be deleted makes the temp.next to assign the node\n",
        "    #previous node to be delted\n",
        "    for i in range(position-1):\n",
        "      temp=temp.next\n",
        "      if temp is None:\n",
        "        break\n",
        "    #if position is more than number of nodes\n",
        "    if temp is None:\n",
        "      return\n",
        "    if temp.next is None:\n",
        "      return\n",
        "    #link the node to the another node\n",
        "    next=temp.next.next\n",
        "    temp.next=None\n",
        "    temp.next=next\n",
        "    #printing the list\n",
        "  def printList(self):\n",
        "    temp=self.head\n",
        "    while(temp):\n",
        "      print(\"%d\"%(temp.data))\n",
        "      temp=temp.next\n",
        "\n",
        "\n",
        "delete_list=LinkedList3()\n",
        "delete_list.push(7)\n",
        "delete_list.push(1)\n",
        "delete_list.push(3)\n",
        "delete_list.push(2)\n",
        "delete_list.push(8)\n",
        "print('linked list created')\n",
        "delete_list.printList()\n",
        "delete_list.delete_at_position(3)\n",
        "print(\"linked list after deletion\")\n",
        "delete_list.printList()\n",
        "    \n",
        "    \n",
        "\n",
        "      \n",
        "\n"
      ],
      "execution_count": null,
      "outputs": [
        {
          "output_type": "stream",
          "text": [
            "linked list created\n",
            "8\n",
            "2\n",
            "3\n",
            "1\n",
            "7\n",
            "linked list after deletion\n",
            "8\n",
            "2\n",
            "3\n",
            "7\n"
          ],
          "name": "stdout"
        }
      ]
    },
    {
      "cell_type": "code",
      "metadata": {
        "id": "I3ZKZ2C8I3Bs",
        "colab": {
          "base_uri": "https://localhost:8080/"
        },
        "outputId": "84b99b40-1d90-44b5-cf2b-61aec0cf548b"
      },
      "source": [
        "#finding the length of the linked list recursive and iterative\n",
        "class Node:\n",
        "  def __init__(self,head):\n",
        "    self.head=head\n",
        "    self.next=None\n",
        "class LinkedList4:\n",
        "  def __init__(self):\n",
        "    self.head=None\n",
        "  def push(self,new_data):\n",
        "    new_node=Node(new_data)\n",
        "    new_node.next=self.head\n",
        "    self.head=new_node\n",
        "  def getCount(self):\n",
        "    temp=self.head\n",
        "    count=0\n",
        "    while(temp):\n",
        "      count+=1\n",
        "      temp=temp.next\n",
        "      \n",
        "    return count\n",
        "if __name__=='__main__':\n",
        "    llist = LinkedList4()\n",
        "    llist.push(1)\n",
        "    llist.push(3)\n",
        "    llist.push(1)\n",
        "    llist.push(2)\n",
        "    llist.push(1)\n",
        "    print (\"Count of nodes is :\",llist.getCount())\n",
        "\n"
      ],
      "execution_count": null,
      "outputs": [
        {
          "output_type": "stream",
          "text": [
            "Count of nodes is : 5\n"
          ],
          "name": "stdout"
        }
      ]
    },
    {
      "cell_type": "code",
      "metadata": {
        "id": "eaGogC8SI2-j",
        "colab": {
          "base_uri": "https://localhost:8080/"
        },
        "outputId": "10adcb70-1b1d-46ef-8719-94d2f9ab83af"
      },
      "source": [
        "#swaping nodes in a linked list with out swaping data\n",
        "class Node:\n",
        "  def __init__(self,data):\n",
        "    self.data=data\n",
        "    self.next=None\n",
        "class LinkedList5:\n",
        "  def __init__(self):\n",
        "    self.head=None\n",
        "  def printList(self):\n",
        "    cur_node=self.head\n",
        "    while(cur_node):\n",
        "      print(cur_node.data)\n",
        "      cur_node=cur_node.next\n",
        "  def append(self,data):\n",
        "    new_node=Node(data)\n",
        "    if self.head is None:\n",
        "      new_node=self.head\n",
        "      return\n",
        "    last_node=self.head\n",
        "    while last_node.text:\n",
        "      last_node=last_node.text\n",
        "    last_node.next=new_node\n",
        "  def prepend(self,data):\n",
        "    new_node=Node(data)\n",
        "    new_node.next=self.head\n",
        "    self.head=new_node\n",
        "  def swap_nodes(self,key1,key2):\n",
        "    if key1==key2:\n",
        "      return\n",
        "    prev_1=None\n",
        "    curr_1=self.head\n",
        "    while curr_1 and curr_1.data!=key1:\n",
        "      prev_1=curr_1\n",
        "      curr_1=curr_1.next\n",
        "    prev_2=None\n",
        "    curr_2=self.head\n",
        "    while curr_2 and curr_2.data!=key2:\n",
        "      prev_2=curr_1\n",
        "      curr_2=curr_2.next\n",
        "    if not curr_1 and not curr_2:\n",
        "      return\n",
        "     \n",
        "    if prev_1:\n",
        "      prev_1.next=curr_2\n",
        "     \n",
        "    else:\n",
        "      self.head=curr_2\n",
        "     \n",
        "    if prev_2:\n",
        "      prev_2.next=curr_1\n",
        "    else:\n",
        "      self.head=curr_1\n",
        "    curr_1.next,curr_2.next=curr_2.next,curr_1.next\n",
        "swap_list=LinkedList5()\n",
        "swap_list.append(5)\n",
        "swap_list.append(6)\n",
        "swap_list.append(7)\n",
        "swap_list.append(8)\n",
        "swap_list.append(9)\n",
        "print('linked list is created')\n",
        "swap_list.printList()\n"
      ],
      "execution_count": null,
      "outputs": [
        {
          "output_type": "stream",
          "text": [
            "linked list is created\n"
          ],
          "name": "stdout"
        }
      ]
    },
    {
      "cell_type": "code",
      "metadata": {
        "id": "ORIYBOEFI272",
        "colab": {
          "base_uri": "https://localhost:8080/"
        },
        "outputId": "f916e555-14a4-4c7f-a40f-a8b1ec9f62a6"
      },
      "source": [
        "class LinkedList(object):\n",
        "    def __init__(self):\n",
        "        self.head = None\n",
        " \n",
        "    # head of list\n",
        "    class Node(object):\n",
        "        def __init__(self, d):\n",
        "            self.data = d\n",
        "            self.next = None\n",
        " \n",
        "    # Function to swap Nodes x and y in linked list by\n",
        "    # changing links\n",
        "    def swapNodes(self, x, y):\n",
        " \n",
        "        # Nothing to do if x and y are same\n",
        "        if x == y:\n",
        "            return\n",
        " \n",
        "        # Search for x (keep track of prevX and CurrX)\n",
        "        prevX = None\n",
        "        currX = self.head\n",
        "        while currX != None and currX.data != x:\n",
        "            prevX = currX\n",
        "            currX = currX.next\n",
        "        print(prevX.data)\n",
        "        print(currX.data)\n",
        " \n",
        "        # Search for y (keep track of prevY and currY)\n",
        "        prevY = None\n",
        "        currY = self.head\n",
        "        while currY != None and currY.data != y:\n",
        "            prevY = currY\n",
        "            currY = currY.next\n",
        "        print(prevY.data)\n",
        "        print(currY.data)\n",
        " \n",
        "        # If either x or y is not present, nothing to do\n",
        "        if currX == None or currY == None:\n",
        "            return\n",
        "        # If x is not head of linked list\n",
        "        if prevX != None:\n",
        "            prevX.next = currY\n",
        "        else:  # make y the new head\n",
        "            self.head = currY\n",
        " \n",
        "        # If y is not head of linked list\n",
        "        if prevY != None:\n",
        "            prevY.next = currX\n",
        "        else:  # make x the new head\n",
        "            self.head = currX\n",
        " \n",
        "        # Swap next pointers\n",
        "        temp = currX.next\n",
        "        currX.next = currY.next\n",
        "        currY.next = temp\n",
        " \n",
        "    # Function to add Node at beginning of list.\n",
        "    def push(self, new_data):\n",
        " \n",
        "        # 1. alloc the Node and put the data\n",
        "        new_Node = self.Node(new_data)\n",
        " \n",
        "        # 2. Make next of new Node as head\n",
        "        new_Node.next = self.head\n",
        " \n",
        "        # 3. Move the head to point to new Node\n",
        "        self.head = new_Node\n",
        " \n",
        "    # This function prints contents of linked list starting\n",
        "    # from the given Node\n",
        "    def printList(self):\n",
        "        tNode = self.head\n",
        "        while tNode != None:\n",
        "            print (tNode.data)\n",
        "            tNode = tNode.next\n",
        " \n",
        " \n",
        "# Driver program to test above function\n",
        "llist = LinkedList()\n",
        " \n",
        "# The constructed linked list is:\n",
        "# 1->2->3->4->5->6->7\n",
        "llist.push(7)\n",
        "llist.push(6)\n",
        "llist.push(5)\n",
        "llist.push(4)\n",
        "llist.push(3)\n",
        "llist.push(2)\n",
        "llist.push(1)\n",
        "print (\"Linked list before calling swapNodes() \")\n",
        "llist.printList()\n",
        "llist.swapNodes(4, 3)\n",
        "print (\"\\nLinked list after calling swapNodes() \")\n",
        "llist.printList()\n",
        " "
      ],
      "execution_count": null,
      "outputs": [
        {
          "output_type": "stream",
          "text": [
            "Linked list before calling swapNodes() \n",
            "1\n",
            "2\n",
            "3\n",
            "4\n",
            "5\n",
            "6\n",
            "7\n",
            "3\n",
            "4\n",
            "2\n",
            "3\n",
            "\n",
            "Linked list after calling swapNodes() \n",
            "1\n",
            "2\n",
            "4\n",
            "3\n",
            "5\n",
            "6\n",
            "7\n"
          ],
          "name": "stdout"
        }
      ]
    },
    {
      "cell_type": "code",
      "metadata": {
        "id": "uFhB5vChI24u"
      },
      "source": [
        "#inserting a node at the nth position of the linkde list\n",
        "class SinglyLinkedList:\n",
        "  def __init__(self,node_data):\n",
        "    self.data=node_data\n",
        "    self.next=None\n",
        "class SinglyLinkedList:\n",
        "  def __init__(self):\n",
        "    self.head=None\n",
        "    self.tail=None\n",
        "  def insert_node(self,node_data):\n",
        "    node=SinglyLinkedList(node_data)\n",
        "    if not self.head:\n",
        "      self.head=Node\n",
        "    else:\n",
        "      self.tail.next=Node\n",
        "    self.tail=Node\n",
        "def print_linkedlist()"
      ],
      "execution_count": null,
      "outputs": []
    },
    {
      "cell_type": "code",
      "metadata": {
        "id": "OS8XtuMrI21n",
        "colab": {
          "base_uri": "https://localhost:8080/"
        },
        "outputId": "7f61852c-bf5c-4873-ac02-2cbdcef38535"
      },
      "source": [
        "class SinglyLinkedListNode:\n",
        "    def __init__(self, node_data):\n",
        "        self.data = node_data\n",
        "        self.next = None\n",
        "\n",
        "class SinglyLinkedList:\n",
        "    def __init__(self):\n",
        "        self.head = None\n",
        "        self.tail = None\n",
        "\n",
        "    def insert_node(self, node_data):\n",
        "        node = SinglyLinkedListNode(node_data)\n",
        "\n",
        "        if not self.head:\n",
        "            self.head = node\n",
        "        else:\n",
        "            self.tail.next = node\n",
        "\n",
        "\n",
        "        self.tail = node\n",
        "\n",
        "def printLinkedList(head):\n",
        "  node=head\n",
        "  while node!=None:\n",
        "    print(node.data)\n",
        "    node=node.next\n",
        "    \n",
        "\n",
        "if __name__ == '__main__':\n",
        "    llist_count = int(input())\n",
        "\n",
        "    llist = SinglyLinkedList()\n",
        "\n",
        "    for _ in range(llist_count):\n",
        "        llist_item = int(input())\n",
        "        llist.insert_node(llist_item)\n",
        "\n",
        "    printLinkedList(llist.head)"
      ],
      "execution_count": null,
      "outputs": [
        {
          "output_type": "stream",
          "text": [
            "2\n",
            "16\n",
            "18\n",
            "16\n",
            "18\n"
          ],
          "name": "stdout"
        }
      ]
    },
    {
      "cell_type": "code",
      "metadata": {
        "id": "n42GCCs2I2ye",
        "colab": {
          "base_uri": "https://localhost:8080/"
        },
        "outputId": "b7977e09-5a27-4695-ae4a-890cbc7027eb"
      },
      "source": [
        "#reversing the linked list\n",
        "\n",
        "class Node:\n",
        "  def __init__(self,data):\n",
        "    self.data=data\n",
        "    self.next=None\n",
        "\n",
        "class LinkedList:\n",
        "  def __init__(self):\n",
        "    self.head=None\n",
        "  def reverse(self):\n",
        "    prev=None\n",
        "    current=self.head\n",
        "    while(current!=None):\n",
        "      next=current.next\n",
        "      current.next=prev\n",
        "      prev=current\n",
        "      current=next\n",
        "    self.head=prev\n",
        "  def push(self,new_data):\n",
        "    new_node=Node(new_data)\n",
        "    new_node.next=self.head\n",
        "    self.head=new_node\n",
        "  def printList(self):\n",
        "    temp=self.head\n",
        "    while(temp):\n",
        "      print('%d'%(temp.data))\n",
        "      temp=temp.next\n",
        "    \n",
        "llist=LinkedList()\n",
        "llist.push(10)\n",
        "llist.push(20)\n",
        "llist.push(30)\n",
        "llist.push(40)\n",
        "print('given linked list is')\n",
        "llist.printList()\n",
        "llist.reverse()\n",
        "print(\"Reversed linked list\")\n",
        "llist.printList()\n"
      ],
      "execution_count": null,
      "outputs": [
        {
          "output_type": "stream",
          "text": [
            "given linked list is\n",
            "40\n",
            "30\n",
            "20\n",
            "10\n",
            "Reversed linked list\n",
            "10\n",
            "20\n",
            "30\n",
            "40\n"
          ],
          "name": "stdout"
        }
      ]
    },
    {
      "cell_type": "code",
      "metadata": {
        "id": "doo2eckjI2v4",
        "colab": {
          "base_uri": "https://localhost:8080/"
        },
        "outputId": "47595aee-78ba-4906-d376-bf5a2121f8dc"
      },
      "source": [
        "#merging two sorted linked list\n",
        "class Node:\n",
        "  def __init__(self,data):\n",
        "    self.data=data\n",
        "    self.next=None\n",
        "class LinkedList:\n",
        "  def __init__(self):\n",
        "    self.head=None\n",
        "  def printList(self):\n",
        "    temp=self.head\n",
        "    while(temp):\n",
        "      print(temp.data,end=' ')\n",
        "      temp=temp.next\n",
        " \n",
        "  def addToList(self, newData):\n",
        "\n",
        "    newNode = Node(newData)\n",
        "    if self.head is None:\n",
        "      self.head = newNode\n",
        "      return\n",
        " \n",
        "    last = self.head\n",
        "    while last.next:\n",
        "\n",
        "      last = last.next\n",
        " \n",
        "      last.next = newNode\n",
        "def mergeList(headA,headB):\n",
        "  #a dummy node to store the result\n",
        "  dummyNode=Node(0)\n",
        "  tail=dummyNode\n",
        "  while True:\n",
        "    if headA is None:\n",
        "      tail.next=headB\n",
        "      break\n",
        "    if headB is None:\n",
        "      tail.next=headA\n",
        "      break\n",
        "    if headA.data<=headB.data:\n",
        "      tail.next=headA\n",
        "      headA=headA.next\n",
        "    else:\n",
        "      tail.next=headB\n",
        "      headB=headB.next\n",
        "    tail=tail.next\n",
        "  return dummyNode.next\n",
        "    \n",
        "\n",
        "    \n",
        "    \n",
        "      \n",
        "    \n",
        "\n",
        "\n",
        "llistA=LinkedList()\n",
        "llistB=LinkedList()\n",
        "llistA.addToList(5)\n",
        "llistA.addToList(10)wh\n",
        "llistA.addToList(15)\n",
        "llistB.addToList(2)\n",
        "llistB.addToList(3)\n",
        "llistB.addToList(20)\n",
        "llistA.head=mergeList(llistA.head,llistB.head)\n",
        "print('merged linked list is')\n",
        "llistA.printList()"
      ],
      "execution_count": null,
      "outputs": [
        {
          "output_type": "stream",
          "text": [
            "merged linked list is\n",
            "2 5 "
          ],
          "name": "stdout"
        }
      ]
    },
    {
      "cell_type": "code",
      "metadata": {
        "id": "CUZmw1RE6vtw",
        "colab": {
          "base_uri": "https://localhost:8080/",
          "height": 411
        },
        "outputId": "5bd7aab6-7881-4298-f787-2fc5c5e25d8a"
      },
      "source": [
        "class SinglyLinkedListNode:\n",
        "  def __init__(self,node_data):\n",
        "    self.data=node_data\n",
        "    self.next=None\n",
        "class SinglyLinkedList:\n",
        "  def __init_(self):\n",
        "    self.head=None\n",
        "    self.tail=None\n",
        "  def insert_node(self,node_data):\n",
        "    node=SinglyLinkedListNode(node_data)\n",
        "    if not self.head:\n",
        "      self.head=node\n",
        "    else:\n",
        "      self.tail.next=node\n",
        "    self.tail=node\n",
        "def print_singlyLinked_List(node):\n",
        "  temp=head\n",
        "  while node:\n",
        "    pritn(node.data)\n",
        "    temp=temp.next\n",
        "def reverse(head):\n",
        "  prev=None\n",
        "  curr=head\n",
        "  nxt=head.next\n",
        "  while (curr!=none):\n",
        "    nxt=curr.nxt\n",
        "    curr.nxt=prev\n",
        "    prev=curr\n",
        "    curr=nxt\n",
        "  head=prev\n",
        "  return head\n",
        "\n",
        "\n",
        "\n",
        "    \n",
        "\n",
        "if __name__=='__main__':\n",
        "  tests=int(input())\n",
        "  for i in range(tests):\n",
        "    llist_count=int(input())\n",
        "    llist=SinglyLinkedList()\n",
        "    for _ in range(llist_count):\n",
        "      llist_item=int(input())\n",
        "      llist.insert_node(llist_item)\n",
        "    llist1=reverse(llist.head)\n",
        "    print(print_singlyLinked_List(llist1))\n",
        "\n",
        "\n",
        "\n"
      ],
      "execution_count": 2,
      "outputs": [
        {
          "output_type": "stream",
          "text": [
            "1\n",
            "5\n",
            "1\n"
          ],
          "name": "stdout"
        },
        {
          "output_type": "error",
          "ename": "AttributeError",
          "evalue": "ignored",
          "traceback": [
            "\u001b[0;31m---------------------------------------------------------------------------\u001b[0m",
            "\u001b[0;31mAttributeError\u001b[0m                            Traceback (most recent call last)",
            "\u001b[0;32m<ipython-input-2-602d0d15e58e>\u001b[0m in \u001b[0;36m<module>\u001b[0;34m()\u001b[0m\n\u001b[1;32m     42\u001b[0m     \u001b[0;32mfor\u001b[0m \u001b[0m_\u001b[0m \u001b[0;32min\u001b[0m \u001b[0mrange\u001b[0m\u001b[0;34m(\u001b[0m\u001b[0mllist_count\u001b[0m\u001b[0;34m)\u001b[0m\u001b[0;34m:\u001b[0m\u001b[0;34m\u001b[0m\u001b[0;34m\u001b[0m\u001b[0m\n\u001b[1;32m     43\u001b[0m       \u001b[0mllist_item\u001b[0m\u001b[0;34m=\u001b[0m\u001b[0mint\u001b[0m\u001b[0;34m(\u001b[0m\u001b[0minput\u001b[0m\u001b[0;34m(\u001b[0m\u001b[0;34m)\u001b[0m\u001b[0;34m)\u001b[0m\u001b[0;34m\u001b[0m\u001b[0;34m\u001b[0m\u001b[0m\n\u001b[0;32m---> 44\u001b[0;31m       \u001b[0mllist\u001b[0m\u001b[0;34m.\u001b[0m\u001b[0minsert_node\u001b[0m\u001b[0;34m(\u001b[0m\u001b[0mllist_item\u001b[0m\u001b[0;34m)\u001b[0m\u001b[0;34m\u001b[0m\u001b[0;34m\u001b[0m\u001b[0m\n\u001b[0m\u001b[1;32m     45\u001b[0m     \u001b[0mllist1\u001b[0m\u001b[0;34m=\u001b[0m\u001b[0mreverse\u001b[0m\u001b[0;34m(\u001b[0m\u001b[0mllist\u001b[0m\u001b[0;34m.\u001b[0m\u001b[0mhead\u001b[0m\u001b[0;34m)\u001b[0m\u001b[0;34m\u001b[0m\u001b[0;34m\u001b[0m\u001b[0m\n\u001b[1;32m     46\u001b[0m     \u001b[0mprint\u001b[0m\u001b[0;34m(\u001b[0m\u001b[0mprint_singlyLinked_List\u001b[0m\u001b[0;34m(\u001b[0m\u001b[0mllist1\u001b[0m\u001b[0;34m)\u001b[0m\u001b[0;34m)\u001b[0m\u001b[0;34m\u001b[0m\u001b[0;34m\u001b[0m\u001b[0m\n",
            "\u001b[0;32m<ipython-input-2-602d0d15e58e>\u001b[0m in \u001b[0;36minsert_node\u001b[0;34m(self, node_data)\u001b[0m\n\u001b[1;32m      9\u001b[0m   \u001b[0;32mdef\u001b[0m \u001b[0minsert_node\u001b[0m\u001b[0;34m(\u001b[0m\u001b[0mself\u001b[0m\u001b[0;34m,\u001b[0m\u001b[0mnode_data\u001b[0m\u001b[0;34m)\u001b[0m\u001b[0;34m:\u001b[0m\u001b[0;34m\u001b[0m\u001b[0;34m\u001b[0m\u001b[0m\n\u001b[1;32m     10\u001b[0m     \u001b[0mnode\u001b[0m\u001b[0;34m=\u001b[0m\u001b[0mSinglyLinkedListNode\u001b[0m\u001b[0;34m(\u001b[0m\u001b[0mnode_data\u001b[0m\u001b[0;34m)\u001b[0m\u001b[0;34m\u001b[0m\u001b[0;34m\u001b[0m\u001b[0m\n\u001b[0;32m---> 11\u001b[0;31m     \u001b[0;32mif\u001b[0m \u001b[0;32mnot\u001b[0m \u001b[0mself\u001b[0m\u001b[0;34m.\u001b[0m\u001b[0mhead\u001b[0m\u001b[0;34m:\u001b[0m\u001b[0;34m\u001b[0m\u001b[0;34m\u001b[0m\u001b[0m\n\u001b[0m\u001b[1;32m     12\u001b[0m       \u001b[0mself\u001b[0m\u001b[0;34m.\u001b[0m\u001b[0mhead\u001b[0m\u001b[0;34m=\u001b[0m\u001b[0mnode\u001b[0m\u001b[0;34m\u001b[0m\u001b[0;34m\u001b[0m\u001b[0m\n\u001b[1;32m     13\u001b[0m     \u001b[0;32melse\u001b[0m\u001b[0;34m:\u001b[0m\u001b[0;34m\u001b[0m\u001b[0;34m\u001b[0m\u001b[0m\n",
            "\u001b[0;31mAttributeError\u001b[0m: 'SinglyLinkedList' object has no attribute 'head'"
          ]
        }
      ]
    },
    {
      "cell_type": "code",
      "metadata": {
        "colab": {
          "base_uri": "https://localhost:8080/",
          "height": 497
        },
        "id": "CHnFSFArpzVn",
        "outputId": "b8164d23-6da7-4f1c-a987-97d3de57d060"
      },
      "source": [
        "#comparing two linked list\n",
        "\n",
        "class SinglyLinkedListNode:\n",
        "    def __init__(self, node_data):\n",
        "        self.data = node_data\n",
        "        self.next = None\n",
        "\n",
        "class SinglyLinkedList:\n",
        "    def __init__(self):\n",
        "        self.head = None\n",
        "        self.tail = None\n",
        "\n",
        "    def insert_node(self, node_data):\n",
        "        node = SinglyLinkedListNode(node_data)\n",
        "\n",
        "        if not self.head:\n",
        "            self.head = node\n",
        "        else:\n",
        "            self.tail.next = node\n",
        "\n",
        "\n",
        "        self.tail = node\n",
        "def print_singly_linked_list(node):\n",
        "  while node:\n",
        "    print(str(node,data))\n",
        "    node=node.next\n",
        "def compare_lists(llist1, llist2):\n",
        "  head1=llist1\n",
        "  head2=llist2\n",
        "  while (head1 and head2):\n",
        "    if head1.data==head2.data:\n",
        "      head1=head1.next\n",
        "      head2=head2.next\n",
        "    else:\n",
        "      return 0\n",
        "  if head1==None and head2==None:\n",
        "    return 1\n",
        "  else:\n",
        "    return 0\n",
        "   \n",
        "\n",
        "\n",
        "\n",
        "if __name__=='__main__':\n",
        "   tests = int(input())\n",
        "   for tests_itr in range(tests):\n",
        "\n",
        "\n",
        "     llist1_count = int(input())\n",
        "\n",
        "     llist1 = SinglyLinkedList()\n",
        "\n",
        "\n",
        "     for _ in range(llist1_count):\n",
        "\n",
        "       llist1_item = int(input())\n",
        "       llist1.insert_node(llist1_item)\n",
        "            \n",
        "       llist2_count = int(input())\n",
        "\n",
        "       llist2 = SinglyLinkedList()\n",
        "\n",
        "       for _ in range(llist2_count):\n",
        "\n",
        "         llist2_item = int(input())\n",
        "         llist2.insert_node(llist2_item)\n",
        "\n",
        "         result = compare_lists(llist1.head, llist2.head)\n",
        "   print(str(result))\n",
        "   \n",
        "\n",
        "    \n",
        "  \n",
        "\n",
        "\n",
        "\n"
      ],
      "execution_count": 10,
      "outputs": [
        {
          "output_type": "stream",
          "text": [
            "2\n",
            "2\n",
            "1\n",
            "2\n",
            "1\n",
            "1\n",
            "2\n",
            "1\n",
            "2\n",
            "2\n",
            "1\n",
            "2\n",
            "2\n",
            "2\n",
            "\n"
          ],
          "name": "stdout"
        },
        {
          "output_type": "error",
          "ename": "ValueError",
          "evalue": "ignored",
          "traceback": [
            "\u001b[0;31m---------------------------------------------------------------------------\u001b[0m",
            "\u001b[0;31mValueError\u001b[0m                                Traceback (most recent call last)",
            "\u001b[0;32m<ipython-input-10-01a8f333763a>\u001b[0m in \u001b[0;36m<module>\u001b[0;34m()\u001b[0m\n\u001b[1;32m     54\u001b[0m      \u001b[0;32mfor\u001b[0m \u001b[0m_\u001b[0m \u001b[0;32min\u001b[0m \u001b[0mrange\u001b[0m\u001b[0;34m(\u001b[0m\u001b[0mllist1_count\u001b[0m\u001b[0;34m)\u001b[0m\u001b[0;34m:\u001b[0m\u001b[0;34m\u001b[0m\u001b[0;34m\u001b[0m\u001b[0m\n\u001b[1;32m     55\u001b[0m \u001b[0;34m\u001b[0m\u001b[0m\n\u001b[0;32m---> 56\u001b[0;31m        \u001b[0mllist1_item\u001b[0m \u001b[0;34m=\u001b[0m \u001b[0mint\u001b[0m\u001b[0;34m(\u001b[0m\u001b[0minput\u001b[0m\u001b[0;34m(\u001b[0m\u001b[0;34m)\u001b[0m\u001b[0;34m)\u001b[0m\u001b[0;34m\u001b[0m\u001b[0;34m\u001b[0m\u001b[0m\n\u001b[0m\u001b[1;32m     57\u001b[0m        \u001b[0mllist1\u001b[0m\u001b[0;34m.\u001b[0m\u001b[0minsert_node\u001b[0m\u001b[0;34m(\u001b[0m\u001b[0mllist1_item\u001b[0m\u001b[0;34m)\u001b[0m\u001b[0;34m\u001b[0m\u001b[0;34m\u001b[0m\u001b[0m\n\u001b[1;32m     58\u001b[0m \u001b[0;34m\u001b[0m\u001b[0m\n",
            "\u001b[0;31mValueError\u001b[0m: invalid literal for int() with base 10: ''"
          ]
        }
      ]
    },
    {
      "cell_type": "code",
      "metadata": {
        "id": "NUYmjNdjpzS1"
      },
      "source": [
        "#!/bin/python3\n",
        "\n",
        "import math\n",
        "import os\n",
        "import random\n",
        "import re\n",
        "import sys\n",
        "\n",
        "class SinglyLinkedListNode:\n",
        "    def __init__(self, node_data):\n",
        "        self.data = node_data\n",
        "        self.next = None\n",
        "\n",
        "class SinglyLinkedList:\n",
        "    def __init__(self):\n",
        "        self.head = None\n",
        "        self.tail = None\n",
        "\n",
        "    def insert_node(self, node_data):\n",
        "        node = SinglyLinkedListNode(node_data)\n",
        "\n",
        "        if not self.head:\n",
        "            self.head = node\n",
        "        else:\n",
        "            self.tail.next = node\n",
        "\n",
        "\n",
        "        self.tail = node\n",
        "\n",
        "def print_singly_linked_list(node, sep, fptr):\n",
        "    while node:\n",
        "        fptr.write(str(node.data))\n",
        "\n",
        "        node = node.next\n",
        "\n",
        "        if node:\n",
        "            fptr.write(sep)\n",
        "\n",
        "            \n",
        "\n",
        "\n",
        "def getNode(llist, positionFromTail):\n",
        "    \n",
        "    # Write your code here\n",
        "    #firstly,we have to intialize two pointers\n",
        "    ptr1=llist\n",
        "    ptr2=llist\n",
        "    #we have to go that range\n",
        "    for i in range(positionFromTail):\n",
        "        ptr1=ptr1.next\n",
        "    while ptr1.next!=None:\n",
        "        ptr1=ptr1.next\n",
        "        ptr2=ptr2.next\n",
        "    return ptr2.data\n",
        "\n",
        "if __name__ == '__main__':\n",
        "    fptr = open(os.environ['OUTPUT_PATH'], 'w')\n",
        "\n",
        "    tests = int(input())\n",
        "\n",
        "    for tests_itr in range(tests):\n",
        "        llist_count = int(input())\n",
        "\n",
        "        llist = SinglyLinkedList()\n",
        "\n",
        "        for _ in range(llist_count):\n",
        "            llist_item = int(input())\n",
        "            llist.insert_node(llist_item)\n",
        "\n",
        "        position = int(input())\n",
        "\n",
        "        result = getNode(llist.head, position)\n",
        "\n",
        "        fptr.write(str(result) + '\\n')\n",
        "\n",
        "    fptr.close()\n"
      ],
      "execution_count": null,
      "outputs": []
    },
    {
      "cell_type": "code",
      "metadata": {
        "id": "43McudlgpzOy"
      },
      "source": [
        ""
      ],
      "execution_count": null,
      "outputs": []
    },
    {
      "cell_type": "code",
      "metadata": {
        "id": "OACdlTHNpzKL"
      },
      "source": [
        ""
      ],
      "execution_count": null,
      "outputs": []
    },
    {
      "cell_type": "code",
      "metadata": {
        "id": "Du4Ddv7apzG5"
      },
      "source": [
        ""
      ],
      "execution_count": null,
      "outputs": []
    },
    {
      "cell_type": "code",
      "metadata": {
        "id": "FNHRR5QspzCw"
      },
      "source": [
        ""
      ],
      "execution_count": null,
      "outputs": []
    },
    {
      "cell_type": "code",
      "metadata": {
        "id": "omgr-YCu6vrA"
      },
      "source": [
        ""
      ],
      "execution_count": null,
      "outputs": []
    },
    {
      "cell_type": "code",
      "metadata": {
        "id": "4eSghzYG6vkL"
      },
      "source": [
        ""
      ],
      "execution_count": null,
      "outputs": []
    },
    {
      "cell_type": "code",
      "metadata": {
        "id": "fAZ95vYq6vfw"
      },
      "source": [
        ""
      ],
      "execution_count": null,
      "outputs": []
    },
    {
      "cell_type": "code",
      "metadata": {
        "id": "KWGeXsR96vdI"
      },
      "source": [
        ""
      ],
      "execution_count": null,
      "outputs": []
    },
    {
      "cell_type": "code",
      "metadata": {
        "id": "ZGIZ6LMcI2tG"
      },
      "source": [
        ""
      ],
      "execution_count": null,
      "outputs": []
    }
  ]
}