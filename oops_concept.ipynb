{
  "nbformat": 4,
  "nbformat_minor": 0,
  "metadata": {
    "colab": {
      "name": "oops concept.ipynb",
      "provenance": [],
      "authorship_tag": "ABX9TyOSmH3Nym8gIZ1tpdcZ0zhq",
      "include_colab_link": true
    },
    "kernelspec": {
      "name": "python3",
      "display_name": "Python 3"
    },
    "language_info": {
      "name": "python"
    }
  },
  "cells": [
    {
      "cell_type": "markdown",
      "metadata": {
        "id": "view-in-github",
        "colab_type": "text"
      },
      "source": [
        "<a href=\"https://colab.research.google.com/github/srikrishna-stack/python-problem-solving/blob/main/oops_concept.ipynb\" target=\"_parent\"><img src=\"https://colab.research.google.com/assets/colab-badge.svg\" alt=\"Open In Colab\"/></a>"
      ]
    },
    {
      "cell_type": "markdown",
      "metadata": {
        "id": "0071CSizRtdE"
      },
      "source": [
        "Classes\n",
        "Just like every other Object Oriented Programming language Python supports classes. Let’s look at some points on Python classes.\n",
        "\n",
        "    Classes are created by keyword class.\n",
        "    Attributes are the variables that belong to class.\n",
        "    Attributes are always public and can be accessed using dot (.) operator. Eg.: Myclass.Myattribute"
      ]
    },
    {
      "cell_type": "code",
      "metadata": {
        "colab": {
          "base_uri": "https://localhost:8080/"
        },
        "id": "FDh5TQbqRdE0",
        "outputId": "ac541d56-b56d-44d7-c737-9f1dd6ad5ab8"
      },
      "source": [
        "#a sample method for classes\n",
        "class myclass:\n",
        "  number=0\n",
        "  name=\"noname\"\n",
        "def main():\n",
        "  me=myclass()\n",
        "  me.number=117\n",
        "  me.name='srikrishna'\n",
        "  print(me.name+\" \"+str (me.number))\n",
        "  print(myclass.name)\n",
        "if __name__=='__main__': \n",
        "  main()\n"
      ],
      "execution_count": null,
      "outputs": [
        {
          "output_type": "stream",
          "text": [
            "srikrishna 117\n",
            "noname\n"
          ],
          "name": "stdout"
        }
      ]
    },
    {
      "cell_type": "markdown",
      "metadata": {
        "id": "8tMZKYERTur8"
      },
      "source": [
        "Methods\n",
        "Method is a bunch of code that is intended to perform a particular task in your Python’s code.\n",
        "\n",
        "    Function that belongs to a class is called an Method.\n",
        "    All methods require ‘self’ parameter. If you have coded in other OOP language you can think of ‘self’ as the ‘this’ keyword which is used for the current object. It unhides the current instance variable.’self’ mostly work like ‘this’.\n",
        "    ‘def’ keyword is used to create a new method."
      ]
    },
    {
      "cell_type": "code",
      "metadata": {
        "colab": {
          "base_uri": "https://localhost:8080/"
        },
        "id": "NBu-npEIRc4O",
        "outputId": "741ea1b8-4a8a-451c-e754-e17ee71f0555"
      },
      "source": [
        "class vector2D:\n",
        "  x=0.0\n",
        "  y=0.0\n",
        "  def set(self,x,y):\n",
        "    self.x=x\n",
        "    self.y=y\n",
        "def main():\n",
        "  vec=vector2D()\n",
        "  vec.set(5,6)\n",
        "  print(\"x:\"+str(vec.x)+\",y:\"+str(vec.y))\n",
        "if __name__==\"__main__\":\n",
        "  main()"
      ],
      "execution_count": null,
      "outputs": [
        {
          "output_type": "stream",
          "text": [
            "x:5,y:6\n"
          ],
          "name": "stdout"
        }
      ]
    },
    {
      "cell_type": "markdown",
      "metadata": {
        "id": "SmPxSj8QWm7-"
      },
      "source": [
        "Inheritance\n",
        "Inheritance is defined as a way in which a particular class inherits features from its base class.Base class is also knows as ‘Superclass’ and the class which inherits from the Superclass is knows as ‘Subclass’"
      ]
    },
    {
      "cell_type": "code",
      "metadata": {
        "id": "_KqsiG4hWmuA"
      },
      "source": [
        "#syntax for inherintence\n",
        "class derived-classname(super-classname)"
      ],
      "execution_count": null,
      "outputs": []
    },
    {
      "cell_type": "code",
      "metadata": {
        "colab": {
          "base_uri": "https://localhost:8080/"
        },
        "id": "CHHlp2nQRc0K",
        "outputId": "30fa910e-4246-4f91-8a7b-f4796eb320dd"
      },
      "source": [
        "#code for working of inheritance\n",
        "#The super() function returns an object that represents the parent class\n",
        "class pet:\n",
        "  def __init__(self,name,age):\n",
        "    self.name=name\n",
        "    self.age=age\n",
        "class cat(pet):\n",
        "  def __init__(self,name,age):\n",
        "    super(). __init__(name,age)\n",
        "def main():\n",
        "  thepet=pet(\"pet\",1)\n",
        "  jess=cat(\"jess\",3)\n",
        "  print(\"Is jess a cat? \" +str(isinstance(jess, cat)))\n",
        "  print(\"Is jess a pet? \" +str(isinstance(jess, pet)))\n",
        "  print(\"Is the pet a cat? \"+str(isinstance(thepet, cat)))\n",
        "  print(\"Is thePet a Pet? \" +str(isinstance(thepet, pet)))\n",
        "  print(jess.name)\n",
        "  print(jess.age)\n",
        "  \n",
        "if __name__==\"__main__\":\n",
        "  main()"
      ],
      "execution_count": null,
      "outputs": [
        {
          "output_type": "stream",
          "text": [
            "Is jess a cat? True\n",
            "Is jess a pet? True\n",
            "Is the pet a cat? False\n",
            "Is thePet a Pet? True\n",
            "jess\n",
            "3\n"
          ],
          "name": "stdout"
        }
      ]
    },
    {
      "cell_type": "markdown",
      "metadata": {
        "id": "DO-hm6F_dR2g"
      },
      "source": [
        "Iterators\n",
        "Iterators are objects that can be iterated upon.\n",
        "\n",
        "    Python uses the __iter__() method to return an iterator object of the class.\n",
        "    The iterator object then uses the __next__() method to get the next item.\n",
        "    for loops stops when StopIteration Exception is raised."
      ]
    },
    {
      "cell_type": "code",
      "metadata": {
        "colab": {
          "base_uri": "https://localhost:8080/"
        },
        "id": "Kmuz3wOzRcwo",
        "outputId": "57021be0-b9d8-4de8-bba3-d5b3555b0699"
      },
      "source": [
        "class reverse:\n",
        "  def __init__(self,data):\n",
        "    self.data=data\n",
        "    self.index=len(data)\n",
        "  def __iter__(self):\n",
        "    return self\n",
        "  def __next__(self):\n",
        "    if self.index==0:\n",
        "      raise StopIteration\n",
        "    self.index=self.index-1\n",
        "    return self.data[self.index]\n",
        "def Main():\n",
        "  rev=reverse('drapsicle')\n",
        "  for char in rev:\n",
        "    print(char)\n",
        "  \n",
        "if __name__==\"__main__\":\n",
        "  Main()\n"
      ],
      "execution_count": null,
      "outputs": [
        {
          "output_type": "stream",
          "text": [
            "e\n",
            "l\n",
            "c\n",
            "i\n",
            "s\n",
            "p\n",
            "a\n",
            "r\n",
            "d\n"
          ],
          "name": "stdout"
        }
      ]
    },
    {
      "cell_type": "markdown",
      "metadata": {
        "id": "VHxSNzSTjYB0"
      },
      "source": [
        "Generators\n",
        "\n",
        "    Another way of creating iterators.\n",
        "    Uses a function rather than a separate class\n",
        "    Generates the background code for the next() and iter() methods\n",
        "    Uses a special statement called yield which saves the state of the generator and set a resume point for when next() is called again."
      ]
    },
    {
      "cell_type": "code",
      "metadata": {
        "colab": {
          "base_uri": "https://localhost:8080/"
        },
        "id": "VZ080vnRRctT",
        "outputId": "154cc175-b886-4cf6-de43-ecf99435c447"
      },
      "source": [
        "def Reverse(data):\n",
        "  for index in range(len(data)-1,-1,-1):\n",
        "    yield data[index]\n",
        "def main():\n",
        "  rev=Reverse(\"Harshh\")\n",
        "  for char in rev:\n",
        "    print(char)\n",
        "  data=\"Harshh\"\n",
        "  print(list(data[i] for i in range(len(data)-1,-1,-1)))\n",
        "if __name__==\"__main__\":\n",
        "  main()\n"
      ],
      "execution_count": null,
      "outputs": [
        {
          "output_type": "stream",
          "text": [
            "h\n",
            "h\n",
            "s\n",
            "r\n",
            "a\n",
            "H\n",
            "['h', 'h', 's', 'r', 'a', 'H']\n"
          ],
          "name": "stdout"
        }
      ]
    },
    {
      "cell_type": "markdown",
      "metadata": {
        "id": "PUxXXqnapZu0"
      },
      "source": [
        "**Classes**"
      ]
    },
    {
      "cell_type": "markdown",
      "metadata": {
        "id": "MkAOsCUtpZoh"
      },
      "source": [
        ""
      ]
    },
    {
      "cell_type": "code",
      "metadata": {
        "colab": {
          "base_uri": "https://localhost:8080/"
        },
        "id": "IGOjdmsoRcmR",
        "outputId": "eb18d7d0-3e7d-48a7-f6ef-28085dc035b5"
      },
      "source": [
        "#a simple program to create a class with a single  method\n",
        "class Test:\n",
        "  def fun(slef):\n",
        "    print(\"hello\")\n",
        "dict=Test()\n",
        "dict.fun()"
      ],
      "execution_count": null,
      "outputs": [
        {
          "output_type": "stream",
          "text": [
            "hello\n"
          ],
          "name": "stdout"
        }
      ]
    },
    {
      "cell_type": "code",
      "metadata": {
        "colab": {
          "base_uri": "https://localhost:8080/"
        },
        "id": "sYUn4Qu0pfTR",
        "outputId": "e8cc7d99-4a81-485d-da9e-a58f02006558"
      },
      "source": [
        "class person:\n",
        "  def __init__(self,name):\n",
        "    self.name=name\n",
        "  def say_hi(self):\n",
        "    print('hello,my name is',self.name)\n",
        "p=person('srikrishna')\n",
        "p.say_hi()"
      ],
      "execution_count": null,
      "outputs": [
        {
          "output_type": "stream",
          "text": [
            "hello,my name is srikrishna\n"
          ],
          "name": "stdout"
        }
      ]
    },
    {
      "cell_type": "markdown",
      "metadata": {
        "id": "VjQ2r1sAsFig"
      },
      "source": [
        "Class and Instance Variables (Or attributes) \n",
        "In Python, instance variables are variables whose value is assigned inside a constructor or method with self. \n",
        "Class variables are variables whose value is assigned in clas"
      ]
    },
    {
      "cell_type": "code",
      "metadata": {
        "colab": {
          "base_uri": "https://localhost:8080/"
        },
        "id": "nXfyg2-qpfQY",
        "outputId": "63d154fc-46e9-4f15-9c6c-07cc3a066897"
      },
      "source": [
        "class cssstudent:\n",
        "  #class variable\n",
        "  stream='cse'\n",
        "  def __init__(self,roll):\n",
        "    self.roll=roll\n",
        "    #instance variable\n",
        "    #aaccesing the class variables and instance variables through class fumction using or assinging ibjexts\n",
        "a=cssstudent(101)\n",
        "b=cssstudent(102)\n",
        "print(a.stream)\n",
        "print(b.stream)\n",
        "print(a.roll)\n",
        "print(b.roll)\n",
        "\n"
      ],
      "execution_count": null,
      "outputs": [
        {
          "output_type": "stream",
          "text": [
            "cse\n",
            "cse\n",
            "101\n",
            "102\n"
          ],
          "name": "stdout"
        }
      ]
    },
    {
      "cell_type": "markdown",
      "metadata": {
        "id": "bVkx-D9wtkZJ"
      },
      "source": [
        "We can define instance variables inside normal methods also."
      ]
    },
    {
      "cell_type": "code",
      "metadata": {
        "colab": {
          "base_uri": "https://localhost:8080/"
        },
        "id": "L6j0i5MxpfNZ",
        "outputId": "29fd514a-cfee-4678-be4e-bc9e7b08eeb1"
      },
      "source": [
        "\n",
        "class CSStudent:\n",
        "     \n",
        "    # Class Variable\n",
        "    stream = 'cse'     \n",
        "     \n",
        "    # The init method or constructor\n",
        "    def __init__(self, roll):\n",
        "         \n",
        "        # Instance Variable\n",
        "        self.roll = roll           \n",
        " \n",
        "    # Adds an instance variable\n",
        "    def setAddress(self, address):\n",
        "        self.address = address\n",
        "     \n",
        "    # Retrieves instance variable   \n",
        "    def getAddress(self):   \n",
        "        return self.address  \n",
        " \n",
        "\n",
        "a = CSStudent(101)\n",
        "a.setAddress(\"Noida, UP\")\n",
        "print(a.getAddress())"
      ],
      "execution_count": null,
      "outputs": [
        {
          "output_type": "stream",
          "text": [
            "Noida, UP\n"
          ],
          "name": "stdout"
        }
      ]
    },
    {
      "cell_type": "code",
      "metadata": {
        "id": "E5hYdN-opfIn"
      },
      "source": [
        "#creating a empty class\n",
        "class empty:\n",
        "  pass"
      ],
      "execution_count": null,
      "outputs": []
    },
    {
      "cell_type": "markdown",
      "metadata": {
        "id": "OXQbPTJdxDdM"
      },
      "source": [
        "### ***[Data hiding and object printing in oops concept]"
      ]
    },
    {
      "cell_type": "code",
      "metadata": {
        "colab": {
          "base_uri": "https://localhost:8080/",
          "height": 237
        },
        "id": "knJCqhwGpfEr",
        "outputId": "09ae9be2-ee7e-46cc-a6f1-065b95f2ec5b"
      },
      "source": [
        "class myclass:\n",
        "  __hiddenvariable=0\n",
        "  def add(self,increment):\n",
        "    self.__hiddenvariable+=increment\n",
        "    print(self.__hiddenvariable)\n",
        "myobject=myclass()\n",
        "myobject.add(2)\n",
        "myobject.add(5)\n",
        "print(myobject.__hiddenvariable)"
      ],
      "execution_count": null,
      "outputs": [
        {
          "output_type": "stream",
          "text": [
            "2\n",
            "7\n"
          ],
          "name": "stdout"
        },
        {
          "output_type": "error",
          "ename": "AttributeError",
          "evalue": "ignored",
          "traceback": [
            "\u001b[0;31m---------------------------------------------------------------------------\u001b[0m",
            "\u001b[0;31mAttributeError\u001b[0m                            Traceback (most recent call last)",
            "\u001b[0;32m<ipython-input-40-260ee536bb2e>\u001b[0m in \u001b[0;36m<module>\u001b[0;34m()\u001b[0m\n\u001b[1;32m      7\u001b[0m \u001b[0mmyobject\u001b[0m\u001b[0;34m.\u001b[0m\u001b[0madd\u001b[0m\u001b[0;34m(\u001b[0m\u001b[0;36m2\u001b[0m\u001b[0;34m)\u001b[0m\u001b[0;34m\u001b[0m\u001b[0;34m\u001b[0m\u001b[0m\n\u001b[1;32m      8\u001b[0m \u001b[0mmyobject\u001b[0m\u001b[0;34m.\u001b[0m\u001b[0madd\u001b[0m\u001b[0;34m(\u001b[0m\u001b[0;36m5\u001b[0m\u001b[0;34m)\u001b[0m\u001b[0;34m\u001b[0m\u001b[0;34m\u001b[0m\u001b[0m\n\u001b[0;32m----> 9\u001b[0;31m \u001b[0mprint\u001b[0m\u001b[0;34m(\u001b[0m\u001b[0mmyobject\u001b[0m\u001b[0;34m.\u001b[0m\u001b[0m__hiddenvariable\u001b[0m\u001b[0;34m)\u001b[0m\u001b[0;34m\u001b[0m\u001b[0;34m\u001b[0m\u001b[0m\n\u001b[0m",
            "\u001b[0;31mAttributeError\u001b[0m: 'myclass' object has no attribute '__hiddenvariable'"
          ]
        }
      ]
    },
    {
      "cell_type": "code",
      "metadata": {
        "colab": {
          "base_uri": "https://localhost:8080/"
        },
        "id": "yGBFN50KpfCE",
        "outputId": "3a1e1b17-f985-4c49-a9cd-8dfcad4d4951"
      },
      "source": [
        "#in above program we can accseing the hidden it throws an exception\n",
        "#we can access the variable with the tricky thing\n",
        "class myclass:\n",
        "  __hiddenvariable=0\n",
        "  def add(self,increment):\n",
        "    self.__hiddenvariable+=increment\n",
        "    print(self.__hiddenvariable)\n",
        "myobject=myclass()\n",
        "myobject.add(2)\n",
        "myobject.add(5)\n",
        "print(myobject._myclass__hiddenvariable)"
      ],
      "execution_count": null,
      "outputs": [
        {
          "output_type": "stream",
          "text": [
            "2\n",
            "7\n",
            "7\n"
          ],
          "name": "stdout"
        }
      ]
    },
    {
      "cell_type": "markdown",
      "metadata": {
        "id": "Kw-S_3KXIUDW"
      },
      "source": [
        "priting objects in  oops concept we will use __repr__ or __str__ methods"
      ]
    },
    {
      "cell_type": "code",
      "metadata": {
        "id": "Ke8Gfu6Bpe9Z",
        "colab": {
          "base_uri": "https://localhost:8080/"
        },
        "outputId": "62ef1e95-c793-4ed6-e584-bd31d4664195"
      },
      "source": [
        "class Test:\n",
        "    def __init__(self, a, b):\n",
        "        self.a = a\n",
        "        self.b = b\n",
        "  \n",
        "    def __repr__(self):\n",
        "        return \"Test a:%s b:%s\" % (self.a, self.b)\n",
        "  \n",
        "    def __str__(self):\n",
        "        return \"From str method of Test: a is %s,\" \\\n",
        "              \"b is %s\" % (self.a, self.b)\n",
        "       \n",
        "t = Test(1234, 5678)\n",
        "print(t) # This calls __str__()\n",
        "print([t]) # This calls __repr__()"
      ],
      "execution_count": null,
      "outputs": [
        {
          "output_type": "stream",
          "text": [
            "From str method of Test: a is 1234,b is 5678\n",
            "[Test a:1234 b:5678]\n"
          ],
          "name": "stdout"
        }
      ]
    },
    {
      "cell_type": "code",
      "metadata": {
        "id": "6hqPc8_XRci0",
        "colab": {
          "base_uri": "https://localhost:8080/"
        },
        "outputId": "df2db277-8b54-43a3-fd4c-0769cc62b034"
      },
      "source": [
        "class Test:\n",
        "    def __init__(self, a, b):\n",
        "        self.a = a\n",
        "        self.b = b\n",
        "  \n",
        "# Driver Code        \n",
        "t = Test(1234, 5678)\n",
        "print(t) "
      ],
      "execution_count": null,
      "outputs": [
        {
          "output_type": "stream",
          "text": [
            "<__main__.Test object at 0x7f320d8ef310>\n"
          ],
          "name": "stdout"
        }
      ]
    },
    {
      "cell_type": "code",
      "metadata": {
        "id": "aWSkfMNLRcfG",
        "colab": {
          "base_uri": "https://localhost:8080/"
        },
        "outputId": "4ccd4e0f-f0f6-4318-981e-5aa4f365c597"
      },
      "source": [
        "class Test:\n",
        "    def __init__(self, a, b):\n",
        "        self.a = a\n",
        "        self.b = b\n",
        "    def __repr__(self):\n",
        "        return \"Test a:%s b:%s\" % (self.a, self.b)\n",
        "\n",
        "  \n",
        "# Driver Code        \n",
        "t = Test(1234, 5678)\n",
        "print(str(t))"
      ],
      "execution_count": null,
      "outputs": [
        {
          "output_type": "stream",
          "text": [
            "Test a:1234 b:5678\n"
          ],
          "name": "stdout"
        }
      ]
    },
    {
      "cell_type": "markdown",
      "metadata": {
        "id": "d9lEtipnSe31"
      },
      "source": [
        "inheritance examples of object,issubclass and super class\n"
      ]
    },
    {
      "cell_type": "code",
      "metadata": {
        "id": "vcP_l4fVRcb6",
        "colab": {
          "base_uri": "https://localhost:8080/"
        },
        "outputId": "111d0049-93fe-496b-96f3-65058ef2979d"
      },
      "source": [
        "class person(object):\n",
        "  def __init__(self,name):\n",
        "    self.name=name\n",
        "  def getname(self):\n",
        "    return self.name\n",
        "  def isemployee(self):\n",
        "    return False\n",
        "class employee(person):\n",
        "  def isemployee(self):\n",
        "    return True\n",
        "\n",
        "emp=person('geek1')\n",
        "print(emp.getname(),emp.isemployee())\n",
        "emp=employee('geek2')\n",
        "print(emp.getname(),emp.isemployee())"
      ],
      "execution_count": null,
      "outputs": [
        {
          "output_type": "stream",
          "text": [
            "geek1 False\n",
            "geek2 True\n"
          ],
          "name": "stdout"
        }
      ]
    },
    {
      "cell_type": "code",
      "metadata": {
        "id": "ny-925e0RYJ1",
        "colab": {
          "base_uri": "https://localhost:8080/"
        },
        "outputId": "8a8983e6-283e-4c87-f537-ec2a539ffb26"
      },
      "source": [
        "#checking a class is subclass \n",
        "class base(object):\n",
        "  pass\n",
        "class dervied(base):\n",
        "  pass\n",
        "print(issubclass(dervied,base))\n",
        "print(issubclass(base,dervied))"
      ],
      "execution_count": null,
      "outputs": [
        {
          "output_type": "stream",
          "text": [
            "True\n",
            "False\n"
          ],
          "name": "stdout"
        }
      ]
    },
    {
      "cell_type": "code",
      "metadata": {
        "colab": {
          "base_uri": "https://localhost:8080/"
        },
        "id": "PCMsU59jlWSp",
        "outputId": "66a6c46e-ab6c-4237-8d50-148c5fc48b6a"
      },
      "source": [
        "#python suppourt n multiple inheritence\n",
        "class base1(object):\n",
        "  def __init__(self):\n",
        "    self.str1='geeks1'\n",
        "    print(\"base1\")\n",
        "class base2(object):\n",
        "  def __init__(self):\n",
        "    self.str2='geeks2'\n",
        "    print('base2')\n",
        "class derived(base1,base2):\n",
        "  def __init__(self):\n",
        "    base1.__init__(self)\n",
        "    base2.__init__(self)\n",
        "  \n",
        "    print(\"derived\")\n",
        "  def printstrs(self):\n",
        "    print(self.str1,self.str2)\n",
        "ob=derived()\n",
        "ob.printstrs()\n"
      ],
      "execution_count": null,
      "outputs": [
        {
          "output_type": "stream",
          "text": [
            "base1\n",
            "base2\n",
            "derived\n",
            "geeks1 geeks2\n"
          ],
          "name": "stdout"
        }
      ]
    },
    {
      "cell_type": "markdown",
      "metadata": {
        "id": "t1kBpDlVo1ST"
      },
      "source": [
        "aceesing parent members in a subclass\n",
        "using parent class name\n"
      ]
    },
    {
      "cell_type": "code",
      "metadata": {
        "colab": {
          "base_uri": "https://localhost:8080/"
        },
        "id": "5DlHDXNeo1CV",
        "outputId": "c0da786f-c711-4bae-e4a6-5bb5b6c55e05"
      },
      "source": [
        "class base(object):\n",
        "  def __init__(self,x):\n",
        "    self.x=x\n",
        "class derived(base):\n",
        "  def __init__(self,x,y):\n",
        "    base.x=x\n",
        "    self.y=y\n",
        "  def printxy(self):\n",
        "    print(base.x,self.y)\n",
        "\n",
        "d=derived(10,20)\n",
        "d.printxy()\n"
      ],
      "execution_count": null,
      "outputs": [
        {
          "output_type": "stream",
          "text": [
            "10 20\n"
          ],
          "name": "stdout"
        }
      ]
    },
    {
      "cell_type": "code",
      "metadata": {
        "colab": {
          "base_uri": "https://localhost:8080/"
        },
        "id": "ISrAbAxQo088",
        "outputId": "81f3fb55-5262-40aa-b665-092db4e23ce7"
      },
      "source": [
        "#using super element\n",
        "class base(object):\n",
        "  def __init__(self,x):\n",
        "    self.x=x\n",
        "class derived(base):\n",
        "  def __init__(self,x,y):\n",
        "    super(derived,self).__init__(x)\n",
        "    self.y=y\n",
        "  def printxy(self):\n",
        "    print(self.x,self.y)\n",
        "d=derived(10,20)\n",
        "d.printxy()"
      ],
      "execution_count": null,
      "outputs": [
        {
          "output_type": "stream",
          "text": [
            "10 20\n"
          ],
          "name": "stdout"
        }
      ]
    },
    {
      "cell_type": "code",
      "metadata": {
        "colab": {
          "base_uri": "https://localhost:8080/",
          "height": 219
        },
        "id": "dioea0mzo03h",
        "outputId": "cab90c67-44b2-4a18-9671-66285f7323cb"
      },
      "source": [
        "#inherited example\n",
        "def  person(object):\n",
        "  def __init__(self,name):\n",
        "    self.name=name\n",
        "  def getname(self):\n",
        "    return self.name\n",
        "  def isemployee(self):\n",
        "    return False\n",
        "def Employee(person):\n",
        "  def __init__(self,name,Id):\n",
        "     super(Employee, self).__init__(name)\n",
        "     self.empId=Id\n",
        "  def isemployee(self):\n",
        "     return True\n",
        "  def getid(self):\n",
        "     return self.empId\n",
        "emp=Employee(\"sree1\",\"r161724\")\n",
        "print(emp.getname(),emp.isemployee(),emp.getid())"
      ],
      "execution_count": null,
      "outputs": [
        {
          "output_type": "error",
          "ename": "TypeError",
          "evalue": "ignored",
          "traceback": [
            "\u001b[0;31m---------------------------------------------------------------------------\u001b[0m",
            "\u001b[0;31mTypeError\u001b[0m                                 Traceback (most recent call last)",
            "\u001b[0;32m<ipython-input-24-a484c78ce2aa>\u001b[0m in \u001b[0;36m<module>\u001b[0;34m()\u001b[0m\n\u001b[1;32m     15\u001b[0m   \u001b[0;32mdef\u001b[0m \u001b[0mgetid\u001b[0m\u001b[0;34m(\u001b[0m\u001b[0mself\u001b[0m\u001b[0;34m)\u001b[0m\u001b[0;34m:\u001b[0m\u001b[0;34m\u001b[0m\u001b[0;34m\u001b[0m\u001b[0m\n\u001b[1;32m     16\u001b[0m      \u001b[0;32mreturn\u001b[0m \u001b[0mself\u001b[0m\u001b[0;34m.\u001b[0m\u001b[0mempId\u001b[0m\u001b[0;34m\u001b[0m\u001b[0;34m\u001b[0m\u001b[0m\n\u001b[0;32m---> 17\u001b[0;31m \u001b[0memp\u001b[0m\u001b[0;34m=\u001b[0m\u001b[0mEmployee\u001b[0m\u001b[0;34m(\u001b[0m\u001b[0;34m\"sree1\"\u001b[0m\u001b[0;34m,\u001b[0m\u001b[0;34m\"r161724\"\u001b[0m\u001b[0;34m)\u001b[0m\u001b[0;34m\u001b[0m\u001b[0;34m\u001b[0m\u001b[0m\n\u001b[0m\u001b[1;32m     18\u001b[0m \u001b[0mprint\u001b[0m\u001b[0;34m(\u001b[0m\u001b[0memp\u001b[0m\u001b[0;34m.\u001b[0m\u001b[0mgetname\u001b[0m\u001b[0;34m(\u001b[0m\u001b[0;34m)\u001b[0m\u001b[0;34m,\u001b[0m\u001b[0memp\u001b[0m\u001b[0;34m.\u001b[0m\u001b[0misemployee\u001b[0m\u001b[0;34m(\u001b[0m\u001b[0;34m)\u001b[0m\u001b[0;34m,\u001b[0m\u001b[0memp\u001b[0m\u001b[0;34m.\u001b[0m\u001b[0mgetid\u001b[0m\u001b[0;34m(\u001b[0m\u001b[0;34m)\u001b[0m\u001b[0;34m)\u001b[0m\u001b[0;34m\u001b[0m\u001b[0;34m\u001b[0m\u001b[0m\n",
            "\u001b[0;31mTypeError\u001b[0m: Employee() takes 1 positional argument but 2 were given"
          ]
        }
      ]
    },
    {
      "cell_type": "code",
      "metadata": {
        "colab": {
          "base_uri": "https://localhost:8080/"
        },
        "id": "gOPtzo_No0ym",
        "outputId": "201aa925-03ca-42b3-c1d8-0412f0117935"
      },
      "source": [
        "class Person(object):\n",
        "    def __init__(self, name):\n",
        "        self.name = name\n",
        "          \n",
        "    def getName(self):\n",
        "        return self.name\n",
        "      \n",
        "    def isEmployee(self):\n",
        "        return False\n",
        "  \n",
        "# Inherited or Subclass (Note Person in bracket)\n",
        "class Employee(Person):\n",
        "    def __init__(self, name, eid):\n",
        "  \n",
        "        \n",
        "        super(Employee, self).__init__(name)\n",
        "        self.empID = eid\n",
        "          \n",
        "    def isEmployee(self):\n",
        "        return True\n",
        "          \n",
        "    def getID(self):\n",
        "        return self.empID\n",
        "\n",
        "emp = Employee(\"Geek1\", \"E101\") \n",
        "print(emp.getName(), emp.isEmployee(), emp.getID())"
      ],
      "execution_count": null,
      "outputs": [
        {
          "output_type": "stream",
          "text": [
            "Geek1 True E101\n"
          ],
          "name": "stdout"
        }
      ]
    },
    {
      "cell_type": "markdown",
      "metadata": {
        "id": "hpfxGQnz2b_G"
      },
      "source": [
        "class method can take cls as a parameter in it allows modification of values for example it takes factory values\n",
        "staticmethod didnt take any values and it cant modify the values init it is a utility functon "
      ]
    },
    {
      "cell_type": "code",
      "metadata": {
        "colab": {
          "base_uri": "https://localhost:8080/"
        },
        "id": "NuxWVkfXo0ut",
        "outputId": "33df894c-c943-41d0-a402-27707a1ad1c8"
      },
      "source": [
        "from datetime import date\n",
        "class person:\n",
        "  def __init__(self,name,age):\n",
        "    self.name=name\n",
        "    self.age=age\n",
        "  #it is a class method\n",
        "  @classmethod\n",
        "  def fromBirthyear(cls,name,year):\n",
        "    return cls(name,date.today().year-year)\n",
        "  #it is a static method\n",
        "  def isadult(age):\n",
        "    return age>18\n",
        "person1=person('srikrishna',21)\n",
        "person2=person.fromBirthyear('srikrishna',2000)\n",
        "print(person1.age)\n",
        "print(person2.age)\n",
        "print(person.isadult(21))\n",
        "\n",
        "\n"
      ],
      "execution_count": null,
      "outputs": [
        {
          "output_type": "stream",
          "text": [
            "21\n",
            "21\n",
            "True\n"
          ],
          "name": "stdout"
        }
      ]
    },
    {
      "cell_type": "markdown",
      "metadata": {
        "id": "Gkj_Avik7BCG"
      },
      "source": [
        " polymorphism means same function name (but different signatures) being uses for different types."
      ]
    },
    {
      "cell_type": "code",
      "metadata": {
        "colab": {
          "base_uri": "https://localhost:8080/"
        },
        "id": "AQhEJ3kZo0lg",
        "outputId": "c7c8fff7-73ed-45e8-80cc-cd1ae161ac87"
      },
      "source": [
        "#polymorphism\n",
        "def add(x,y,z=0):\n",
        "  return (x+y)+z\n",
        "print(add(2,3))\n",
        "print(add(2,3,5))\n",
        "\n"
      ],
      "execution_count": null,
      "outputs": [
        {
          "output_type": "stream",
          "text": [
            "5\n",
            "10\n"
          ],
          "name": "stdout"
        }
      ]
    },
    {
      "cell_type": "code",
      "metadata": {
        "colab": {
          "base_uri": "https://localhost:8080/"
        },
        "id": "NtGOPgQCo0h9",
        "outputId": "deb7168d-fbae-4ba7-bf69-9e07bd352339"
      },
      "source": [
        "class india:\n",
        "  def capital(self):\n",
        "    print(\"new delhi is the captial of india\")\n",
        "  def language(self):\n",
        "    print(\"hindi is the famous language in indai\")\n",
        "  def type(self):\n",
        "    print(\"india is developing country\")\n",
        "class usa():\n",
        "  def capital(self):\n",
        "    print(\"washing don dc is the capital of usa\")\n",
        "  def language(self):\n",
        "    print(\"english is the widely using language in usa\")\n",
        "  def type(self):\n",
        "    print(\"it is a developed country\")\n",
        "obj_ind=india()\n",
        "obj_usa=usa()\n",
        "for country in (obj_ind,obj_usa):\n",
        "  country.capital()\n",
        "  country.language()\n",
        "  country.type()"
      ],
      "execution_count": null,
      "outputs": [
        {
          "output_type": "stream",
          "text": [
            "new delhi is the captial of india\n",
            "hindi is the famous language in indai\n",
            "india is developing country\n",
            "washing don dc is the capital of usa\n",
            "english is the widely using language in usa\n",
            "it is a developed country\n"
          ],
          "name": "stdout"
        }
      ]
    },
    {
      "cell_type": "markdown",
      "metadata": {
        "id": "NnqzvW_K9Hwk"
      },
      "source": [
        "# ***Polymorphism with Inheritance:***"
      ]
    },
    {
      "cell_type": "code",
      "metadata": {
        "id": "YoFDU2M-7E0g"
      },
      "source": [
        "#let us define in polymorpism methods in the child class have the same name in the parent class,in inheritenace it is not possible \n",
        "#to change the method from child class\n",
        "#in polymorphism we can easily modilfy the inherited parent class from child class\n",
        "#there is a example\n",
        "class bird():\n",
        "  def intro(self):\n",
        "    print(\"there are many type of birds\")\n",
        "  def flight(self):\n",
        "    print(\"most of the birds fly but some cannot\")"
      ],
      "execution_count": null,
      "outputs": []
    },
    {
      "cell_type": "code",
      "metadata": {
        "id": "-TkZjNg87EvX"
      },
      "source": [
        ""
      ],
      "execution_count": null,
      "outputs": []
    },
    {
      "cell_type": "code",
      "metadata": {
        "id": "keyg_LAg7Eqn"
      },
      "source": [
        ""
      ],
      "execution_count": null,
      "outputs": []
    },
    {
      "cell_type": "code",
      "metadata": {
        "id": "TGsrrrll7EnT"
      },
      "source": [
        ""
      ],
      "execution_count": null,
      "outputs": []
    },
    {
      "cell_type": "code",
      "metadata": {
        "id": "CBOO9KNs7EjA"
      },
      "source": [
        ""
      ],
      "execution_count": null,
      "outputs": []
    },
    {
      "cell_type": "code",
      "metadata": {
        "id": "y6SQIH3_7Eea"
      },
      "source": [
        ""
      ],
      "execution_count": null,
      "outputs": []
    },
    {
      "cell_type": "code",
      "metadata": {
        "id": "yCp_W2417EZo"
      },
      "source": [
        ""
      ],
      "execution_count": null,
      "outputs": []
    },
    {
      "cell_type": "code",
      "metadata": {
        "id": "7X-IhL7N7EUT"
      },
      "source": [
        ""
      ],
      "execution_count": null,
      "outputs": []
    },
    {
      "cell_type": "code",
      "metadata": {
        "id": "wMzs-qUToD1y"
      },
      "source": [
        ""
      ],
      "execution_count": null,
      "outputs": []
    }
  ]
}