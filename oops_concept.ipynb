{
  "nbformat": 4,
  "nbformat_minor": 0,
  "metadata": {
    "colab": {
      "name": "oops concept.ipynb",
      "provenance": [],
      "collapsed_sections": [
        "OXQbPTJdxDdM"
      ],
      "authorship_tag": "ABX9TyOQg1O+BVh5UCF9c9M5PYhA",
      "include_colab_link": true
    },
    "kernelspec": {
      "name": "python3",
      "display_name": "Python 3"
    },
    "language_info": {
      "name": "python"
    }
  },
  "cells": [
    {
      "cell_type": "markdown",
      "metadata": {
        "id": "view-in-github",
        "colab_type": "text"
      },
      "source": [
        "<a href=\"https://colab.research.google.com/github/srikrishna-stack/python-problem-solving/blob/main/oops_concept.ipynb\" target=\"_parent\"><img src=\"https://colab.research.google.com/assets/colab-badge.svg\" alt=\"Open In Colab\"/></a>"
      ]
    },
    {
      "cell_type": "markdown",
      "metadata": {
        "id": "0071CSizRtdE"
      },
      "source": [
        "Classes\n",
        "Just like every other Object Oriented Programming language Python supports classes. Let’s look at some points on Python classes.\n",
        "\n",
        "    Classes are created by keyword class.\n",
        "    Attributes are the variables that belong to class.\n",
        "    Attributes are always public and can be accessed using dot (.) operator. Eg.: Myclass.Myattribute"
      ]
    },
    {
      "cell_type": "code",
      "metadata": {
        "colab": {
          "base_uri": "https://localhost:8080/"
        },
        "id": "FDh5TQbqRdE0",
        "outputId": "ac541d56-b56d-44d7-c737-9f1dd6ad5ab8"
      },
      "source": [
        "#a sample method for classes\n",
        "class myclass:\n",
        "  number=0\n",
        "  name=\"noname\"\n",
        "def main():\n",
        "  me=myclass()\n",
        "  me.number=117\n",
        "  me.name='srikrishna'\n",
        "  print(me.name+\" \"+str (me.number))\n",
        "  print(myclass.name)\n",
        "if __name__=='__main__': \n",
        "  main()\n"
      ],
      "execution_count": null,
      "outputs": [
        {
          "output_type": "stream",
          "text": [
            "srikrishna 117\n",
            "noname\n"
          ],
          "name": "stdout"
        }
      ]
    },
    {
      "cell_type": "markdown",
      "metadata": {
        "id": "8tMZKYERTur8"
      },
      "source": [
        "Methods\n",
        "Method is a bunch of code that is intended to perform a particular task in your Python’s code.\n",
        "\n",
        "    Function that belongs to a class is called an Method.\n",
        "    All methods require ‘self’ parameter. If you have coded in other OOP language you can think of ‘self’ as the ‘this’ keyword which is used for the current object. It unhides the current instance variable.’self’ mostly work like ‘this’.\n",
        "    ‘def’ keyword is used to create a new method."
      ]
    },
    {
      "cell_type": "code",
      "metadata": {
        "colab": {
          "base_uri": "https://localhost:8080/"
        },
        "id": "NBu-npEIRc4O",
        "outputId": "741ea1b8-4a8a-451c-e754-e17ee71f0555"
      },
      "source": [
        "class vector2D:\n",
        "  x=0.0\n",
        "  y=0.0\n",
        "  def set(self,x,y):\n",
        "    self.x=x\n",
        "    self.y=y\n",
        "def main():\n",
        "  vec=vector2D()\n",
        "  vec.set(5,6)\n",
        "  print(\"x:\"+str(vec.x)+\",y:\"+str(vec.y))\n",
        "if __name__==\"__main__\":\n",
        "  main()"
      ],
      "execution_count": null,
      "outputs": [
        {
          "output_type": "stream",
          "text": [
            "x:5,y:6\n"
          ],
          "name": "stdout"
        }
      ]
    },
    {
      "cell_type": "markdown",
      "metadata": {
        "id": "SmPxSj8QWm7-"
      },
      "source": [
        "Inheritance\n",
        "Inheritance is defined as a way in which a particular class inherits features from its base class.Base class is also knows as ‘Superclass’ and the class which inherits from the Superclass is knows as ‘Subclass’"
      ]
    },
    {
      "cell_type": "code",
      "metadata": {
        "id": "_KqsiG4hWmuA"
      },
      "source": [
        "#syntax for inherintence\n",
        "class derived-classname(super-classname)"
      ],
      "execution_count": null,
      "outputs": []
    },
    {
      "cell_type": "code",
      "metadata": {
        "colab": {
          "base_uri": "https://localhost:8080/"
        },
        "id": "CHHlp2nQRc0K",
        "outputId": "30fa910e-4246-4f91-8a7b-f4796eb320dd"
      },
      "source": [
        "#code for working of inheritance\n",
        "#The super() function returns an object that represents the parent class\n",
        "class pet:\n",
        "  def __init__(self,name,age):\n",
        "    self.name=name\n",
        "    self.age=age\n",
        "class cat(pet):\n",
        "  def __init__(self,name,age):\n",
        "    super(). __init__(name,age)\n",
        "def main():\n",
        "  thepet=pet(\"pet\",1)\n",
        "  jess=cat(\"jess\",3)\n",
        "  print(\"Is jess a cat? \" +str(isinstance(jess, cat)))\n",
        "  print(\"Is jess a pet? \" +str(isinstance(jess, pet)))\n",
        "  print(\"Is the pet a cat? \"+str(isinstance(thepet, cat)))\n",
        "  print(\"Is thePet a Pet? \" +str(isinstance(thepet, pet)))\n",
        "  print(jess.name)\n",
        "  print(jess.age)\n",
        "  \n",
        "if __name__==\"__main__\":\n",
        "  main()"
      ],
      "execution_count": null,
      "outputs": [
        {
          "output_type": "stream",
          "text": [
            "Is jess a cat? True\n",
            "Is jess a pet? True\n",
            "Is the pet a cat? False\n",
            "Is thePet a Pet? True\n",
            "jess\n",
            "3\n"
          ],
          "name": "stdout"
        }
      ]
    },
    {
      "cell_type": "markdown",
      "metadata": {
        "id": "DO-hm6F_dR2g"
      },
      "source": [
        "Iterators\n",
        "Iterators are objects that can be iterated upon.\n",
        "\n",
        "    Python uses the __iter__() method to return an iterator object of the class.\n",
        "    The iterator object then uses the __next__() method to get the next item.\n",
        "    for loops stops when StopIteration Exception is raised."
      ]
    },
    {
      "cell_type": "code",
      "metadata": {
        "colab": {
          "base_uri": "https://localhost:8080/"
        },
        "id": "Kmuz3wOzRcwo",
        "outputId": "57021be0-b9d8-4de8-bba3-d5b3555b0699"
      },
      "source": [
        "class reverse:\n",
        "  def __init__(self,data):\n",
        "    self.data=data\n",
        "    self.index=len(data)\n",
        "  def __iter__(self):\n",
        "    return self\n",
        "  def __next__(self):\n",
        "    if self.index==0:\n",
        "      raise StopIteration\n",
        "    self.index=self.index-1\n",
        "    return self.data[self.index]\n",
        "def Main():\n",
        "  rev=reverse('drapsicle')\n",
        "  for char in rev:\n",
        "    print(char)\n",
        "  \n",
        "if __name__==\"__main__\":\n",
        "  Main()\n"
      ],
      "execution_count": null,
      "outputs": [
        {
          "output_type": "stream",
          "text": [
            "e\n",
            "l\n",
            "c\n",
            "i\n",
            "s\n",
            "p\n",
            "a\n",
            "r\n",
            "d\n"
          ],
          "name": "stdout"
        }
      ]
    },
    {
      "cell_type": "markdown",
      "metadata": {
        "id": "VHxSNzSTjYB0"
      },
      "source": [
        "Generators\n",
        "\n",
        "    Another way of creating iterators.\n",
        "    Uses a function rather than a separate class\n",
        "    Generates the background code for the next() and iter() methods\n",
        "    Uses a special statement called yield which saves the state of the generator and set a resume point for when next() is called again."
      ]
    },
    {
      "cell_type": "code",
      "metadata": {
        "colab": {
          "base_uri": "https://localhost:8080/"
        },
        "id": "VZ080vnRRctT",
        "outputId": "154cc175-b886-4cf6-de43-ecf99435c447"
      },
      "source": [
        "def Reverse(data):\n",
        "  for index in range(len(data)-1,-1,-1):\n",
        "    yield data[index]\n",
        "def main():\n",
        "  rev=Reverse(\"Harshh\")\n",
        "  for char in rev:\n",
        "    print(char)\n",
        "  data=\"Harshh\"\n",
        "  print(list(data[i] for i in range(len(data)-1,-1,-1)))\n",
        "if __name__==\"__main__\":\n",
        "  main()\n"
      ],
      "execution_count": null,
      "outputs": [
        {
          "output_type": "stream",
          "text": [
            "h\n",
            "h\n",
            "s\n",
            "r\n",
            "a\n",
            "H\n",
            "['h', 'h', 's', 'r', 'a', 'H']\n"
          ],
          "name": "stdout"
        }
      ]
    },
    {
      "cell_type": "markdown",
      "metadata": {
        "id": "PUxXXqnapZu0"
      },
      "source": [
        "**Classes**"
      ]
    },
    {
      "cell_type": "markdown",
      "metadata": {
        "id": "MkAOsCUtpZoh"
      },
      "source": [
        ""
      ]
    },
    {
      "cell_type": "code",
      "metadata": {
        "colab": {
          "base_uri": "https://localhost:8080/"
        },
        "id": "IGOjdmsoRcmR",
        "outputId": "eb18d7d0-3e7d-48a7-f6ef-28085dc035b5"
      },
      "source": [
        "#a simple program to create a class with a single  method\n",
        "class Test:\n",
        "  def fun(slef):\n",
        "    print(\"hello\")\n",
        "dict=Test()\n",
        "dict.fun()"
      ],
      "execution_count": null,
      "outputs": [
        {
          "output_type": "stream",
          "text": [
            "hello\n"
          ],
          "name": "stdout"
        }
      ]
    },
    {
      "cell_type": "code",
      "metadata": {
        "colab": {
          "base_uri": "https://localhost:8080/"
        },
        "id": "sYUn4Qu0pfTR",
        "outputId": "e8cc7d99-4a81-485d-da9e-a58f02006558"
      },
      "source": [
        "class person:\n",
        "  def __init__(self,name):\n",
        "    self.name=name\n",
        "  def say_hi(self):\n",
        "    print('hello,my name is',self.name)\n",
        "p=person('srikrishna')\n",
        "p.say_hi()"
      ],
      "execution_count": null,
      "outputs": [
        {
          "output_type": "stream",
          "text": [
            "hello,my name is srikrishna\n"
          ],
          "name": "stdout"
        }
      ]
    },
    {
      "cell_type": "markdown",
      "metadata": {
        "id": "VjQ2r1sAsFig"
      },
      "source": [
        "Class and Instance Variables (Or attributes) \n",
        "In Python, instance variables are variables whose value is assigned inside a constructor or method with self. \n",
        "Class variables are variables whose value is assigned in clas"
      ]
    },
    {
      "cell_type": "code",
      "metadata": {
        "colab": {
          "base_uri": "https://localhost:8080/"
        },
        "id": "nXfyg2-qpfQY",
        "outputId": "63d154fc-46e9-4f15-9c6c-07cc3a066897"
      },
      "source": [
        "class cssstudent:\n",
        "  #class variable\n",
        "  stream='cse'\n",
        "  def __init__(self,roll):\n",
        "    self.roll=roll\n",
        "    #instance variable\n",
        "    #aaccesing the class variables and instance variables through class fumction using or assinging ibjexts\n",
        "a=cssstudent(101)\n",
        "b=cssstudent(102)\n",
        "print(a.stream)\n",
        "print(b.stream)\n",
        "print(a.roll)\n",
        "print(b.roll)\n",
        "\n"
      ],
      "execution_count": null,
      "outputs": [
        {
          "output_type": "stream",
          "text": [
            "cse\n",
            "cse\n",
            "101\n",
            "102\n"
          ],
          "name": "stdout"
        }
      ]
    },
    {
      "cell_type": "markdown",
      "metadata": {
        "id": "bVkx-D9wtkZJ"
      },
      "source": [
        "We can define instance variables inside normal methods also."
      ]
    },
    {
      "cell_type": "code",
      "metadata": {
        "colab": {
          "base_uri": "https://localhost:8080/"
        },
        "id": "L6j0i5MxpfNZ",
        "outputId": "29fd514a-cfee-4678-be4e-bc9e7b08eeb1"
      },
      "source": [
        "\n",
        "class CSStudent:\n",
        "     \n",
        "    # Class Variable\n",
        "    stream = 'cse'     \n",
        "     \n",
        "    # The init method or constructor\n",
        "    def __init__(self, roll):\n",
        "         \n",
        "        # Instance Variable\n",
        "        self.roll = roll           \n",
        " \n",
        "    # Adds an instance variable\n",
        "    def setAddress(self, address):\n",
        "        self.address = address\n",
        "     \n",
        "    # Retrieves instance variable   \n",
        "    def getAddress(self):   \n",
        "        return self.address  \n",
        " \n",
        "\n",
        "a = CSStudent(101)\n",
        "a.setAddress(\"Noida, UP\")\n",
        "print(a.getAddress())"
      ],
      "execution_count": null,
      "outputs": [
        {
          "output_type": "stream",
          "text": [
            "Noida, UP\n"
          ],
          "name": "stdout"
        }
      ]
    },
    {
      "cell_type": "code",
      "metadata": {
        "id": "E5hYdN-opfIn"
      },
      "source": [
        "#creating a empty class\n",
        "class empty:\n",
        "  pass"
      ],
      "execution_count": null,
      "outputs": []
    },
    {
      "cell_type": "markdown",
      "metadata": {
        "id": "OXQbPTJdxDdM"
      },
      "source": [
        "### ***[Data hiding and object printing in oops concept]"
      ]
    },
    {
      "cell_type": "code",
      "metadata": {
        "colab": {
          "base_uri": "https://localhost:8080/",
          "height": 237
        },
        "id": "knJCqhwGpfEr",
        "outputId": "927169de-109c-4879-c514-13a6026d73f4"
      },
      "source": [
        "class myclass:\n",
        "  __hiddenvariable=0\n",
        "  def add(self,increment):\n",
        "    self.__hiddenvariable+=increment\n",
        "    print(self.__hiddenvariable)\n",
        "myobject=myclass()\n",
        "myobject.add(2)\n",
        "myobject.add(5)\n",
        "print(myobject.__hiddenvariable)"
      ],
      "execution_count": null,
      "outputs": [
        {
          "output_type": "stream",
          "text": [
            "2\n",
            "7\n"
          ],
          "name": "stdout"
        },
        {
          "output_type": "error",
          "ename": "AttributeError",
          "evalue": "ignored",
          "traceback": [
            "\u001b[0;31m---------------------------------------------------------------------------\u001b[0m",
            "\u001b[0;31mAttributeError\u001b[0m                            Traceback (most recent call last)",
            "\u001b[0;32m<ipython-input-21-260ee536bb2e>\u001b[0m in \u001b[0;36m<module>\u001b[0;34m()\u001b[0m\n\u001b[1;32m      7\u001b[0m \u001b[0mmyobject\u001b[0m\u001b[0;34m.\u001b[0m\u001b[0madd\u001b[0m\u001b[0;34m(\u001b[0m\u001b[0;36m2\u001b[0m\u001b[0;34m)\u001b[0m\u001b[0;34m\u001b[0m\u001b[0;34m\u001b[0m\u001b[0m\n\u001b[1;32m      8\u001b[0m \u001b[0mmyobject\u001b[0m\u001b[0;34m.\u001b[0m\u001b[0madd\u001b[0m\u001b[0;34m(\u001b[0m\u001b[0;36m5\u001b[0m\u001b[0;34m)\u001b[0m\u001b[0;34m\u001b[0m\u001b[0;34m\u001b[0m\u001b[0m\n\u001b[0;32m----> 9\u001b[0;31m \u001b[0mprint\u001b[0m\u001b[0;34m(\u001b[0m\u001b[0mmyobject\u001b[0m\u001b[0;34m.\u001b[0m\u001b[0m__hiddenvariable\u001b[0m\u001b[0;34m)\u001b[0m\u001b[0;34m\u001b[0m\u001b[0;34m\u001b[0m\u001b[0m\n\u001b[0m",
            "\u001b[0;31mAttributeError\u001b[0m: 'myclass' object has no attribute '__hiddenvariable'"
          ]
        }
      ]
    },
    {
      "cell_type": "code",
      "metadata": {
        "colab": {
          "base_uri": "https://localhost:8080/"
        },
        "id": "yGBFN50KpfCE",
        "outputId": "3a1e1b17-f985-4c49-a9cd-8dfcad4d4951"
      },
      "source": [
        "#in above program we can accseing the hidden it throws an exception\n",
        "#we can access the variable with the tricky thing\n",
        "class myclass:\n",
        "  __hiddenvariable=0\n",
        "  def add(self,increment):\n",
        "    self.__hiddenvariable+=increment\n",
        "    print(self.__hiddenvariable)\n",
        "myobject=myclass()\n",
        "myobject.add(2)\n",
        "myobject.add(5)\n",
        "print(myobject._myclass__hiddenvariable)"
      ],
      "execution_count": null,
      "outputs": [
        {
          "output_type": "stream",
          "text": [
            "2\n",
            "7\n",
            "7\n"
          ],
          "name": "stdout"
        }
      ]
    },
    {
      "cell_type": "markdown",
      "metadata": {
        "id": "Kw-S_3KXIUDW"
      },
      "source": [
        "priting objects in  oops concept we will use __repr__ or __str__ methods"
      ]
    },
    {
      "cell_type": "code",
      "metadata": {
        "id": "Ke8Gfu6Bpe9Z",
        "colab": {
          "base_uri": "https://localhost:8080/"
        },
        "outputId": "62ef1e95-c793-4ed6-e584-bd31d4664195"
      },
      "source": [
        "class Test:\n",
        "    def __init__(self, a, b):\n",
        "        self.a = a\n",
        "        self.b = b\n",
        "  \n",
        "    def __repr__(self):\n",
        "        return \"Test a:%s b:%s\" % (self.a, self.b)\n",
        "  \n",
        "    def __str__(self):\n",
        "        return \"From str method of Test: a is %s,\" \\\n",
        "              \"b is %s\" % (self.a, self.b)\n",
        "       \n",
        "t = Test(1234, 5678)\n",
        "print(t) # This calls __str__()\n",
        "print([t]) # This calls __repr__()"
      ],
      "execution_count": null,
      "outputs": [
        {
          "output_type": "stream",
          "text": [
            "From str method of Test: a is 1234,b is 5678\n",
            "[Test a:1234 b:5678]\n"
          ],
          "name": "stdout"
        }
      ]
    },
    {
      "cell_type": "code",
      "metadata": {
        "id": "6hqPc8_XRci0",
        "colab": {
          "base_uri": "https://localhost:8080/"
        },
        "outputId": "df2db277-8b54-43a3-fd4c-0769cc62b034"
      },
      "source": [
        "class Test:\n",
        "    def __init__(self, a, b):\n",
        "        self.a = a\n",
        "        self.b = b\n",
        "  \n",
        "# Driver Code        \n",
        "t = Test(1234, 5678)\n",
        "print(t) "
      ],
      "execution_count": null,
      "outputs": [
        {
          "output_type": "stream",
          "text": [
            "<__main__.Test object at 0x7f320d8ef310>\n"
          ],
          "name": "stdout"
        }
      ]
    },
    {
      "cell_type": "code",
      "metadata": {
        "id": "aWSkfMNLRcfG",
        "colab": {
          "base_uri": "https://localhost:8080/"
        },
        "outputId": "4ccd4e0f-f0f6-4318-981e-5aa4f365c597"
      },
      "source": [
        "class Test:\n",
        "    def __init__(self, a, b):\n",
        "        self.a = a\n",
        "        self.b = b\n",
        "    def __repr__(self):\n",
        "        return \"Test a:%s b:%s\" % (self.a, self.b)\n",
        "\n",
        "  \n",
        "# Driver Code        \n",
        "t = Test(1234, 5678)\n",
        "print(str(t))"
      ],
      "execution_count": null,
      "outputs": [
        {
          "output_type": "stream",
          "text": [
            "Test a:1234 b:5678\n"
          ],
          "name": "stdout"
        }
      ]
    },
    {
      "cell_type": "markdown",
      "metadata": {
        "id": "d9lEtipnSe31"
      },
      "source": [
        "inheritance examples of object,issubclass and super class\n"
      ]
    },
    {
      "cell_type": "code",
      "metadata": {
        "id": "vcP_l4fVRcb6",
        "colab": {
          "base_uri": "https://localhost:8080/"
        },
        "outputId": "111d0049-93fe-496b-96f3-65058ef2979d"
      },
      "source": [
        "class person(object):\n",
        "  def __init__(self,name):\n",
        "    self.name=name\n",
        "  def getname(self):\n",
        "    return self.name\n",
        "  def isemployee(self):\n",
        "    return False\n",
        "class employee(person):\n",
        "  def isemployee(self):\n",
        "    return True\n",
        "\n",
        "emp=person('geek1')\n",
        "print(emp.getname(),emp.isemployee())\n",
        "emp=employee('geek2')\n",
        "print(emp.getname(),emp.isemployee())"
      ],
      "execution_count": null,
      "outputs": [
        {
          "output_type": "stream",
          "text": [
            "geek1 False\n",
            "geek2 True\n"
          ],
          "name": "stdout"
        }
      ]
    },
    {
      "cell_type": "code",
      "metadata": {
        "id": "ny-925e0RYJ1",
        "colab": {
          "base_uri": "https://localhost:8080/"
        },
        "outputId": "8a8983e6-283e-4c87-f537-ec2a539ffb26"
      },
      "source": [
        "#checking a class is subclass \n",
        "class base(object):\n",
        "  pass\n",
        "class dervied(base):\n",
        "  pass\n",
        "print(issubclass(dervied,base))\n",
        "print(issubclass(base,dervied))"
      ],
      "execution_count": null,
      "outputs": [
        {
          "output_type": "stream",
          "text": [
            "True\n",
            "False\n"
          ],
          "name": "stdout"
        }
      ]
    },
    {
      "cell_type": "code",
      "metadata": {
        "colab": {
          "base_uri": "https://localhost:8080/"
        },
        "id": "PCMsU59jlWSp",
        "outputId": "66a6c46e-ab6c-4237-8d50-148c5fc48b6a"
      },
      "source": [
        "#python suppourt n multiple inheritence\n",
        "class base1(object):\n",
        "  def __init__(self):\n",
        "    self.str1='geeks1'\n",
        "    print(\"base1\")\n",
        "class base2(object):\n",
        "  def __init__(self):\n",
        "    self.str2='geeks2'\n",
        "    print('base2')\n",
        "class derived(base1,base2):\n",
        "  def __init__(self):\n",
        "    base1.__init__(self)\n",
        "    base2.__init__(self)\n",
        "  \n",
        "    print(\"derived\")\n",
        "  def printstrs(self):\n",
        "    print(self.str1,self.str2)\n",
        "ob=derived()\n",
        "ob.printstrs()\n"
      ],
      "execution_count": null,
      "outputs": [
        {
          "output_type": "stream",
          "text": [
            "base1\n",
            "base2\n",
            "derived\n",
            "geeks1 geeks2\n"
          ],
          "name": "stdout"
        }
      ]
    },
    {
      "cell_type": "markdown",
      "metadata": {
        "id": "t1kBpDlVo1ST"
      },
      "source": [
        "aceesing parent members in a subclass\n",
        "using parent class name\n"
      ]
    },
    {
      "cell_type": "code",
      "metadata": {
        "colab": {
          "base_uri": "https://localhost:8080/"
        },
        "id": "5DlHDXNeo1CV",
        "outputId": "c0da786f-c711-4bae-e4a6-5bb5b6c55e05"
      },
      "source": [
        "class base(object):\n",
        "  def __init__(self,x):\n",
        "    self.x=x\n",
        "class derived(base):\n",
        "  def __init__(self,x,y):\n",
        "    base.x=x\n",
        "    self.y=y\n",
        "  def printxy(self):\n",
        "    print(base.x,self.y)\n",
        "\n",
        "d=derived(10,20)\n",
        "d.printxy()\n"
      ],
      "execution_count": null,
      "outputs": [
        {
          "output_type": "stream",
          "text": [
            "10 20\n"
          ],
          "name": "stdout"
        }
      ]
    },
    {
      "cell_type": "code",
      "metadata": {
        "colab": {
          "base_uri": "https://localhost:8080/"
        },
        "id": "ISrAbAxQo088",
        "outputId": "81f3fb55-5262-40aa-b665-092db4e23ce7"
      },
      "source": [
        "#using super element\n",
        "class base(object):\n",
        "  def __init__(self,x):\n",
        "    self.x=x\n",
        "class derived(base):\n",
        "  def __init__(self,x,y):\n",
        "    super(derived,self).__init__(x)\n",
        "    self.y=y\n",
        "  def printxy(self):\n",
        "    print(self.x,self.y)\n",
        "d=derived(10,20)\n",
        "d.printxy()"
      ],
      "execution_count": null,
      "outputs": [
        {
          "output_type": "stream",
          "text": [
            "10 20\n"
          ],
          "name": "stdout"
        }
      ]
    },
    {
      "cell_type": "code",
      "metadata": {
        "colab": {
          "base_uri": "https://localhost:8080/",
          "height": 219
        },
        "id": "dioea0mzo03h",
        "outputId": "cab90c67-44b2-4a18-9671-66285f7323cb"
      },
      "source": [
        "#inherited example\n",
        "def  person(object):\n",
        "  def __init__(self,name):\n",
        "    self.name=name\n",
        "  def getname(self):\n",
        "    return self.name\n",
        "  def isemployee(self):\n",
        "    return False\n",
        "def Employee(person):\n",
        "  def __init__(self,name,Id):\n",
        "     super(Employee, self).__init__(name)\n",
        "     self.empId=Id\n",
        "  def isemployee(self):\n",
        "     return True\n",
        "  def getid(self):\n",
        "     return self.empId\n",
        "emp=Employee(\"sree1\",\"r161724\")\n",
        "print(emp.getname(),emp.isemployee(),emp.getid())"
      ],
      "execution_count": null,
      "outputs": [
        {
          "output_type": "error",
          "ename": "TypeError",
          "evalue": "ignored",
          "traceback": [
            "\u001b[0;31m---------------------------------------------------------------------------\u001b[0m",
            "\u001b[0;31mTypeError\u001b[0m                                 Traceback (most recent call last)",
            "\u001b[0;32m<ipython-input-24-a484c78ce2aa>\u001b[0m in \u001b[0;36m<module>\u001b[0;34m()\u001b[0m\n\u001b[1;32m     15\u001b[0m   \u001b[0;32mdef\u001b[0m \u001b[0mgetid\u001b[0m\u001b[0;34m(\u001b[0m\u001b[0mself\u001b[0m\u001b[0;34m)\u001b[0m\u001b[0;34m:\u001b[0m\u001b[0;34m\u001b[0m\u001b[0;34m\u001b[0m\u001b[0m\n\u001b[1;32m     16\u001b[0m      \u001b[0;32mreturn\u001b[0m \u001b[0mself\u001b[0m\u001b[0;34m.\u001b[0m\u001b[0mempId\u001b[0m\u001b[0;34m\u001b[0m\u001b[0;34m\u001b[0m\u001b[0m\n\u001b[0;32m---> 17\u001b[0;31m \u001b[0memp\u001b[0m\u001b[0;34m=\u001b[0m\u001b[0mEmployee\u001b[0m\u001b[0;34m(\u001b[0m\u001b[0;34m\"sree1\"\u001b[0m\u001b[0;34m,\u001b[0m\u001b[0;34m\"r161724\"\u001b[0m\u001b[0;34m)\u001b[0m\u001b[0;34m\u001b[0m\u001b[0;34m\u001b[0m\u001b[0m\n\u001b[0m\u001b[1;32m     18\u001b[0m \u001b[0mprint\u001b[0m\u001b[0;34m(\u001b[0m\u001b[0memp\u001b[0m\u001b[0;34m.\u001b[0m\u001b[0mgetname\u001b[0m\u001b[0;34m(\u001b[0m\u001b[0;34m)\u001b[0m\u001b[0;34m,\u001b[0m\u001b[0memp\u001b[0m\u001b[0;34m.\u001b[0m\u001b[0misemployee\u001b[0m\u001b[0;34m(\u001b[0m\u001b[0;34m)\u001b[0m\u001b[0;34m,\u001b[0m\u001b[0memp\u001b[0m\u001b[0;34m.\u001b[0m\u001b[0mgetid\u001b[0m\u001b[0;34m(\u001b[0m\u001b[0;34m)\u001b[0m\u001b[0;34m)\u001b[0m\u001b[0;34m\u001b[0m\u001b[0;34m\u001b[0m\u001b[0m\n",
            "\u001b[0;31mTypeError\u001b[0m: Employee() takes 1 positional argument but 2 were given"
          ]
        }
      ]
    },
    {
      "cell_type": "code",
      "metadata": {
        "colab": {
          "base_uri": "https://localhost:8080/"
        },
        "id": "gOPtzo_No0ym",
        "outputId": "201aa925-03ca-42b3-c1d8-0412f0117935"
      },
      "source": [
        "class Person(object):\n",
        "    def __init__(self, name):\n",
        "        self.name = name\n",
        "          \n",
        "    def getName(self):\n",
        "        return self.name\n",
        "      \n",
        "    def isEmployee(self):\n",
        "        return False\n",
        "  \n",
        "# Inherited or Subclass (Note Person in bracket)\n",
        "class Employee(Person):\n",
        "    def __init__(self, name, eid):\n",
        "  \n",
        "        \n",
        "        super(Employee, self).__init__(name)\n",
        "        self.empID = eid\n",
        "          \n",
        "    def isEmployee(self):\n",
        "        return True\n",
        "          \n",
        "    def getID(self):\n",
        "        return self.empID\n",
        "\n",
        "emp = Employee(\"Geek1\", \"E101\") \n",
        "print(emp.getName(), emp.isEmployee(), emp.getID())"
      ],
      "execution_count": null,
      "outputs": [
        {
          "output_type": "stream",
          "text": [
            "Geek1 True E101\n"
          ],
          "name": "stdout"
        }
      ]
    },
    {
      "cell_type": "markdown",
      "metadata": {
        "id": "hpfxGQnz2b_G"
      },
      "source": [
        "class method can take cls as a parameter in it allows modification of values for example it takes factory values\n",
        "staticmethod didnt take any values and it cant modify the values init it is a utility functon "
      ]
    },
    {
      "cell_type": "code",
      "metadata": {
        "colab": {
          "base_uri": "https://localhost:8080/"
        },
        "id": "NuxWVkfXo0ut",
        "outputId": "33df894c-c943-41d0-a402-27707a1ad1c8"
      },
      "source": [
        "from datetime import date\n",
        "class person:\n",
        "  def __init__(self,name,age):\n",
        "    self.name=name\n",
        "    self.age=age\n",
        "  #it is a class method\n",
        "  @classmethod\n",
        "  def fromBirthyear(cls,name,year):\n",
        "    return cls(name,date.today().year-year)\n",
        "  #it is a static method\n",
        "  def isadult(age):\n",
        "    return age>18\n",
        "person1=person('srikrishna',21)\n",
        "person2=person.fromBirthyear('srikrishna',2000)\n",
        "print(person1.age)\n",
        "print(person2.age)\n",
        "print(person.isadult(21))\n",
        "\n",
        "\n"
      ],
      "execution_count": null,
      "outputs": [
        {
          "output_type": "stream",
          "text": [
            "21\n",
            "21\n",
            "True\n"
          ],
          "name": "stdout"
        }
      ]
    },
    {
      "cell_type": "markdown",
      "metadata": {
        "id": "Gkj_Avik7BCG"
      },
      "source": [
        " polymorphism means same function name (but different signatures) being uses for different types."
      ]
    },
    {
      "cell_type": "code",
      "metadata": {
        "colab": {
          "base_uri": "https://localhost:8080/"
        },
        "id": "AQhEJ3kZo0lg",
        "outputId": "c7c8fff7-73ed-45e8-80cc-cd1ae161ac87"
      },
      "source": [
        "#polymorphism\n",
        "def add(x,y,z=0):\n",
        "  return (x+y)+z\n",
        "print(add(2,3))\n",
        "print(add(2,3,5))\n",
        "\n"
      ],
      "execution_count": null,
      "outputs": [
        {
          "output_type": "stream",
          "text": [
            "5\n",
            "10\n"
          ],
          "name": "stdout"
        }
      ]
    },
    {
      "cell_type": "code",
      "metadata": {
        "colab": {
          "base_uri": "https://localhost:8080/"
        },
        "id": "NtGOPgQCo0h9",
        "outputId": "deb7168d-fbae-4ba7-bf69-9e07bd352339"
      },
      "source": [
        "class india:\n",
        "  def capital(self):\n",
        "    print(\"new delhi is the captial of india\")\n",
        "  def language(self):\n",
        "    print(\"hindi is the famous language in indai\")\n",
        "  def type(self):\n",
        "    print(\"india is developing country\")\n",
        "class usa():\n",
        "  def capital(self):\n",
        "    print(\"washing don dc is the capital of usa\")\n",
        "  def language(self):\n",
        "    print(\"english is the widely using language in usa\")\n",
        "  def type(self):\n",
        "    print(\"it is a developed country\")\n",
        "obj_ind=india()\n",
        "obj_usa=usa()\n",
        "for country in (obj_ind,obj_usa):\n",
        "  country.capital()\n",
        "  country.language()\n",
        "  country.type()"
      ],
      "execution_count": null,
      "outputs": [
        {
          "output_type": "stream",
          "text": [
            "new delhi is the captial of india\n",
            "hindi is the famous language in indai\n",
            "india is developing country\n",
            "washing don dc is the capital of usa\n",
            "english is the widely using language in usa\n",
            "it is a developed country\n"
          ],
          "name": "stdout"
        }
      ]
    },
    {
      "cell_type": "markdown",
      "metadata": {
        "id": "NnqzvW_K9Hwk"
      },
      "source": [
        "# ***Polymorphism with Inheritance:***"
      ]
    },
    {
      "cell_type": "code",
      "metadata": {
        "id": "YoFDU2M-7E0g",
        "colab": {
          "base_uri": "https://localhost:8080/"
        },
        "outputId": "ea0581df-0065-4638-e4a9-e679c5bd0034"
      },
      "source": [
        "#let us define in polymorpism methods in the child class have the same name in the parent class,in inheritenace it is not possible \n",
        "#to change the method from child class\n",
        "#in polymorphism we can easily modilfy the inherited parent class from child class\n",
        "#there is a example\n",
        "#method overriding\n",
        "class bird():\n",
        "  def intro(self):\n",
        "    print(\"there are many type of birds\")\n",
        "  def flight(self):\n",
        "    print(\"most of the birds fly but some cannot\")\n",
        "class sparrow(bird):\n",
        "  def flight(self):\n",
        "    print(\"parrot can fly\")\n",
        "class ostrich(bird):\n",
        "  def flight(self):\n",
        "    print(\"ostrich cannot fly\")\n",
        "obj_bird=bird()\n",
        "obj_sparrow=sparrow()\n",
        "obj_ostrich=ostrich()\n",
        "obj_bird.intro()\n",
        "obj_bird.flight()\n",
        "obj_sparrow.intro()\n",
        "obj_sparrow.flight()\n",
        "obj_ostrich.intro()\n",
        "obj_ostrich.flight()"
      ],
      "execution_count": null,
      "outputs": [
        {
          "output_type": "stream",
          "text": [
            "there are many type of birds\n",
            "most of the birds fly but some cannot\n",
            "there are many type of birds\n",
            "parrot can fly\n",
            "there are many type of birds\n",
            "ostrich cannot fly\n"
          ],
          "name": "stdout"
        }
      ]
    },
    {
      "cell_type": "markdown",
      "metadata": {
        "id": "LJw3RmqgScVk"
      },
      "source": [
        "Polymorphism with a Function and objects:\n",
        "\n",
        "\n",
        "\n",
        ">\n",
        "\n",
        "\n",
        "\n"
      ]
    },
    {
      "cell_type": "code",
      "metadata": {
        "id": "-TkZjNg87EvX",
        "colab": {
          "base_uri": "https://localhost:8080/"
        },
        "outputId": "0dd48e32-0c20-42fa-b114-ee90be023387"
      },
      "source": [
        "#implementing polymorpohism with objects\n",
        "class India():\n",
        "    def capital(self):\n",
        "        print(\"New Delhi is the capital of India.\")\n",
        "   \n",
        "    def language(self):\n",
        "        print(\"Hindi is the most widely spoken language of India.\")\n",
        "   \n",
        "    def type(self):\n",
        "        print(\"India is a developing country.\")\n",
        "   \n",
        "class USA():\n",
        "    def capital(self):\n",
        "        print(\"Washington, D.C. is the capital of USA.\")\n",
        "   \n",
        "    def language(self):\n",
        "        print(\"English is the primary language of USA.\")\n",
        "   \n",
        "    def type(self):\n",
        "        print(\"USA is a developed country.\")\n",
        "def func(obj):\n",
        "  obj.capital()\n",
        "  obj.language()\n",
        "  obj.type()\n",
        "\n",
        "obj_ind=India()\n",
        "obj_usa=USA()\n",
        "print(func(obj_ind))\n",
        "print(func(obj_usa))"
      ],
      "execution_count": null,
      "outputs": [
        {
          "output_type": "stream",
          "text": [
            "New Delhi is the capital of India.\n",
            "Hindi is the most widely spoken language of India.\n",
            "India is a developing country.\n",
            "None\n",
            "Washington, D.C. is the capital of USA.\n",
            "English is the primary language of USA.\n",
            "USA is a developed country.\n",
            "None\n"
          ],
          "name": "stdout"
        }
      ]
    },
    {
      "cell_type": "markdown",
      "metadata": {
        "id": "iN9a-JUzVsLr"
      },
      "source": [
        "constructors in python\n",
        "constructors are genreally used for instiating an objet.the task of the constructor assingng the values to the data in the class.__init__\n",
        "syntax:\n",
        "def __init__()\n",
        "two types of constucter\n",
        "default constructers\n",
        "paramaterised constructors\n"
      ]
    },
    {
      "cell_type": "code",
      "metadata": {
        "id": "TGsrrrll7EnT",
        "colab": {
          "base_uri": "https://localhost:8080/"
        },
        "outputId": "29b964e3-9b37-4d23-bd7f-271df37dfe26"
      },
      "source": [
        "#defalut constructor\n",
        "class corpnc:\n",
        "  def __init__(self):\n",
        "    self.me='srikrishna'\n",
        "  def print_me(self):\n",
        "    print(self.me)\n",
        "obj=corpnc()\n",
        "obj.print_me()\n",
        "  "
      ],
      "execution_count": null,
      "outputs": [
        {
          "output_type": "stream",
          "text": [
            "srikrishna\n"
          ],
          "name": "stdout"
        }
      ]
    },
    {
      "cell_type": "code",
      "metadata": {
        "id": "CBOO9KNs7EjA",
        "colab": {
          "base_uri": "https://localhost:8080/"
        },
        "outputId": "dbf8380e-3d31-422f-a24d-09c1995fff0e"
      },
      "source": [
        "#parameterised constructor\n",
        "class addition:\n",
        "  first=0\n",
        "  second=0\n",
        "  answer=0\n",
        "  def __init__(self,f,s):\n",
        "    self.first=f\n",
        "    self.second=s\n",
        "  def calculate(self):\n",
        "    self.answer=self.first+self.second\n",
        "  def display(self):\n",
        "    print('the first element is '+str(self.first))\n",
        "    print('the second element is '+str(self.second))\n",
        "    print('the calaculation of the elements is '+str(self.answer))\n",
        "obj=addition(2,3)\n",
        "obj.calculate()\n",
        "obj.display()\n"
      ],
      "execution_count": null,
      "outputs": [
        {
          "output_type": "stream",
          "text": [
            "the first element is 2\n",
            "the second element is 3\n",
            "the calaculation of the elements is 5\n"
          ],
          "name": "stdout"
        }
      ]
    },
    {
      "cell_type": "markdown",
      "metadata": {
        "id": "VytEOd61ehI0"
      },
      "source": [
        "# Metaprogramming with Metaclasses in **python**"
      ]
    },
    {
      "cell_type": "code",
      "metadata": {
        "id": "y6SQIH3_7Eea",
        "colab": {
          "base_uri": "https://localhost:8080/"
        },
        "outputId": "72637d71-7cb5-4d13-bb08-024419937f2b"
      },
      "source": [
        "#type is also used in python class\n",
        "class student:\n",
        "  y=50\n",
        "  \n",
        "obj=student()\n",
        "print(\"type of the object is\",type(obj))\n",
        "#class is also a subject\n",
        "print(\"type of the object is\",type(student))"
      ],
      "execution_count": null,
      "outputs": [
        {
          "output_type": "stream",
          "text": [
            "type of the object is <class '__main__.student'>\n",
            "type of the object is <class 'type'>\n"
          ],
          "name": "stdout"
        }
      ]
    },
    {
      "cell_type": "code",
      "metadata": {
        "id": "yCp_W2417EZo",
        "colab": {
          "base_uri": "https://localhost:8080/"
        },
        "outputId": "e05ca82b-f6cf-4586-f42d-6090b69f94a9"
      },
      "source": [
        "#defining classes with out any class methods and variables\n",
        "class test:pass\n",
        "test.x=56\n",
        "test.paul=lambda self: print('hello')\n",
        "myobj=test()\n",
        "myobj.x\n",
        "myobj.paul()"
      ],
      "execution_count": null,
      "outputs": [
        {
          "output_type": "stream",
          "text": [
            "hello\n"
          ],
          "name": "stdout"
        }
      ]
    },
    {
      "cell_type": "code",
      "metadata": {
        "id": "7X-IhL7N7EUT"
      },
      "source": [
        "#type(name,base,attribute)\n",
        "#name is the string containing the name class\n",
        "#base is a tuple containg base classes for the new class7\n",
        "#attribute is a dictionary pairing the attributes names with their coreesponding values\n",
        "#type is the default metaclass in python\n",
        "#creating a class using type()\n",
        "#a=type('string',base,dic)"
      ],
      "execution_count": null,
      "outputs": []
    },
    {
      "cell_type": "code",
      "metadata": {
        "id": "wMzs-qUToD1y",
        "colab": {
          "base_uri": "https://localhost:8080/",
          "height": 104
        },
        "outputId": "8e393634-9cfe-4b0c-c3f8-389248a99256"
      },
      "source": [
        "#Creating custom Metaclass\n",
        "def test_method(self):\n",
        "  print(\"this is test class method\")\n",
        "class base:\n",
        "  def myfun(self):\n",
        "    print(\"this is inherited method\")\n",
        "Test=type('Test',(base,),dict(x='actul',my_method=test_method))\n",
        "print(\"type of test class\",type(Test))\n",
        "test_obj=Test()\n",
        "print(\"type of test object\",type(test_obj))\n",
        "test_obj.myfun()\n",
        "test_obj.my_method()\n",
        "test_obj.x\n",
        "\n"
      ],
      "execution_count": null,
      "outputs": [
        {
          "output_type": "stream",
          "text": [
            "type of test class <class 'type'>\n",
            "type of test object <class '__main__.Test'>\n",
            "this is inherited method\n",
            "this is test class method\n"
          ],
          "name": "stdout"
        },
        {
          "output_type": "execute_result",
          "data": {
            "application/vnd.google.colaboratory.intrinsic+json": {
              "type": "string"
            },
            "text/plain": [
              "'actul'"
            ]
          },
          "metadata": {
            "tags": []
          },
          "execution_count": 17
        }
      ]
    },
    {
      "cell_type": "code",
      "metadata": {
        "id": "k2oduIjwgQ1U"
      },
      "source": [
        "# the _new_ method creates and returns the new class object\n",
        "#then the __init__ method  intializes the newly created object\n",
        "#a custom metaclasses gives you the liberity o decide how the class will behave\n",
        "#creating a metaclass\n",
        "class meta(type):\n",
        "  pass"
      ],
      "execution_count": null,
      "outputs": []
    },
    {
      "cell_type": "code",
      "metadata": {
        "colab": {
          "base_uri": "https://localhost:8080/"
        },
        "id": "BBSKf-MxhnH0",
        "outputId": "f282baf8-25e2-46e7-ce41-7e65b00e747d"
      },
      "source": [
        "class rgukt(metaclass=meta):\n",
        "  pass\n",
        "type(rgukt)\n",
        "type(meta)"
      ],
      "execution_count": null,
      "outputs": [
        {
          "output_type": "execute_result",
          "data": {
            "text/plain": [
              "type"
            ]
          },
          "metadata": {
            "tags": []
          },
          "execution_count": 29
        }
      ]
    },
    {
      "cell_type": "code",
      "metadata": {
        "colab": {
          "base_uri": "https://localhost:8080/"
        },
        "id": "ANzs4rXxhnEo",
        "outputId": "b1afb4dc-1fd3-4d1b-8ccf-718ac874d3c4"
      },
      "source": [
        "class metatwo(type):\n",
        "  def __new__(self,name,bases,attr):\n",
        "    print(attr)\n",
        "    return type (name,bases,attr)\n",
        "class python(metaclass=metatwo):\n",
        "  x=10\n",
        "  y=20\n",
        "a=python()\n",
        "a.x\n",
        "  \n",
        "\n",
        "  "
      ],
      "execution_count": null,
      "outputs": [
        {
          "output_type": "stream",
          "text": [
            "{'__module__': '__main__', '__qualname__': 'python', 'x': 10, 'y': 20}\n"
          ],
          "name": "stdout"
        },
        {
          "output_type": "execute_result",
          "data": {
            "text/plain": [
              "10"
            ]
          },
          "metadata": {
            "tags": []
          },
          "execution_count": 37
        }
      ]
    },
    {
      "cell_type": "code",
      "metadata": {
        "colab": {
          "base_uri": "https://localhost:8080/",
          "height": 341
        },
        "id": "BTSPHvSahnB2",
        "outputId": "eec4e2de-3e02-4cb2-eebc-72d061c90da3"
      },
      "source": [
        "#more than one base class type raise an error\n",
        "class MultiBases(type):\n",
        "    \n",
        "    def __new__(cls, clsname, bases, clsdict):\n",
        "        \n",
        "        if len(bases)>1:\n",
        "            raise TypeError(\"Inherited multiple base classes!!!\")\n",
        "        return super().__new__(cls, clsname, bases, clsdict)\n",
        "  \n",
        "# metaclass can be specified by 'metaclass' keyword argument\n",
        "# now MultiBase class is used for creating classes\n",
        "# this will be propagated to all subclasses of Base\n",
        "class Base(metaclass=MultiBases):\n",
        "    pass\n",
        "class A(Base):\n",
        "    pass\n",
        "class B(Base):\n",
        "    pass\n",
        "class C(A, B):\n",
        "    pass\n"
      ],
      "execution_count": null,
      "outputs": [
        {
          "output_type": "error",
          "ename": "TypeError",
          "evalue": "ignored",
          "traceback": [
            "\u001b[0;31m---------------------------------------------------------------------------\u001b[0m",
            "\u001b[0;31mTypeError\u001b[0m                                 Traceback (most recent call last)",
            "\u001b[0;32m<ipython-input-38-027378a309b2>\u001b[0m in \u001b[0;36m<module>\u001b[0;34m()\u001b[0m\n\u001b[1;32m     17\u001b[0m \u001b[0;32mclass\u001b[0m \u001b[0mB\u001b[0m\u001b[0;34m(\u001b[0m\u001b[0mBase\u001b[0m\u001b[0;34m)\u001b[0m\u001b[0;34m:\u001b[0m\u001b[0;34m\u001b[0m\u001b[0;34m\u001b[0m\u001b[0m\n\u001b[1;32m     18\u001b[0m     \u001b[0;32mpass\u001b[0m\u001b[0;34m\u001b[0m\u001b[0;34m\u001b[0m\u001b[0m\n\u001b[0;32m---> 19\u001b[0;31m \u001b[0;32mclass\u001b[0m \u001b[0mC\u001b[0m\u001b[0;34m(\u001b[0m\u001b[0mA\u001b[0m\u001b[0;34m,\u001b[0m \u001b[0mB\u001b[0m\u001b[0;34m)\u001b[0m\u001b[0;34m:\u001b[0m\u001b[0;34m\u001b[0m\u001b[0;34m\u001b[0m\u001b[0m\n\u001b[0m\u001b[1;32m     20\u001b[0m     \u001b[0;32mpass\u001b[0m\u001b[0;34m\u001b[0m\u001b[0;34m\u001b[0m\u001b[0m\n",
            "\u001b[0;32m<ipython-input-38-027378a309b2>\u001b[0m in \u001b[0;36m__new__\u001b[0;34m(cls, clsname, bases, clsdict)\u001b[0m\n\u001b[1;32m      5\u001b[0m \u001b[0;34m\u001b[0m\u001b[0m\n\u001b[1;32m      6\u001b[0m         \u001b[0;32mif\u001b[0m \u001b[0mlen\u001b[0m\u001b[0;34m(\u001b[0m\u001b[0mbases\u001b[0m\u001b[0;34m)\u001b[0m\u001b[0;34m>\u001b[0m\u001b[0;36m1\u001b[0m\u001b[0;34m:\u001b[0m\u001b[0;34m\u001b[0m\u001b[0;34m\u001b[0m\u001b[0m\n\u001b[0;32m----> 7\u001b[0;31m             \u001b[0;32mraise\u001b[0m \u001b[0mTypeError\u001b[0m\u001b[0;34m(\u001b[0m\u001b[0;34m\"Inherited multiple base classes!!!\"\u001b[0m\u001b[0;34m)\u001b[0m\u001b[0;34m\u001b[0m\u001b[0;34m\u001b[0m\u001b[0m\n\u001b[0m\u001b[1;32m      8\u001b[0m         \u001b[0;32mreturn\u001b[0m \u001b[0msuper\u001b[0m\u001b[0;34m(\u001b[0m\u001b[0;34m)\u001b[0m\u001b[0;34m.\u001b[0m\u001b[0m__new__\u001b[0m\u001b[0;34m(\u001b[0m\u001b[0mcls\u001b[0m\u001b[0;34m,\u001b[0m \u001b[0mclsname\u001b[0m\u001b[0;34m,\u001b[0m \u001b[0mbases\u001b[0m\u001b[0;34m,\u001b[0m \u001b[0mclsdict\u001b[0m\u001b[0;34m)\u001b[0m\u001b[0;34m\u001b[0m\u001b[0;34m\u001b[0m\u001b[0m\n\u001b[1;32m      9\u001b[0m \u001b[0;34m\u001b[0m\u001b[0m\n",
            "\u001b[0;31mTypeError\u001b[0m: Inherited multiple base classes!!!"
          ]
        }
      ]
    },
    {
      "cell_type": "code",
      "metadata": {
        "id": "tOixIZaYhm_A",
        "colab": {
          "base_uri": "https://localhost:8080/"
        },
        "outputId": "881aa94e-5f97-4db6-eb15-256c3d93925b"
      },
      "source": [
        "#Instance Attributes\n",
        "'''vars() this function displays the attribute of an instance in the form  of dictionary'''\n",
        "'''dir() it display the class attribute and it displays the attributes of it ancestor classes'''\n",
        "class emp:\n",
        "  def __init__(self):\n",
        "    self.name='krishna'\n",
        "    self.salary=200000\n",
        "  def display(self):\n",
        "    print(self.name)\n",
        "    print(self.salary)\n",
        "el=emp\n",
        "print('dictinary form ',vars(el))\n",
        "print(dir(el))"
      ],
      "execution_count": null,
      "outputs": [
        {
          "output_type": "stream",
          "text": [
            "dictinary form  {'__module__': '__main__', '__init__': <function emp.__init__ at 0x7fe3882e8320>, 'display': <function emp.display at 0x7fe3882e8290>, '__dict__': <attribute '__dict__' of 'emp' objects>, '__weakref__': <attribute '__weakref__' of 'emp' objects>, '__doc__': None}\n",
            "['__class__', '__delattr__', '__dict__', '__dir__', '__doc__', '__eq__', '__format__', '__ge__', '__getattribute__', '__gt__', '__hash__', '__init__', '__init_subclass__', '__le__', '__lt__', '__module__', '__ne__', '__new__', '__reduce__', '__reduce_ex__', '__repr__', '__setattr__', '__sizeof__', '__str__', '__subclasshook__', '__weakref__', 'display']\n"
          ],
          "name": "stdout"
        }
      ]
    },
    {
      "cell_type": "code",
      "metadata": {
        "id": "uQsbPi8vhm7Z",
        "colab": {
          "base_uri": "https://localhost:8080/"
        },
        "outputId": "d51847d5-d33a-4746-ff39-d83c77b9933b"
      },
      "source": [
        "b=9\n",
        "b=4\n",
        "b"
      ],
      "execution_count": null,
      "outputs": [
        {
          "output_type": "execute_result",
          "data": {
            "text/plain": [
              "4"
            ]
          },
          "metadata": {
            "tags": []
          },
          "execution_count": 43
        }
      ]
    },
    {
      "cell_type": "code",
      "metadata": {
        "id": "UtNv3duWhm3C",
        "colab": {
          "base_uri": "https://localhost:8080/"
        },
        "outputId": "a8e0e5a6-c16f-450b-a258-728c41560bcd"
      },
      "source": [
        "import gc\n",
        "  \n",
        "# Returns the number of\n",
        "# objects it has collected\n",
        "# and deallocated\n",
        "collected = gc.collect()\n",
        "  \n",
        "# Prints Garbage collector \n",
        "# as 0 object\n",
        "print(\"Garbage collector: collected\",\n",
        "          \"%d objects.\" % collected)"
      ],
      "execution_count": null,
      "outputs": [
        {
          "output_type": "stream",
          "text": [
            "Garbage collector: collected 1435 objects.\n"
          ],
          "name": "stdout"
        }
      ]
    },
    {
      "cell_type": "code",
      "metadata": {
        "id": "zUihd55mhmzl"
      },
      "source": [
        ""
      ],
      "execution_count": null,
      "outputs": []
    },
    {
      "cell_type": "code",
      "metadata": {
        "id": "Z93P2mbrhmwt"
      },
      "source": [
        ""
      ],
      "execution_count": null,
      "outputs": []
    },
    {
      "cell_type": "code",
      "metadata": {
        "id": "abhRMFCyhmIB"
      },
      "source": [
        ""
      ],
      "execution_count": null,
      "outputs": []
    }
  ]
}